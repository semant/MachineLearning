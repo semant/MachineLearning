{
  "nbformat": 4,
  "nbformat_minor": 0,
  "metadata": {
    "kernelspec": {
      "display_name": "Python 3",
      "language": "python",
      "name": "python3"
    },
    "language_info": {
      "codemirror_mode": {
        "name": "ipython",
        "version": 3
      },
      "file_extension": ".py",
      "mimetype": "text/x-python",
      "name": "python",
      "nbconvert_exporter": "python",
      "pygments_lexer": "ipython3",
      "version": "3.7.4"
    },
    "colab": {
      "name": "CE_ML_Project_17_Bagging_Boosting.ipynb",
      "provenance": [],
      "collapsed_sections": [],
      "include_colab_link": true
    }
  },
  "cells": [
    {
      "cell_type": "markdown",
      "metadata": {
        "id": "view-in-github",
        "colab_type": "text"
      },
      "source": [
        "<a href=\"https://colab.research.google.com/github/semant/MachineLearning/blob/master/SkLearn_Bagging_Boosting.ipynb\" target=\"_parent\"><img src=\"https://colab.research.google.com/assets/colab-badge.svg\" alt=\"Open In Colab\"/></a>"
      ]
    },
    {
      "cell_type": "markdown",
      "metadata": {
        "id": "V9lD5SYWWhJA",
        "colab_type": "text"
      },
      "source": [
        "# Bootstrap Aggregating (Bagging) and Boosting to Reduce Variance and Bias in Decision Tree Analysis\n",
        "\n",
        "> Semant Jain, PhD \n",
        "> semant@gmail.com\n",
        "\n",
        "### Background\n",
        "As individual machine learning algorithms such as decision trees can lead to overfitting, averaging all the constituent models has been observed to reduce bias and variance. This improves stability and accuracy. \n",
        "\n",
        "Bootstrap aggregating (Bagging) is a machine learning algorithm used for classification and regression. As an ensemble training model, Bagging promotes variance by training each model by using a randomly drawn subset of the training set. Here averaging all the constituent models reduces variance and overfitting which can improve stability and accuracy.  In the ensemble, each model votes with equal weight. For instance, very high classification accuracy can be achieved by the random forest algorithm by using bagging to combine random decision trees. While bagging has been usually applied to decision tree methods, it can be used with any other type of classification or regression method.\n",
        "\n",
        "Boosting, one of the averaging methods in Machine Learning, reduces bias and may also reduce variance. Here, each consituent model is built sequentially. While each constituent may be individually weak, by giving different weights to the constituent models, the combined estimator has reduced bias. By favoring instances misclassifed by previous classifiers, AdaBoost acts as an adaptive algorithm. Thus, the latter models focus on harder to classify instances. While AdaBoost is sensitive to noisy data and outliers, it is less susceptible to overfitting leading to a strong final classifier. Thus, AdaBoost with Decision Trees is often referred to as the best out of the box classifier. \n",
        "\n",
        "\n",
        "### Summary\n",
        "To compare the improvement offered by bagging, a public dataset - Mnist - was analyzed by a decision tree, 5 decision trees, 10 decision trees, and a bagging classifier with 20 estimators. While the decision tree was able to achieve 100% training accuracy, its testing accuracy was merely 84% which indicated overfitting. As the number of decision trees in the ensemble increased, so, did the testing accuracy (89.3% with a random forest with 5 decisions trees, 92.9% with 10 decision trees, and 93.6% with a 20 decision tree classifier).\n",
        "\n",
        "Similary, to demonstrate Boosting, another simple dataset - Wine - was analyzed by a decision, 5 estimators and 10 estimators with AdaBoost. While the decision tree achieved 100% training accuracy, its testing accuracy was 86.7%. Using the AdaBoost, the testing accuracy increased to 88.9% \n",
        "0.8667 0.8889 0.8889\n",
        "\n",
        "### Contents\n",
        "+ Setting up\n",
        "+ Models\n",
        "+ Visualization\n",
        "\n",
        "\n",
        "### Libraries\n",
        "+ Numpy\n",
        "+ Matplotlib\n",
        "+ Pandas\n",
        "+ Sklearn"
      ]
    },
    {
      "cell_type": "markdown",
      "metadata": {
        "id": "l2pYsSOxWhJE",
        "colab_type": "text"
      },
      "source": [
        "# 1. Setting up\n",
        "\n",
        "### Imporing libraries"
      ]
    },
    {
      "cell_type": "code",
      "metadata": {
        "id": "xMdqpZgOWhJI",
        "colab_type": "code",
        "colab": {}
      },
      "source": [
        "import matplotlib.pyplot as plt\n",
        "%matplotlib inline\n",
        "import numpy as np\n",
        "import pandas as pd\n",
        "\n",
        "from sklearn.datasets import load_digits\n",
        "from sklearn.datasets import load_wine\n",
        "\n",
        "from sklearn.ensemble import AdaBoostClassifier, BaggingClassifier, RandomForestClassifier\n",
        "from sklearn.model_selection import train_test_split\n",
        "from sklearn.tree import DecisionTreeClassifier"
      ],
      "execution_count": 0,
      "outputs": []
    },
    {
      "cell_type": "markdown",
      "metadata": {
        "id": "Rvu43tMYWhJV",
        "colab_type": "text"
      },
      "source": [
        "# 2. Bagging"
      ]
    },
    {
      "cell_type": "markdown",
      "metadata": {
        "id": "5peq0XmDWhJX",
        "colab_type": "text"
      },
      "source": [
        "### Importing data"
      ]
    },
    {
      "cell_type": "code",
      "metadata": {
        "id": "dFyvDTDMWhJY",
        "colab_type": "code",
        "colab": {},
        "outputId": "d343a7f9-4037-419b-b2c1-e826f113740a"
      },
      "source": [
        "mnist = load_digits()\n",
        "mnist.keys()"
      ],
      "execution_count": 0,
      "outputs": [
        {
          "output_type": "execute_result",
          "data": {
            "text/plain": [
              "dict_keys(['data', 'target', 'target_names', 'images', 'DESCR'])"
            ]
          },
          "metadata": {
            "tags": []
          },
          "execution_count": 5
        }
      ]
    },
    {
      "cell_type": "code",
      "metadata": {
        "id": "oh5JOjnyWhJg",
        "colab_type": "code",
        "colab": {},
        "outputId": "3acbfd60-c2aa-4989-f0b0-feb77b3f073b"
      },
      "source": [
        "x_train, x_test, y_train, y_test = train_test_split(mnist.data, mnist.target)\n",
        "\n",
        "print(x_train.shape, y_train.shape)\n",
        "print(x_test.shape , y_test.shape)"
      ],
      "execution_count": 0,
      "outputs": [
        {
          "output_type": "stream",
          "text": [
            "(1347, 64) (1347,)\n",
            "(450, 64) (450,)\n"
          ],
          "name": "stdout"
        }
      ]
    },
    {
      "cell_type": "markdown",
      "metadata": {
        "id": "s6W6NzKvWhJn",
        "colab_type": "text"
      },
      "source": [
        "### Decision Tree"
      ]
    },
    {
      "cell_type": "code",
      "metadata": {
        "id": "nx6SEVmrWhJp",
        "colab_type": "code",
        "colab": {},
        "outputId": "aa5b75bc-14b3-441a-f010-02af09b62e4d"
      },
      "source": [
        "dt = DecisionTreeClassifier()\n",
        "dt.fit(x_train, y_train)\n",
        "\n",
        "dt1 = dt.score(x_test, y_test)\n",
        "dt2 = dt.score(x_train, y_train)\n",
        "\n",
        "print(round(dt1, 4), round(dt2, 4))"
      ],
      "execution_count": 0,
      "outputs": [
        {
          "output_type": "stream",
          "text": [
            "0.8222 1.0\n"
          ],
          "name": "stdout"
        }
      ]
    },
    {
      "cell_type": "markdown",
      "metadata": {
        "id": "HF8deu8NWhJz",
        "colab_type": "text"
      },
      "source": [
        "### Bagging: Random Forest with 5 Decision Trees"
      ]
    },
    {
      "cell_type": "code",
      "metadata": {
        "id": "BYkCEMj2WhJ1",
        "colab_type": "code",
        "colab": {},
        "outputId": "75f9018a-b477-4254-cd9b-57d069c85926"
      },
      "source": [
        "rf = RandomForestClassifier(n_estimators = 5)\n",
        "rf.fit(x_train, y_train)\n",
        "\n",
        "rf1 = rf.score(x_test, y_test)\n",
        "rf2 = rf.score(x_train, y_train)\n",
        "\n",
        "print(round(rf1, 4), round(rf2, 4))"
      ],
      "execution_count": 0,
      "outputs": [
        {
          "output_type": "stream",
          "text": [
            "0.8978 0.9911\n"
          ],
          "name": "stdout"
        }
      ]
    },
    {
      "cell_type": "markdown",
      "metadata": {
        "id": "MC6jmqzIWhJ8",
        "colab_type": "text"
      },
      "source": [
        "### Bagging: Random Forest with 10 Decision Trees"
      ]
    },
    {
      "cell_type": "code",
      "metadata": {
        "id": "sxntgwl4WhJ-",
        "colab_type": "code",
        "colab": {},
        "outputId": "4e35d58d-bad6-4641-c8f9-baf782169dbf"
      },
      "source": [
        "rf = RandomForestClassifier(n_estimators = 10)\n",
        "rf.fit(x_train, y_train)\n",
        "\n",
        "rf3 = rf.score(x_test, y_test)\n",
        "rf4 = rf.score(x_train, y_train)\n",
        "\n",
        "print(round(rf3, 4), round(rf4, 4))"
      ],
      "execution_count": 0,
      "outputs": [
        {
          "output_type": "stream",
          "text": [
            "0.9333 0.9993\n"
          ],
          "name": "stdout"
        }
      ]
    },
    {
      "cell_type": "markdown",
      "metadata": {
        "id": "M6PR_28TWhKD",
        "colab_type": "text"
      },
      "source": [
        "### Bagging: Other classifers"
      ]
    },
    {
      "cell_type": "code",
      "metadata": {
        "id": "Dl_-AfHMWhKF",
        "colab_type": "code",
        "colab": {},
        "outputId": "e3d4dd5b-bea3-443c-fc18-ee45ae5957fe"
      },
      "source": [
        "bg = BaggingClassifier(DecisionTreeClassifier(), max_samples = 0.5, n_estimators = 20, max_features = 1.0) \n",
        "bg.fit(x_train, y_train)\n",
        "\n",
        "bg1 = bg.score(x_test, y_test)\n",
        "bg2 = bg.score(x_train, y_train)\n",
        "\n",
        "print(round(bg1, 4), round(bg2, 4))"
      ],
      "execution_count": 0,
      "outputs": [
        {
          "output_type": "stream",
          "text": [
            "0.9156 0.9955\n"
          ],
          "name": "stdout"
        }
      ]
    },
    {
      "cell_type": "markdown",
      "metadata": {
        "id": "zIf4ce43WhKK",
        "colab_type": "text"
      },
      "source": [
        "# 3. Boosting"
      ]
    },
    {
      "cell_type": "markdown",
      "metadata": {
        "id": "_Y_nkmFnWhKL",
        "colab_type": "text"
      },
      "source": [
        "### Importing data"
      ]
    },
    {
      "cell_type": "code",
      "metadata": {
        "id": "WRqlsbrTWhKN",
        "colab_type": "code",
        "colab": {},
        "outputId": "6d8edf59-e370-45ce-ee8d-729c66950194"
      },
      "source": [
        "dat = load_wine()\n",
        "dat.keys()"
      ],
      "execution_count": 0,
      "outputs": [
        {
          "output_type": "execute_result",
          "data": {
            "text/plain": [
              "dict_keys(['data', 'target', 'target_names', 'DESCR', 'feature_names'])"
            ]
          },
          "metadata": {
            "tags": []
          },
          "execution_count": 37
        }
      ]
    },
    {
      "cell_type": "code",
      "metadata": {
        "id": "_KF0PVGjWhKT",
        "colab_type": "code",
        "colab": {},
        "outputId": "8eed4d12-0e7f-460f-90f5-ef5400560839"
      },
      "source": [
        "x_train, x_test, y_train, y_test = train_test_split(dat.data, dat.target)\n",
        "\n",
        "print(x_train.shape, y_train.shape)\n",
        "print(x_test.shape , y_test.shape)"
      ],
      "execution_count": 0,
      "outputs": [
        {
          "output_type": "stream",
          "text": [
            "(133, 13) (133,)\n",
            "(45, 13) (45,)\n"
          ],
          "name": "stdout"
        }
      ]
    },
    {
      "cell_type": "markdown",
      "metadata": {
        "id": "4QksNiNvWhKY",
        "colab_type": "text"
      },
      "source": [
        "### Decision Tree"
      ]
    },
    {
      "cell_type": "code",
      "metadata": {
        "id": "p-QpQPhKWhKa",
        "colab_type": "code",
        "colab": {},
        "outputId": "a1681b50-3971-4f59-a9f7-ae51efcdceec"
      },
      "source": [
        "dt = DecisionTreeClassifier()\n",
        "dt = dt.fit(x_train, y_train)\n",
        "\n",
        "dt3 = round(dt.score(x_train, y_train), 4)\n",
        "dt4 = round(dt.score(x_test, y_test), 4)\n",
        "\n",
        "print(round(dt1, 4), round(dt2, 4))"
      ],
      "execution_count": 0,
      "outputs": [
        {
          "output_type": "stream",
          "text": [
            "0.8222 1.0\n"
          ],
          "name": "stdout"
        }
      ]
    },
    {
      "cell_type": "markdown",
      "metadata": {
        "id": "GqFRe2cwWhKe",
        "colab_type": "text"
      },
      "source": [
        "### Boosting: 5 estimators"
      ]
    },
    {
      "cell_type": "code",
      "metadata": {
        "id": "AbHaCbGRWhKf",
        "colab_type": "code",
        "colab": {}
      },
      "source": [
        "ab = AdaBoostClassifier(DecisionTreeClassifier(), n_estimators = 5, learning_rate = 1)\n",
        "ab.fit(x_train, y_train)\n",
        "\n",
        "ab1 = round(ab.score(x_train, y_train), 4)\n",
        "ab2 = round(ab.score(x_test, y_test), 4)"
      ],
      "execution_count": 0,
      "outputs": []
    },
    {
      "cell_type": "markdown",
      "metadata": {
        "id": "ZENIMyMIWhKj",
        "colab_type": "text"
      },
      "source": [
        "### Boosting: 10 estimators"
      ]
    },
    {
      "cell_type": "code",
      "metadata": {
        "id": "Ya7PxE43WhKk",
        "colab_type": "code",
        "colab": {}
      },
      "source": [
        "ab = AdaBoostClassifier(DecisionTreeClassifier(), n_estimators = 10, learning_rate = 1)\n",
        "ab.fit(x_train, y_train)\n",
        "\n",
        "ab3 = round(ab.score(x_train, y_train), 4)\n",
        "ab4 = round(ab.score(x_test, y_test), 4)"
      ],
      "execution_count": 0,
      "outputs": []
    },
    {
      "cell_type": "markdown",
      "metadata": {
        "id": "yzFlK_NsWhKn",
        "colab_type": "text"
      },
      "source": [
        "# 4. Visualization"
      ]
    },
    {
      "cell_type": "code",
      "metadata": {
        "id": "mNWlDxT5WhKo",
        "colab_type": "code",
        "colab": {}
      },
      "source": [
        "### Bagging"
      ],
      "execution_count": 0,
      "outputs": []
    },
    {
      "cell_type": "code",
      "metadata": {
        "id": "u4H_vggmWhKu",
        "colab_type": "code",
        "colab": {},
        "outputId": "919144a5-a511-4b3c-f042-585dcad6e328"
      },
      "source": [
        "# initialise data of lists. \n",
        "data = {'Training Accuracy':[dt2, rf2, rf4, bg2], 'Testing Accuracy':[dt1, rf1, rf3, bg1]} \n",
        "  \n",
        "# Creates pandas DataFrame. \n",
        "df = pd.DataFrame(data, index =['Decision Tree', 'Random Forest: 5', 'Random Forest: 10', 'DT Classifier: 20']) \n",
        "  \n",
        "# print the data \n",
        "df"
      ],
      "execution_count": 0,
      "outputs": [
        {
          "output_type": "execute_result",
          "data": {
            "text/html": [
              "<div>\n",
              "<style scoped>\n",
              "    .dataframe tbody tr th:only-of-type {\n",
              "        vertical-align: middle;\n",
              "    }\n",
              "\n",
              "    .dataframe tbody tr th {\n",
              "        vertical-align: top;\n",
              "    }\n",
              "\n",
              "    .dataframe thead th {\n",
              "        text-align: right;\n",
              "    }\n",
              "</style>\n",
              "<table border=\"1\" class=\"dataframe\">\n",
              "  <thead>\n",
              "    <tr style=\"text-align: right;\">\n",
              "      <th></th>\n",
              "      <th>Training Accuracy</th>\n",
              "      <th>Testing Accuracy</th>\n",
              "    </tr>\n",
              "  </thead>\n",
              "  <tbody>\n",
              "    <tr>\n",
              "      <td>Decision Tree</td>\n",
              "      <td>1.000000</td>\n",
              "      <td>0.822222</td>\n",
              "    </tr>\n",
              "    <tr>\n",
              "      <td>Random Forest: 5</td>\n",
              "      <td>0.991091</td>\n",
              "      <td>0.897778</td>\n",
              "    </tr>\n",
              "    <tr>\n",
              "      <td>Random Forest: 10</td>\n",
              "      <td>0.999258</td>\n",
              "      <td>0.933333</td>\n",
              "    </tr>\n",
              "    <tr>\n",
              "      <td>DT Classifier: 20</td>\n",
              "      <td>0.995546</td>\n",
              "      <td>0.915556</td>\n",
              "    </tr>\n",
              "  </tbody>\n",
              "</table>\n",
              "</div>"
            ],
            "text/plain": [
              "                   Training Accuracy  Testing Accuracy\n",
              "Decision Tree               1.000000          0.822222\n",
              "Random Forest: 5            0.991091          0.897778\n",
              "Random Forest: 10           0.999258          0.933333\n",
              "DT Classifier: 20           0.995546          0.915556"
            ]
          },
          "metadata": {
            "tags": []
          },
          "execution_count": 43
        }
      ]
    },
    {
      "cell_type": "code",
      "metadata": {
        "id": "6C_j5V4ZWhKy",
        "colab_type": "code",
        "colab": {},
        "outputId": "d93faa63-3913-41f7-eb95-af9b7253b098"
      },
      "source": [
        "# Plot\n",
        "df.plot(figsize=(10,10), kind = \"bar\", legend = True, colormap = 'Set2')\n",
        "plt.xticks(fontsize = 15, rotation = 90)\n",
        "plt.yticks(fontsize = 15)\n",
        "plt.ylim(0.8, 1.0)\n",
        "plt.ylabel(\"Accuracy\", fontsize = 15)\n",
        "plt.legend(fontsize = 15, loc='lower right')\n",
        "\n",
        "plt.savefig(\"CE_ML_Project_16_02_Bagging_Results.jpeg\")\n",
        "plt.show()"
      ],
      "execution_count": 0,
      "outputs": [
        {
          "output_type": "display_data",
          "data": {
            "image/png": "[encoded data removed]",
            "text/plain": [
              "<Figure size 720x720 with 1 Axes>"
            ]
          },
          "metadata": {
            "tags": [],
            "needs_background": "light"
          }
        }
      ]
    },
    {
      "cell_type": "markdown",
      "metadata": {
        "id": "S3CK76MUWhK0",
        "colab_type": "text"
      },
      "source": [
        "### Boosting"
      ]
    },
    {
      "cell_type": "code",
      "metadata": {
        "id": "0xHz3d1qWhK1",
        "colab_type": "code",
        "colab": {},
        "outputId": "a3ac2340-053c-418e-ceeb-78b7f223878c"
      },
      "source": [
        "# initialise data of lists. \n",
        "data = {'Training Accuracy':[dt3, ab1, ab3], 'Testing Accuracy':[dt4, ab2, ab4]} \n",
        "  \n",
        "# Creates pandas DataFrame. \n",
        "df = pd.DataFrame(data, index =['Decision Tree', 'AdaBoost (5)', 'AdaBoost (10)']) \n",
        "  \n",
        "# print the data \n",
        "df "
      ],
      "execution_count": 0,
      "outputs": [
        {
          "output_type": "execute_result",
          "data": {
            "text/html": [
              "<div>\n",
              "<style scoped>\n",
              "    .dataframe tbody tr th:only-of-type {\n",
              "        vertical-align: middle;\n",
              "    }\n",
              "\n",
              "    .dataframe tbody tr th {\n",
              "        vertical-align: top;\n",
              "    }\n",
              "\n",
              "    .dataframe thead th {\n",
              "        text-align: right;\n",
              "    }\n",
              "</style>\n",
              "<table border=\"1\" class=\"dataframe\">\n",
              "  <thead>\n",
              "    <tr style=\"text-align: right;\">\n",
              "      <th></th>\n",
              "      <th>Training Accuracy</th>\n",
              "      <th>Testing Accuracy</th>\n",
              "    </tr>\n",
              "  </thead>\n",
              "  <tbody>\n",
              "    <tr>\n",
              "      <td>Decision Tree</td>\n",
              "      <td>1.0</td>\n",
              "      <td>0.8667</td>\n",
              "    </tr>\n",
              "    <tr>\n",
              "      <td>AdaBoost (5)</td>\n",
              "      <td>1.0</td>\n",
              "      <td>0.8889</td>\n",
              "    </tr>\n",
              "    <tr>\n",
              "      <td>AdaBoost (10)</td>\n",
              "      <td>1.0</td>\n",
              "      <td>0.8889</td>\n",
              "    </tr>\n",
              "  </tbody>\n",
              "</table>\n",
              "</div>"
            ],
            "text/plain": [
              "               Training Accuracy  Testing Accuracy\n",
              "Decision Tree                1.0            0.8667\n",
              "AdaBoost (5)                 1.0            0.8889\n",
              "AdaBoost (10)                1.0            0.8889"
            ]
          },
          "metadata": {
            "tags": []
          },
          "execution_count": 45
        }
      ]
    },
    {
      "cell_type": "code",
      "metadata": {
        "id": "0XfzqP8WWhK5",
        "colab_type": "code",
        "colab": {},
        "outputId": "70671e40-09fe-4862-cb19-c48e50af190e"
      },
      "source": [
        "# Plot\n",
        "df.plot(figsize=(10,10), kind = \"bar\", legend = True, colormap = 'Set1')\n",
        "plt.xticks(fontsize = 15, rotation = 0)\n",
        "plt.yticks(fontsize = 15)\n",
        "plt.ylim(0.8, 1.0)\n",
        "plt.ylabel(\"Accuracy\", fontsize = 15)\n",
        "plt.legend(fontsize = 15, loc='lower right')\n",
        "\n",
        "plt.savefig(\"CE_ML_Project_16_04_Boosting_Results.jpeg\")\n",
        "plt.show()"
      ],
      "execution_count": 0,
      "outputs": [
        {
          "output_type": "display_data",
          "data": {
            "image/png": "[encoded data removed]",
            "text/plain": [
              "<Figure size 720x720 with 1 Axes>"
            ]
          },
          "metadata": {
            "tags": [],
            "needs_background": "light"
          }
        }
      ]
    },
    {
      "cell_type": "code",
      "metadata": {
        "id": "jgaejxZ2WhK9",
        "colab_type": "code",
        "colab": {}
      },
      "source": [
        ""
      ],
      "execution_count": 0,
      "outputs": []
    }
  ]
}