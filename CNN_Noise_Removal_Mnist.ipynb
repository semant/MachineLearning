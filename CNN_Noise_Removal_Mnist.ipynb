{
  "nbformat": 4,
  "nbformat_minor": 0,
  "metadata": {
    "kernelspec": {
      "name": "python3",
      "display_name": "Python 3"
    },
    "language_info": {
      "codemirror_mode": {
        "name": "ipython",
        "version": 3
      },
      "file_extension": ".py",
      "mimetype": "text/x-python",
      "name": "python",
      "nbconvert_exporter": "python",
      "pygments_lexer": "ipython3",
      "version": "3.7.4"
    },
    "colab": {
      "name": "CE_ML_Project_05_CNN-MNIST.ipynb",
      "provenance": [],
      "toc_visible": true,
      "include_colab_link": true
    },
    "accelerator": "GPU"
  },
  "cells": [
    {
      "cell_type": "markdown",
      "metadata": {
        "id": "view-in-github",
        "colab_type": "text"
      },
      "source": [
        "<a href=\"https://colab.research.google.com/github/semant/MachineLearning/blob/master/CNN_Noise_Removal_Mnist.ipynb\" target=\"_parent\"><img src=\"https://colab.research.google.com/assets/colab-badge.svg\" alt=\"Open In Colab\"/></a>"
      ]
    },
    {
      "cell_type": "markdown",
      "metadata": {
        "id": "kPPegDxqxVcU",
        "colab_type": "text"
      },
      "source": [
        "# Leveraging Dimensionality Reduction Capabilities of Autoencoders for Noise Reduction and Fraud Detection\n",
        "\n",
        "> Semant Jain\n",
        "> semant@gmail.com"
      ]
    },
    {
      "cell_type": "markdown",
      "metadata": {
        "id": "rF9nsffDxVch",
        "colab_type": "text"
      },
      "source": [
        "### Summary\n",
        "> Autoencoders uses unsupervised learning methodologies implemented in an artificial neural network to efficiently learn key data features. This ability to reduce dimensions enables its use in noise reduction, fraud detection, and face recognition. \n",
        "\n",
        "> In this project, a public dataset - Mnist - which consisted of handwritten digits was used. First, synthetic noise was introduced in the images. This was followed by passing the images through an encoder which extracted its key features. Thereafter, the images were passed through a decoder which reconstructed the original images. \n",
        "\n",
        "> For this project, a Convolutional Neural Network (CNN) was built and trained from scratch. As CNNs have a lot of parameters to be trained, local CPU execution took 110 - 120 seconds per epoch. In contrast, if Google Colaboratory's GPU is used, each epoch took 3 - 6 seconds to train.\n",
        "\n",
        "### Results\n",
        "> After 100 epochs, training error dropped from 17.73% to 9.4% and validation error dropped from 12.92% to 9.36%. For further reduction in error, standard CNN architectures such as VGG19, MobileNet, and DenseNet can be explored.\n",
        "\n",
        "### Contents\n",
        "+ Setting Up\n",
        "    + Importing libraries\n",
        "    + Importing data\n",
        "    \n",
        "+ Preprocessing Data\n",
        "    + Data normalization\n",
        "    + Adding channels\n",
        "    + Creating noisy images\n",
        "    + Clipping\n",
        "    + Sampling noisy images\n",
        "\n",
        "+ Model\n",
        "    + Architecture\n",
        "        + Encoder\n",
        "        + Decoder\n",
        "    + Execution\n",
        "        + Compilation\n",
        "        + Local v. Google Colab execution\n",
        "    + Visualization\n",
        "        + Comparative plots\n",
        "        + Error plots\n",
        "\n",
        "### Libraries\n",
        "+ Keras\n",
        "+ Matplotlib\n",
        "+ Numpy\n",
        "\n",
        "### Execution\n",
        "+ Google Co Laboratory (GPU)"
      ]
    },
    {
      "cell_type": "markdown",
      "metadata": {
        "id": "EBwBEemCxVck",
        "colab_type": "text"
      },
      "source": [
        "# 1. Setting Up\n",
        "\n",
        "**Importing libraries**"
      ]
    },
    {
      "cell_type": "code",
      "metadata": {
        "id": "yW6Jg2L5xVcm",
        "colab_type": "code",
        "colab": {}
      },
      "source": [
        "from keras.datasets import mnist\n",
        "import numpy as np\n",
        "import matplotlib.pyplot as plt\n",
        "%matplotlib inline\n",
        "\n",
        "from keras.models import Model\n",
        "from keras.layers import Input, Conv2D, MaxPool2D, UpSampling2D"
      ],
      "execution_count": 0,
      "outputs": []
    },
    {
      "cell_type": "markdown",
      "metadata": {
        "id": "YEHPGaShxVcs",
        "colab_type": "text"
      },
      "source": [
        "**Importing data**"
      ]
    },
    {
      "cell_type": "code",
      "metadata": {
        "id": "eJr2znoAxVcv",
        "colab_type": "code",
        "colab": {
          "base_uri": "https://localhost:8080/",
          "height": 34
        },
        "outputId": "68ccf48e-4965-48a6-afe9-e193470515a8"
      },
      "source": [
        "(x_train, _), (x_test, _) = mnist.load_data()\n",
        "\n",
        "print(x_train.shape, x_test.shape)"
      ],
      "execution_count": 15,
      "outputs": [
        {
          "output_type": "stream",
          "text": [
            "(60000, 28, 28) (10000, 28, 28)\n"
          ],
          "name": "stdout"
        }
      ]
    },
    {
      "cell_type": "markdown",
      "metadata": {
        "id": "-rPiol-GxVc0",
        "colab_type": "text"
      },
      "source": [
        "# 2. Pre Processing Data\n",
        "\n",
        "**Data Normalization**"
      ]
    },
    {
      "cell_type": "code",
      "metadata": {
        "id": "tPOymPoKxVc1",
        "colab_type": "code",
        "colab": {
          "base_uri": "https://localhost:8080/",
          "height": 85
        },
        "outputId": "99e1cd64-3f90-439f-e630-5139bd454945"
      },
      "source": [
        "# Denormalized\n",
        "print(x_train.min(), x_train.max())\n",
        "print(x_test.min(), x_test.max())\n",
        "\n",
        "# Normalized\n",
        "X_train = x_train.astype('float32')/255\n",
        "X_test  = x_test.astype('float32')/255\n",
        "print(X_train.min(), X_train.max())\n",
        "print(X_test.min(), X_test.max())"
      ],
      "execution_count": 16,
      "outputs": [
        {
          "output_type": "stream",
          "text": [
            "0 255\n",
            "0 255\n",
            "0.0 1.0\n",
            "0.0 1.0\n"
          ],
          "name": "stdout"
        }
      ]
    },
    {
      "cell_type": "markdown",
      "metadata": {
        "id": "BoQ_bYvzxVc9",
        "colab_type": "text"
      },
      "source": [
        "**Adding Channels**"
      ]
    },
    {
      "cell_type": "code",
      "metadata": {
        "id": "d7kODqRxxVc_",
        "colab_type": "code",
        "colab": {
          "base_uri": "https://localhost:8080/",
          "height": 34
        },
        "outputId": "8a851280-51cf-4556-a4cd-dd354a7df16c"
      },
      "source": [
        "X_train = X_train.reshape(-1, 28, 28, 1)\n",
        "X_test  = X_test.reshape(-1, 28, 28, 1)\n",
        "print(X_train.shape, X_test.shape)"
      ],
      "execution_count": 17,
      "outputs": [
        {
          "output_type": "stream",
          "text": [
            "(60000, 28, 28, 1) (10000, 28, 28, 1)\n"
          ],
          "name": "stdout"
        }
      ]
    },
    {
      "cell_type": "markdown",
      "metadata": {
        "id": "4XMv5txxxVdG",
        "colab_type": "text"
      },
      "source": [
        "**Creating Noisy Images**"
      ]
    },
    {
      "cell_type": "code",
      "metadata": {
        "id": "QxqZK08exVdH",
        "colab_type": "code",
        "colab": {
          "base_uri": "https://localhost:8080/",
          "height": 51
        },
        "outputId": "fba62bf8-115b-43be-9fdd-37d9b9765117"
      },
      "source": [
        "noise_factor = 0.5\n",
        "X_train_noisy = X_train + noise_factor * np.random.normal(0.0, 1.0, X_train.shape)\n",
        "X_test_noisy  = X_test  + noise_factor * np.random.normal(0.0, 1.0, X_test.shape) \n",
        "\n",
        "print(X_train_noisy.min(), X_train_noisy.max())\n",
        "print(X_test_noisy.min(), X_test_noisy.max())"
      ],
      "execution_count": 18,
      "outputs": [
        {
          "output_type": "stream",
          "text": [
            "-2.804520160259249 3.474209834967869\n",
            "-2.7964192797857335 3.3357497319083604\n"
          ],
          "name": "stdout"
        }
      ]
    },
    {
      "cell_type": "markdown",
      "metadata": {
        "id": "CGG0WkjqxVdL",
        "colab_type": "text"
      },
      "source": [
        "**Clipping**"
      ]
    },
    {
      "cell_type": "code",
      "metadata": {
        "id": "DLcHFj2AxVdM",
        "colab_type": "code",
        "colab": {
          "base_uri": "https://localhost:8080/",
          "height": 51
        },
        "outputId": "2f10954a-c4fc-40ad-98e2-2599be9316e9"
      },
      "source": [
        "X_train_noisy = np.clip(X_train_noisy, 0., 1.)\n",
        "X_test_noisy = np.clip(X_test_noisy, 0., 1.) \n",
        "\n",
        "\n",
        "print(X_train_noisy.min(), X_train_noisy.max())\n",
        "print(X_test_noisy.min(), X_test_noisy.max())"
      ],
      "execution_count": 19,
      "outputs": [
        {
          "output_type": "stream",
          "text": [
            "0.0 1.0\n",
            "0.0 1.0\n"
          ],
          "name": "stdout"
        }
      ]
    },
    {
      "cell_type": "markdown",
      "metadata": {
        "id": "WTXOoPkQxVdP",
        "colab_type": "text"
      },
      "source": [
        "**Sampling Noisy Images**"
      ]
    },
    {
      "cell_type": "code",
      "metadata": {
        "id": "knSNRl6HxVdQ",
        "colab_type": "code",
        "colab": {
          "base_uri": "https://localhost:8080/",
          "height": 165
        },
        "outputId": "f4e632e2-8311-4ac5-9cc9-45ac62d09986"
      },
      "source": [
        "n = 10\n",
        "plt.figure(figsize = (20, 2))\n",
        "for i in range(1, n+1):\n",
        "    sp = plt.subplot(1, n, i)\n",
        "    plt.imshow(X_test_noisy[i-1].reshape(28, 28))\n",
        "    plt.gray()\n",
        "plt.show()"
      ],
      "execution_count": 20,
      "outputs": [
        {
          "output_type": "display_data",
          "data": {
            "image/png": "[encoded data removed]",
            "text/plain": [
              "<Figure size 1440x144 with 10 Axes>"
            ]
          },
          "metadata": {
            "tags": []
          }
        }
      ]
    },
    {
      "cell_type": "markdown",
      "metadata": {
        "id": "K8yx6gGrxVdW",
        "colab_type": "text"
      },
      "source": [
        "# 3. Model\n",
        "\n",
        "### Architecture\n",
        "\n",
        "**Encoder**"
      ]
    },
    {
      "cell_type": "code",
      "metadata": {
        "id": "DHsXSCkMxVdY",
        "colab_type": "code",
        "colab": {}
      },
      "source": [
        "input_img = Input(shape = (28, 28, 1))\n",
        "\n",
        "x = Conv2D(32, (3,3), activation = \"relu\", padding = \"same\")(input_img)\n",
        "x = MaxPool2D((2, 2))(x)\n",
        "x = Conv2D(32, (3,3), activation = 'relu', padding = 'same')(x)\n",
        "\n",
        "encoded = MaxPool2D((2,2))(x)"
      ],
      "execution_count": 0,
      "outputs": []
    },
    {
      "cell_type": "markdown",
      "metadata": {
        "id": "3veMQ4tjxVdc",
        "colab_type": "text"
      },
      "source": [
        "**Decoder**"
      ]
    },
    {
      "cell_type": "code",
      "metadata": {
        "id": "WSDqttUlxVdc",
        "colab_type": "code",
        "colab": {}
      },
      "source": [
        "x = Conv2D(32, (3,3), activation = \"relu\", padding = \"same\")(encoded)\n",
        "x = UpSampling2D((2,2))(x)\n",
        "x = Conv2D(32, (3,3), activation = \"relu\", padding = \"same\")(x)\n",
        "x = UpSampling2D((2,2))(x)\n",
        "\n",
        "decoded = Conv2D(1, (3,3), activation = \"sigmoid\", padding = \"same\")(x)"
      ],
      "execution_count": 0,
      "outputs": []
    },
    {
      "cell_type": "markdown",
      "metadata": {
        "id": "JUOUukKRxVde",
        "colab_type": "text"
      },
      "source": [
        "### Execution\n",
        "\n",
        "**Compilation**"
      ]
    },
    {
      "cell_type": "code",
      "metadata": {
        "id": "UhMoViDFxVdf",
        "colab_type": "code",
        "colab": {}
      },
      "source": [
        "autoencoder = Model(input_img, decoded)\n",
        "autoencoder.compile(optimizer = 'adadelta',\n",
        "                   loss = 'binary_crossentropy')"
      ],
      "execution_count": 0,
      "outputs": []
    },
    {
      "cell_type": "markdown",
      "metadata": {
        "id": "VM2D19tSxVdh",
        "colab_type": "text"
      },
      "source": [
        "**Local v. Google CoLab execution**"
      ]
    },
    {
      "cell_type": "code",
      "metadata": {
        "id": "UJK9RqPZxVdi",
        "colab_type": "code",
        "colab": {
          "base_uri": "https://localhost:8080/",
          "height": 1000
        },
        "outputId": "c53c3aaf-5c3e-419f-e223-e3f9b065ecb5"
      },
      "source": [
        "# # Local Execution: 20 epochs\n",
        "# autoencoder.fit(X_train_noisy, X_train,\n",
        "#                validation_data = (X_test_noisy, X_test),\n",
        "#                 verbose = 1,\n",
        "#                epochs = 20,\n",
        "#                 batch_size = 128,\n",
        "#                 shuffle = True)\n",
        "\n",
        "# Execute on Google Co-Lab: 100 epochs\n",
        "history = autoencoder.fit(X_train_noisy, X_train, \n",
        "                          verbose = 1, \n",
        "                          validation_data = (X_test_noisy, X_test), \n",
        "                          epochs=100, \n",
        "                          batch_size = 128, \n",
        "                          shuffle = True) "
      ],
      "execution_count": 24,
      "outputs": [
        {
          "output_type": "stream",
          "text": [
            "Train on 60000 samples, validate on 10000 samples\n",
            "Epoch 1/100\n",
            "60000/60000 [==============================] - 4s 71us/step - loss: 0.1773 - val_loss: 0.1292\n",
            "Epoch 2/100\n",
            "60000/60000 [==============================] - 4s 60us/step - loss: 0.1190 - val_loss: 0.1096\n",
            "Epoch 3/100\n",
            "60000/60000 [==============================] - 4s 60us/step - loss: 0.1116 - val_loss: 0.1057\n",
            "Epoch 4/100\n",
            "60000/60000 [==============================] - 4s 59us/step - loss: 0.1077 - val_loss: 0.1055\n",
            "Epoch 5/100\n",
            "60000/60000 [==============================] - 4s 60us/step - loss: 0.1053 - val_loss: 0.1022\n",
            "Epoch 6/100\n",
            "60000/60000 [==============================] - 4s 59us/step - loss: 0.1038 - val_loss: 0.1030\n",
            "Epoch 7/100\n",
            "60000/60000 [==============================] - 4s 59us/step - loss: 0.1027 - val_loss: 0.1006\n",
            "Epoch 8/100\n",
            "60000/60000 [==============================] - 4s 60us/step - loss: 0.1019 - val_loss: 0.1014\n",
            "Epoch 9/100\n",
            "60000/60000 [==============================] - 4s 60us/step - loss: 0.1012 - val_loss: 0.0990\n",
            "Epoch 10/100\n",
            "60000/60000 [==============================] - 4s 59us/step - loss: 0.1008 - val_loss: 0.0985\n",
            "Epoch 11/100\n",
            "60000/60000 [==============================] - 4s 59us/step - loss: 0.1004 - val_loss: 0.0991\n",
            "Epoch 12/100\n",
            "60000/60000 [==============================] - 4s 59us/step - loss: 0.0999 - val_loss: 0.0981\n",
            "Epoch 13/100\n",
            "60000/60000 [==============================] - 4s 61us/step - loss: 0.0995 - val_loss: 0.0984\n",
            "Epoch 14/100\n",
            "60000/60000 [==============================] - 4s 60us/step - loss: 0.0993 - val_loss: 0.0979\n",
            "Epoch 15/100\n",
            "60000/60000 [==============================] - 4s 59us/step - loss: 0.0990 - val_loss: 0.0979\n",
            "Epoch 16/100\n",
            "60000/60000 [==============================] - 4s 62us/step - loss: 0.0988 - val_loss: 0.0975\n",
            "Epoch 17/100\n",
            "60000/60000 [==============================] - 4s 61us/step - loss: 0.0987 - val_loss: 0.0977\n",
            "Epoch 18/100\n",
            "60000/60000 [==============================] - 4s 60us/step - loss: 0.0983 - val_loss: 0.0971\n",
            "Epoch 19/100\n",
            "60000/60000 [==============================] - 4s 59us/step - loss: 0.0981 - val_loss: 0.0970\n",
            "Epoch 20/100\n",
            "60000/60000 [==============================] - 4s 59us/step - loss: 0.0980 - val_loss: 0.0965\n",
            "Epoch 21/100\n",
            "60000/60000 [==============================] - 4s 59us/step - loss: 0.0979 - val_loss: 0.0966\n",
            "Epoch 22/100\n",
            "60000/60000 [==============================] - 4s 61us/step - loss: 0.0976 - val_loss: 0.0987\n",
            "Epoch 23/100\n",
            "60000/60000 [==============================] - 4s 59us/step - loss: 0.0974 - val_loss: 0.0984\n",
            "Epoch 24/100\n",
            "60000/60000 [==============================] - 4s 60us/step - loss: 0.0974 - val_loss: 0.0961\n",
            "Epoch 25/100\n",
            "60000/60000 [==============================] - 4s 60us/step - loss: 0.0971 - val_loss: 0.0959\n",
            "Epoch 26/100\n",
            "60000/60000 [==============================] - 4s 60us/step - loss: 0.0971 - val_loss: 0.0960\n",
            "Epoch 27/100\n",
            "60000/60000 [==============================] - 4s 59us/step - loss: 0.0970 - val_loss: 0.0972\n",
            "Epoch 28/100\n",
            "60000/60000 [==============================] - 4s 59us/step - loss: 0.0968 - val_loss: 0.0967\n",
            "Epoch 29/100\n",
            "60000/60000 [==============================] - 4s 60us/step - loss: 0.0967 - val_loss: 0.0957\n",
            "Epoch 30/100\n",
            "60000/60000 [==============================] - 4s 61us/step - loss: 0.0967 - val_loss: 0.0960\n",
            "Epoch 31/100\n",
            "60000/60000 [==============================] - 4s 59us/step - loss: 0.0964 - val_loss: 0.0953\n",
            "Epoch 32/100\n",
            "60000/60000 [==============================] - 4s 60us/step - loss: 0.0964 - val_loss: 0.0955\n",
            "Epoch 33/100\n",
            "60000/60000 [==============================] - 4s 61us/step - loss: 0.0964 - val_loss: 0.0979\n",
            "Epoch 34/100\n",
            "60000/60000 [==============================] - 4s 62us/step - loss: 0.0963 - val_loss: 0.0951\n",
            "Epoch 35/100\n",
            "60000/60000 [==============================] - 4s 60us/step - loss: 0.0962 - val_loss: 0.0966\n",
            "Epoch 36/100\n",
            "60000/60000 [==============================] - 4s 59us/step - loss: 0.0961 - val_loss: 0.0953\n",
            "Epoch 37/100\n",
            "60000/60000 [==============================] - 4s 59us/step - loss: 0.0961 - val_loss: 0.0961\n",
            "Epoch 38/100\n",
            "60000/60000 [==============================] - 4s 60us/step - loss: 0.0960 - val_loss: 0.0957\n",
            "Epoch 39/100\n",
            "60000/60000 [==============================] - 4s 60us/step - loss: 0.0959 - val_loss: 0.0949\n",
            "Epoch 40/100\n",
            "60000/60000 [==============================] - 4s 59us/step - loss: 0.0958 - val_loss: 0.0951\n",
            "Epoch 41/100\n",
            "60000/60000 [==============================] - 4s 60us/step - loss: 0.0958 - val_loss: 0.0948\n",
            "Epoch 42/100\n",
            "60000/60000 [==============================] - 4s 59us/step - loss: 0.0958 - val_loss: 0.0948\n",
            "Epoch 43/100\n",
            "60000/60000 [==============================] - 4s 59us/step - loss: 0.0957 - val_loss: 0.0950\n",
            "Epoch 44/100\n",
            "60000/60000 [==============================] - 4s 59us/step - loss: 0.0955 - val_loss: 0.0957\n",
            "Epoch 45/100\n",
            "60000/60000 [==============================] - 4s 59us/step - loss: 0.0956 - val_loss: 0.0948\n",
            "Epoch 46/100\n",
            "60000/60000 [==============================] - 4s 60us/step - loss: 0.0955 - val_loss: 0.0948\n",
            "Epoch 47/100\n",
            "60000/60000 [==============================] - 4s 60us/step - loss: 0.0955 - val_loss: 0.0953\n",
            "Epoch 48/100\n",
            "60000/60000 [==============================] - 4s 60us/step - loss: 0.0954 - val_loss: 0.0952\n",
            "Epoch 49/100\n",
            "60000/60000 [==============================] - 4s 61us/step - loss: 0.0953 - val_loss: 0.0944\n",
            "Epoch 50/100\n",
            "60000/60000 [==============================] - 4s 61us/step - loss: 0.0953 - val_loss: 0.0945\n",
            "Epoch 51/100\n",
            "60000/60000 [==============================] - 4s 62us/step - loss: 0.0953 - val_loss: 0.0948\n",
            "Epoch 52/100\n",
            "60000/60000 [==============================] - 4s 59us/step - loss: 0.0952 - val_loss: 0.0963\n",
            "Epoch 53/100\n",
            "60000/60000 [==============================] - 4s 60us/step - loss: 0.0952 - val_loss: 0.0945\n",
            "Epoch 54/100\n",
            "60000/60000 [==============================] - 4s 60us/step - loss: 0.0951 - val_loss: 0.0942\n",
            "Epoch 55/100\n",
            "60000/60000 [==============================] - 4s 61us/step - loss: 0.0951 - val_loss: 0.0948\n",
            "Epoch 56/100\n",
            "60000/60000 [==============================] - 4s 59us/step - loss: 0.0951 - val_loss: 0.0944\n",
            "Epoch 57/100\n",
            "60000/60000 [==============================] - 4s 59us/step - loss: 0.0951 - val_loss: 0.0945\n",
            "Epoch 58/100\n",
            "60000/60000 [==============================] - 4s 60us/step - loss: 0.0950 - val_loss: 0.0945\n",
            "Epoch 59/100\n",
            "60000/60000 [==============================] - 4s 59us/step - loss: 0.0949 - val_loss: 0.0958\n",
            "Epoch 60/100\n",
            "60000/60000 [==============================] - 4s 60us/step - loss: 0.0949 - val_loss: 0.0946\n",
            "Epoch 61/100\n",
            "60000/60000 [==============================] - 4s 59us/step - loss: 0.0949 - val_loss: 0.0947\n",
            "Epoch 62/100\n",
            "60000/60000 [==============================] - 4s 60us/step - loss: 0.0949 - val_loss: 0.0957\n",
            "Epoch 63/100\n",
            "60000/60000 [==============================] - 4s 61us/step - loss: 0.0949 - val_loss: 0.0947\n",
            "Epoch 64/100\n",
            "60000/60000 [==============================] - 4s 60us/step - loss: 0.0948 - val_loss: 0.0942\n",
            "Epoch 65/100\n",
            "60000/60000 [==============================] - 4s 60us/step - loss: 0.0947 - val_loss: 0.0945\n",
            "Epoch 66/100\n",
            "60000/60000 [==============================] - 4s 62us/step - loss: 0.0947 - val_loss: 0.0940\n",
            "Epoch 67/100\n",
            "60000/60000 [==============================] - 4s 61us/step - loss: 0.0947 - val_loss: 0.0944\n",
            "Epoch 68/100\n",
            "60000/60000 [==============================] - 4s 59us/step - loss: 0.0947 - val_loss: 0.0946\n",
            "Epoch 69/100\n",
            "60000/60000 [==============================] - 4s 59us/step - loss: 0.0946 - val_loss: 0.0942\n",
            "Epoch 70/100\n",
            "60000/60000 [==============================] - 4s 60us/step - loss: 0.0947 - val_loss: 0.0941\n",
            "Epoch 71/100\n",
            "60000/60000 [==============================] - 4s 60us/step - loss: 0.0946 - val_loss: 0.0945\n",
            "Epoch 72/100\n",
            "60000/60000 [==============================] - 4s 61us/step - loss: 0.0946 - val_loss: 0.0941\n",
            "Epoch 73/100\n",
            "60000/60000 [==============================] - 4s 59us/step - loss: 0.0946 - val_loss: 0.0942\n",
            "Epoch 74/100\n",
            "60000/60000 [==============================] - 4s 60us/step - loss: 0.0945 - val_loss: 0.0939\n",
            "Epoch 75/100\n",
            "60000/60000 [==============================] - 4s 59us/step - loss: 0.0946 - val_loss: 0.0938\n",
            "Epoch 76/100\n",
            "60000/60000 [==============================] - 4s 60us/step - loss: 0.0945 - val_loss: 0.0942\n",
            "Epoch 77/100\n",
            "60000/60000 [==============================] - 4s 59us/step - loss: 0.0944 - val_loss: 0.0944\n",
            "Epoch 78/100\n",
            "60000/60000 [==============================] - 4s 60us/step - loss: 0.0944 - val_loss: 0.0938\n",
            "Epoch 79/100\n",
            "60000/60000 [==============================] - 4s 59us/step - loss: 0.0944 - val_loss: 0.0938\n",
            "Epoch 80/100\n",
            "60000/60000 [==============================] - 4s 60us/step - loss: 0.0944 - val_loss: 0.0937\n",
            "Epoch 81/100\n",
            "60000/60000 [==============================] - 4s 59us/step - loss: 0.0944 - val_loss: 0.0947\n",
            "Epoch 82/100\n",
            "60000/60000 [==============================] - 4s 59us/step - loss: 0.0944 - val_loss: 0.0940\n",
            "Epoch 83/100\n",
            "60000/60000 [==============================] - 4s 61us/step - loss: 0.0943 - val_loss: 0.0947\n",
            "Epoch 84/100\n",
            "60000/60000 [==============================] - 4s 62us/step - loss: 0.0943 - val_loss: 0.0937\n",
            "Epoch 85/100\n",
            "60000/60000 [==============================] - 4s 60us/step - loss: 0.0943 - val_loss: 0.0941\n",
            "Epoch 86/100\n",
            "60000/60000 [==============================] - 4s 60us/step - loss: 0.0943 - val_loss: 0.0950\n",
            "Epoch 87/100\n",
            "60000/60000 [==============================] - 4s 60us/step - loss: 0.0944 - val_loss: 0.0943\n",
            "Epoch 88/100\n",
            "60000/60000 [==============================] - 4s 62us/step - loss: 0.0942 - val_loss: 0.0940\n",
            "Epoch 89/100\n",
            "60000/60000 [==============================] - 4s 61us/step - loss: 0.0942 - val_loss: 0.0937\n",
            "Epoch 90/100\n",
            "60000/60000 [==============================] - 4s 59us/step - loss: 0.0942 - val_loss: 0.0936\n",
            "Epoch 91/100\n",
            "60000/60000 [==============================] - 4s 60us/step - loss: 0.0942 - val_loss: 0.0936\n",
            "Epoch 92/100\n",
            "60000/60000 [==============================] - 4s 60us/step - loss: 0.0942 - val_loss: 0.0936\n",
            "Epoch 93/100\n",
            "60000/60000 [==============================] - 4s 60us/step - loss: 0.0942 - val_loss: 0.0937\n",
            "Epoch 94/100\n",
            "60000/60000 [==============================] - 4s 59us/step - loss: 0.0941 - val_loss: 0.0946\n",
            "Epoch 95/100\n",
            "60000/60000 [==============================] - 4s 59us/step - loss: 0.0941 - val_loss: 0.0947\n",
            "Epoch 96/100\n",
            "60000/60000 [==============================] - 4s 59us/step - loss: 0.0941 - val_loss: 0.0936\n",
            "Epoch 97/100\n",
            "60000/60000 [==============================] - 4s 61us/step - loss: 0.0941 - val_loss: 0.0935\n",
            "Epoch 98/100\n",
            "60000/60000 [==============================] - 4s 59us/step - loss: 0.0940 - val_loss: 0.0936\n",
            "Epoch 99/100\n",
            "60000/60000 [==============================] - 4s 59us/step - loss: 0.0941 - val_loss: 0.0935\n",
            "Epoch 100/100\n",
            "60000/60000 [==============================] - 4s 61us/step - loss: 0.0940 - val_loss: 0.0936\n"
          ],
          "name": "stdout"
        }
      ]
    },
    {
      "cell_type": "markdown",
      "metadata": {
        "id": "RctwEOtcxVdl",
        "colab_type": "text"
      },
      "source": [
        "### Visualization\n",
        "\n",
        "**Comparative plots**"
      ]
    },
    {
      "cell_type": "code",
      "metadata": {
        "id": "POBlcZjGxVdm",
        "colab_type": "code",
        "colab": {
          "base_uri": "https://localhost:8080/",
          "height": 288
        },
        "outputId": "293ea6b9-c6b5-4348-cded-9c5209c473ab"
      },
      "source": [
        "de_noised_images = autoencoder.predict(X_test_noisy[:10])\n",
        "n = 9\n",
        "plt.figure(figsize = (20,4))\n",
        "for i in range(1, n+1):\n",
        "    plt.subplot(2, n, i)\n",
        "    plt.imshow(X_test_noisy[i].reshape(28, 28))\n",
        "    plt.gray()\n",
        "    \n",
        "    plt.subplot(2, n, n+i) # Move to the next row \n",
        "    plt.imshow(de_noised_images[i].reshape(28, 28))\n",
        "    plt.gray()\n",
        "plt.savefig(\"CE_ML_Project_05_01_Images.jpeg\")\n",
        "plt.show()"
      ],
      "execution_count": 37,
      "outputs": [
        {
          "output_type": "display_data",
          "data": {
            "image/png": "[encoded data removed]",
            "text/plain": [
              "<Figure size 1440x288 with 18 Axes>"
            ]
          },
          "metadata": {
            "tags": []
          }
        }
      ]
    },
    {
      "cell_type": "markdown",
      "metadata": {
        "id": "RTLqvhakxVdp",
        "colab_type": "text"
      },
      "source": [
        "**Error plots**"
      ]
    },
    {
      "cell_type": "code",
      "metadata": {
        "id": "kXQJJqb2zn5n",
        "colab_type": "code",
        "colab": {
          "base_uri": "https://localhost:8080/",
          "height": 34
        },
        "outputId": "a00a77b4-a2fc-4c8d-9d28-ab0ebeac1582"
      },
      "source": [
        "history.history.keys()"
      ],
      "execution_count": 28,
      "outputs": [
        {
          "output_type": "execute_result",
          "data": {
            "text/plain": [
              "dict_keys(['val_loss', 'loss'])"
            ]
          },
          "metadata": {
            "tags": []
          },
          "execution_count": 28
        }
      ]
    },
    {
      "cell_type": "code",
      "metadata": {
        "id": "BJk70gn5xVdp",
        "colab_type": "code",
        "colab": {
          "base_uri": "https://localhost:8080/",
          "height": 683
        },
        "outputId": "c9af351d-44e2-4e31-821d-5bbe0f08c680"
      },
      "source": [
        "# Plot training & validation accuracy values\n",
        "plt.figure(figsize = (10,10))\n",
        "plt.plot(history.history['loss'], 'k-')\n",
        "plt.plot(history.history['val_loss'], 'b.')\n",
        "plt.title('Autoencoder Accuracy')\n",
        "plt.xticks(fontsize = 15)\n",
        "plt.yticks(fontsize = 15)\n",
        "plt.ylabel('Loss', fontsize = 15)\n",
        "plt.xlabel('Epoch #', fontsize = 15)\n",
        "plt.legend(['Train', 'Test'], fontsize = 15)#, loc='upper left')\n",
        "plt.savefig(\"CE_ML_Project_05_02_Results.jpeg\")\n",
        "plt.show()\n",
        "\n",
        "v1 = round(history.history['loss'][0], 4)\n",
        "v2 = round(history.history['loss'][-1], 4)\n",
        "v3 = round(history.history['val_loss'][0], 4)\n",
        "v4 = round(history.history['val_loss'][-1], 4)\n",
        "print(\"Train - Error in prediction went down from {} to {}\".format(v1, v2))\n",
        "print(\"Test  - Error in prediction went down from {} to {}\".format(v3, v4), \"\\n\")"
      ],
      "execution_count": 38,
      "outputs": [
        {
          "output_type": "display_data",
          "data": {
            "image/png": "[encoded data removed]",
            "text/plain": [
              "<Figure size 720x720 with 1 Axes>"
            ]
          },
          "metadata": {
            "tags": []
          }
        },
        {
          "output_type": "stream",
          "text": [
            "Train - Error in prediction went down from 0.1773 to 0.094\n",
            "Test  - Error in prediction went down from 0.1292 to 0.0936 \n",
            "\n"
          ],
          "name": "stdout"
        }
      ]
    },
    {
      "cell_type": "code",
      "metadata": {
        "id": "nIjHtB6ez6Ww",
        "colab_type": "code",
        "colab": {}
      },
      "source": [
        ""
      ],
      "execution_count": 0,
      "outputs": []
    }
  ]
}