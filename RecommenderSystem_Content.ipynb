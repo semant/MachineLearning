{
  "nbformat": 4,
  "nbformat_minor": 0,
  "metadata": {
    "colab": {
      "name": "CE_ML_Project_21_RecommenderSystem.ipynb",
      "provenance": [],
      "collapsed_sections": [],
      "authorship_tag": "ABX9TyOFuJh4/ekHiWt8YPL/Yoq/",
      "include_colab_link": true
    },
    "kernelspec": {
      "name": "python3",
      "display_name": "Python 3"
    }
  },
  "cells": [
    {
      "cell_type": "markdown",
      "metadata": {
        "id": "view-in-github",
        "colab_type": "text"
      },
      "source": [
        "<a href=\"https://colab.research.google.com/github/semant/MachineLearning/blob/master/RecommenderSystem_Content.ipynb\" target=\"_parent\"><img src=\"https://colab.research.google.com/assets/colab-badge.svg\" alt=\"Open In Colab\"/></a>"
      ]
    },
    {
      "cell_type": "markdown",
      "metadata": {
        "id": "RKtvPQi8ReOp",
        "colab_type": "text"
      },
      "source": [
        "# Recommender System Using Content Based Filtering to Identify Most Similar Products for an E-Commerce Operation\n",
        "\n",
        "> Semant Jain, PhD\n",
        "> semant@gmail.com\n",
        "\n",
        "### Background:\n",
        "> There are four types of recommendation systems:\n",
        "> + Social and demographic recommenders: These algorithms do not require any preferences by the user. They suggest items that are liked by friends, friends of friends, and demographically-similar people. \n",
        "> + Contextual recommenders: By incorporating a user's current context, these algorithms are more likely to elicit a response than methods based only on historical data.\n",
        "> + Collaborative filtering: Starting with a matrix of preferences by users for items, they are used to predict missing preferences and recommend items with high predictions.\n",
        "> + Content-based filtering: For cases where features that characterize items or user preferences are available , these algorithms recommend similar items. \n",
        "\n",
        "\n",
        "### Summary\n",
        "> At ACM, content based recommenders were used to identify stocks behaving similarly. As this project is protected by non disclosure agreements, here, content based recommenders have been demonstrated through natural language processing of a dataset with 500 different items. The following preprocessing were necessary:\n",
        "+ TF: Term Frequency of a word is the number of times it appears in a document. \n",
        "+ IDF: Inverse Document Frequency of a word is the measure of how significant that term is in the whole corpus. IDF(t) is computed as the log of the ratio of the total number of documents divided by the number of documents with term in it.\n",
        "+ Stop words: Commonly used words such as 'and', 'the', 'an', 'is' were removed from the analysis\n",
        "+ Cosine similarity: Computes the similarity of an item with all other items in the dataset\n",
        "Thereafter, the recommender system was setup.\n",
        "\n",
        "\n",
        "### Contents\n",
        "\n",
        "\n",
        "### Libraries\n",
        "+ Pandas\n",
        "+ Sklearn"
      ]
    },
    {
      "cell_type": "markdown",
      "metadata": {
        "id": "jJEZY-Gvs-_m",
        "colab_type": "text"
      },
      "source": [
        "# 1. Setting up\n",
        "\n",
        "### Importing libraries"
      ]
    },
    {
      "cell_type": "code",
      "metadata": {
        "id": "pXaSRDZds-eP",
        "colab_type": "code",
        "colab": {}
      },
      "source": [
        "import pandas as pd\n",
        "from sklearn.feature_extraction.text import TfidfVectorizer\n",
        "from sklearn.metrics.pairwise import linear_kernel"
      ],
      "execution_count": 0,
      "outputs": []
    },
    {
      "cell_type": "markdown",
      "metadata": {
        "id": "sii9WY35tJGU",
        "colab_type": "text"
      },
      "source": [
        "### Preprocessing data"
      ]
    },
    {
      "cell_type": "code",
      "metadata": {
        "id": "3ZXQMqG-tIy7",
        "colab_type": "code",
        "colab": {}
      },
      "source": [
        "ds = pd.read_csv(\"CE_ML_Project_21_sample-data.csv\")\n",
        "\n",
        "tf = TfidfVectorizer(analyzer='word', ngram_range=(1, 3), min_df=0, stop_words='english')\n",
        "tfidf_matrix = tf.fit_transform(ds['description'])\n",
        "\n",
        "cosine_similarities = linear_kernel(tfidf_matrix, tfidf_matrix)\n",
        "\n",
        "results = {}\n",
        "\n",
        "for idx, row in ds.iterrows():\n",
        "    similar_indices = cosine_similarities[idx].argsort()[:-100:-1]\n",
        "    similar_items = [(cosine_similarities[idx][i], ds['id'][i]) for i in similar_indices]\n",
        "\n",
        "    results[row['id']] = similar_items[1:]"
      ],
      "execution_count": 0,
      "outputs": []
    },
    {
      "cell_type": "markdown",
      "metadata": {
        "id": "P7TC0Z59tTi4",
        "colab_type": "text"
      },
      "source": [
        "# 2. Code\n",
        "\n",
        "### Helper functions"
      ]
    },
    {
      "cell_type": "code",
      "metadata": {
        "id": "iYzx8Oa4LQqn",
        "colab_type": "code",
        "colab": {}
      },
      "source": [
        "def item(id):\n",
        "    return ds.loc[ds['id'] == id]['description'].tolist()[0].split(' - ')[0]\n",
        "\n",
        "def recommend(item_id, num):\n",
        "    print(\"Top \" + str(num) + \" products similar to \" + item(item_id) + \": \")\n",
        "    recs = results[item_id][:num]\n",
        "    for rec in recs:\n",
        "        print(\"- \" + item(rec[1]) + \" (score:\" + str(round(rec[0],4)) + \")\")"
      ],
      "execution_count": 0,
      "outputs": []
    },
    {
      "cell_type": "markdown",
      "metadata": {
        "id": "ZsdYz9Qhtc1r",
        "colab_type": "text"
      },
      "source": [
        "### Execution"
      ]
    },
    {
      "cell_type": "code",
      "metadata": {
        "id": "2N1OcJDHtcK7",
        "colab_type": "code",
        "colab": {
          "base_uri": "https://localhost:8080/",
          "height": 238
        },
        "outputId": "d012a0e1-c5da-4774-9359-8a0bafb2a15a"
      },
      "source": [
        "recommend(item_id=2, num=5)\n",
        "print()\n",
        "recommend(item_id=12, num=5)"
      ],
      "execution_count": 14,
      "outputs": [
        {
          "output_type": "stream",
          "text": [
            "Top 5 products similar to Active sport boxer briefs: \n",
            "- Active sport briefs (score:0.4182)\n",
            "- Cap 1 boxer briefs (score:0.1155)\n",
            "- Active boxer briefs (score:0.113)\n",
            "- Active briefs (score:0.1125)\n",
            "- Active boy shorts (score:0.1115)\n",
            "\n",
            "Top 5 products similar to Baggies shorts: \n",
            "- River shorts (score:0.2465)\n",
            "- Baby baggies shorts (score:0.1682)\n",
            "- Baggies shorts (score:0.1644)\n",
            "- Girl's baggies shorts (score:0.1498)\n",
            "- Baggies shorts (score:0.1474)\n"
          ],
          "name": "stdout"
        }
      ]
    },
    {
      "cell_type": "code",
      "metadata": {
        "id": "xJZJf-INPvjM",
        "colab_type": "code",
        "colab": {}
      },
      "source": [
        ""
      ],
      "execution_count": 0,
      "outputs": []
    }
  ]
}