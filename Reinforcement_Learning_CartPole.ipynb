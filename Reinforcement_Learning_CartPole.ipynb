{
  "nbformat": 4,
  "nbformat_minor": 0,
  "metadata": {
    "kernelspec": {
      "name": "python3",
      "display_name": "Python 3"
    },
    "language_info": {
      "codemirror_mode": {
        "name": "ipython",
        "version": 3
      },
      "file_extension": ".py",
      "mimetype": "text/x-python",
      "name": "python",
      "nbconvert_exporter": "python",
      "pygments_lexer": "ipython3",
      "version": "3.7.4"
    },
    "colab": {
      "name": "CE_ML_Project_15_Reinforcement.ipynb",
      "provenance": [],
      "collapsed_sections": [],
      "include_colab_link": true
    },
    "accelerator": "GPU"
  },
  "cells": [
    {
      "cell_type": "markdown",
      "metadata": {
        "id": "view-in-github",
        "colab_type": "text"
      },
      "source": [
        "<a href=\"https://colab.research.google.com/github/semant/MachineLearning/blob/master/Reinforcement_Learning_CartPole.ipynb\" target=\"_parent\"><img src=\"https://colab.research.google.com/assets/colab-badge.svg\" alt=\"Open In Colab\"/></a>"
      ]
    },
    {
      "cell_type": "markdown",
      "metadata": {
        "id": "tiBdlaezvaoy",
        "colab_type": "text"
      },
      "source": [
        "# Top-2 Finish on Continuous Action Games through Reinforcement Learning with Experience Replay\n",
        "> Semant Jain, PhD  semant@gmail.com\n",
        "\n",
        "### Introduction\n",
        "The third paradigm of machine learning, after supervised and unsupervised learning, is reinforcement learning. Reinforcement learning finds a balance between exploring new unchartered territory and maximizing exploitation of current knowledge. The goal of a reinforcement learning agent is to choose actions that collect as much reward as possible. As immediate reward associated with an action can lead to future regret, the agent learns optimal behavior is to maximize future income which have involve negative immediate reward.\n",
        "\n",
        "Use of domain knowledge can augment the reward through Reward Engineering or Reward Shaping. However, this approach has two limitations:\n",
        "+ Information on how rewards can be shaped is not always available. \n",
        "+ Optimization of a performance improvement proxy could lead to unexpected and unwanted behavior.\n",
        "\n",
        "Inspired from nature where positively rewarded behavior is stored, for large state-space, hindsight experience replay stores the agent's behavior. This replay speeds up the training.\n",
        "\n",
        "\n",
        "### Applications\n",
        "Applications such as robot control, elevator scheduling, telecommunications, and games such as backgammon, checkers, and AlphaGo, which involve long-term and short-term trade-offs are particularly well-suited for Reinforcement learning.\n",
        "\n",
        "\n",
        "### Summary\n",
        "To demonstrate reinforcement learning, a neural network was trained on the cart pole (inverted pendulum) game. Here, a pole was attached to a cart moving along a frictionless track. The goal was to prevent the cart from falling over. Each episode ended when the pole was more than 15 degrees from vertical, or the cart moved more than 2.4 units from the center.\n",
        "\n",
        "With enough training time, reinforcement learning can be made to balance the cart for an infinite time. So, each episode was cut off after 500 steps. While random behavior can only balance the cart for a few dozen steps, after just 33 episodes, reinforcement behavior was able to balance the cart for the entire 500 steps (100% accuracy) for some episodes. This performance would be a top-2 performance on the game's leaderboard.\n",
        "\n",
        "\n",
        "### Table of Contents\n",
        "+ Setting Up\n",
        "  + Importing libraries\n",
        "  + Importing data\n",
        "+ Model\n",
        "  + Helper functions\n",
        "  + Execution\n",
        "  + Visualization\n",
        "\n",
        "\n",
        "### Libraries used\n",
        "+ Collections\n",
        "+ Gym\n",
        "+ Keras\n",
        "+ Matplotlib\n",
        "+ Numpy\n",
        "+ Statistics"
      ]
    },
    {
      "cell_type": "markdown",
      "metadata": {
        "id": "ZtODRVjP9sDO",
        "colab_type": "text"
      },
      "source": [
        "# 1. Setting up\n",
        "\n",
        "### Importing libraries"
      ]
    },
    {
      "cell_type": "code",
      "metadata": {
        "id": "9jSK-Wxj9sDS",
        "colab_type": "code",
        "outputId": "d1e1c50f-5fde-435b-cd8d-5c6f4fc5fc53",
        "colab": {
          "base_uri": "https://localhost:8080/",
          "height": 80
        }
      },
      "source": [
        "from collections import deque\n",
        "\n",
        "from statistics import mean, stdev\n",
        "\n",
        "from keras.models import Sequential\n",
        "from keras.layers import Dense\n",
        "from keras.optimizers import Adam\n",
        "\n",
        "import gym\n",
        "import matplotlib.pyplot as plt\n",
        "%matplotlib inline\n",
        "import numpy as np\n",
        "import random"
      ],
      "execution_count": 2,
      "outputs": [
        {
          "output_type": "stream",
          "text": [
            "Using TensorFlow backend.\n"
          ],
          "name": "stderr"
        },
        {
          "output_type": "display_data",
          "data": {
            "text/html": [
              "<p style=\"color: red;\">\n",
              "The default version of TensorFlow in Colab will soon switch to TensorFlow 2.x.<br>\n",
              "We recommend you <a href=\"https://www.tensorflow.org/guide/migrate\" target=\"_blank\">upgrade</a> now \n",
              "or ensure your notebook will continue to use TensorFlow 1.x via the <code>%tensorflow_version 1.x</code> magic:\n",
              "<a href=\"https://colab.research.google.com/notebooks/tensorflow_version.ipynb\" target=\"_blank\">more info</a>.</p>\n"
            ],
            "text/plain": [
              "<IPython.core.display.HTML object>"
            ]
          },
          "metadata": {
            "tags": []
          }
        }
      ]
    },
    {
      "cell_type": "markdown",
      "metadata": {
        "id": "sq28Cdzk9sDf",
        "colab_type": "text"
      },
      "source": [
        "# 2. Model\n",
        "\n",
        "### Helper functions: Agent"
      ]
    },
    {
      "cell_type": "code",
      "metadata": {
        "id": "SXpkYy6f9sDi",
        "colab_type": "code",
        "colab": {}
      },
      "source": [
        "# Deep Q-learning Network Agent\n",
        "class DQNAgent :\n",
        "    def __init__ (self, state_size, action_size):\n",
        "        self.state_size = state_size\n",
        "        self.action_size = action_size\n",
        "        self.memory = deque(maxlen = 2000)\n",
        "\n",
        "        # Hyperparameters\n",
        "        self.gamma = 0.95\n",
        "        self.epsilon = 1.0\n",
        "        \n",
        "        self.epsilon_decay = 0.995\n",
        "        self.epsilon_min = 0.01\n",
        "        self.learning_rate = 0.001\n",
        "        self.model = self.build_model()\n",
        "\n",
        "        \n",
        "    def build_model(self):\n",
        "        model = Sequential()\n",
        "        model.add(Dense(24, input_dim = self.state_size, activation = 'relu' )) \n",
        "        model.add(Dense(24, activation = 'relu'))\n",
        "        model.add(Dense(self.action_size, activation = 'linear'))\n",
        "        model.compile(loss = \"mse\", \n",
        "                      optimizer = Adam(lr = self.learning_rate))\n",
        "        return model\n",
        "    \n",
        "    def act(self, state):\n",
        "        # Choosing action randomly for a fraction of the actions\n",
        "        if np.random.rand() <= self.epsilon: \n",
        "            return random.randrange(self.action_size) \n",
        "        \n",
        "        # Logical action\n",
        "        act_values = self.model.predict(state)\n",
        "        return np.argmax(act_values[0]) \n",
        "    \n",
        "    # Experience replay\n",
        "    # Variation: \n",
        "    def remember(self, state, action, reward, next_state, done):\n",
        "        self.memory.append((state, action, reward, next_state, done)) \n",
        "    \n",
        "    def replay(self, batch_size):\n",
        "        minibatch = random.sample(self.memory, batch_size)\n",
        "        # Iterate over each experience, pass through model\n",
        "        for (state, action, reward, next_state, done) in minibatch:\n",
        "            target = reward \n",
        "            if not done: \n",
        "                q_values = self.gamma * self.model.predict(next_state)[0] \n",
        "                target  += self.gamma * np.max(q_values) \n",
        "            target_f = self.model.predict(state)\n",
        "            target_f[0][action] = target \n",
        "\n",
        "            self.model.fit(state, target_f, epochs = 1, verbose = 0) \n",
        "            \n",
        "            if self.epsilon > self.epsilon_min:\n",
        "                self.epsilon *= self.epsilon_decay\n",
        "\n",
        "    def load(self, name):\n",
        "        self.model.load_weights(name)\n",
        "\n",
        "    def save(self, name):\n",
        "        self.model.save_weights(name)"
      ],
      "execution_count": 0,
      "outputs": []
    },
    {
      "cell_type": "markdown",
      "metadata": {
        "id": "7fLC_qAfo2F5",
        "colab_type": "text"
      },
      "source": [
        "### Execution"
      ]
    },
    {
      "cell_type": "code",
      "metadata": {
        "id": "SeZ5KWLN9sDt",
        "colab_type": "code",
        "outputId": "03d0bea1-41d5-4749-d76e-df01aa84a799",
        "colab": {
          "base_uri": "https://localhost:8080/",
          "height": 1000
        }
      },
      "source": [
        "EPISODES = 200 \n",
        "\n",
        "env = gym.make(\"CartPole-v1\") \n",
        "state_size = env.observation_space.shape[0]\n",
        "action_size = env.action_space.n # 0 and 1\n",
        "\n",
        "agent = DQNAgent(state_size, action_size)\n",
        "\n",
        "done = False\n",
        "batch_size = 32 \n",
        "\n",
        "list_time = []\n",
        "list_epsi = []\n",
        "\n",
        "for e in range(EPISODES):\n",
        "    state = env.reset()\n",
        "    state = state.reshape(1, state_size) \n",
        "    \n",
        "    for time in range(500): \n",
        "        # env.render() # After every iteration\n",
        "        \n",
        "        action = agent.act(state) \n",
        "        next_state, reward, done, _ = env.step(action)\n",
        "        \n",
        "        reward = reward if not done else -10 \n",
        "        \n",
        "        next_state = next_state.reshape(1, state_size)\n",
        "        agent.remember(state, action, reward, next_state, done)\n",
        "        state = next_state\n",
        "        \n",
        "        if done or time ==499: \n",
        "            print(f\"Ep: {e}/{EPISODES} Score: {time} Epsilon: {round(agent.epsilon,4)}\")\n",
        "            break \n",
        "\n",
        "        if len(agent.memory) > batch_size:\n",
        "            agent.replay(batch_size)\n",
        "        \n",
        "    list_time.append(time)\n",
        "    list_epsi.append(agent.epsilon)"
      ],
      "execution_count": 4,
      "outputs": [
        {
          "output_type": "stream",
          "text": [
            "WARNING:tensorflow:From /usr/local/lib/python3.6/dist-packages/keras/backend/tensorflow_backend.py:66: The name tf.get_default_graph is deprecated. Please use tf.compat.v1.get_default_graph instead.\n",
            "\n",
            "WARNING:tensorflow:From /usr/local/lib/python3.6/dist-packages/keras/backend/tensorflow_backend.py:541: The name tf.placeholder is deprecated. Please use tf.compat.v1.placeholder instead.\n",
            "\n",
            "WARNING:tensorflow:From /usr/local/lib/python3.6/dist-packages/keras/backend/tensorflow_backend.py:4432: The name tf.random_uniform is deprecated. Please use tf.random.uniform instead.\n",
            "\n",
            "WARNING:tensorflow:From /usr/local/lib/python3.6/dist-packages/keras/optimizers.py:793: The name tf.train.Optimizer is deprecated. Please use tf.compat.v1.train.Optimizer instead.\n",
            "\n",
            "Ep: 0/200 Score: 13 Epsilon: 1.0\n",
            "Ep: 1/200 Score: 17 Epsilon: 1.0\n",
            "WARNING:tensorflow:From /usr/local/lib/python3.6/dist-packages/keras/backend/tensorflow_backend.py:3005: The name tf.Session is deprecated. Please use tf.compat.v1.Session instead.\n",
            "\n",
            "WARNING:tensorflow:From /usr/local/lib/python3.6/dist-packages/keras/backend/tensorflow_backend.py:190: The name tf.get_default_session is deprecated. Please use tf.compat.v1.get_default_session instead.\n",
            "\n",
            "WARNING:tensorflow:From /usr/local/lib/python3.6/dist-packages/keras/backend/tensorflow_backend.py:197: The name tf.ConfigProto is deprecated. Please use tf.compat.v1.ConfigProto instead.\n",
            "\n",
            "WARNING:tensorflow:From /usr/local/lib/python3.6/dist-packages/keras/backend/tensorflow_backend.py:207: The name tf.global_variables is deprecated. Please use tf.compat.v1.global_variables instead.\n",
            "\n",
            "WARNING:tensorflow:From /usr/local/lib/python3.6/dist-packages/keras/backend/tensorflow_backend.py:216: The name tf.is_variable_initialized is deprecated. Please use tf.compat.v1.is_variable_initialized instead.\n",
            "\n",
            "WARNING:tensorflow:From /usr/local/lib/python3.6/dist-packages/keras/backend/tensorflow_backend.py:223: The name tf.variables_initializer is deprecated. Please use tf.compat.v1.variables_initializer instead.\n",
            "\n",
            "WARNING:tensorflow:From /usr/local/lib/python3.6/dist-packages/keras/backend/tensorflow_backend.py:1033: The name tf.assign_add is deprecated. Please use tf.compat.v1.assign_add instead.\n",
            "\n",
            "WARNING:tensorflow:From /usr/local/lib/python3.6/dist-packages/keras/backend/tensorflow_backend.py:1020: The name tf.assign is deprecated. Please use tf.compat.v1.assign instead.\n",
            "\n",
            "Ep: 2/200 Score: 22 Epsilon: 0.0293\n",
            "Ep: 3/200 Score: 11 Epsilon: 0.01\n",
            "Ep: 4/200 Score: 8 Epsilon: 0.01\n",
            "Ep: 5/200 Score: 14 Epsilon: 0.01\n",
            "Ep: 6/200 Score: 150 Epsilon: 0.01\n",
            "Ep: 7/200 Score: 91 Epsilon: 0.01\n",
            "Ep: 8/200 Score: 88 Epsilon: 0.01\n",
            "Ep: 9/200 Score: 119 Epsilon: 0.01\n",
            "Ep: 10/200 Score: 76 Epsilon: 0.01\n",
            "Ep: 11/200 Score: 93 Epsilon: 0.01\n",
            "Ep: 12/200 Score: 117 Epsilon: 0.01\n",
            "Ep: 13/200 Score: 172 Epsilon: 0.01\n",
            "Ep: 14/200 Score: 205 Epsilon: 0.01\n",
            "Ep: 15/200 Score: 190 Epsilon: 0.01\n",
            "Ep: 16/200 Score: 194 Epsilon: 0.01\n",
            "Ep: 17/200 Score: 195 Epsilon: 0.01\n",
            "Ep: 18/200 Score: 207 Epsilon: 0.01\n",
            "Ep: 19/200 Score: 179 Epsilon: 0.01\n",
            "Ep: 20/200 Score: 183 Epsilon: 0.01\n",
            "Ep: 21/200 Score: 269 Epsilon: 0.01\n",
            "Ep: 22/200 Score: 132 Epsilon: 0.01\n",
            "Ep: 23/200 Score: 336 Epsilon: 0.01\n",
            "Ep: 24/200 Score: 144 Epsilon: 0.01\n",
            "Ep: 25/200 Score: 31 Epsilon: 0.01\n",
            "Ep: 26/200 Score: 173 Epsilon: 0.01\n",
            "Ep: 27/200 Score: 160 Epsilon: 0.01\n",
            "Ep: 28/200 Score: 217 Epsilon: 0.01\n",
            "Ep: 29/200 Score: 153 Epsilon: 0.01\n",
            "Ep: 30/200 Score: 364 Epsilon: 0.01\n",
            "Ep: 31/200 Score: 51 Epsilon: 0.01\n",
            "Ep: 32/200 Score: 220 Epsilon: 0.01\n",
            "Ep: 33/200 Score: 499 Epsilon: 0.01\n",
            "Ep: 34/200 Score: 203 Epsilon: 0.01\n",
            "Ep: 35/200 Score: 269 Epsilon: 0.01\n",
            "Ep: 36/200 Score: 18 Epsilon: 0.01\n",
            "Ep: 37/200 Score: 167 Epsilon: 0.01\n",
            "Ep: 38/200 Score: 153 Epsilon: 0.01\n",
            "Ep: 39/200 Score: 25 Epsilon: 0.01\n",
            "Ep: 40/200 Score: 22 Epsilon: 0.01\n",
            "Ep: 41/200 Score: 13 Epsilon: 0.01\n",
            "Ep: 42/200 Score: 185 Epsilon: 0.01\n",
            "Ep: 43/200 Score: 212 Epsilon: 0.01\n",
            "Ep: 44/200 Score: 188 Epsilon: 0.01\n",
            "Ep: 45/200 Score: 206 Epsilon: 0.01\n",
            "Ep: 46/200 Score: 218 Epsilon: 0.01\n",
            "Ep: 47/200 Score: 196 Epsilon: 0.01\n",
            "Ep: 48/200 Score: 226 Epsilon: 0.01\n",
            "Ep: 49/200 Score: 191 Epsilon: 0.01\n",
            "Ep: 50/200 Score: 205 Epsilon: 0.01\n",
            "Ep: 51/200 Score: 170 Epsilon: 0.01\n",
            "Ep: 52/200 Score: 152 Epsilon: 0.01\n",
            "Ep: 53/200 Score: 408 Epsilon: 0.01\n",
            "Ep: 54/200 Score: 109 Epsilon: 0.01\n",
            "Ep: 55/200 Score: 63 Epsilon: 0.01\n",
            "Ep: 56/200 Score: 66 Epsilon: 0.01\n",
            "Ep: 57/200 Score: 18 Epsilon: 0.01\n",
            "Ep: 58/200 Score: 19 Epsilon: 0.01\n",
            "Ep: 59/200 Score: 18 Epsilon: 0.01\n",
            "Ep: 60/200 Score: 17 Epsilon: 0.01\n",
            "Ep: 61/200 Score: 16 Epsilon: 0.01\n",
            "Ep: 62/200 Score: 22 Epsilon: 0.01\n",
            "Ep: 63/200 Score: 158 Epsilon: 0.01\n",
            "Ep: 64/200 Score: 9 Epsilon: 0.01\n",
            "Ep: 65/200 Score: 144 Epsilon: 0.01\n",
            "Ep: 66/200 Score: 191 Epsilon: 0.01\n",
            "Ep: 67/200 Score: 267 Epsilon: 0.01\n",
            "Ep: 68/200 Score: 458 Epsilon: 0.01\n",
            "Ep: 69/200 Score: 310 Epsilon: 0.01\n",
            "Ep: 70/200 Score: 265 Epsilon: 0.01\n",
            "Ep: 71/200 Score: 242 Epsilon: 0.01\n",
            "Ep: 72/200 Score: 246 Epsilon: 0.01\n",
            "Ep: 73/200 Score: 170 Epsilon: 0.01\n",
            "Ep: 74/200 Score: 254 Epsilon: 0.01\n",
            "Ep: 75/200 Score: 233 Epsilon: 0.01\n",
            "Ep: 76/200 Score: 257 Epsilon: 0.01\n",
            "Ep: 77/200 Score: 234 Epsilon: 0.01\n",
            "Ep: 78/200 Score: 135 Epsilon: 0.01\n",
            "Ep: 79/200 Score: 95 Epsilon: 0.01\n",
            "Ep: 80/200 Score: 37 Epsilon: 0.01\n",
            "Ep: 81/200 Score: 14 Epsilon: 0.01\n",
            "Ep: 82/200 Score: 22 Epsilon: 0.01\n",
            "Ep: 83/200 Score: 22 Epsilon: 0.01\n",
            "Ep: 84/200 Score: 20 Epsilon: 0.01\n",
            "Ep: 85/200 Score: 55 Epsilon: 0.01\n",
            "Ep: 86/200 Score: 91 Epsilon: 0.01\n",
            "Ep: 87/200 Score: 133 Epsilon: 0.01\n",
            "Ep: 88/200 Score: 153 Epsilon: 0.01\n",
            "Ep: 89/200 Score: 196 Epsilon: 0.01\n",
            "Ep: 90/200 Score: 244 Epsilon: 0.01\n",
            "Ep: 91/200 Score: 375 Epsilon: 0.01\n",
            "Ep: 92/200 Score: 195 Epsilon: 0.01\n",
            "Ep: 93/200 Score: 287 Epsilon: 0.01\n",
            "Ep: 94/200 Score: 275 Epsilon: 0.01\n",
            "Ep: 95/200 Score: 309 Epsilon: 0.01\n",
            "Ep: 96/200 Score: 499 Epsilon: 0.01\n",
            "Ep: 97/200 Score: 127 Epsilon: 0.01\n",
            "Ep: 98/200 Score: 345 Epsilon: 0.01\n",
            "Ep: 99/200 Score: 100 Epsilon: 0.01\n",
            "Ep: 100/200 Score: 229 Epsilon: 0.01\n",
            "Ep: 101/200 Score: 220 Epsilon: 0.01\n",
            "Ep: 102/200 Score: 65 Epsilon: 0.01\n",
            "Ep: 103/200 Score: 98 Epsilon: 0.01\n",
            "Ep: 104/200 Score: 336 Epsilon: 0.01\n",
            "Ep: 105/200 Score: 391 Epsilon: 0.01\n",
            "Ep: 106/200 Score: 145 Epsilon: 0.01\n",
            "Ep: 107/200 Score: 30 Epsilon: 0.01\n",
            "Ep: 108/200 Score: 46 Epsilon: 0.01\n",
            "Ep: 109/200 Score: 168 Epsilon: 0.01\n",
            "Ep: 110/200 Score: 180 Epsilon: 0.01\n",
            "Ep: 111/200 Score: 210 Epsilon: 0.01\n",
            "Ep: 112/200 Score: 360 Epsilon: 0.01\n",
            "Ep: 113/200 Score: 424 Epsilon: 0.01\n",
            "Ep: 114/200 Score: 247 Epsilon: 0.01\n",
            "Ep: 115/200 Score: 175 Epsilon: 0.01\n",
            "Ep: 116/200 Score: 227 Epsilon: 0.01\n",
            "Ep: 117/200 Score: 297 Epsilon: 0.01\n",
            "Ep: 118/200 Score: 175 Epsilon: 0.01\n",
            "Ep: 119/200 Score: 280 Epsilon: 0.01\n",
            "Ep: 120/200 Score: 126 Epsilon: 0.01\n",
            "Ep: 121/200 Score: 196 Epsilon: 0.01\n",
            "Ep: 122/200 Score: 140 Epsilon: 0.01\n",
            "Ep: 123/200 Score: 192 Epsilon: 0.01\n",
            "Ep: 124/200 Score: 448 Epsilon: 0.01\n",
            "Ep: 125/200 Score: 10 Epsilon: 0.01\n",
            "Ep: 126/200 Score: 12 Epsilon: 0.01\n",
            "Ep: 127/200 Score: 8 Epsilon: 0.01\n",
            "Ep: 128/200 Score: 8 Epsilon: 0.01\n",
            "Ep: 129/200 Score: 13 Epsilon: 0.01\n",
            "Ep: 130/200 Score: 10 Epsilon: 0.01\n",
            "Ep: 131/200 Score: 13 Epsilon: 0.01\n",
            "Ep: 132/200 Score: 12 Epsilon: 0.01\n",
            "Ep: 133/200 Score: 97 Epsilon: 0.01\n",
            "Ep: 134/200 Score: 140 Epsilon: 0.01\n",
            "Ep: 135/200 Score: 172 Epsilon: 0.01\n",
            "Ep: 136/200 Score: 171 Epsilon: 0.01\n",
            "Ep: 137/200 Score: 178 Epsilon: 0.01\n",
            "Ep: 138/200 Score: 218 Epsilon: 0.01\n",
            "Ep: 139/200 Score: 242 Epsilon: 0.01\n",
            "Ep: 140/200 Score: 196 Epsilon: 0.01\n",
            "Ep: 141/200 Score: 196 Epsilon: 0.01\n",
            "Ep: 142/200 Score: 189 Epsilon: 0.01\n",
            "Ep: 143/200 Score: 87 Epsilon: 0.01\n",
            "Ep: 144/200 Score: 171 Epsilon: 0.01\n",
            "Ep: 145/200 Score: 155 Epsilon: 0.01\n",
            "Ep: 146/200 Score: 129 Epsilon: 0.01\n",
            "Ep: 147/200 Score: 126 Epsilon: 0.01\n",
            "Ep: 148/200 Score: 162 Epsilon: 0.01\n",
            "Ep: 149/200 Score: 137 Epsilon: 0.01\n",
            "Ep: 150/200 Score: 121 Epsilon: 0.01\n",
            "Ep: 151/200 Score: 152 Epsilon: 0.01\n",
            "Ep: 152/200 Score: 106 Epsilon: 0.01\n",
            "Ep: 153/200 Score: 119 Epsilon: 0.01\n",
            "Ep: 154/200 Score: 138 Epsilon: 0.01\n",
            "Ep: 155/200 Score: 10 Epsilon: 0.01\n",
            "Ep: 156/200 Score: 159 Epsilon: 0.01\n",
            "Ep: 157/200 Score: 190 Epsilon: 0.01\n",
            "Ep: 158/200 Score: 116 Epsilon: 0.01\n",
            "Ep: 159/200 Score: 144 Epsilon: 0.01\n",
            "Ep: 160/200 Score: 141 Epsilon: 0.01\n",
            "Ep: 161/200 Score: 109 Epsilon: 0.01\n",
            "Ep: 162/200 Score: 126 Epsilon: 0.01\n",
            "Ep: 163/200 Score: 101 Epsilon: 0.01\n",
            "Ep: 164/200 Score: 133 Epsilon: 0.01\n",
            "Ep: 165/200 Score: 120 Epsilon: 0.01\n",
            "Ep: 166/200 Score: 186 Epsilon: 0.01\n",
            "Ep: 167/200 Score: 398 Epsilon: 0.01\n",
            "Ep: 168/200 Score: 454 Epsilon: 0.01\n",
            "Ep: 169/200 Score: 347 Epsilon: 0.01\n",
            "Ep: 170/200 Score: 125 Epsilon: 0.01\n",
            "Ep: 171/200 Score: 17 Epsilon: 0.01\n",
            "Ep: 172/200 Score: 120 Epsilon: 0.01\n",
            "Ep: 173/200 Score: 403 Epsilon: 0.01\n",
            "Ep: 174/200 Score: 252 Epsilon: 0.01\n",
            "Ep: 175/200 Score: 499 Epsilon: 0.01\n",
            "Ep: 176/200 Score: 74 Epsilon: 0.01\n",
            "Ep: 177/200 Score: 326 Epsilon: 0.01\n",
            "Ep: 178/200 Score: 190 Epsilon: 0.01\n",
            "Ep: 179/200 Score: 114 Epsilon: 0.01\n",
            "Ep: 180/200 Score: 196 Epsilon: 0.01\n",
            "Ep: 181/200 Score: 132 Epsilon: 0.01\n",
            "Ep: 182/200 Score: 269 Epsilon: 0.01\n",
            "Ep: 183/200 Score: 147 Epsilon: 0.01\n",
            "Ep: 184/200 Score: 123 Epsilon: 0.01\n",
            "Ep: 185/200 Score: 286 Epsilon: 0.01\n",
            "Ep: 186/200 Score: 221 Epsilon: 0.01\n",
            "Ep: 187/200 Score: 213 Epsilon: 0.01\n",
            "Ep: 188/200 Score: 155 Epsilon: 0.01\n",
            "Ep: 189/200 Score: 175 Epsilon: 0.01\n",
            "Ep: 190/200 Score: 218 Epsilon: 0.01\n",
            "Ep: 191/200 Score: 29 Epsilon: 0.01\n",
            "Ep: 192/200 Score: 180 Epsilon: 0.01\n",
            "Ep: 193/200 Score: 169 Epsilon: 0.01\n",
            "Ep: 194/200 Score: 211 Epsilon: 0.01\n",
            "Ep: 195/200 Score: 265 Epsilon: 0.01\n",
            "Ep: 196/200 Score: 389 Epsilon: 0.01\n",
            "Ep: 197/200 Score: 159 Epsilon: 0.01\n",
            "Ep: 198/200 Score: 157 Epsilon: 0.01\n",
            "Ep: 199/200 Score: 150 Epsilon: 0.01\n"
          ],
          "name": "stdout"
        }
      ]
    },
    {
      "cell_type": "markdown",
      "metadata": {
        "id": "czndhYxUJb6P",
        "colab_type": "text"
      },
      "source": [
        "### Visualization"
      ]
    },
    {
      "cell_type": "code",
      "metadata": {
        "id": "bZvmf-KT9sD1",
        "colab_type": "code",
        "colab": {
          "base_uri": "https://localhost:8080/",
          "height": 1000
        },
        "outputId": "d65214a5-323e-4a12-ffe6-3399dc0b99d9"
      },
      "source": [
        "# BALANCING TIME PROGRESSION\n",
        "list_time_frac = []\n",
        "\n",
        "for i in range(len(list_time)):\n",
        "    list_time_frac.append(list_time[i]/499.)\n",
        "    #print(i, round(list_time_frac[i],4))\n",
        "\n",
        "#print(list_time_frac)\n",
        "\n",
        "plt.figure(figsize = (10,10))\n",
        "plt.xticks(fontsize = 15)\n",
        "plt.yticks(fontsize = 15)\n",
        "plt.xlabel(\"Episode\", fontsize = 15)\n",
        "plt.ylabel(\"Fractional Steps Balanced\", fontsize = 15)\n",
        "plt.plot(list_time_frac, 'bo') #, linewidth = 0)\n",
        "plt.savefig(\"ML_CE_Project_15_01_Fraction.jpeg\")\n",
        "plt.show()\n",
        "\n",
        "# # RANDOMNESS VARIATION PROGRESSION\n",
        "# plt.figure(figsize = (10,10))\n",
        "# plt.xticks(fontsize = 15)\n",
        "# plt.yticks(fontsize = 15)\n",
        "# #plt.xlim(0, 500)\n",
        "# #plt.ylim(0, 500)\n",
        "# plt.xlabel(\"Episode\", fontsize = 15)\n",
        "# plt.ylabel(\"Randomness Variation\", fontsize = 15)\n",
        "# plt.plot(list_epsi)\n",
        "# plt.show()\n",
        "\n",
        "# PROBABILITY DISTRIBUTION HISTOGRAM\n",
        "hist,bin_edges = np.histogram(list_time_frac)\n",
        "plt.figure(figsize=[10,8])\n",
        "\n",
        "plt.bar(bin_edges[:-1], hist, width = 0.05, color='#0504aa',alpha=0.7)\n",
        "plt.xlim(min(bin_edges), max(bin_edges))\n",
        "plt.grid(axis='y', alpha=0.75)\n",
        "plt.xlabel('Fractional Steps Balanced',fontsize=15)\n",
        "plt.ylabel('Frequency',fontsize=15)\n",
        "plt.xticks(fontsize=15)\n",
        "plt.yticks(fontsize=15)\n",
        "plt.ylabel('Frequency',fontsize=15)\n",
        "plt.title('Probability Distribution Histogram',fontsize=15)\n",
        "plt.savefig(\"ML_CE_Project_15_02_Histogram.jpeg\")\n",
        "plt.show()"
      ],
      "execution_count": 21,
      "outputs": [
        {
          "output_type": "display_data",
          "data": {
            "image/png": "[encoded data removed]",
            "text/plain": [
              "<Figure size 720x720 with 1 Axes>"
            ]
          },
          "metadata": {
            "tags": []
          }
        },
        {
          "output_type": "display_data",
          "data": {
            "image/png": "[encoded data removed]",
            "text/plain": [
              "<Figure size 720x576 with 1 Axes>"
            ]
          },
          "metadata": {
            "tags": []
          }
        }
      ]
    },
    {
      "cell_type": "code",
      "metadata": {
        "id": "6FteoT36HUHg",
        "colab_type": "code",
        "colab": {}
      },
      "source": [
        ""
      ],
      "execution_count": 0,
      "outputs": []
    },
    {
      "cell_type": "code",
      "metadata": {
        "id": "3KakQCqHIuGc",
        "colab_type": "code",
        "colab": {}
      },
      "source": [
        ""
      ],
      "execution_count": 0,
      "outputs": []
    }
  ]
}