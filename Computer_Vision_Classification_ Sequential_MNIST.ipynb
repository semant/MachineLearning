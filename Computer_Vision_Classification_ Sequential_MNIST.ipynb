{
  "nbformat": 4,
  "nbformat_minor": 0,
  "metadata": {
    "kernelspec": {
      "display_name": "Python 3",
      "language": "python",
      "name": "python3"
    },
    "language_info": {
      "codemirror_mode": {
        "name": "ipython",
        "version": 3
      },
      "file_extension": ".py",
      "mimetype": "text/x-python",
      "name": "python",
      "nbconvert_exporter": "python",
      "pygments_lexer": "ipython3",
      "version": "3.7.4"
    },
    "colab": {
      "name": "CE_ML_Project_02_MNIST-b.ipynb",
      "provenance": [],
      "include_colab_link": true
    }
  },
  "cells": [
    {
      "cell_type": "markdown",
      "metadata": {
        "id": "view-in-github",
        "colab_type": "text"
      },
      "source": [
        "<a href=\"https://colab.research.google.com/github/semant/MachineLearning/blob/master/Computer_Vision_Classification_%20Sequential_MNIST.ipynb\" target=\"_parent\"><img src=\"https://colab.research.google.com/assets/colab-badge.svg\" alt=\"Open In Colab\"/></a>"
      ]
    },
    {
      "cell_type": "markdown",
      "metadata": {
        "id": "K498I0ZykSIH",
        "colab_type": "text"
      },
      "source": [
        "# Computer Vision\n",
        "### Image Classification using Sequential Neural Network\n",
        "### Keras Dataset: Mnist\n",
        "\n",
        "# Introduction\n",
        "\n",
        "Keras Mnist dataset has 70000 images of hand written digits (0 - 9) which have been captured in color. The objective of this machine learning program was to create a sequential neural network from scratch which can correctly classify the digits with high accuracy. \n",
        "\n",
        "\n",
        "### Methodology\n",
        "The following optimization variables were scanned to identify the optimal fit:\n",
        "+ Optimizer: RMSProp, Adam\n",
        "+ Loss: Mean Absolute Error (MAE), Mean Square Error (MSE)\n",
        "+ Architecture: Number of layers\n",
        "+ Architecture: Number of nodes per layer\n",
        "+ Number of Epochs\n",
        "\n",
        "| Model # | Optimizer | Loss | Epochs | Layers | Layer 1 | Layer 2 | Layer 3 | Layer 4 | Layer 5 | Layer 6 | Change | Error: Train | Error: Test | Time/step | Improvement |\n",
        "| --- | --- | --- |  --- |  --- |  --- |  --- |  --- |  --- |  --- |  --- |  --- |  --- |  --- |  --- |  --- |  \n",
        "| 1 | RMSProp | MSE | 20 | 3 | 4 | 8 | 10 | | | | Base | 0.0345 | 0.0335 | 21us | - |\n",
        "| 2 | Adam | MSE | 20 | 3 | 4 | 8 | 10 | | | | Optimizer | 0.0334 | 0.0341 | 20us | No | \n",
        "| 3 | RMSProp | MAE | 20 | 3 | 4 | 8 | 10 | | | | Loss | 0.0506 | 0.0509 | 23us | No | \n",
        "| 4 | Adam | MAE | 20 | 3 | 4 | 8 | 10 | | | | Optimizer, Loss |  0.0838 | 0.0839 | 24us | No |\n",
        "| 5 | RMSProp | MSE | 20 | 4 | 4 | 8 | 8 | 10 | | | Layers | 0.0321 | 0.0322 | 21us | Yes | \n",
        "| 6 | RMSProp | MSE | 20 | 5 | 4 | 8 | 8 | 8 | 10 | | Layers | 0.0393 | 0.0406 | 23us | No |\n",
        "| 7 | RMSProp | MSE | 20 | 4 | 4 | 16 | 16 | 10 | | | Nodes | 0.0295 | 0.0298 | 22us | Yes |\n",
        "| 8 | RMSProp | MSE | 20 | 4 | 4 | 32 | 32 | 10 | | | Nodes | 0.0324 | 0.0325 | 22us | No | \n",
        "| 9 | RMSProp | MSE | 40 | 4 | 4 | 16 | 16 | 10 | | | Epochs | 0.0295 | 0.0300 | 21us | No |\n",
        "| 10 | RMSProp | MSE | 30 | 4 | 4 | 16 | 16 | 10 | | | Epochs | 0.0313 | 0.0333 | 22us | No |\n",
        "\n",
        "\n",
        "### Conclusion\n",
        "Based on the above analysis, the optimal parameters were identified as:\n",
        "+ Optimizer: RMSProp\n",
        "+ Loss function: MSE\n",
        "+ Number of layers: 4\n",
        "+ Nodes per layer: 4, 4, 16, and 16\n",
        "+ Number of epochs: 20"
      ]
    },
    {
      "cell_type": "code",
      "metadata": {
        "id": "8D6TA-p8kSIJ",
        "colab_type": "code",
        "colab": {},
        "outputId": "a5bb9f83-4f7a-49ed-818b-6a4203e1243d"
      },
      "source": [
        "! pip install Keras\n",
        "! pip install --upgrade tensorflow"
      ],
      "execution_count": 0,
      "outputs": [
        {
          "output_type": "stream",
          "text": [
            "Requirement already satisfied: Keras in /opt/anaconda3/lib/python3.7/site-packages (2.3.1)\n",
            "Requirement already satisfied: six>=1.9.0 in /opt/anaconda3/lib/python3.7/site-packages (from Keras) (1.12.0)\n",
            "Requirement already satisfied: pyyaml in /opt/anaconda3/lib/python3.7/site-packages (from Keras) (5.1.2)\n",
            "Requirement already satisfied: keras-preprocessing>=1.0.5 in /opt/anaconda3/lib/python3.7/site-packages (from Keras) (1.1.0)\n",
            "Requirement already satisfied: numpy>=1.9.1 in /opt/anaconda3/lib/python3.7/site-packages (from Keras) (1.16.1)\n",
            "Requirement already satisfied: scipy>=0.14 in /opt/anaconda3/lib/python3.7/site-packages (from Keras) (1.2.0)\n",
            "Requirement already satisfied: h5py in /opt/anaconda3/lib/python3.7/site-packages (from Keras) (2.9.0)\n",
            "Requirement already satisfied: keras-applications>=1.0.6 in /opt/anaconda3/lib/python3.7/site-packages (from Keras) (1.0.8)\n",
            "Requirement already up-to-date: tensorflow in /opt/anaconda3/lib/python3.7/site-packages (2.0.0)\n",
            "Requirement already satisfied, skipping upgrade: astor>=0.6.0 in /opt/anaconda3/lib/python3.7/site-packages (from tensorflow) (0.8.1)\n",
            "Requirement already satisfied, skipping upgrade: termcolor>=1.1.0 in /opt/anaconda3/lib/python3.7/site-packages (from tensorflow) (1.1.0)\n",
            "Requirement already satisfied, skipping upgrade: tensorboard<2.1.0,>=2.0.0 in /opt/anaconda3/lib/python3.7/site-packages (from tensorflow) (2.0.2)\n",
            "Requirement already satisfied, skipping upgrade: wrapt>=1.11.1 in /opt/anaconda3/lib/python3.7/site-packages (from tensorflow) (1.11.2)\n",
            "Requirement already satisfied, skipping upgrade: google-pasta>=0.1.6 in /opt/anaconda3/lib/python3.7/site-packages (from tensorflow) (0.1.8)\n",
            "Requirement already satisfied, skipping upgrade: grpcio>=1.8.6 in /opt/anaconda3/lib/python3.7/site-packages (from tensorflow) (1.26.0)\n",
            "Requirement already satisfied, skipping upgrade: six>=1.10.0 in /opt/anaconda3/lib/python3.7/site-packages (from tensorflow) (1.12.0)\n",
            "Requirement already satisfied, skipping upgrade: protobuf>=3.6.1 in /opt/anaconda3/lib/python3.7/site-packages (from tensorflow) (3.11.2)\n",
            "Requirement already satisfied, skipping upgrade: absl-py>=0.7.0 in /opt/anaconda3/lib/python3.7/site-packages (from tensorflow) (0.9.0)\n",
            "Requirement already satisfied, skipping upgrade: keras-preprocessing>=1.0.5 in /opt/anaconda3/lib/python3.7/site-packages (from tensorflow) (1.1.0)\n",
            "Requirement already satisfied, skipping upgrade: numpy<2.0,>=1.16.0 in /opt/anaconda3/lib/python3.7/site-packages (from tensorflow) (1.16.1)\n",
            "Requirement already satisfied, skipping upgrade: tensorflow-estimator<2.1.0,>=2.0.0 in /opt/anaconda3/lib/python3.7/site-packages (from tensorflow) (2.0.1)\n",
            "Requirement already satisfied, skipping upgrade: keras-applications>=1.0.8 in /opt/anaconda3/lib/python3.7/site-packages (from tensorflow) (1.0.8)\n",
            "Requirement already satisfied, skipping upgrade: opt-einsum>=2.3.2 in /opt/anaconda3/lib/python3.7/site-packages (from tensorflow) (3.1.0)\n",
            "Requirement already satisfied, skipping upgrade: gast==0.2.2 in /opt/anaconda3/lib/python3.7/site-packages (from tensorflow) (0.2.2)\n",
            "Requirement already satisfied, skipping upgrade: wheel>=0.26 in /opt/anaconda3/lib/python3.7/site-packages (from tensorflow) (0.33.6)\n",
            "Requirement already satisfied, skipping upgrade: setuptools>=41.0.0 in /opt/anaconda3/lib/python3.7/site-packages (from tensorboard<2.1.0,>=2.0.0->tensorflow) (41.4.0)\n",
            "Requirement already satisfied, skipping upgrade: werkzeug>=0.11.15 in /opt/anaconda3/lib/python3.7/site-packages (from tensorboard<2.1.0,>=2.0.0->tensorflow) (0.16.0)\n",
            "Requirement already satisfied, skipping upgrade: requests<3,>=2.21.0 in /opt/anaconda3/lib/python3.7/site-packages (from tensorboard<2.1.0,>=2.0.0->tensorflow) (2.21.0)\n",
            "Requirement already satisfied, skipping upgrade: google-auth<2,>=1.6.3 in /opt/anaconda3/lib/python3.7/site-packages (from tensorboard<2.1.0,>=2.0.0->tensorflow) (1.10.0)\n",
            "Requirement already satisfied, skipping upgrade: google-auth-oauthlib<0.5,>=0.4.1 in /opt/anaconda3/lib/python3.7/site-packages (from tensorboard<2.1.0,>=2.0.0->tensorflow) (0.4.1)\n",
            "Requirement already satisfied, skipping upgrade: markdown>=2.6.8 in /opt/anaconda3/lib/python3.7/site-packages (from tensorboard<2.1.0,>=2.0.0->tensorflow) (3.1.1)\n",
            "Requirement already satisfied, skipping upgrade: h5py in /opt/anaconda3/lib/python3.7/site-packages (from keras-applications>=1.0.8->tensorflow) (2.9.0)\n",
            "Requirement already satisfied, skipping upgrade: idna<2.9,>=2.5 in /opt/anaconda3/lib/python3.7/site-packages (from requests<3,>=2.21.0->tensorboard<2.1.0,>=2.0.0->tensorflow) (2.8)\n",
            "Requirement already satisfied, skipping upgrade: chardet<3.1.0,>=3.0.2 in /opt/anaconda3/lib/python3.7/site-packages (from requests<3,>=2.21.0->tensorboard<2.1.0,>=2.0.0->tensorflow) (3.0.4)\n",
            "Requirement already satisfied, skipping upgrade: urllib3<1.25,>=1.21.1 in /opt/anaconda3/lib/python3.7/site-packages (from requests<3,>=2.21.0->tensorboard<2.1.0,>=2.0.0->tensorflow) (1.24.2)\n",
            "Requirement already satisfied, skipping upgrade: certifi>=2017.4.17 in /opt/anaconda3/lib/python3.7/site-packages (from requests<3,>=2.21.0->tensorboard<2.1.0,>=2.0.0->tensorflow) (2019.9.11)\n",
            "Requirement already satisfied, skipping upgrade: pyasn1-modules>=0.2.1 in /opt/anaconda3/lib/python3.7/site-packages (from google-auth<2,>=1.6.3->tensorboard<2.1.0,>=2.0.0->tensorflow) (0.2.7)\n",
            "Requirement already satisfied, skipping upgrade: rsa<4.1,>=3.1.4 in /opt/anaconda3/lib/python3.7/site-packages (from google-auth<2,>=1.6.3->tensorboard<2.1.0,>=2.0.0->tensorflow) (4.0)\n",
            "Requirement already satisfied, skipping upgrade: cachetools<5.0,>=2.0.0 in /opt/anaconda3/lib/python3.7/site-packages (from google-auth<2,>=1.6.3->tensorboard<2.1.0,>=2.0.0->tensorflow) (4.0.0)\n",
            "Requirement already satisfied, skipping upgrade: requests-oauthlib>=0.7.0 in /opt/anaconda3/lib/python3.7/site-packages (from google-auth-oauthlib<0.5,>=0.4.1->tensorboard<2.1.0,>=2.0.0->tensorflow) (1.3.0)\n",
            "Requirement already satisfied, skipping upgrade: pyasn1<0.5.0,>=0.4.6 in /opt/anaconda3/lib/python3.7/site-packages (from pyasn1-modules>=0.2.1->google-auth<2,>=1.6.3->tensorboard<2.1.0,>=2.0.0->tensorflow) (0.4.8)\n",
            "Requirement already satisfied, skipping upgrade: oauthlib>=3.0.0 in /opt/anaconda3/lib/python3.7/site-packages (from requests-oauthlib>=0.7.0->google-auth-oauthlib<0.5,>=0.4.1->tensorboard<2.1.0,>=2.0.0->tensorflow) (3.1.0)\n"
          ],
          "name": "stdout"
        }
      ]
    },
    {
      "cell_type": "code",
      "metadata": {
        "id": "RVjoDQ-okSIV",
        "colab_type": "code",
        "colab": {},
        "outputId": "40a3b485-0da2-4e6e-a044-4eb406b99e64"
      },
      "source": [
        "import numpy as np\n",
        "import matplotlib.pyplot as plt\n",
        "%matplotlib inline\n",
        "\n",
        "from keras.models import Sequential\n",
        "from keras.layers import Dense, Activation, Dropout\n",
        "from keras.utils import np_utils\n",
        "\n",
        "from keras.datasets import mnist\n",
        "\n",
        "(x_train, y_train), (x_test, y_test) =  mnist.load_data()\n",
        "print(x_train.shape, y_train.shape)\n",
        "print(x_test.shape, y_test.shape)\n",
        "\n",
        "plt.imshow(x_train[0])"
      ],
      "execution_count": 0,
      "outputs": [
        {
          "output_type": "stream",
          "text": [
            "Using TensorFlow backend.\n"
          ],
          "name": "stderr"
        },
        {
          "output_type": "stream",
          "text": [
            "(60000, 28, 28) (60000,)\n",
            "(10000, 28, 28) (10000,)\n"
          ],
          "name": "stdout"
        },
        {
          "output_type": "execute_result",
          "data": {
            "text/plain": [
              "<matplotlib.image.AxesImage at 0x13a4cf8d0>"
            ]
          },
          "metadata": {
            "tags": []
          },
          "execution_count": 2
        },
        {
          "output_type": "display_data",
          "data": {
            "image/png": "[encoded data removed]",
            "text/plain": [
              "<Figure size 432x288 with 1 Axes>"
            ]
          },
          "metadata": {
            "tags": [],
            "needs_background": "light"
          }
        }
      ]
    },
    {
      "cell_type": "markdown",
      "metadata": {
        "id": "Ya3zg3HdkSIb",
        "colab_type": "text"
      },
      "source": [
        "### Test Train split"
      ]
    },
    {
      "cell_type": "code",
      "metadata": {
        "id": "tNQRqSYbkSIe",
        "colab_type": "code",
        "colab": {},
        "outputId": "a18d3597-6d43-4b0d-9c61-2a34241ae94c"
      },
      "source": [
        "h1, w1, c1 = x_train.shape\n",
        "print(h1, w1, c1)\n",
        "x_train_flat = x_train.reshape(h1, w1*c1)\n",
        "\n",
        "h2, w2, c2 = x_test.shape\n",
        "print(h2, w2, c2)\n",
        "x_test_flat = x_test.reshape(h2, w2*c2)\n",
        "print(\"X:\", x_train_flat.shape, x_test_flat.shape)"
      ],
      "execution_count": 0,
      "outputs": [
        {
          "output_type": "stream",
          "text": [
            "60000 28 28\n",
            "10000 28 28\n",
            "X: (60000, 784) (10000, 784)\n"
          ],
          "name": "stdout"
        }
      ]
    },
    {
      "cell_type": "markdown",
      "metadata": {
        "id": "wXnCsZYXkSIi",
        "colab_type": "text"
      },
      "source": [
        "### Convert class vectors to binary class matrices\n",
        "\n",
        "The output vectors (y_train, y_test) have all the digits encoded as 0, 1, ... 9. In order for the neural network to recognize them as different values, a matrix would need to be created to convert them:\n",
        "\n",
        "| Class # | Digit 0 | Digit 1 | Digit 2 | Digit 3 | Digit 4 | Digit 5 | Digit 6 | Digit 7 | Digit 8 | Digit 9 |\n",
        "| --- | --- | --- | --- | --- | --- | --- | --- | --- | --- | --- |\n",
        "| 0 | 1 | 0 | 0 | 0 | 0 | 0 | 0 | 0 | 0 | 0 |\n",
        "| 1 | 0 | 1 | 0 | 0 | 0 | 0 | 0 | 0 | 0 | 0 |\n",
        "| 2 | 0 | 0 | 1 | 0 | 0 | 0 | 0 | 0 | 0 | 0 |\n",
        "| 3 | 0 | 0 | 0 | 1 | 0 | 0 | 0 | 0 | 0 | 0 |\n",
        "| 4 | 0 | 0 | 0 | 0 | 1 | 0 | 0 | 0 | 0 | 0 |\n",
        "| 5 | 0 | 0 | 0 | 0 | 0 | 1 | 0 | 0 | 0 | 0 |\n",
        "| 6 | 0 | 0 | 0 | 0 | 0 | 0 | 1 | 0 | 0 | 0 |\n",
        "| 7 | 0 | 0 | 0 | 0 | 0 | 0 | 0 | 1 | 0 | 0 |\n",
        "| 8 | 0 | 0 | 0 | 0 | 0 | 0 | 0 | 0 | 1 | 0 |\n",
        "| 9 | 0 | 0 | 0 | 0 | 0 | 0 | 0 | 0 | 0 | 1 |"
      ]
    },
    {
      "cell_type": "code",
      "metadata": {
        "id": "VRZwaqEpkSIj",
        "colab_type": "code",
        "colab": {},
        "outputId": "908930a3-1ce0-4ebc-f2ce-aba1cd35bf94"
      },
      "source": [
        "print(np.unique(y_train), \"\\n\")\n",
        "num_classes = 10\n",
        "Y_train = np_utils.to_categorical(y_train, num_classes)\n",
        "Y_test = np_utils.to_categorical(y_test, num_classes)\n",
        "print(\"Y:\" , Y_train.shape, Y_test.shape)"
      ],
      "execution_count": 0,
      "outputs": [
        {
          "output_type": "stream",
          "text": [
            "[0 1 2 3 4 5 6 7 8 9] \n",
            "\n",
            "Y: (60000, 10) (10000, 10)\n"
          ],
          "name": "stdout"
        }
      ]
    },
    {
      "cell_type": "markdown",
      "metadata": {
        "id": "tDTlf-hrkSIn",
        "colab_type": "text"
      },
      "source": [
        "### Normalization"
      ]
    },
    {
      "cell_type": "code",
      "metadata": {
        "id": "mMgAIEkJkSIq",
        "colab_type": "code",
        "colab": {},
        "outputId": "27d11377-4f6b-404e-d2ba-eb05fa194e97"
      },
      "source": [
        "print(\"Data range: Pre normalization\")\n",
        "print(x_train_flat.min(), x_train_flat.max())\n",
        "print(Y_train.min(), Y_train.max())\n",
        "\n",
        "print(x_test_flat.min(), x_test_flat.max())\n",
        "print(Y_test.min(), Y_test.max())\n",
        "\n",
        "print()\n",
        "\n",
        "# Making sure that the values are float so that we can get decimal points after division\n",
        "X_train = x_train_flat.astype('float32')\n",
        "X_test  = x_test_flat.astype('float32')\n",
        "# Normalizing the RGB codes by dividing it to the max RGB value.\n",
        "X_train /= 255\n",
        "X_test  /= 255\n",
        "\n",
        "print()\n",
        "\n",
        "# Checking normalization\n",
        "print(\"Data range: Post normalization\")\n",
        "print(X_train.min(), X_train.max())\n",
        "print(Y_train.min(), Y_train.max())\n",
        "\n",
        "print(X_test.min(), X_test.max())\n",
        "print(Y_test.min(), Y_test.max())"
      ],
      "execution_count": 0,
      "outputs": [
        {
          "output_type": "stream",
          "text": [
            "Data range: Pre normalization\n",
            "0 255\n",
            "0.0 1.0\n",
            "0 255\n",
            "0.0 1.0\n",
            "\n",
            "\n",
            "Data range: Post normalization\n",
            "0.0 1.0\n",
            "0.0 1.0\n",
            "0.0 1.0\n",
            "0.0 1.0\n"
          ],
          "name": "stdout"
        }
      ]
    },
    {
      "cell_type": "markdown",
      "metadata": {
        "id": "96Qi9fh4kSIw",
        "colab_type": "text"
      },
      "source": [
        "# Model 1\n",
        "### Optimizer: RMSProp\n",
        "### Loss: MSE\n",
        "### Architecture: 4, 8, 10"
      ]
    },
    {
      "cell_type": "code",
      "metadata": {
        "id": "uMEU4TvTkSIy",
        "colab_type": "code",
        "colab": {},
        "outputId": "18a8725d-f3cb-46d5-e93b-79037ce33ff6"
      },
      "source": [
        "model = Sequential()\n",
        "model.add(Dense(4, activation='relu', input_shape=[X_train.shape[1]]))\n",
        "model.add(Dense(8, activation='relu'))\n",
        "model.add(Dense(10, activation = 'softmax'))\n",
        "model.compile(optimizer = 'rmsprop', \n",
        "              loss = 'mse', \n",
        "              metrics = ['mae'])\n",
        "\n",
        "history = model.fit(X_train, Y_train, \n",
        "                    verbose = 1, \n",
        "                    validation_data = (X_test, Y_test),\n",
        "                    shuffle = True,\n",
        "                    epochs = 20) \n",
        "# Plot training & validation accuracy values\n",
        "plt.plot(history.history['mae'], 'k-')\n",
        "plt.plot(history.history['val_mae'], 'b.')\n",
        "plt.title('Model accuracy')\n",
        "plt.ylabel('MAE')\n",
        "plt.xlabel('Epoch')\n",
        "plt.legend(['Train', 'Test'])#, loc='upper left')\n",
        "plt.show()\n",
        "\n",
        "v1 = round(history.history['mae'][0], 4)\n",
        "v2 = round(history.history['mae'][-1], 4)\n",
        "v3 = round(history.history['val_mae'][0], 4)\n",
        "v4 = round(history.history['val_mae'][-1], 4)\n",
        "print(\"Train - Error in prediction went down from {} to {}\".format(v1, v2))\n",
        "print(\"Test  - Error in prediction went down from {} to {}\".format(v3, v4), \"\\n\")\n",
        "\n",
        "\n",
        "\n",
        "# Plot training & validation loss values\n",
        "plt.plot(history.history['loss'], 'k-')\n",
        "plt.plot(history.history['val_loss'], 'b.')\n",
        "plt.title('Model loss')\n",
        "plt.ylabel('Loss')\n",
        "plt.xlabel('Epoch')\n",
        "plt.legend(['Train', 'Test'])\n",
        "plt.show()\n",
        "\n",
        "# Model evaluation\n",
        "model.evaluate(X_test, Y_test)"
      ],
      "execution_count": 0,
      "outputs": [
        {
          "output_type": "stream",
          "text": [
            "Train on 60000 samples, validate on 10000 samples\n",
            "Epoch 1/20\n",
            "60000/60000 [==============================] - 3s 55us/step - loss: 0.0497 - mae: 0.1069 - val_loss: 0.0292 - val_mae: 0.0650\n",
            "Epoch 2/20\n",
            "60000/60000 [==============================] - 3s 58us/step - loss: 0.0267 - mae: 0.0563 - val_loss: 0.0240 - val_mae: 0.0488\n",
            "Epoch 3/20\n",
            "60000/60000 [==============================] - 3s 50us/step - loss: 0.0239 - mae: 0.0482 - val_loss: 0.0229 - val_mae: 0.0448\n",
            "Epoch 4/20\n",
            "60000/60000 [==============================] - 3s 50us/step - loss: 0.0227 - mae: 0.0450 - val_loss: 0.0219 - val_mae: 0.0425\n",
            "Epoch 5/20\n",
            "60000/60000 [==============================] - 3s 54us/step - loss: 0.0219 - mae: 0.0428 - val_loss: 0.0213 - val_mae: 0.0414\n",
            "Epoch 6/20\n",
            "60000/60000 [==============================] - 3s 51us/step - loss: 0.0213 - mae: 0.0414 - val_loss: 0.0209 - val_mae: 0.0403\n",
            "Epoch 7/20\n",
            "60000/60000 [==============================] - 4s 62us/step - loss: 0.0209 - mae: 0.0404 - val_loss: 0.0203 - val_mae: 0.0387\n",
            "Epoch 8/20\n",
            "60000/60000 [==============================] - 3s 54us/step - loss: 0.0206 - mae: 0.0395 - val_loss: 0.0202 - val_mae: 0.0379\n",
            "Epoch 9/20\n",
            "60000/60000 [==============================] - 3s 55us/step - loss: 0.0203 - mae: 0.0387 - val_loss: 0.0201 - val_mae: 0.0376\n",
            "Epoch 10/20\n",
            "60000/60000 [==============================] - 3s 51us/step - loss: 0.0201 - mae: 0.0380 - val_loss: 0.0202 - val_mae: 0.0375\n",
            "Epoch 11/20\n",
            "60000/60000 [==============================] - 4s 59us/step - loss: 0.0199 - mae: 0.0374 - val_loss: 0.0199 - val_mae: 0.0372\n",
            "Epoch 12/20\n",
            "60000/60000 [==============================] - 3s 54us/step - loss: 0.0198 - mae: 0.0371 - val_loss: 0.0199 - val_mae: 0.0364\n",
            "Epoch 13/20\n",
            "60000/60000 [==============================] - 3s 49us/step - loss: 0.0197 - mae: 0.0367 - val_loss: 0.0196 - val_mae: 0.0362\n",
            "Epoch 14/20\n",
            "60000/60000 [==============================] - 3s 55us/step - loss: 0.0195 - mae: 0.0363 - val_loss: 0.0196 - val_mae: 0.0355\n",
            "Epoch 15/20\n",
            "60000/60000 [==============================] - 4s 61us/step - loss: 0.0194 - mae: 0.0359 - val_loss: 0.0192 - val_mae: 0.0345\n",
            "Epoch 16/20\n",
            "60000/60000 [==============================] - 3s 53us/step - loss: 0.0193 - mae: 0.0354 - val_loss: 0.0195 - val_mae: 0.0348\n",
            "Epoch 17/20\n",
            "60000/60000 [==============================] - 4s 59us/step - loss: 0.0192 - mae: 0.0351 - val_loss: 0.0189 - val_mae: 0.0345\n",
            "Epoch 18/20\n",
            "60000/60000 [==============================] - 3s 54us/step - loss: 0.0191 - mae: 0.0348 - val_loss: 0.0192 - val_mae: 0.0347\n",
            "Epoch 19/20\n",
            "60000/60000 [==============================] - 3s 52us/step - loss: 0.0190 - mae: 0.0345 - val_loss: 0.0191 - val_mae: 0.0340\n",
            "Epoch 20/20\n",
            "60000/60000 [==============================] - 4s 59us/step - loss: 0.0189 - mae: 0.0345 - val_loss: 0.0188 - val_mae: 0.0335\n"
          ],
          "name": "stdout"
        },
        {
          "output_type": "display_data",
          "data": {
            "image/png": "[encoded data removed]",
            "text/plain": [
              "<Figure size 432x288 with 1 Axes>"
            ]
          },
          "metadata": {
            "tags": [],
            "needs_background": "light"
          }
        },
        {
          "output_type": "stream",
          "text": [
            "Train - Error in prediction went down from 0.10689999908208847 to 0.03449999913573265\n",
            "Test  - Error in prediction went down from 0.065 to 0.0335 \n",
            "\n"
          ],
          "name": "stdout"
        },
        {
          "output_type": "display_data",
          "data": {
            "image/png": "[encoded data removed]",
            "text/plain": [
              "<Figure size 432x288 with 1 Axes>"
            ]
          },
          "metadata": {
            "tags": [],
            "needs_background": "light"
          }
        },
        {
          "output_type": "stream",
          "text": [
            "10000/10000 [==============================] - 0s 21us/step\n"
          ],
          "name": "stdout"
        },
        {
          "output_type": "execute_result",
          "data": {
            "text/plain": [
              "[0.018756979874521493, 0.033547643572092056]"
            ]
          },
          "metadata": {
            "tags": []
          },
          "execution_count": 8
        }
      ]
    },
    {
      "cell_type": "markdown",
      "metadata": {
        "id": "6LKJDqLGkSI2",
        "colab_type": "text"
      },
      "source": [
        "# Model 2\n",
        "### Optimizer: Adam\n",
        "### Loss: MSE\n",
        "### Architecture: 4, 8, 10"
      ]
    },
    {
      "cell_type": "code",
      "metadata": {
        "id": "R3JjMFGjkSI2",
        "colab_type": "code",
        "colab": {},
        "outputId": "4e534ff7-6cc5-49e8-f90a-7240b066bfcd"
      },
      "source": [
        "model = Sequential() \n",
        "model.add(Dense(4, activation='relu', input_shape=[X_train.shape[1]]))\n",
        "model.add(Dense(8, activation='relu'))\n",
        "model.add(Dense(10, activation = 'softmax'))\n",
        "model.compile(optimizer = 'adam', \n",
        "              loss = 'mse', \n",
        "              metrics = ['mae'])\n",
        "\n",
        "history = model.fit(X_train, Y_train, \n",
        "                    verbose = 1, \n",
        "                    validation_data = (X_test, Y_test),\n",
        "                    shuffle = True,\n",
        "                    epochs = 20) \n",
        "# Plot training & validation accuracy values\n",
        "plt.plot(history.history['mae'], 'k-')\n",
        "plt.plot(history.history['val_mae'], 'b.')\n",
        "plt.title('Model accuracy')\n",
        "plt.ylabel('MAE')\n",
        "plt.xlabel('Epoch')\n",
        "plt.legend(['Train', 'Test'])#, loc='upper left')\n",
        "plt.show()\n",
        "\n",
        "v1 = round(history.history['mae'][0], 4)\n",
        "v2 = round(history.history['mae'][-1], 4)\n",
        "v3 = round(history.history['val_mae'][0], 4)\n",
        "v4 = round(history.history['val_mae'][-1], 4)\n",
        "print(\"Train - Error in prediction went down from {} to {}\".format(v1, v2))\n",
        "print(\"Test  - Error in prediction went down from {} to {}\".format(v3, v4), \"\\n\")\n",
        "\n",
        "\n",
        "\n",
        "# Plot training & validation loss values\n",
        "plt.plot(history.history['loss'], 'k-')\n",
        "plt.plot(history.history['val_loss'], 'b.')\n",
        "plt.title('Model loss')\n",
        "plt.ylabel('Loss')\n",
        "plt.xlabel('Epoch')\n",
        "plt.legend(['Train', 'Test'])\n",
        "plt.show()\n",
        "\n",
        "# Model evaluation\n",
        "model.evaluate(X_test, Y_test)"
      ],
      "execution_count": 0,
      "outputs": [
        {
          "output_type": "stream",
          "text": [
            "Train on 60000 samples, validate on 10000 samples\n",
            "Epoch 1/20\n",
            "60000/60000 [==============================] - 4s 61us/step - loss: 0.0457 - mae: 0.0997 - val_loss: 0.0279 - val_mae: 0.0616\n",
            "Epoch 2/20\n",
            "60000/60000 [==============================] - 4s 63us/step - loss: 0.0261 - mae: 0.0558 - val_loss: 0.0245 - val_mae: 0.0510\n",
            "Epoch 3/20\n",
            "60000/60000 [==============================] - 5s 80us/step - loss: 0.0237 - mae: 0.0484 - val_loss: 0.0229 - val_mae: 0.0460\n",
            "Epoch 4/20\n",
            "60000/60000 [==============================] - 4s 58us/step - loss: 0.0224 - mae: 0.0446 - val_loss: 0.0219 - val_mae: 0.0433\n",
            "Epoch 5/20\n",
            "60000/60000 [==============================] - 3s 56us/step - loss: 0.0214 - mae: 0.0422 - val_loss: 0.0216 - val_mae: 0.0420\n",
            "Epoch 6/20\n",
            "60000/60000 [==============================] - 4s 59us/step - loss: 0.0208 - mae: 0.0407 - val_loss: 0.0207 - val_mae: 0.0392\n",
            "Epoch 7/20\n",
            "60000/60000 [==============================] - 3s 54us/step - loss: 0.0202 - mae: 0.0395 - val_loss: 0.0216 - val_mae: 0.0401\n",
            "Epoch 8/20\n",
            "60000/60000 [==============================] - 3s 53us/step - loss: 0.0198 - mae: 0.0386 - val_loss: 0.0202 - val_mae: 0.0391\n",
            "Epoch 9/20\n",
            "60000/60000 [==============================] - 4s 65us/step - loss: 0.0194 - mae: 0.0378 - val_loss: 0.0199 - val_mae: 0.0372\n",
            "Epoch 10/20\n",
            "60000/60000 [==============================] - 3s 51us/step - loss: 0.0191 - mae: 0.0371 - val_loss: 0.0196 - val_mae: 0.0370\n",
            "Epoch 11/20\n",
            "60000/60000 [==============================] - 3s 50us/step - loss: 0.0188 - mae: 0.0364 - val_loss: 0.0192 - val_mae: 0.0365\n",
            "Epoch 12/20\n",
            "60000/60000 [==============================] - 3s 51us/step - loss: 0.0186 - mae: 0.0360 - val_loss: 0.0189 - val_mae: 0.0359\n",
            "Epoch 13/20\n",
            "60000/60000 [==============================] - 4s 63us/step - loss: 0.0184 - mae: 0.0354 - val_loss: 0.0189 - val_mae: 0.0358\n",
            "Epoch 14/20\n",
            "60000/60000 [==============================] - 4s 58us/step - loss: 0.0182 - mae: 0.0351 - val_loss: 0.0196 - val_mae: 0.0362\n",
            "Epoch 15/20\n",
            "60000/60000 [==============================] - 3s 54us/step - loss: 0.0181 - mae: 0.0348 - val_loss: 0.0189 - val_mae: 0.0353\n",
            "Epoch 16/20\n",
            "60000/60000 [==============================] - 3s 53us/step - loss: 0.0179 - mae: 0.0343 - val_loss: 0.0187 - val_mae: 0.0346\n",
            "Epoch 17/20\n",
            "60000/60000 [==============================] - 3s 53us/step - loss: 0.0178 - mae: 0.0342 - val_loss: 0.0187 - val_mae: 0.0347\n",
            "Epoch 18/20\n",
            "60000/60000 [==============================] - 4s 59us/step - loss: 0.0178 - mae: 0.0341 - val_loss: 0.0186 - val_mae: 0.0345\n",
            "Epoch 19/20\n",
            "60000/60000 [==============================] - 3s 54us/step - loss: 0.0176 - mae: 0.0337 - val_loss: 0.0192 - val_mae: 0.0349\n",
            "Epoch 20/20\n",
            "60000/60000 [==============================] - 3s 55us/step - loss: 0.0175 - mae: 0.0334 - val_loss: 0.0188 - val_mae: 0.0341\n"
          ],
          "name": "stdout"
        },
        {
          "output_type": "display_data",
          "data": {
            "image/png": "[encoded data removed]",
            "text/plain": [
              "<Figure size 432x288 with 1 Axes>"
            ]
          },
          "metadata": {
            "tags": [],
            "needs_background": "light"
          }
        },
        {
          "output_type": "stream",
          "text": [
            "Train - Error in prediction went down from 0.09969999641180038 to 0.033399999141693115\n",
            "Test  - Error in prediction went down from 0.0616 to 0.0341 \n",
            "\n"
          ],
          "name": "stdout"
        },
        {
          "output_type": "display_data",
          "data": {
            "image/png": "[encoded data removed]",
            "text/plain": [
              "<Figure size 432x288 with 1 Axes>"
            ]
          },
          "metadata": {
            "tags": [],
            "needs_background": "light"
          }
        },
        {
          "output_type": "stream",
          "text": [
            "10000/10000 [==============================] - 0s 20us/step\n"
          ],
          "name": "stdout"
        },
        {
          "output_type": "execute_result",
          "data": {
            "text/plain": [
              "[0.018763381543848663, 0.03413324058055878]"
            ]
          },
          "metadata": {
            "tags": []
          },
          "execution_count": 9
        }
      ]
    },
    {
      "cell_type": "markdown",
      "metadata": {
        "id": "wWjyXR2PkSI5",
        "colab_type": "text"
      },
      "source": [
        "# Model 3\n",
        "### Optimizer: RMSProp\n",
        "### Loss: MAE\n",
        "### Metric: MAE"
      ]
    },
    {
      "cell_type": "code",
      "metadata": {
        "id": "oZS994oMkSI5",
        "colab_type": "code",
        "colab": {},
        "outputId": "2736c31c-6c1a-4f64-9454-1838871d517a"
      },
      "source": [
        "model = Sequential()\n",
        "model.add(Dense(4, activation='relu', input_shape=[X_train.shape[1]]))\n",
        "model.add(Dense(8, activation='relu'))\n",
        "model.add(Dense(10, activation = 'softmax'))\n",
        "model.compile(optimizer = 'rmsprop', \n",
        "              loss = 'mae', \n",
        "              metrics = ['mae'])\n",
        "\n",
        "history = model.fit(X_train, Y_train, \n",
        "                    verbose = 1, \n",
        "                    validation_data = (X_test, Y_test),\n",
        "                    shuffle = True,\n",
        "                    epochs = 20) \n",
        "# Plot training & validation accuracy values\n",
        "plt.plot(history.history['mae'], 'k-')\n",
        "plt.plot(history.history['val_mae'], 'b.')\n",
        "plt.title('Model accuracy')\n",
        "plt.ylabel('MAE')\n",
        "plt.xlabel('Epoch')\n",
        "plt.legend(['Train', 'Test'])#, loc='upper left')\n",
        "plt.show()\n",
        "\n",
        "v1 = round(history.history['mae'][0], 4)\n",
        "v2 = round(history.history['mae'][-1], 4)\n",
        "v3 = round(history.history['val_mae'][0], 4)\n",
        "v4 = round(history.history['val_mae'][-1], 4)\n",
        "print(\"Train - Error in prediction went down from {} to {}\".format(v1, v2))\n",
        "print(\"Test  - Error in prediction went down from {} to {}\".format(v3, v4), \"\\n\")\n",
        "\n",
        "\n",
        "\n",
        "# Plot training & validation loss values\n",
        "plt.plot(history.history['loss'], 'k-')\n",
        "plt.plot(history.history['val_loss'], 'b.')\n",
        "plt.title('Model loss')\n",
        "plt.ylabel('Loss')\n",
        "plt.xlabel('Epoch')\n",
        "plt.legend(['Train', 'Test'])\n",
        "plt.show()\n",
        "\n",
        "# Model evaluation\n",
        "model.evaluate(X_test, Y_test)"
      ],
      "execution_count": 0,
      "outputs": [
        {
          "output_type": "stream",
          "text": [
            "Train on 60000 samples, validate on 10000 samples\n",
            "Epoch 1/20\n",
            "60000/60000 [==============================] - 4s 59us/step - loss: 0.1019 - mae: 0.1019 - val_loss: 0.0748 - val_mae: 0.0748\n",
            "Epoch 2/20\n",
            "60000/60000 [==============================] - 3s 54us/step - loss: 0.0698 - mae: 0.0698 - val_loss: 0.0669 - val_mae: 0.0669\n",
            "Epoch 3/20\n",
            "60000/60000 [==============================] - 3s 54us/step - loss: 0.0639 - mae: 0.0639 - val_loss: 0.0608 - val_mae: 0.0608\n",
            "Epoch 4/20\n",
            "60000/60000 [==============================] - 3s 53us/step - loss: 0.0598 - mae: 0.0598 - val_loss: 0.0577 - val_mae: 0.0577\n",
            "Epoch 5/20\n",
            "60000/60000 [==============================] - 4s 70us/step - loss: 0.0573 - mae: 0.0573 - val_loss: 0.0563 - val_mae: 0.0563\n",
            "Epoch 6/20\n",
            "60000/60000 [==============================] - 4s 66us/step - loss: 0.0557 - mae: 0.0557 - val_loss: 0.0551 - val_mae: 0.0551\n",
            "Epoch 7/20\n",
            "60000/60000 [==============================] - 4s 64us/step - loss: 0.0545 - mae: 0.0545 - val_loss: 0.0538 - val_mae: 0.0538\n",
            "Epoch 8/20\n",
            "60000/60000 [==============================] - 5s 89us/step - loss: 0.0538 - mae: 0.0538 - val_loss: 0.0530 - val_mae: 0.0530\n",
            "Epoch 9/20\n",
            "60000/60000 [==============================] - 6s 95us/step - loss: 0.0533 - mae: 0.0533 - val_loss: 0.0529 - val_mae: 0.0529\n",
            "Epoch 10/20\n",
            "60000/60000 [==============================] - 5s 91us/step - loss: 0.0529 - mae: 0.0529 - val_loss: 0.0528 - val_mae: 0.0528\n",
            "Epoch 11/20\n",
            "60000/60000 [==============================] - 4s 68us/step - loss: 0.0525 - mae: 0.0525 - val_loss: 0.0521 - val_mae: 0.0521\n",
            "Epoch 12/20\n",
            "60000/60000 [==============================] - 5s 82us/step - loss: 0.0521 - mae: 0.0521 - val_loss: 0.0517 - val_mae: 0.0517\n",
            "Epoch 13/20\n",
            "60000/60000 [==============================] - 4s 69us/step - loss: 0.0518 - mae: 0.0518 - val_loss: 0.0521 - val_mae: 0.0521\n",
            "Epoch 14/20\n",
            "60000/60000 [==============================] - 4s 72us/step - loss: 0.0515 - mae: 0.0515 - val_loss: 0.0516 - val_mae: 0.0516\n",
            "Epoch 15/20\n",
            "60000/60000 [==============================] - 4s 61us/step - loss: 0.0514 - mae: 0.0514 - val_loss: 0.0514 - val_mae: 0.0514\n",
            "Epoch 16/20\n",
            "60000/60000 [==============================] - 4s 72us/step - loss: 0.0512 - mae: 0.0512 - val_loss: 0.0512 - val_mae: 0.0512\n",
            "Epoch 17/20\n",
            "60000/60000 [==============================] - 4s 71us/step - loss: 0.0510 - mae: 0.0510 - val_loss: 0.0508 - val_mae: 0.0508\n",
            "Epoch 18/20\n",
            "60000/60000 [==============================] - 3s 56us/step - loss: 0.0508 - mae: 0.0508 - val_loss: 0.0508 - val_mae: 0.0508\n",
            "Epoch 19/20\n",
            "60000/60000 [==============================] - 4s 59us/step - loss: 0.0507 - mae: 0.0507 - val_loss: 0.0514 - val_mae: 0.0514\n",
            "Epoch 20/20\n",
            "60000/60000 [==============================] - 4s 60us/step - loss: 0.0506 - mae: 0.0506 - val_loss: 0.0509 - val_mae: 0.0509\n"
          ],
          "name": "stdout"
        },
        {
          "output_type": "display_data",
          "data": {
            "image/png": "[encoded data removed]",
            "text/plain": [
              "<Figure size 432x288 with 1 Axes>"
            ]
          },
          "metadata": {
            "tags": [],
            "needs_background": "light"
          }
        },
        {
          "output_type": "stream",
          "text": [
            "Train - Error in prediction went down from 0.10189999639987946 to 0.050599999725818634\n",
            "Test  - Error in prediction went down from 0.0748 to 0.0509 \n",
            "\n"
          ],
          "name": "stdout"
        },
        {
          "output_type": "display_data",
          "data": {
            "image/png": "[encoded data removed]",
            "text/plain": [
              "<Figure size 432x288 with 1 Axes>"
            ]
          },
          "metadata": {
            "tags": [],
            "needs_background": "light"
          }
        },
        {
          "output_type": "stream",
          "text": [
            "10000/10000 [==============================] - 0s 23us/step\n"
          ],
          "name": "stdout"
        },
        {
          "output_type": "execute_result",
          "data": {
            "text/plain": [
              "[0.05088318316936493, 0.05088319256901741]"
            ]
          },
          "metadata": {
            "tags": []
          },
          "execution_count": 11
        }
      ]
    },
    {
      "cell_type": "markdown",
      "metadata": {
        "id": "LGwLDqg4kSI8",
        "colab_type": "text"
      },
      "source": [
        "# Model 4\n",
        "### Optimizer: Adam\n",
        "### Loss: MAE\n",
        "### Architecture: 4, 8, 10"
      ]
    },
    {
      "cell_type": "code",
      "metadata": {
        "id": "8NctOihekSI9",
        "colab_type": "code",
        "colab": {},
        "outputId": "d6777f2b-66b5-47d0-f961-7227f57ca903"
      },
      "source": [
        "model = Sequential()  \n",
        "model.add(Dense(4, activation='relu', input_shape=[X_train.shape[1]]))\n",
        "model.add(Dense(8, activation='relu'))\n",
        "model.add(Dense(10, activation = 'softmax'))\n",
        "model.compile(optimizer = 'adam', \n",
        "              loss = 'mae', \n",
        "              metrics = ['mae'])\n",
        "\n",
        "history = model.fit(X_train, Y_train, \n",
        "                    verbose = 1, \n",
        "                    validation_data = (X_test, Y_test),\n",
        "                    shuffle = True,\n",
        "                    epochs = 20) \n",
        "# Plot training & validation accuracy values\n",
        "plt.plot(history.history['mae'], 'k-')\n",
        "plt.plot(history.history['val_mae'], 'b.')\n",
        "plt.title('Model accuracy')\n",
        "plt.ylabel('MAE')\n",
        "plt.xlabel('Epoch')\n",
        "plt.legend(['Train', 'Test'])#, loc='upper left')\n",
        "plt.show()\n",
        "\n",
        "v1 = round(history.history['mae'][0], 4)\n",
        "v2 = round(history.history['mae'][-1], 4)\n",
        "v3 = round(history.history['val_mae'][0], 4)\n",
        "v4 = round(history.history['val_mae'][-1], 4)\n",
        "print(\"Train - Error in prediction went down from {} to {}\".format(v1, v2))\n",
        "print(\"Test  - Error in prediction went down from {} to {}\".format(v3, v4), \"\\n\")\n",
        "\n",
        "\n",
        "\n",
        "# Plot training & validation loss values\n",
        "plt.plot(history.history['loss'], 'k-')\n",
        "plt.plot(history.history['val_loss'], 'b.')\n",
        "plt.title('Model loss')\n",
        "plt.ylabel('Loss')\n",
        "plt.xlabel('Epoch')\n",
        "plt.legend(['Train', 'Test'])\n",
        "plt.show()\n",
        "\n",
        "# Model evaluation\n",
        "model.evaluate(X_test, Y_test)"
      ],
      "execution_count": 0,
      "outputs": [
        {
          "output_type": "stream",
          "text": [
            "Train on 60000 samples, validate on 10000 samples\n",
            "Epoch 1/20\n",
            "60000/60000 [==============================] - 4s 69us/step - loss: 0.1028 - mae: 0.1028 - val_loss: 0.0885 - val_mae: 0.0885\n",
            "Epoch 2/20\n",
            "60000/60000 [==============================] - 4s 62us/step - loss: 0.0888 - mae: 0.0888 - val_loss: 0.0870 - val_mae: 0.0870\n",
            "Epoch 3/20\n",
            "60000/60000 [==============================] - 4s 62us/step - loss: 0.0873 - mae: 0.0873 - val_loss: 0.0856 - val_mae: 0.0856\n",
            "Epoch 4/20\n",
            "60000/60000 [==============================] - 3s 55us/step - loss: 0.0865 - mae: 0.0865 - val_loss: 0.0856 - val_mae: 0.0856\n",
            "Epoch 5/20\n",
            "60000/60000 [==============================] - 3s 58us/step - loss: 0.0861 - mae: 0.0861 - val_loss: 0.0851 - val_mae: 0.0851\n",
            "Epoch 6/20\n",
            "60000/60000 [==============================] - 4s 62us/step - loss: 0.0856 - mae: 0.0856 - val_loss: 0.0850 - val_mae: 0.0850\n",
            "Epoch 7/20\n",
            "60000/60000 [==============================] - 4s 58us/step - loss: 0.0854 - mae: 0.0854 - val_loss: 0.0845 - val_mae: 0.0845\n",
            "Epoch 8/20\n",
            "60000/60000 [==============================] - 4s 63us/step - loss: 0.0852 - mae: 0.0852 - val_loss: 0.0845 - val_mae: 0.0845\n",
            "Epoch 9/20\n",
            "60000/60000 [==============================] - 4s 61us/step - loss: 0.0850 - mae: 0.0850 - val_loss: 0.0845 - val_mae: 0.0845\n",
            "Epoch 10/20\n",
            "60000/60000 [==============================] - 3s 52us/step - loss: 0.0848 - mae: 0.0848 - val_loss: 0.0845 - val_mae: 0.0845\n",
            "Epoch 11/20\n",
            "60000/60000 [==============================] - 4s 60us/step - loss: 0.0846 - mae: 0.0846 - val_loss: 0.0843 - val_mae: 0.0843\n",
            "Epoch 12/20\n",
            "60000/60000 [==============================] - 5s 80us/step - loss: 0.0845 - mae: 0.0845 - val_loss: 0.0842 - val_mae: 0.0842\n",
            "Epoch 13/20\n",
            "60000/60000 [==============================] - 4s 61us/step - loss: 0.0844 - mae: 0.0844 - val_loss: 0.0842 - val_mae: 0.0842\n",
            "Epoch 14/20\n",
            "60000/60000 [==============================] - 4s 73us/step - loss: 0.0843 - mae: 0.0843 - val_loss: 0.0839 - val_mae: 0.0839\n",
            "Epoch 15/20\n",
            "60000/60000 [==============================] - 4s 65us/step - loss: 0.0841 - mae: 0.0841 - val_loss: 0.0839 - val_mae: 0.0839\n",
            "Epoch 16/20\n",
            "60000/60000 [==============================] - 4s 66us/step - loss: 0.0840 - mae: 0.0840 - val_loss: 0.0840 - val_mae: 0.0840\n",
            "Epoch 17/20\n",
            "60000/60000 [==============================] - 4s 64us/step - loss: 0.0840 - mae: 0.0840 - val_loss: 0.0838 - val_mae: 0.0838\n",
            "Epoch 18/20\n",
            "60000/60000 [==============================] - 4s 67us/step - loss: 0.0839 - mae: 0.0839 - val_loss: 0.0838 - val_mae: 0.0838\n",
            "Epoch 19/20\n",
            "60000/60000 [==============================] - 4s 67us/step - loss: 0.0838 - mae: 0.0838 - val_loss: 0.0841 - val_mae: 0.0841\n",
            "Epoch 20/20\n",
            "60000/60000 [==============================] - 4s 63us/step - loss: 0.0838 - mae: 0.0838 - val_loss: 0.0839 - val_mae: 0.0839\n"
          ],
          "name": "stdout"
        },
        {
          "output_type": "display_data",
          "data": {
            "image/png": "[encoded data removed]",
            "text/plain": [
              "<Figure size 432x288 with 1 Axes>"
            ]
          },
          "metadata": {
            "tags": [],
            "needs_background": "light"
          }
        },
        {
          "output_type": "stream",
          "text": [
            "Train - Error in prediction went down from 0.10279999673366547 to 0.08380000293254852\n",
            "Test  - Error in prediction went down from 0.0885 to 0.0839 \n",
            "\n"
          ],
          "name": "stdout"
        },
        {
          "output_type": "display_data",
          "data": {
            "image/png": "[encoded data removed]",
            "text/plain": [
              "<Figure size 432x288 with 1 Axes>"
            ]
          },
          "metadata": {
            "tags": [],
            "needs_background": "light"
          }
        },
        {
          "output_type": "stream",
          "text": [
            "10000/10000 [==============================] - 0s 24us/step\n"
          ],
          "name": "stdout"
        },
        {
          "output_type": "execute_result",
          "data": {
            "text/plain": [
              "[0.08387244645357132, 0.0838724672794342]"
            ]
          },
          "metadata": {
            "tags": []
          },
          "execution_count": 10
        }
      ]
    },
    {
      "cell_type": "markdown",
      "metadata": {
        "id": "KZiNoFhwkSJE",
        "colab_type": "text"
      },
      "source": [
        "# Model 5\n",
        "### Optimizer: RMSProp\n",
        "### Loss: MSE\n",
        "### Layers: 4, 8, 8, 10"
      ]
    },
    {
      "cell_type": "code",
      "metadata": {
        "id": "QTvjV4SBkSJE",
        "colab_type": "code",
        "colab": {},
        "outputId": "590d8bb6-6cd0-4e62-ce56-5dd4487ef57e"
      },
      "source": [
        "model = Sequential()\n",
        "model.add(Dense(4, activation='relu', input_shape=[X_train.shape[1]]))\n",
        "model.add(Dense(8, activation='relu'))\n",
        "model.add(Dense(8, activation='relu'))\n",
        "model.add(Dense(10, activation = 'softmax'))\n",
        "model.compile(optimizer = 'rmsprop', \n",
        "              loss = 'mse', \n",
        "              metrics = ['mae'])\n",
        "\n",
        "history = model.fit(X_train, Y_train, \n",
        "                    verbose = 1, \n",
        "                    validation_data = (X_test, Y_test),\n",
        "                    shuffle = True,\n",
        "                    epochs = 20) \n",
        "# Plot training & validation accuracy values\n",
        "plt.plot(history.history['mae'], 'k-')\n",
        "plt.plot(history.history['val_mae'], 'b.')\n",
        "plt.title('Model accuracy')\n",
        "plt.ylabel('MAE')\n",
        "plt.xlabel('Epoch')\n",
        "plt.legend(['Train', 'Test'])#, loc='upper left')\n",
        "plt.show()\n",
        "\n",
        "v1 = round(history.history['mae'][0], 4)\n",
        "v2 = round(history.history['mae'][-1], 4)\n",
        "v3 = round(history.history['val_mae'][0], 4)\n",
        "v4 = round(history.history['val_mae'][-1], 4)\n",
        "print(\"Train - Error in prediction went down from {} to {}\".format(v1, v2))\n",
        "print(\"Test  - Error in prediction went down from {} to {}\".format(v3, v4), \"\\n\")\n",
        "\n",
        "\n",
        "\n",
        "# Plot training & validation loss values\n",
        "plt.plot(history.history['loss'], 'k-')\n",
        "plt.plot(history.history['val_loss'], 'b.')\n",
        "plt.title('Model loss')\n",
        "plt.ylabel('Loss')\n",
        "plt.xlabel('Epoch')\n",
        "plt.legend(['Train', 'Test'])\n",
        "plt.show()\n",
        "\n",
        "# Model evaluation\n",
        "model.evaluate(X_test, Y_test)"
      ],
      "execution_count": 0,
      "outputs": [
        {
          "output_type": "stream",
          "text": [
            "Train on 60000 samples, validate on 10000 samples\n",
            "Epoch 1/20\n",
            "60000/60000 [==============================] - 4s 65us/step - loss: 0.0499 - mae: 0.1061 - val_loss: 0.0321 - val_mae: 0.0668\n",
            "Epoch 2/20\n",
            "60000/60000 [==============================] - 3s 57us/step - loss: 0.0267 - mae: 0.0558 - val_loss: 0.0235 - val_mae: 0.0480\n",
            "Epoch 3/20\n",
            "60000/60000 [==============================] - 3s 53us/step - loss: 0.0233 - mae: 0.0465 - val_loss: 0.0219 - val_mae: 0.0425\n",
            "Epoch 4/20\n",
            "60000/60000 [==============================] - 3s 53us/step - loss: 0.0219 - mae: 0.0432 - val_loss: 0.0212 - val_mae: 0.0414\n",
            "Epoch 5/20\n",
            "60000/60000 [==============================] - 3s 57us/step - loss: 0.0210 - mae: 0.0410 - val_loss: 0.0204 - val_mae: 0.0394\n",
            "Epoch 6/20\n",
            "60000/60000 [==============================] - 3s 52us/step - loss: 0.0203 - mae: 0.0392 - val_loss: 0.0199 - val_mae: 0.0382\n",
            "Epoch 7/20\n",
            "60000/60000 [==============================] - 3s 51us/step - loss: 0.0198 - mae: 0.0382 - val_loss: 0.0198 - val_mae: 0.0375\n",
            "Epoch 8/20\n",
            "60000/60000 [==============================] - 3s 52us/step - loss: 0.0194 - mae: 0.0372 - val_loss: 0.0197 - val_mae: 0.0372\n",
            "Epoch 9/20\n",
            "60000/60000 [==============================] - 3s 56us/step - loss: 0.0190 - mae: 0.0364 - val_loss: 0.0190 - val_mae: 0.0356\n",
            "Epoch 10/20\n",
            "60000/60000 [==============================] - 3s 57us/step - loss: 0.0187 - mae: 0.0356 - val_loss: 0.0187 - val_mae: 0.0349\n",
            "Epoch 11/20\n",
            "60000/60000 [==============================] - 4s 59us/step - loss: 0.0185 - mae: 0.0350 - val_loss: 0.0190 - val_mae: 0.0362\n",
            "Epoch 12/20\n",
            "60000/60000 [==============================] - 4s 62us/step - loss: 0.0183 - mae: 0.0346 - val_loss: 0.0197 - val_mae: 0.0370\n",
            "Epoch 13/20\n",
            "60000/60000 [==============================] - 4s 62us/step - loss: 0.0181 - mae: 0.0341 - val_loss: 0.0187 - val_mae: 0.0344\n",
            "Epoch 14/20\n",
            "60000/60000 [==============================] - 4s 59us/step - loss: 0.0180 - mae: 0.0336 - val_loss: 0.0185 - val_mae: 0.0335\n",
            "Epoch 15/20\n",
            "60000/60000 [==============================] - 5s 81us/step - loss: 0.0179 - mae: 0.0334 - val_loss: 0.0184 - val_mae: 0.0335\n",
            "Epoch 16/20\n",
            "60000/60000 [==============================] - 4s 63us/step - loss: 0.0178 - mae: 0.0331 - val_loss: 0.0181 - val_mae: 0.0340\n",
            "Epoch 17/20\n",
            "60000/60000 [==============================] - 5s 75us/step - loss: 0.0176 - mae: 0.0329 - val_loss: 0.0178 - val_mae: 0.0325\n",
            "Epoch 18/20\n",
            "60000/60000 [==============================] - 4s 59us/step - loss: 0.0176 - mae: 0.0328 - val_loss: 0.0178 - val_mae: 0.0325\n",
            "Epoch 19/20\n",
            "60000/60000 [==============================] - 3s 53us/step - loss: 0.0174 - mae: 0.0323 - val_loss: 0.0180 - val_mae: 0.0324\n",
            "Epoch 20/20\n",
            "60000/60000 [==============================] - 4s 58us/step - loss: 0.0174 - mae: 0.0321 - val_loss: 0.0179 - val_mae: 0.0322\n"
          ],
          "name": "stdout"
        },
        {
          "output_type": "display_data",
          "data": {
            "image/png": "[encoded data removed]",
            "text/plain": [
              "<Figure size 432x288 with 1 Axes>"
            ]
          },
          "metadata": {
            "tags": [],
            "needs_background": "light"
          }
        },
        {
          "output_type": "stream",
          "text": [
            "Train - Error in prediction went down from 0.10610000044107437 to 0.032099999487400055\n",
            "Test  - Error in prediction went down from 0.0668 to 0.0322 \n",
            "\n"
          ],
          "name": "stdout"
        },
        {
          "output_type": "display_data",
          "data": {
            "image/png": "[encoded data removed]",
            "text/plain": [
              "<Figure size 432x288 with 1 Axes>"
            ]
          },
          "metadata": {
            "tags": [],
            "needs_background": "light"
          }
        },
        {
          "output_type": "stream",
          "text": [
            "10000/10000 [==============================] - 0s 21us/step\n"
          ],
          "name": "stdout"
        },
        {
          "output_type": "execute_result",
          "data": {
            "text/plain": [
              "[0.01785473294274416, 0.03222126141190529]"
            ]
          },
          "metadata": {
            "tags": []
          },
          "execution_count": 12
        }
      ]
    },
    {
      "cell_type": "markdown",
      "metadata": {
        "id": "TGxJbAzQkSJH",
        "colab_type": "text"
      },
      "source": [
        "# Model 6\n",
        "### Optimizer: RMSProp\n",
        "### Loss: MSE\n",
        "### Layers: 4, 8, 8, 8, 10"
      ]
    },
    {
      "cell_type": "code",
      "metadata": {
        "id": "NEwMuaamkSJI",
        "colab_type": "code",
        "colab": {},
        "outputId": "6a655057-f360-40ee-b7ca-60396cd810ef"
      },
      "source": [
        "model = Sequential()\n",
        "model.add(Dense(4, activation='relu', input_shape=[X_train.shape[1]]))\n",
        "model.add(Dense(8, activation='relu'))\n",
        "model.add(Dense(8, activation='relu'))\n",
        "model.add(Dense(8, activation='relu'))\n",
        "model.add(Dense(10, activation = 'softmax'))\n",
        "model.compile(optimizer = 'rmsprop', \n",
        "              loss = 'mse', \n",
        "              metrics = ['mae'])\n",
        "\n",
        "history = model.fit(X_train, Y_train, \n",
        "                    verbose = 1, \n",
        "                    validation_data = (X_test, Y_test),\n",
        "                    shuffle = True,\n",
        "                    epochs = 20) \n",
        "# Plot training & validation accuracy values\n",
        "plt.plot(history.history['mae'], 'k-')\n",
        "plt.plot(history.history['val_mae'], 'b.')\n",
        "plt.title('Model accuracy')\n",
        "plt.ylabel('MAE')\n",
        "plt.xlabel('Epoch')\n",
        "plt.legend(['Train', 'Test'])#, loc='upper left')\n",
        "plt.show()\n",
        "\n",
        "v1 = round(history.history['mae'][0], 4)\n",
        "v2 = round(history.history['mae'][-1], 4)\n",
        "v3 = round(history.history['val_mae'][0], 4)\n",
        "v4 = round(history.history['val_mae'][-1], 4)\n",
        "print(\"Train - Error in prediction went down from {} to {}\".format(v1, v2))\n",
        "print(\"Test  - Error in prediction went down from {} to {}\".format(v3, v4), \"\\n\")\n",
        "\n",
        "\n",
        "\n",
        "# Plot training & validation loss values\n",
        "plt.plot(history.history['loss'], 'k-')\n",
        "plt.plot(history.history['val_loss'], 'b.')\n",
        "plt.title('Model loss')\n",
        "plt.ylabel('Loss')\n",
        "plt.xlabel('Epoch')\n",
        "plt.legend(['Train', 'Test'])\n",
        "plt.show()\n",
        "\n",
        "# Model evaluation\n",
        "model.evaluate(X_test, Y_test)"
      ],
      "execution_count": 0,
      "outputs": [
        {
          "output_type": "stream",
          "text": [
            "Train on 60000 samples, validate on 10000 samples\n",
            "Epoch 1/20\n",
            "60000/60000 [==============================] - 4s 65us/step - loss: 0.0551 - mae: 0.1159 - val_loss: 0.0368 - val_mae: 0.0771\n",
            "Epoch 2/20\n",
            "60000/60000 [==============================] - 3s 55us/step - loss: 0.0316 - mae: 0.0650 - val_loss: 0.0272 - val_mae: 0.0547\n",
            "Epoch 3/20\n",
            "60000/60000 [==============================] - 4s 61us/step - loss: 0.0266 - mae: 0.0523 - val_loss: 0.0247 - val_mae: 0.0483\n",
            "Epoch 4/20\n",
            "60000/60000 [==============================] - 4s 72us/step - loss: 0.0249 - mae: 0.0481 - val_loss: 0.0246 - val_mae: 0.0460\n",
            "Epoch 5/20\n",
            "60000/60000 [==============================] - 4s 69us/step - loss: 0.0239 - mae: 0.0462 - val_loss: 0.0235 - val_mae: 0.0458\n",
            "Epoch 6/20\n",
            "60000/60000 [==============================] - 6s 93us/step - loss: 0.0233 - mae: 0.0454 - val_loss: 0.0232 - val_mae: 0.0443\n",
            "Epoch 7/20\n",
            "60000/60000 [==============================] - 5s 81us/step - loss: 0.0229 - mae: 0.0445 - val_loss: 0.0231 - val_mae: 0.0441\n",
            "Epoch 8/20\n",
            "60000/60000 [==============================] - 4s 66us/step - loss: 0.0225 - mae: 0.0439 - val_loss: 0.0230 - val_mae: 0.0452\n",
            "Epoch 9/20\n",
            "60000/60000 [==============================] - 4s 68us/step - loss: 0.0222 - mae: 0.0430 - val_loss: 0.0223 - val_mae: 0.0431\n",
            "Epoch 10/20\n",
            "60000/60000 [==============================] - 4s 68us/step - loss: 0.0220 - mae: 0.0425 - val_loss: 0.0222 - val_mae: 0.0414\n",
            "Epoch 11/20\n",
            "60000/60000 [==============================] - 4s 59us/step - loss: 0.0217 - mae: 0.0418 - val_loss: 0.0221 - val_mae: 0.0418\n",
            "Epoch 12/20\n",
            "60000/60000 [==============================] - 4s 63us/step - loss: 0.0215 - mae: 0.0417 - val_loss: 0.0230 - val_mae: 0.0434\n",
            "Epoch 13/20\n",
            "60000/60000 [==============================] - 4s 58us/step - loss: 0.0214 - mae: 0.0412 - val_loss: 0.0216 - val_mae: 0.0410\n",
            "Epoch 14/20\n",
            "60000/60000 [==============================] - 4s 59us/step - loss: 0.0213 - mae: 0.0410 - val_loss: 0.0222 - val_mae: 0.0423\n",
            "Epoch 15/20\n",
            "60000/60000 [==============================] - 3s 58us/step - loss: 0.0211 - mae: 0.0407 - val_loss: 0.0222 - val_mae: 0.0412\n",
            "Epoch 16/20\n",
            "60000/60000 [==============================] - 3s 58us/step - loss: 0.0210 - mae: 0.0402 - val_loss: 0.0218 - val_mae: 0.0421\n",
            "Epoch 17/20\n",
            "60000/60000 [==============================] - 4s 60us/step - loss: 0.0208 - mae: 0.0404 - val_loss: 0.0213 - val_mae: 0.0404\n",
            "Epoch 18/20\n",
            "60000/60000 [==============================] - 4s 59us/step - loss: 0.0207 - mae: 0.0399 - val_loss: 0.0213 - val_mae: 0.0400\n",
            "Epoch 19/20\n",
            "60000/60000 [==============================] - 4s 60us/step - loss: 0.0206 - mae: 0.0397 - val_loss: 0.0216 - val_mae: 0.0393\n",
            "Epoch 20/20\n",
            "60000/60000 [==============================] - 4s 60us/step - loss: 0.0205 - mae: 0.0393 - val_loss: 0.0209 - val_mae: 0.0406\n"
          ],
          "name": "stdout"
        },
        {
          "output_type": "display_data",
          "data": {
            "image/png": "[encoded data removed]",
            "text/plain": [
              "<Figure size 432x288 with 1 Axes>"
            ]
          },
          "metadata": {
            "tags": [],
            "needs_background": "light"
          }
        },
        {
          "output_type": "stream",
          "text": [
            "Train - Error in prediction went down from 0.11590000241994858 to 0.03929999843239784\n",
            "Test  - Error in prediction went down from 0.0771 to 0.0406 \n",
            "\n"
          ],
          "name": "stdout"
        },
        {
          "output_type": "display_data",
          "data": {
            "image/png": "[encoded data removed]",
            "text/plain": [
              "<Figure size 432x288 with 1 Axes>"
            ]
          },
          "metadata": {
            "tags": [],
            "needs_background": "light"
          }
        },
        {
          "output_type": "stream",
          "text": [
            "10000/10000 [==============================] - 0s 23us/step\n"
          ],
          "name": "stdout"
        },
        {
          "output_type": "execute_result",
          "data": {
            "text/plain": [
              "[0.020917654862534253, 0.040612995624542236]"
            ]
          },
          "metadata": {
            "tags": []
          },
          "execution_count": 14
        }
      ]
    },
    {
      "cell_type": "markdown",
      "metadata": {
        "id": "eWF5lT6NkSJK",
        "colab_type": "text"
      },
      "source": [
        "# Model 7\n",
        "### Optimizer: RMSProp\n",
        "### Loss: MSE\n",
        "### Layers: 4, 16, 16, 10"
      ]
    },
    {
      "cell_type": "code",
      "metadata": {
        "id": "lTNLHM2hkSJL",
        "colab_type": "code",
        "colab": {},
        "outputId": "355617a2-e0ff-4140-d5cf-2e3c2d52c7f9"
      },
      "source": [
        "model = Sequential()\n",
        "model.add(Dense(4, activation='relu', input_shape=[X_train.shape[1]]))\n",
        "model.add(Dense(16, activation='relu'))\n",
        "model.add(Dense(16, activation='relu'))\n",
        "model.add(Dense(10, activation = 'softmax'))\n",
        "model.compile(optimizer = 'rmsprop', \n",
        "              loss = 'mse', \n",
        "              metrics = ['mae'])\n",
        "\n",
        "history = model.fit(X_train, Y_train, \n",
        "                    verbose = 1, \n",
        "                    validation_data = (X_test, Y_test),\n",
        "                    shuffle = True,\n",
        "                    epochs = 20) \n",
        "# Plot training & validation accuracy values\n",
        "plt.plot(history.history['mae'], 'k-')\n",
        "plt.plot(history.history['val_mae'], 'b.')\n",
        "plt.title('Model accuracy')\n",
        "plt.ylabel('MAE')\n",
        "plt.xlabel('Epoch')\n",
        "plt.legend(['Train', 'Test'])#, loc='upper left')\n",
        "plt.show()\n",
        "\n",
        "v1 = round(history.history['mae'][0], 4)\n",
        "v2 = round(history.history['mae'][-1], 4)\n",
        "v3 = round(history.history['val_mae'][0], 4)\n",
        "v4 = round(history.history['val_mae'][-1], 4)\n",
        "print(\"Train - Error in prediction went down from {} to {}\".format(v1, v2))\n",
        "print(\"Test  - Error in prediction went down from {} to {}\".format(v3, v4), \"\\n\")\n",
        "\n",
        "\n",
        "\n",
        "# Plot training & validation loss values\n",
        "plt.plot(history.history['loss'], 'k-')\n",
        "plt.plot(history.history['val_loss'], 'b.')\n",
        "plt.title('Model loss')\n",
        "plt.ylabel('Loss')\n",
        "plt.xlabel('Epoch')\n",
        "plt.legend(['Train', 'Test'])\n",
        "plt.show()\n",
        "\n",
        "# Model evaluation\n",
        "model.evaluate(X_test, Y_test)"
      ],
      "execution_count": 0,
      "outputs": [
        {
          "output_type": "stream",
          "text": [
            "Train on 60000 samples, validate on 10000 samples\n",
            "Epoch 1/20\n",
            "60000/60000 [==============================] - 4s 64us/step - loss: 0.0395 - mae: 0.0843 - val_loss: 0.0236 - val_mae: 0.0493\n",
            "Epoch 2/20\n",
            "60000/60000 [==============================] - 3s 55us/step - loss: 0.0224 - mae: 0.0450 - val_loss: 0.0205 - val_mae: 0.0395\n",
            "Epoch 3/20\n",
            "60000/60000 [==============================] - 3s 54us/step - loss: 0.0202 - mae: 0.0395 - val_loss: 0.0197 - val_mae: 0.0372\n",
            "Epoch 4/20\n",
            "60000/60000 [==============================] - 4s 73us/step - loss: 0.0190 - mae: 0.0365 - val_loss: 0.0187 - val_mae: 0.0356\n",
            "Epoch 5/20\n",
            "60000/60000 [==============================] - 4s 69us/step - loss: 0.0183 - mae: 0.0348 - val_loss: 0.0192 - val_mae: 0.0345\n",
            "Epoch 6/20\n",
            "60000/60000 [==============================] - 3s 53us/step - loss: 0.0180 - mae: 0.0336 - val_loss: 0.0187 - val_mae: 0.0337\n",
            "Epoch 7/20\n",
            "60000/60000 [==============================] - 3s 53us/step - loss: 0.0177 - mae: 0.0328 - val_loss: 0.0178 - val_mae: 0.0324\n",
            "Epoch 8/20\n",
            "60000/60000 [==============================] - 4s 64us/step - loss: 0.0175 - mae: 0.0321 - val_loss: 0.0177 - val_mae: 0.0317\n",
            "Epoch 9/20\n",
            "60000/60000 [==============================] - 3s 55us/step - loss: 0.0173 - mae: 0.0316 - val_loss: 0.0172 - val_mae: 0.0315\n",
            "Epoch 10/20\n",
            "60000/60000 [==============================] - 3s 54us/step - loss: 0.0172 - mae: 0.0314 - val_loss: 0.0177 - val_mae: 0.0313\n",
            "Epoch 11/20\n",
            "60000/60000 [==============================] - 3s 55us/step - loss: 0.0170 - mae: 0.0310 - val_loss: 0.0175 - val_mae: 0.0308\n",
            "Epoch 12/20\n",
            "60000/60000 [==============================] - 3s 51us/step - loss: 0.0170 - mae: 0.0309 - val_loss: 0.0177 - val_mae: 0.0309\n",
            "Epoch 13/20\n",
            "60000/60000 [==============================] - 3s 52us/step - loss: 0.0169 - mae: 0.0305 - val_loss: 0.0177 - val_mae: 0.0303\n",
            "Epoch 14/20\n",
            "60000/60000 [==============================] - 4s 60us/step - loss: 0.0168 - mae: 0.0302 - val_loss: 0.0184 - val_mae: 0.0316\n",
            "Epoch 15/20\n",
            "60000/60000 [==============================] - 3s 52us/step - loss: 0.0167 - mae: 0.0301 - val_loss: 0.0173 - val_mae: 0.0302\n",
            "Epoch 16/20\n",
            "60000/60000 [==============================] - 3s 52us/step - loss: 0.0167 - mae: 0.0298 - val_loss: 0.0169 - val_mae: 0.0292\n",
            "Epoch 17/20\n",
            "60000/60000 [==============================] - 3s 52us/step - loss: 0.0166 - mae: 0.0296 - val_loss: 0.0176 - val_mae: 0.0305\n",
            "Epoch 18/20\n",
            "60000/60000 [==============================] - 3s 51us/step - loss: 0.0165 - mae: 0.0298 - val_loss: 0.0176 - val_mae: 0.0307\n",
            "Epoch 19/20\n",
            "60000/60000 [==============================] - 3s 58us/step - loss: 0.0165 - mae: 0.0296 - val_loss: 0.0172 - val_mae: 0.0294\n",
            "Epoch 20/20\n",
            "60000/60000 [==============================] - 3s 51us/step - loss: 0.0164 - mae: 0.0295 - val_loss: 0.0173 - val_mae: 0.0298\n"
          ],
          "name": "stdout"
        },
        {
          "output_type": "display_data",
          "data": {
            "image/png": "[encoded data removed]",
            "text/plain": [
              "<Figure size 432x288 with 1 Axes>"
            ]
          },
          "metadata": {
            "tags": [],
            "needs_background": "light"
          }
        },
        {
          "output_type": "stream",
          "text": [
            "Train - Error in prediction went down from 0.08429999649524689 to 0.029500000178813934\n",
            "Test  - Error in prediction went down from 0.0493 to 0.0298 \n",
            "\n"
          ],
          "name": "stdout"
        },
        {
          "output_type": "display_data",
          "data": {
            "image/png": "[encoded data removed]",
            "text/plain": [
              "<Figure size 432x288 with 1 Axes>"
            ]
          },
          "metadata": {
            "tags": [],
            "needs_background": "light"
          }
        },
        {
          "output_type": "stream",
          "text": [
            "10000/10000 [==============================] - 0s 22us/step\n"
          ],
          "name": "stdout"
        },
        {
          "output_type": "execute_result",
          "data": {
            "text/plain": [
              "[0.017275968905049375, 0.02979354001581669]"
            ]
          },
          "metadata": {
            "tags": []
          },
          "execution_count": 16
        }
      ]
    },
    {
      "cell_type": "markdown",
      "metadata": {
        "id": "RGQhvcWTkSJN",
        "colab_type": "text"
      },
      "source": [
        "# Model 8\n",
        "### Optimizer: RMSProp\n",
        "### Loss: MSE\n",
        "### Layers: 4, 32, 32, 10"
      ]
    },
    {
      "cell_type": "code",
      "metadata": {
        "id": "IeEPbZrtkSJN",
        "colab_type": "code",
        "colab": {},
        "outputId": "bb543a26-7493-4270-d9e5-22fc9243bea7"
      },
      "source": [
        "model = Sequential()\n",
        "model.add(Dense(4, activation='relu', input_shape=[X_train.shape[1]]))\n",
        "model.add(Dense(32, activation='relu'))\n",
        "model.add(Dense(32, activation='relu'))\n",
        "model.add(Dense(10, activation = 'softmax'))\n",
        "model.compile(optimizer = 'rmsprop', \n",
        "              loss = 'mse', \n",
        "              metrics = ['mae'])\n",
        "\n",
        "history = model.fit(X_train, Y_train, \n",
        "                    verbose = 1, \n",
        "                    validation_data = (X_test, Y_test),\n",
        "                    shuffle = True,\n",
        "                    epochs = 20) \n",
        "# Plot training & validation accuracy values\n",
        "plt.plot(history.history['mae'], 'k-')\n",
        "plt.plot(history.history['val_mae'], 'b.')\n",
        "plt.title('Model accuracy')\n",
        "plt.ylabel('MAE')\n",
        "plt.xlabel('Epoch')\n",
        "plt.legend(['Train', 'Test'])#, loc='upper left')\n",
        "plt.show()\n",
        "\n",
        "v1 = round(history.history['mae'][0], 4)\n",
        "v2 = round(history.history['mae'][-1], 4)\n",
        "v3 = round(history.history['val_mae'][0], 4)\n",
        "v4 = round(history.history['val_mae'][-1], 4)\n",
        "print(\"Train - Error in prediction went down from {} to {}\".format(v1, v2))\n",
        "print(\"Test  - Error in prediction went down from {} to {}\".format(v3, v4), \"\\n\")\n",
        "\n",
        "\n",
        "\n",
        "# Plot training & validation loss values\n",
        "plt.plot(history.history['loss'], 'k-')\n",
        "plt.plot(history.history['val_loss'], 'b.')\n",
        "plt.title('Model loss')\n",
        "plt.ylabel('Loss')\n",
        "plt.xlabel('Epoch')\n",
        "plt.legend(['Train', 'Test'])\n",
        "plt.show()\n",
        "\n",
        "# Model evaluation\n",
        "model.evaluate(X_test, Y_test)"
      ],
      "execution_count": 0,
      "outputs": [
        {
          "output_type": "stream",
          "text": [
            "Train on 60000 samples, validate on 10000 samples\n",
            "Epoch 1/20\n",
            "60000/60000 [==============================] - 3s 57us/step - loss: 0.0347 - mae: 0.0734 - val_loss: 0.0254 - val_mae: 0.0507\n",
            "Epoch 2/20\n",
            "60000/60000 [==============================] - 3s 56us/step - loss: 0.0246 - mae: 0.0483 - val_loss: 0.0223 - val_mae: 0.0436\n",
            "Epoch 3/20\n",
            "60000/60000 [==============================] - 4s 59us/step - loss: 0.0231 - mae: 0.0449 - val_loss: 0.0214 - val_mae: 0.0419\n",
            "Epoch 4/20\n",
            "60000/60000 [==============================] - 3s 56us/step - loss: 0.0221 - mae: 0.0426 - val_loss: 0.0211 - val_mae: 0.0407\n",
            "Epoch 5/20\n",
            "60000/60000 [==============================] - 3s 55us/step - loss: 0.0212 - mae: 0.0410 - val_loss: 0.0201 - val_mae: 0.0388\n",
            "Epoch 6/20\n",
            "60000/60000 [==============================] - 3s 55us/step - loss: 0.0204 - mae: 0.0392 - val_loss: 0.0197 - val_mae: 0.0379\n",
            "Epoch 7/20\n",
            "60000/60000 [==============================] - 3s 58us/step - loss: 0.0200 - mae: 0.0382 - val_loss: 0.0194 - val_mae: 0.0363\n",
            "Epoch 8/20\n",
            "60000/60000 [==============================] - 3s 54us/step - loss: 0.0195 - mae: 0.0372 - val_loss: 0.0192 - val_mae: 0.0358\n",
            "Epoch 9/20\n",
            "60000/60000 [==============================] - 3s 54us/step - loss: 0.0191 - mae: 0.0362 - val_loss: 0.0192 - val_mae: 0.0358\n",
            "Epoch 10/20\n",
            "60000/60000 [==============================] - 3s 54us/step - loss: 0.0189 - mae: 0.0358 - val_loss: 0.0189 - val_mae: 0.0355\n",
            "Epoch 11/20\n",
            "60000/60000 [==============================] - 3s 56us/step - loss: 0.0187 - mae: 0.0352 - val_loss: 0.0183 - val_mae: 0.0346\n",
            "Epoch 12/20\n",
            "60000/60000 [==============================] - 3s 55us/step - loss: 0.0185 - mae: 0.0347 - val_loss: 0.0186 - val_mae: 0.0355\n",
            "Epoch 13/20\n",
            "60000/60000 [==============================] - 3s 55us/step - loss: 0.0183 - mae: 0.0344 - val_loss: 0.0185 - val_mae: 0.0344\n",
            "Epoch 14/20\n",
            "60000/60000 [==============================] - 3s 54us/step - loss: 0.0181 - mae: 0.0340 - val_loss: 0.0188 - val_mae: 0.0346\n",
            "Epoch 15/20\n",
            "60000/60000 [==============================] - 4s 65us/step - loss: 0.0180 - mae: 0.0335 - val_loss: 0.0181 - val_mae: 0.0330\n",
            "Epoch 16/20\n",
            "60000/60000 [==============================] - 3s 55us/step - loss: 0.0179 - mae: 0.0331 - val_loss: 0.0178 - val_mae: 0.0327\n",
            "Epoch 17/20\n",
            "60000/60000 [==============================] - 3s 55us/step - loss: 0.0178 - mae: 0.0330 - val_loss: 0.0179 - val_mae: 0.0325\n",
            "Epoch 18/20\n",
            "60000/60000 [==============================] - 3s 55us/step - loss: 0.0178 - mae: 0.0327 - val_loss: 0.0182 - val_mae: 0.0329\n",
            "Epoch 19/20\n",
            "60000/60000 [==============================] - 3s 55us/step - loss: 0.0177 - mae: 0.0328 - val_loss: 0.0184 - val_mae: 0.0330\n",
            "Epoch 20/20\n",
            "60000/60000 [==============================] - 4s 67us/step - loss: 0.0176 - mae: 0.0324 - val_loss: 0.0180 - val_mae: 0.0325\n"
          ],
          "name": "stdout"
        },
        {
          "output_type": "display_data",
          "data": {
            "image/png": "[encoded data removed]",
            "text/plain": [
              "<Figure size 432x288 with 1 Axes>"
            ]
          },
          "metadata": {
            "tags": [],
            "needs_background": "light"
          }
        },
        {
          "output_type": "stream",
          "text": [
            "Train - Error in prediction went down from 0.07339999824762344 to 0.03240000084042549\n",
            "Test  - Error in prediction went down from 0.0507 to 0.0325 \n",
            "\n"
          ],
          "name": "stdout"
        },
        {
          "output_type": "display_data",
          "data": {
            "image/png": "[encoded data removed]",
            "text/plain": [
              "<Figure size 432x288 with 1 Axes>"
            ]
          },
          "metadata": {
            "tags": [],
            "needs_background": "light"
          }
        },
        {
          "output_type": "stream",
          "text": [
            "10000/10000 [==============================] - 0s 22us/step\n"
          ],
          "name": "stdout"
        },
        {
          "output_type": "execute_result",
          "data": {
            "text/plain": [
              "[0.018004356398340315, 0.032514575868844986]"
            ]
          },
          "metadata": {
            "tags": []
          },
          "execution_count": 17
        }
      ]
    },
    {
      "cell_type": "markdown",
      "metadata": {
        "id": "Xfr14TMjkSJR",
        "colab_type": "text"
      },
      "source": [
        "# Model 9\n",
        "### Optimizer: RMSProp\n",
        "### Loss: MSE\n",
        "### Layers: 4, 16, 16, 10\n",
        "### Epochs: 40"
      ]
    },
    {
      "cell_type": "code",
      "metadata": {
        "id": "GqztJbthkSJT",
        "colab_type": "code",
        "colab": {},
        "outputId": "a34023e8-086c-45f2-a524-fffbd99be460"
      },
      "source": [
        "model = Sequential()\n",
        "model.add(Dense(4, activation='relu', input_shape=[X_train.shape[1]]))\n",
        "model.add(Dense(16, activation='relu'))\n",
        "model.add(Dense(16, activation='relu'))\n",
        "model.add(Dense(10, activation = 'softmax'))\n",
        "model.compile(optimizer = 'rmsprop', \n",
        "              loss = 'mse', \n",
        "              metrics = ['mae'])\n",
        "\n",
        "history = model.fit(X_train, Y_train, \n",
        "                    verbose = 1, \n",
        "                    validation_data = (X_test, Y_test),\n",
        "                    shuffle = True,\n",
        "                    epochs = 40) \n",
        "# Plot training & validation accuracy values\n",
        "plt.plot(history.history['mae'], 'k-')\n",
        "plt.plot(history.history['val_mae'], 'b.')\n",
        "plt.title('Model accuracy')\n",
        "plt.ylabel('MAE')\n",
        "plt.xlabel('Epoch')\n",
        "plt.legend(['Train', 'Test'])#, loc='upper left')\n",
        "plt.show()\n",
        "\n",
        "v1 = round(history.history['mae'][0], 4)\n",
        "v2 = round(history.history['mae'][-1], 4)\n",
        "v3 = round(history.history['val_mae'][0], 4)\n",
        "v4 = round(history.history['val_mae'][-1], 4)\n",
        "print(\"Train - Error in prediction went down from {} to {}\".format(v1, v2))\n",
        "print(\"Test  - Error in prediction went down from {} to {}\".format(v3, v4), \"\\n\")\n",
        "\n",
        "\n",
        "\n",
        "# Plot training & validation loss values\n",
        "plt.plot(history.history['loss'], 'k-')\n",
        "plt.plot(history.history['val_loss'], 'b.')\n",
        "plt.title('Model loss')\n",
        "plt.ylabel('Loss')\n",
        "plt.xlabel('Epoch')\n",
        "plt.legend(['Train', 'Test'])\n",
        "plt.show()\n",
        "\n",
        "# Model evaluation\n",
        "model.evaluate(X_test, Y_test)"
      ],
      "execution_count": 0,
      "outputs": [
        {
          "output_type": "stream",
          "text": [
            "Train on 60000 samples, validate on 10000 samples\n",
            "Epoch 1/40\n",
            "60000/60000 [==============================] - 4s 63us/step - loss: 0.0401 - mae: 0.0867 - val_loss: 0.0239 - val_mae: 0.0506\n",
            "Epoch 2/40\n",
            "60000/60000 [==============================] - 4s 68us/step - loss: 0.0235 - mae: 0.0474 - val_loss: 0.0209 - val_mae: 0.0419\n",
            "Epoch 3/40\n",
            "60000/60000 [==============================] - 3s 57us/step - loss: 0.0216 - mae: 0.0425 - val_loss: 0.0203 - val_mae: 0.0394\n",
            "Epoch 4/40\n",
            "60000/60000 [==============================] - 3s 54us/step - loss: 0.0205 - mae: 0.0399 - val_loss: 0.0194 - val_mae: 0.0377\n",
            "Epoch 5/40\n",
            "60000/60000 [==============================] - 3s 56us/step - loss: 0.0196 - mae: 0.0380 - val_loss: 0.0184 - val_mae: 0.0357\n",
            "Epoch 6/40\n",
            "60000/60000 [==============================] - 3s 56us/step - loss: 0.0191 - mae: 0.0366 - val_loss: 0.0188 - val_mae: 0.0345\n",
            "Epoch 7/40\n",
            "60000/60000 [==============================] - 3s 53us/step - loss: 0.0187 - mae: 0.0354 - val_loss: 0.0185 - val_mae: 0.0344\n",
            "Epoch 8/40\n",
            "60000/60000 [==============================] - 3s 54us/step - loss: 0.0183 - mae: 0.0347 - val_loss: 0.0182 - val_mae: 0.0336\n",
            "Epoch 9/40\n",
            "60000/60000 [==============================] - 3s 55us/step - loss: 0.0181 - mae: 0.0342 - val_loss: 0.0182 - val_mae: 0.0337\n",
            "Epoch 10/40\n",
            "60000/60000 [==============================] - 3s 54us/step - loss: 0.0179 - mae: 0.0335 - val_loss: 0.0182 - val_mae: 0.0332\n",
            "Epoch 11/40\n",
            "60000/60000 [==============================] - 3s 54us/step - loss: 0.0178 - mae: 0.0333 - val_loss: 0.0180 - val_mae: 0.0330\n",
            "Epoch 12/40\n",
            "60000/60000 [==============================] - 3s 56us/step - loss: 0.0177 - mae: 0.0327 - val_loss: 0.0177 - val_mae: 0.0329\n",
            "Epoch 13/40\n",
            "60000/60000 [==============================] - 3s 54us/step - loss: 0.0175 - mae: 0.0325 - val_loss: 0.0179 - val_mae: 0.0324\n",
            "Epoch 14/40\n",
            "60000/60000 [==============================] - 3s 53us/step - loss: 0.0174 - mae: 0.0324 - val_loss: 0.0174 - val_mae: 0.0323\n",
            "Epoch 15/40\n",
            "60000/60000 [==============================] - 4s 63us/step - loss: 0.0173 - mae: 0.0321 - val_loss: 0.0178 - val_mae: 0.0319\n",
            "Epoch 16/40\n",
            "60000/60000 [==============================] - 3s 55us/step - loss: 0.0172 - mae: 0.0317 - val_loss: 0.0175 - val_mae: 0.0322\n",
            "Epoch 17/40\n",
            "60000/60000 [==============================] - 3s 56us/step - loss: 0.0171 - mae: 0.0315 - val_loss: 0.0175 - val_mae: 0.0320\n",
            "Epoch 18/40\n",
            "60000/60000 [==============================] - 4s 71us/step - loss: 0.0170 - mae: 0.0314 - val_loss: 0.0181 - val_mae: 0.0313\n",
            "Epoch 19/40\n",
            "60000/60000 [==============================] - 3s 58us/step - loss: 0.0169 - mae: 0.0310 - val_loss: 0.0179 - val_mae: 0.0311\n",
            "Epoch 20/40\n",
            "60000/60000 [==============================] - 3s 54us/step - loss: 0.0169 - mae: 0.0312 - val_loss: 0.0173 - val_mae: 0.0310\n",
            "Epoch 21/40\n",
            "60000/60000 [==============================] - 3s 55us/step - loss: 0.0169 - mae: 0.0309 - val_loss: 0.0174 - val_mae: 0.0311\n",
            "Epoch 22/40\n",
            "60000/60000 [==============================] - 3s 54us/step - loss: 0.0168 - mae: 0.0309 - val_loss: 0.0178 - val_mae: 0.0319\n",
            "Epoch 23/40\n",
            "60000/60000 [==============================] - 3s 56us/step - loss: 0.0167 - mae: 0.0307 - val_loss: 0.0177 - val_mae: 0.0314\n",
            "Epoch 24/40\n",
            "60000/60000 [==============================] - 3s 54us/step - loss: 0.0167 - mae: 0.0308 - val_loss: 0.0173 - val_mae: 0.0307\n",
            "Epoch 25/40\n",
            "60000/60000 [==============================] - 3s 55us/step - loss: 0.0166 - mae: 0.0306 - val_loss: 0.0174 - val_mae: 0.0305\n",
            "Epoch 26/40\n",
            "60000/60000 [==============================] - 3s 58us/step - loss: 0.0166 - mae: 0.0305 - val_loss: 0.0172 - val_mae: 0.0308\n",
            "Epoch 27/40\n",
            "60000/60000 [==============================] - 3s 53us/step - loss: 0.0166 - mae: 0.0303 - val_loss: 0.0175 - val_mae: 0.0313\n",
            "Epoch 28/40\n",
            "60000/60000 [==============================] - 3s 53us/step - loss: 0.0165 - mae: 0.0302 - val_loss: 0.0178 - val_mae: 0.0313\n",
            "Epoch 29/40\n",
            "60000/60000 [==============================] - 3s 53us/step - loss: 0.0165 - mae: 0.0302 - val_loss: 0.0176 - val_mae: 0.0312\n",
            "Epoch 30/40\n",
            "60000/60000 [==============================] - 3s 54us/step - loss: 0.0165 - mae: 0.0301 - val_loss: 0.0173 - val_mae: 0.0313\n",
            "Epoch 31/40\n",
            "60000/60000 [==============================] - 3s 58us/step - loss: 0.0164 - mae: 0.0299 - val_loss: 0.0174 - val_mae: 0.0310\n",
            "Epoch 32/40\n",
            "60000/60000 [==============================] - 3s 53us/step - loss: 0.0164 - mae: 0.0299 - val_loss: 0.0169 - val_mae: 0.0307\n",
            "Epoch 33/40\n",
            "60000/60000 [==============================] - 3s 53us/step - loss: 0.0164 - mae: 0.0299 - val_loss: 0.0174 - val_mae: 0.0303\n",
            "Epoch 34/40\n",
            "60000/60000 [==============================] - 3s 55us/step - loss: 0.0164 - mae: 0.0299 - val_loss: 0.0173 - val_mae: 0.0307\n",
            "Epoch 35/40\n",
            "60000/60000 [==============================] - 3s 54us/step - loss: 0.0163 - mae: 0.0297 - val_loss: 0.0176 - val_mae: 0.0306\n",
            "Epoch 36/40\n",
            "60000/60000 [==============================] - 3s 56us/step - loss: 0.0163 - mae: 0.0298 - val_loss: 0.0174 - val_mae: 0.0307\n",
            "Epoch 37/40\n",
            "60000/60000 [==============================] - 4s 60us/step - loss: 0.0162 - mae: 0.0296 - val_loss: 0.0173 - val_mae: 0.0305\n",
            "Epoch 38/40\n",
            "60000/60000 [==============================] - 3s 54us/step - loss: 0.0162 - mae: 0.0295 - val_loss: 0.0172 - val_mae: 0.0299\n",
            "Epoch 39/40\n",
            "60000/60000 [==============================] - 3s 53us/step - loss: 0.0162 - mae: 0.0296 - val_loss: 0.0172 - val_mae: 0.0301\n",
            "Epoch 40/40\n",
            "60000/60000 [==============================] - 4s 60us/step - loss: 0.0162 - mae: 0.0295 - val_loss: 0.0175 - val_mae: 0.0300\n"
          ],
          "name": "stdout"
        },
        {
          "output_type": "display_data",
          "data": {
            "image/png": "[encoded data removed]",
            "text/plain": [
              "<Figure size 432x288 with 1 Axes>"
            ]
          },
          "metadata": {
            "tags": [],
            "needs_background": "light"
          }
        },
        {
          "output_type": "stream",
          "text": [
            "Train - Error in prediction went down from 0.08669999986886978 to 0.029500000178813934\n",
            "Test  - Error in prediction went down from 0.0506 to 0.03 \n",
            "\n"
          ],
          "name": "stdout"
        },
        {
          "output_type": "display_data",
          "data": {
            "image/png": "[encoded data removed]",
            "text/plain": [
              "<Figure size 432x288 with 1 Axes>"
            ]
          },
          "metadata": {
            "tags": [],
            "needs_background": "light"
          }
        },
        {
          "output_type": "stream",
          "text": [
            "10000/10000 [==============================] - 0s 21us/step\n"
          ],
          "name": "stdout"
        },
        {
          "output_type": "execute_result",
          "data": {
            "text/plain": [
              "[0.017450369797647, 0.030042577534914017]"
            ]
          },
          "metadata": {
            "tags": []
          },
          "execution_count": 18
        }
      ]
    },
    {
      "cell_type": "markdown",
      "metadata": {
        "id": "mxbofo3KkSJV",
        "colab_type": "text"
      },
      "source": [
        "# Model 10\n",
        "### Optimizer: RMSProp\n",
        "### Loss: MSE\n",
        "### Layers: 4, 16, 16, 10\n",
        "### Epochs: 30"
      ]
    },
    {
      "cell_type": "code",
      "metadata": {
        "id": "qC8GAQ1XkSJW",
        "colab_type": "code",
        "colab": {},
        "outputId": "b787222d-65e1-4536-efdc-0ab3a5c7b9d7"
      },
      "source": [
        "model = Sequential()\n",
        "model.add(Dense(4, activation='relu', input_shape=[X_train.shape[1]]))\n",
        "model.add(Dense(16, activation='relu'))\n",
        "model.add(Dense(16, activation='relu'))\n",
        "model.add(Dense(10, activation = 'softmax'))\n",
        "model.compile(optimizer = 'rmsprop', \n",
        "              loss = 'mse', \n",
        "              metrics = ['mae'])\n",
        "\n",
        "history = model.fit(X_train, Y_train, \n",
        "                    verbose = 1, \n",
        "                    validation_data = (X_test, Y_test),\n",
        "                    shuffle = True,\n",
        "                    epochs = 30) \n",
        "# Plot training & validation accuracy values\n",
        "plt.plot(history.history['mae'], 'k-')\n",
        "plt.plot(history.history['val_mae'], 'b.')\n",
        "plt.title('Model accuracy')\n",
        "plt.ylabel('MAE')\n",
        "plt.xlabel('Epoch')\n",
        "plt.legend(['Train', 'Test'])#, loc='upper left')\n",
        "plt.show()\n",
        "\n",
        "v1 = round(history.history['mae'][0], 4)\n",
        "v2 = round(history.history['mae'][-1], 4)\n",
        "v3 = round(history.history['val_mae'][0], 4)\n",
        "v4 = round(history.history['val_mae'][-1], 4)\n",
        "print(\"Train - Error in prediction went down from {} to {}\".format(v1, v2))\n",
        "print(\"Test  - Error in prediction went down from {} to {}\".format(v3, v4), \"\\n\")\n",
        "\n",
        "\n",
        "\n",
        "# Plot training & validation loss values\n",
        "plt.plot(history.history['loss'], 'k-')\n",
        "plt.plot(history.history['val_loss'], 'b.')\n",
        "plt.title('Model loss')\n",
        "plt.ylabel('Loss')\n",
        "plt.xlabel('Epoch')\n",
        "plt.legend(['Train', 'Test'])\n",
        "plt.show()\n",
        "\n",
        "# Model evaluation\n",
        "model.evaluate(X_test, Y_test)"
      ],
      "execution_count": 0,
      "outputs": [
        {
          "output_type": "stream",
          "text": [
            "Train on 60000 samples, validate on 10000 samples\n",
            "Epoch 1/30\n",
            "60000/60000 [==============================] - 4s 59us/step - loss: 0.0417 - mae: 0.0883 - val_loss: 0.0288 - val_mae: 0.0588\n",
            "Epoch 2/30\n",
            "60000/60000 [==============================] - 4s 69us/step - loss: 0.0265 - mae: 0.0531 - val_loss: 0.0236 - val_mae: 0.0470\n",
            "Epoch 3/30\n",
            "60000/60000 [==============================] - 4s 64us/step - loss: 0.0233 - mae: 0.0459 - val_loss: 0.0217 - val_mae: 0.0427\n",
            "Epoch 4/30\n",
            "60000/60000 [==============================] - 3s 55us/step - loss: 0.0217 - mae: 0.0423 - val_loss: 0.0204 - val_mae: 0.0392\n",
            "Epoch 5/30\n",
            "60000/60000 [==============================] - 3s 55us/step - loss: 0.0208 - mae: 0.0397 - val_loss: 0.0200 - val_mae: 0.0377\n",
            "Epoch 6/30\n",
            "60000/60000 [==============================] - 3s 56us/step - loss: 0.0202 - mae: 0.0382 - val_loss: 0.0196 - val_mae: 0.0368\n",
            "Epoch 7/30\n",
            "60000/60000 [==============================] - 3s 56us/step - loss: 0.0197 - mae: 0.0371 - val_loss: 0.0196 - val_mae: 0.0365\n",
            "Epoch 8/30\n",
            "60000/60000 [==============================] - 3s 56us/step - loss: 0.0194 - mae: 0.0364 - val_loss: 0.0201 - val_mae: 0.0369\n",
            "Epoch 9/30\n",
            "60000/60000 [==============================] - 3s 55us/step - loss: 0.0190 - mae: 0.0357 - val_loss: 0.0187 - val_mae: 0.0348\n",
            "Epoch 10/30\n",
            "60000/60000 [==============================] - 3s 55us/step - loss: 0.0188 - mae: 0.0353 - val_loss: 0.0191 - val_mae: 0.0358\n",
            "Epoch 11/30\n",
            "60000/60000 [==============================] - 3s 54us/step - loss: 0.0186 - mae: 0.0347 - val_loss: 0.0188 - val_mae: 0.0351\n",
            "Epoch 12/30\n",
            "60000/60000 [==============================] - 3s 54us/step - loss: 0.0185 - mae: 0.0343 - val_loss: 0.0182 - val_mae: 0.0334\n",
            "Epoch 13/30\n",
            "60000/60000 [==============================] - 3s 54us/step - loss: 0.0183 - mae: 0.0340 - val_loss: 0.0185 - val_mae: 0.0343\n",
            "Epoch 14/30\n",
            "60000/60000 [==============================] - 4s 59us/step - loss: 0.0182 - mae: 0.0338 - val_loss: 0.0184 - val_mae: 0.0327\n",
            "Epoch 15/30\n",
            "60000/60000 [==============================] - 3s 54us/step - loss: 0.0181 - mae: 0.0335 - val_loss: 0.0182 - val_mae: 0.0325\n",
            "Epoch 16/30\n",
            "60000/60000 [==============================] - 3s 54us/step - loss: 0.0179 - mae: 0.0330 - val_loss: 0.0182 - val_mae: 0.0334\n",
            "Epoch 17/30\n",
            "60000/60000 [==============================] - 3s 56us/step - loss: 0.0179 - mae: 0.0330 - val_loss: 0.0184 - val_mae: 0.0331\n",
            "Epoch 18/30\n",
            "60000/60000 [==============================] - 3s 54us/step - loss: 0.0178 - mae: 0.0328 - val_loss: 0.0185 - val_mae: 0.0335\n",
            "Epoch 19/30\n",
            "60000/60000 [==============================] - 4s 61us/step - loss: 0.0177 - mae: 0.0325 - val_loss: 0.0192 - val_mae: 0.0338\n",
            "Epoch 20/30\n",
            "60000/60000 [==============================] - 4s 58us/step - loss: 0.0177 - mae: 0.0327 - val_loss: 0.0177 - val_mae: 0.0328\n",
            "Epoch 21/30\n",
            "60000/60000 [==============================] - 3s 56us/step - loss: 0.0177 - mae: 0.0325 - val_loss: 0.0180 - val_mae: 0.0319\n",
            "Epoch 22/30\n",
            "60000/60000 [==============================] - 3s 56us/step - loss: 0.0175 - mae: 0.0322 - val_loss: 0.0185 - val_mae: 0.0336\n",
            "Epoch 23/30\n",
            "60000/60000 [==============================] - 3s 55us/step - loss: 0.0175 - mae: 0.0323 - val_loss: 0.0181 - val_mae: 0.0328\n",
            "Epoch 24/30\n",
            "60000/60000 [==============================] - 4s 62us/step - loss: 0.0174 - mae: 0.0322 - val_loss: 0.0179 - val_mae: 0.0330\n",
            "Epoch 25/30\n",
            "60000/60000 [==============================] - 3s 55us/step - loss: 0.0173 - mae: 0.0320 - val_loss: 0.0179 - val_mae: 0.0329\n",
            "Epoch 26/30\n",
            "60000/60000 [==============================] - 3s 57us/step - loss: 0.0174 - mae: 0.0319 - val_loss: 0.0177 - val_mae: 0.0321\n",
            "Epoch 27/30\n",
            "60000/60000 [==============================] - 3s 56us/step - loss: 0.0173 - mae: 0.0317 - val_loss: 0.0183 - val_mae: 0.0331\n",
            "Epoch 28/30\n",
            "60000/60000 [==============================] - 3s 55us/step - loss: 0.0172 - mae: 0.0316 - val_loss: 0.0186 - val_mae: 0.0326\n",
            "Epoch 29/30\n",
            "60000/60000 [==============================] - 4s 59us/step - loss: 0.0172 - mae: 0.0314 - val_loss: 0.0187 - val_mae: 0.0326\n",
            "Epoch 30/30\n",
            "60000/60000 [==============================] - 3s 55us/step - loss: 0.0171 - mae: 0.0313 - val_loss: 0.0179 - val_mae: 0.0333\n"
          ],
          "name": "stdout"
        },
        {
          "output_type": "display_data",
          "data": {
            "image/png": "[encoded data removed]",
            "text/plain": [
              "<Figure size 432x288 with 1 Axes>"
            ]
          },
          "metadata": {
            "tags": [],
            "needs_background": "light"
          }
        },
        {
          "output_type": "stream",
          "text": [
            "Train - Error in prediction went down from 0.08829999715089798 to 0.031300000846385956\n",
            "Test  - Error in prediction went down from 0.0588 to 0.0333 \n",
            "\n"
          ],
          "name": "stdout"
        },
        {
          "output_type": "display_data",
          "data": {
            "image/png": "[encoded data removed]",
            "text/plain": [
              "<Figure size 432x288 with 1 Axes>"
            ]
          },
          "metadata": {
            "tags": [],
            "needs_background": "light"
          }
        },
        {
          "output_type": "stream",
          "text": [
            "10000/10000 [==============================] - 0s 22us/step\n"
          ],
          "name": "stdout"
        },
        {
          "output_type": "execute_result",
          "data": {
            "text/plain": [
              "[0.01791270460258238, 0.03332490473985672]"
            ]
          },
          "metadata": {
            "tags": []
          },
          "execution_count": 19
        }
      ]
    },
    {
      "cell_type": "code",
      "metadata": {
        "id": "7kGi0gEmkSJY",
        "colab_type": "code",
        "colab": {}
      },
      "source": [
        ""
      ],
      "execution_count": 0,
      "outputs": []
    }
  ]
}