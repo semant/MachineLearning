{
  "nbformat": 4,
  "nbformat_minor": 0,
  "metadata": {
    "kernelspec": {
      "display_name": "Python 3",
      "language": "python",
      "name": "python3"
    },
    "language_info": {
      "codemirror_mode": {
        "name": "ipython",
        "version": 3
      },
      "file_extension": ".py",
      "mimetype": "text/x-python",
      "name": "python",
      "nbconvert_exporter": "python",
      "pygments_lexer": "ipython3",
      "version": "3.7.4"
    },
    "colab": {
      "name": "CE_ML_Project_09_Transfer_Mnist.ipynb",
      "provenance": [],
      "include_colab_link": true
    }
  },
  "cells": [
    {
      "cell_type": "markdown",
      "metadata": {
        "id": "view-in-github",
        "colab_type": "text"
      },
      "source": [
        "<a href=\"https://colab.research.google.com/github/semant/MachineLearning/blob/master/Transfer_Learning_CNN_Mnist.ipynb\" target=\"_parent\"><img src=\"https://colab.research.google.com/assets/colab-badge.svg\" alt=\"Open In Colab\"/></a>"
      ]
    },
    {
      "cell_type": "markdown",
      "metadata": {
        "id": "RVwmBn32GkBq",
        "colab_type": "text"
      },
      "source": [
        "# Use of Transfer Learning Saves 76% Training Time for Image Recognition in Deep Learning\n",
        "\n",
        "> Semant Jain, PhD semant@gmail.com\n",
        "\n",
        "### Summary\n",
        "> Deep learning models enable their reuse on related problems. However, training millions of weights in deep neural networks can take an enormous time. So, weights pre-trained on a similar problem can be reused partially or wholly in the problem of interest. Here, large public datasets such as ImageNet, can be used to train the model. Then, the much smaller private dataset can be used to train the classifer in the problem of interest.\n",
        "\n",
        "> To demonstrate the machine learning methodology, in this project, a Convolutional Neural Network (CNN) was created from scratch. Second, it was trained on hand written digits (0 to 4) present in the public dataset Mnist. To demonstrate the transfer learning methodology, a few classifier layers were added on top of the trained CNN. This was trained on the remaining digits (5 to 9) from Mnist. For training 10 epochs, while the original model took 156.87 seconds, the transfer learning took 37.14 seconds. So, transfer learning resulted in a 76% reduction in training time.\n",
        "\n",
        "\n",
        "### Libraries\n",
        "+ Datetime\n",
        "+ Keras\n",
        "+ Matplotlib\n",
        "+ Numpy\n",
        "+ Pandas\n",
        "+ Time"
      ]
    },
    {
      "cell_type": "markdown",
      "metadata": {
        "id": "pD0M9cf7GkBt",
        "colab_type": "text"
      },
      "source": [
        "# 1. Preprocessing\n",
        "\n",
        "### Importing libraries"
      ]
    },
    {
      "cell_type": "code",
      "metadata": {
        "id": "hepVuMayGkBw",
        "colab_type": "code",
        "colab": {}
      },
      "source": [
        "import datetime\n",
        "import matplotlib.pyplot as plt\n",
        "%matplotlib inline\n",
        "import numpy as np\n",
        "import pandas as pd\n",
        "import time\n",
        "\n",
        "\n",
        "from keras import applications\n",
        "from keras.datasets import mnist\n",
        "from keras.models import Sequential\n",
        "from keras.layers import Dense, Conv2D, Flatten, Activation, Dropout, MaxPool2D\n",
        "from keras.utils import np_utils"
      ],
      "execution_count": 0,
      "outputs": []
    },
    {
      "cell_type": "markdown",
      "metadata": {
        "id": "KOv3Goq3GkB3",
        "colab_type": "text"
      },
      "source": [
        "### Importing data"
      ]
    },
    {
      "cell_type": "code",
      "metadata": {
        "id": "-LYQSKz6GkB4",
        "colab_type": "code",
        "colab": {},
        "outputId": "d71f7f70-e5c2-4f5f-d950-55c88c953328"
      },
      "source": [
        "(x_train, y_train), (x_test, y_test) = mnist.load_data()\n",
        "print(x_train.shape, y_train.shape)\n",
        "print(x_test.shape,  y_test.shape)"
      ],
      "execution_count": 0,
      "outputs": [
        {
          "output_type": "stream",
          "text": [
            "(60000, 28, 28) (60000,)\n",
            "(10000, 28, 28) (10000,)\n"
          ],
          "name": "stdout"
        }
      ]
    },
    {
      "cell_type": "markdown",
      "metadata": {
        "id": "waXDTsq7GkB9",
        "colab_type": "text"
      },
      "source": [
        "### Splitting data: Train / test\n",
        "+ Training: Digits 0 to 4\n",
        "+ Transfer learning: Digits 5 to 9"
      ]
    },
    {
      "cell_type": "code",
      "metadata": {
        "id": "l5vZ-SMNGkB_",
        "colab_type": "code",
        "colab": {}
      },
      "source": [
        "pt_x_train = []\n",
        "pt_y_train = []\n",
        "pt_x_test  = []\n",
        "pt_y_test  = [] \n",
        "\n",
        "\n",
        "tl_x_train = []\n",
        "tl_y_train = []\n",
        "tl_x_test  = []\n",
        "tl_y_test  = [] \n",
        "\n",
        "m = 20000\n",
        "for i in range(m):\n",
        "    if y_train[i] < 5:\n",
        "        pt_x_train.append(x_train[i] / 255)\n",
        "        pt_y_train.append(y_train[i])\n",
        "    else:\n",
        "        tl_x_train.append(x_train[i] / 255)\n",
        "        tl_y_train.append(y_train[i])\n",
        "        \n",
        "\n",
        "m2 = 10000\n",
        "for i in range(m2):\n",
        "    if y_test[i] < 5:\n",
        "        pt_x_test.append(x_test[i] / 255)\n",
        "        pt_y_test.append(y_test[i])\n",
        "    else:\n",
        "        tl_x_test.append(x_test[i] / 255)\n",
        "        tl_y_test.append(y_test[i])"
      ],
      "execution_count": 0,
      "outputs": []
    },
    {
      "cell_type": "code",
      "metadata": {
        "id": "057SPRFOGkCD",
        "colab_type": "code",
        "colab": {}
      },
      "source": [
        "pt_x_train = np.asarray(pt_x_train).reshape(-1, 28, 28, 1)\n",
        "pt_x_test = np.asarray(pt_x_test).reshape(-1, 28, 28, 1)\n",
        "\n",
        "pt_y_train = np_utils.to_categorical(np.asarray(pt_y_train))\n",
        "pt_y_test  = np_utils.to_categorical(np.asarray(pt_y_test))\n",
        "\n",
        "tl_x_train = np.asarray(tl_x_train).reshape(-1, 28, 28, 1)\n",
        "tl_x_test  = np.asarray(tl_x_test).reshape(-1, 28, 28, 1)\n",
        "\n",
        "tl_y_train = np_utils.to_categorical(np.asarray(tl_y_train))\n",
        "tl_y_test  = np_utils.to_categorical(np.asarray(tl_y_test))"
      ],
      "execution_count": 0,
      "outputs": []
    },
    {
      "cell_type": "code",
      "metadata": {
        "id": "7qn9T-3lGkCH",
        "colab_type": "code",
        "colab": {},
        "outputId": "e72833fe-70b1-41ff-ced9-f5acc011a7bd"
      },
      "source": [
        "print(pt_x_train.shape, pt_y_train.shape)\n",
        "print(pt_x_test.shape, pt_y_test.shape)\n",
        "\n",
        "print(tl_x_train.shape, tl_y_train.shape)\n",
        "print(tl_x_test.shape, tl_y_test.shape)"
      ],
      "execution_count": 0,
      "outputs": [
        {
          "output_type": "stream",
          "text": [
            "(10225, 28, 28, 1) (10225, 5)\n",
            "(5139, 28, 28, 1) (5139, 5)\n",
            "(9775, 28, 28, 1) (9775, 10)\n",
            "(4861, 28, 28, 1) (4861, 10)\n"
          ],
          "name": "stdout"
        }
      ]
    },
    {
      "cell_type": "markdown",
      "metadata": {
        "id": "BWl_EtJOGkCO",
        "colab_type": "text"
      },
      "source": [
        "# 2. Model: CNN from scratch"
      ]
    },
    {
      "cell_type": "markdown",
      "metadata": {
        "id": "HZEuTcJ2GkCR",
        "colab_type": "text"
      },
      "source": [
        "### Architecture: For digits 0 to 4"
      ]
    },
    {
      "cell_type": "code",
      "metadata": {
        "id": "XEWsazj3GkCS",
        "colab_type": "code",
        "colab": {},
        "outputId": "4dbf6aa9-5be8-4e7d-8403-4e3397c5a795"
      },
      "source": [
        "model = Sequential()\n",
        "model.add(Conv2D(32, 5, input_shape = (28, 28, 1), activation = \"relu\"))\n",
        "model.add(Conv2D(16, 5, activation = \"relu\"))\n",
        "model.add(MaxPool2D(pool_size = (2,2)))\n",
        "\n",
        "model.add(Conv2D(8, 3, activation = \"relu\"))\n",
        "model.add(Flatten())\n",
        "model.add(Dropout(0.4))\n",
        "\n",
        "model.add(Dense(128, activation = \"relu\"))\n",
        "model.add(Dense(5, activation = \"softmax\"))\n",
        "\n",
        "model.summary()"
      ],
      "execution_count": 0,
      "outputs": [
        {
          "output_type": "stream",
          "text": [
            "Model: \"sequential_6\"\n",
            "_________________________________________________________________\n",
            "Layer (type)                 Output Shape              Param #   \n",
            "=================================================================\n",
            "conv2d_10 (Conv2D)           (None, 24, 24, 32)        832       \n",
            "_________________________________________________________________\n",
            "conv2d_11 (Conv2D)           (None, 20, 20, 16)        12816     \n",
            "_________________________________________________________________\n",
            "max_pooling2d_4 (MaxPooling2 (None, 10, 10, 16)        0         \n",
            "_________________________________________________________________\n",
            "conv2d_12 (Conv2D)           (None, 8, 8, 8)           1160      \n",
            "_________________________________________________________________\n",
            "flatten_4 (Flatten)          (None, 512)               0         \n",
            "_________________________________________________________________\n",
            "dropout_4 (Dropout)          (None, 512)               0         \n",
            "_________________________________________________________________\n",
            "dense_11 (Dense)             (None, 128)               65664     \n",
            "_________________________________________________________________\n",
            "dense_12 (Dense)             (None, 5)                 645       \n",
            "=================================================================\n",
            "Total params: 81,117\n",
            "Trainable params: 81,117\n",
            "Non-trainable params: 0\n",
            "_________________________________________________________________\n"
          ],
          "name": "stdout"
        }
      ]
    },
    {
      "cell_type": "markdown",
      "metadata": {
        "id": "0hzjH99GGkCV",
        "colab_type": "text"
      },
      "source": [
        "**Model training: Digits 0 to 4**"
      ]
    },
    {
      "cell_type": "code",
      "metadata": {
        "id": "FrPoVxDnGkCW",
        "colab_type": "code",
        "colab": {}
      },
      "source": [
        "model.compile(loss = \"categorical_crossentropy\",\n",
        "             optimizer = 'adam',\n",
        "             metrics = ['accuracy'])"
      ],
      "execution_count": 0,
      "outputs": []
    },
    {
      "cell_type": "code",
      "metadata": {
        "id": "YIRcvjZ_GkCa",
        "colab_type": "code",
        "colab": {},
        "outputId": "851aa782-8a87-444f-fa2b-cc9625db647e"
      },
      "source": [
        "start = datetime.datetime.now()\n",
        "\n",
        "history1 = model.fit(pt_x_train, pt_y_train, \n",
        "         validation_data = (pt_x_test, pt_y_test),\n",
        "         epochs = 10,\n",
        "         shuffle = True,\n",
        "         batch_size = 100,\n",
        "         verbose = 1)\n",
        "\n",
        "end = datetime.datetime.now()\n",
        "time1 = (end - start).total_seconds()\n",
        "print(\"Original model | Time to fit: \", time1)"
      ],
      "execution_count": 0,
      "outputs": [
        {
          "output_type": "stream",
          "text": [
            "Train on 10225 samples, validate on 5139 samples\n",
            "Epoch 1/10\n",
            "10225/10225 [==============================] - 16s 2ms/step - loss: 0.3081 - accuracy: 0.8965 - val_loss: 0.0510 - val_accuracy: 0.9844\n",
            "Epoch 2/10\n",
            "10225/10225 [==============================] - 16s 2ms/step - loss: 0.0789 - accuracy: 0.9771 - val_loss: 0.0304 - val_accuracy: 0.9907\n",
            "Epoch 3/10\n",
            "10225/10225 [==============================] - 15s 2ms/step - loss: 0.0535 - accuracy: 0.9841 - val_loss: 0.0188 - val_accuracy: 0.9949\n",
            "Epoch 4/10\n",
            "10225/10225 [==============================] - 15s 1ms/step - loss: 0.0394 - accuracy: 0.9868 - val_loss: 0.0169 - val_accuracy: 0.9955\n",
            "Epoch 5/10\n",
            "10225/10225 [==============================] - 14s 1ms/step - loss: 0.0309 - accuracy: 0.9908 - val_loss: 0.0126 - val_accuracy: 0.9965\n",
            "Epoch 6/10\n",
            "10225/10225 [==============================] - 16s 2ms/step - loss: 0.0300 - accuracy: 0.9906 - val_loss: 0.0165 - val_accuracy: 0.9951\n",
            "Epoch 7/10\n",
            "10225/10225 [==============================] - 15s 1ms/step - loss: 0.0228 - accuracy: 0.9919 - val_loss: 0.0105 - val_accuracy: 0.9963\n",
            "Epoch 8/10\n",
            "10225/10225 [==============================] - 18s 2ms/step - loss: 0.0234 - accuracy: 0.9922 - val_loss: 0.0075 - val_accuracy: 0.9979\n",
            "Epoch 9/10\n",
            "10225/10225 [==============================] - 14s 1ms/step - loss: 0.0177 - accuracy: 0.9945 - val_loss: 0.0080 - val_accuracy: 0.9977\n",
            "Epoch 10/10\n",
            "10225/10225 [==============================] - 15s 1ms/step - loss: 0.0191 - accuracy: 0.9934 - val_loss: 0.0074 - val_accuracy: 0.9975\n",
            "Original model | Time to fit:  156.871777\n"
          ],
          "name": "stdout"
        }
      ]
    },
    {
      "cell_type": "markdown",
      "metadata": {
        "id": "bsKaXr_6GkCd",
        "colab_type": "text"
      },
      "source": [
        "### Transfer learning"
      ]
    },
    {
      "cell_type": "markdown",
      "metadata": {
        "id": "LN5h5fJoGkCe",
        "colab_type": "text"
      },
      "source": [
        "**Freezing initial layers**"
      ]
    },
    {
      "cell_type": "code",
      "metadata": {
        "id": "4TT9wSAtGkCf",
        "colab_type": "code",
        "colab": {}
      },
      "source": [
        "for layer in model.layers[:6]:\n",
        "    layer.trainable = False\n",
        "\n",
        "# for layer in model.layers:\n",
        "#     print(layer.trainable)"
      ],
      "execution_count": 0,
      "outputs": []
    },
    {
      "cell_type": "markdown",
      "metadata": {
        "id": "7oy6ZprNGkCj",
        "colab_type": "text"
      },
      "source": [
        "**Architecture: Transfer Learning**\n",
        "+ Model for training digits 5 to 9"
      ]
    },
    {
      "cell_type": "code",
      "metadata": {
        "id": "eGiXWnkpGkCk",
        "colab_type": "code",
        "colab": {},
        "outputId": "8622a7a1-cedf-48e6-b9f3-b1f2e846ee0c"
      },
      "source": [
        "tl_model = Sequential(model.layers[:6])\n",
        "\n",
        "tl_model.add(Dense(128, activation = \"relu\"))\n",
        "tl_model.add(Dense(10, activation = \"softmax\"))\n",
        "\n",
        "tl_model.summary()"
      ],
      "execution_count": 0,
      "outputs": [
        {
          "output_type": "stream",
          "text": [
            "Model: \"sequential_7\"\n",
            "_________________________________________________________________\n",
            "Layer (type)                 Output Shape              Param #   \n",
            "=================================================================\n",
            "conv2d_10 (Conv2D)           (None, 24, 24, 32)        832       \n",
            "_________________________________________________________________\n",
            "conv2d_11 (Conv2D)           (None, 20, 20, 16)        12816     \n",
            "_________________________________________________________________\n",
            "max_pooling2d_4 (MaxPooling2 (None, 10, 10, 16)        0         \n",
            "_________________________________________________________________\n",
            "conv2d_12 (Conv2D)           (None, 8, 8, 8)           1160      \n",
            "_________________________________________________________________\n",
            "flatten_4 (Flatten)          (None, 512)               0         \n",
            "_________________________________________________________________\n",
            "dropout_4 (Dropout)          (None, 512)               0         \n",
            "_________________________________________________________________\n",
            "dense_13 (Dense)             (None, 128)               65664     \n",
            "_________________________________________________________________\n",
            "dense_14 (Dense)             (None, 10)                1290      \n",
            "=================================================================\n",
            "Total params: 81,762\n",
            "Trainable params: 66,954\n",
            "Non-trainable params: 14,808\n",
            "_________________________________________________________________\n"
          ],
          "name": "stdout"
        }
      ]
    },
    {
      "cell_type": "code",
      "metadata": {
        "id": "3hSmKKZrGkCm",
        "colab_type": "code",
        "colab": {}
      },
      "source": [
        "tl_model.compile(loss = \"categorical_crossentropy\",\n",
        "                optimizer = 'adam',\n",
        "                metrics = ['accuracy'])"
      ],
      "execution_count": 0,
      "outputs": []
    },
    {
      "cell_type": "code",
      "metadata": {
        "id": "RNH3uDyTGkCo",
        "colab_type": "code",
        "colab": {},
        "outputId": "0a4b9dbb-a1a4-47e0-d7d2-40dc50d70349"
      },
      "source": [
        "start = datetime.datetime.now()\n",
        "\n",
        "history2 = tl_model.fit(tl_x_train, tl_y_train,\n",
        "             validation_data = (tl_x_test, tl_y_test),\n",
        "            epochs = 10,\n",
        "             batch_size = 100, # Usually powers of 2. 32 is default\n",
        "             shuffle = True,\n",
        "             verbose = 1)\n",
        "\n",
        "end = datetime.datetime.now()\n",
        "time2 = (end - start).total_seconds()\n",
        "print(\"Transfer Learning | Time to fit: \", time2)"
      ],
      "execution_count": 0,
      "outputs": [
        {
          "output_type": "stream",
          "text": [
            "Train on 9775 samples, validate on 4861 samples\n",
            "Epoch 1/10\n",
            "9775/9775 [==============================] - 4s 377us/step - loss: 0.3376 - accuracy: 0.8969 - val_loss: 0.0725 - val_accuracy: 0.9792\n",
            "Epoch 2/10\n",
            "9775/9775 [==============================] - 3s 325us/step - loss: 0.0885 - accuracy: 0.9730 - val_loss: 0.0511 - val_accuracy: 0.9854\n",
            "Epoch 3/10\n",
            "9775/9775 [==============================] - 4s 368us/step - loss: 0.0718 - accuracy: 0.9774 - val_loss: 0.0501 - val_accuracy: 0.9835\n",
            "Epoch 4/10\n",
            "9775/9775 [==============================] - 4s 418us/step - loss: 0.0606 - accuracy: 0.9815 - val_loss: 0.0446 - val_accuracy: 0.9870\n",
            "Epoch 5/10\n",
            "9775/9775 [==============================] - 5s 509us/step - loss: 0.0537 - accuracy: 0.9825 - val_loss: 0.0366 - val_accuracy: 0.9877\n",
            "Epoch 6/10\n",
            "9775/9775 [==============================] - 3s 352us/step - loss: 0.0480 - accuracy: 0.9849 - val_loss: 0.0371 - val_accuracy: 0.9893\n",
            "Epoch 7/10\n",
            "9775/9775 [==============================] - 3s 342us/step - loss: 0.0494 - accuracy: 0.9849 - val_loss: 0.0409 - val_accuracy: 0.9858\n",
            "Epoch 8/10\n",
            "9775/9775 [==============================] - 3s 335us/step - loss: 0.0446 - accuracy: 0.9859 - val_loss: 0.0331 - val_accuracy: 0.9899\n",
            "Epoch 9/10\n",
            "9775/9775 [==============================] - 4s 374us/step - loss: 0.0402 - accuracy: 0.9868 - val_loss: 0.0369 - val_accuracy: 0.9893\n",
            "Epoch 10/10\n",
            "9775/9775 [==============================] - 4s 360us/step - loss: 0.0394 - accuracy: 0.9864 - val_loss: 0.0325 - val_accuracy: 0.9895\n",
            "Transfer Learning | Time to fit:  37.136697\n"
          ],
          "name": "stdout"
        }
      ]
    },
    {
      "cell_type": "markdown",
      "metadata": {
        "id": "yYVcDWsEGkCq",
        "colab_type": "text"
      },
      "source": [
        "### Visualization\n",
        "\n",
        "**Training loss**"
      ]
    },
    {
      "cell_type": "code",
      "metadata": {
        "id": "L_l2o5yCGkCr",
        "colab_type": "code",
        "colab": {},
        "outputId": "2d9c358d-39a3-4a5f-bc75-d40c0f5c4d88"
      },
      "source": [
        "#history2.history.keys()\n",
        "plt.figure(figsize = (10,10))\n",
        "plt.xticks(fontsize = 15)\n",
        "plt.yticks(fontsize = 15)\n",
        "plt.xlabel(\"Epoch #\", fontsize = 15)\n",
        "plt.ylabel(\"Loss\", fontsize = 15)\n",
        "plt.plot(history1.history['loss'], 'k-')\n",
        "plt.plot(history2.history['loss'], 'b-')\n",
        "plt.plot(history1.history['val_loss'], 'k.')\n",
        "plt.plot(history2.history['val_loss'], 'b.')\n",
        "plt.legend(['Train: Original', 'Train: Transfer', \n",
        "            'Test: Original', 'Test: Transfer'], fontsize = 15)\n",
        "plt.savefig(\"CE_ML_Project_09_02_LossComparison.jpeg\")\n",
        "plt.show()"
      ],
      "execution_count": 0,
      "outputs": [
        {
          "output_type": "display_data",
          "data": {
            "image/png": "[encoded data removed]",
            "text/plain": [
              "<Figure size 720x720 with 1 Axes>"
            ]
          },
          "metadata": {
            "tags": [],
            "needs_background": "light"
          }
        }
      ]
    },
    {
      "cell_type": "markdown",
      "metadata": {
        "id": "x5vb-_oIGkCt",
        "colab_type": "text"
      },
      "source": [
        "**Comparison**"
      ]
    },
    {
      "cell_type": "code",
      "metadata": {
        "id": "qZZ7VhDbGkCv",
        "colab_type": "code",
        "colab": {}
      },
      "source": [
        "# df1 = pd.DataFrame({'Original': [time1],\n",
        "#                    'Transfer learning': [time2]},\n",
        "#                   index=['CNN'])\n",
        "# print(df1)\n",
        "\n",
        "# plt.figure(figsize = (10,10))\n",
        "# df1.plot(kind = 'bar')\n",
        "# plt.xticks(fontsize = 15, rotation = 0)\n",
        "# plt.yticks(fontsize = 15)\n",
        "# #plt.xlabel(\"Model\", fontsize = 15)\n",
        "# plt.ylabel(\"Training time (sec)\", fontsize = 15)\n",
        "# plt.show()"
      ],
      "execution_count": 0,
      "outputs": []
    },
    {
      "cell_type": "code",
      "metadata": {
        "id": "gZXIXNK0GkCy",
        "colab_type": "code",
        "colab": {},
        "outputId": "240fd855-0c73-439b-b4a1-ec875c16488e"
      },
      "source": [
        "print(f\"Original time to fit: {round(time1, 2)} seconds and the Transfer learning time to fit: {round(time2, 2)} seconds\")\n",
        "print(f\"Using transfer learning, training time saved: {round((1 - time2/time1)*100,2)} % \\n\")\n",
        "\n",
        "objects = ('Original learning', 'Transfer learning')\n",
        "y_pos = np.arange(len(objects))\n",
        "performance = [time1, time2]\n",
        "\n",
        "plt.figure(figsize = (10,10))\n",
        "plt.bar(y_pos, performance, align='center', alpha=0.5, color = 'b')\n",
        "plt.xticks(y_pos, objects)\n",
        "plt.xticks(fontsize = 15)\n",
        "plt.yticks(fontsize = 15)\n",
        "plt.ylabel('Training time (seconds)', fontsize = 15)\n",
        "plt.savefig(\"CE_ML_Project_09_03_TimeComparison.jpeg\")\n",
        "plt.show()"
      ],
      "execution_count": 0,
      "outputs": [
        {
          "output_type": "stream",
          "text": [
            "Original time to fit: 156.87 seconds and the Transfer learning time to fit: 37.14 seconds\n",
            "Using transfer learning, training time saved: 76.33 % \n",
            "\n"
          ],
          "name": "stdout"
        },
        {
          "output_type": "display_data",
          "data": {
            "image/png": "[encoded data removed]",
            "text/plain": [
              "<Figure size 720x720 with 1 Axes>"
            ]
          },
          "metadata": {
            "tags": [],
            "needs_background": "light"
          }
        }
      ]
    },
    {
      "cell_type": "code",
      "metadata": {
        "id": "CkwvZKPBGkC0",
        "colab_type": "code",
        "colab": {}
      },
      "source": [
        ""
      ],
      "execution_count": 0,
      "outputs": []
    }
  ]
}