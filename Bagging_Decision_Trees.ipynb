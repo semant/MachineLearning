{
  "nbformat": 4,
  "nbformat_minor": 0,
  "metadata": {
    "kernelspec": {
      "display_name": "Python 3",
      "language": "python",
      "name": "python3"
    },
    "language_info": {
      "codemirror_mode": {
        "name": "ipython",
        "version": 3
      },
      "file_extension": ".py",
      "mimetype": "text/x-python",
      "name": "python",
      "nbconvert_exporter": "python",
      "pygments_lexer": "ipython3",
      "version": "3.7.4"
    },
    "colab": {
      "name": "CE_ML_Project_16_Bagging.ipynb",
      "provenance": []
    }
  },
  "cells": [
    {
      "cell_type": "markdown",
      "metadata": {
        "id": "mdiMJuityGzi",
        "colab_type": "text"
      },
      "source": [
        "# Bootstrap Aggregating (Bagging) to Reduce Variance in Decision Tree Analysis\n",
        "\n",
        "> Semant Jain, PhD \n",
        "> semant@gmail.com\n",
        "\n",
        "### Background\n",
        "Bootstrap aggregating (Bagging) is a machine learning algorithm used for classification and regression. As individual machine learning algorithms can lead to overfitting, averaging all the constituent models reduces variance and overfitting which can improve stability and accuracy. While bagging has been usually applied to decision tree methods, it can be used with any other type of classification or regression method.\n",
        "\n",
        "As an ensemble training model, Bagging promotes variance by training each model by using a randomly drawn subset of the training set. In the ensemble, each model votes with equal weight. For instance, very high classification accuracy can be achieved by the random forest algorithm by using bagging to combine random decision trees.\n",
        "\n",
        "\n",
        "### Summary\n",
        "To compare the improvement offered by bagging, a public dataset - Mnist - was analyzed by a decision tree, 5 decision trees, 10 decision trees, and a bagging classifier with 20 estimators. While the decision tree was able to achieve 100% training accuracy, its testing accuracy was merely 84% which indicated overfitting. As the number of decision trees in the ensemble increased, so, did the testing accuracy (89.3% with a random forest forest with 5 decisions trees, 92.9% with 10 decision trees, and 93.6% with a 20 decision tree classifier).\n",
        "\n",
        "\n",
        "### Contents\n",
        "+ Setting up\n",
        "+ Models\n",
        "+ Visualization\n",
        "\n",
        "\n",
        "### Libraries\n",
        "+ Numpy\n",
        "+ Matplotlib\n",
        "+ Sklearn"
      ]
    },
    {
      "cell_type": "markdown",
      "metadata": {
        "id": "oFmGwb8dyGzm",
        "colab_type": "text"
      },
      "source": [
        "# 1. Setting up\n",
        "\n",
        "### Imporing libraries"
      ]
    },
    {
      "cell_type": "code",
      "metadata": {
        "id": "ogoNZqMfyGzq",
        "colab_type": "code",
        "colab": {}
      },
      "source": [
        "import matplotlib.pyplot as plt\n",
        "%matplotlib inline\n",
        "import numpy as np\n",
        "import pandas as pd\n",
        "\n",
        "from sklearn.datasets import load_digits\n",
        "from sklearn.ensemble import BaggingClassifier, RandomForestClassifier\n",
        "from sklearn.model_selection import train_test_split\n",
        "from sklearn.tree import DecisionTreeClassifier"
      ],
      "execution_count": 0,
      "outputs": []
    },
    {
      "cell_type": "markdown",
      "metadata": {
        "id": "RbmHTo3myGz3",
        "colab_type": "text"
      },
      "source": [
        "### Importing data"
      ]
    },
    {
      "cell_type": "code",
      "metadata": {
        "id": "zg8ZK-3pyGz5",
        "colab_type": "code",
        "colab": {}
      },
      "source": [
        "mnist = load_digits()\n",
        "mnist.keys()"
      ],
      "execution_count": 0,
      "outputs": []
    },
    {
      "cell_type": "code",
      "metadata": {
        "id": "87sjFQW0yG0A",
        "colab_type": "code",
        "colab": {},
        "outputId": "dcb702a1-3999-4e15-a8da-00f4d07f1bfb"
      },
      "source": [
        "x_train, x_test, y_train, y_test = train_test_split(mnist.data, mnist.target)\n",
        "\n",
        "print(x_train.shape, y_train.shape)\n",
        "print(x_test.shape , y_test.shape)"
      ],
      "execution_count": 0,
      "outputs": [
        {
          "output_type": "stream",
          "text": [
            "(1347, 64) (1347,)\n",
            "(450, 64) (450,)\n"
          ],
          "name": "stdout"
        }
      ]
    },
    {
      "cell_type": "markdown",
      "metadata": {
        "id": "WPFiy8yTyG0K",
        "colab_type": "text"
      },
      "source": [
        "# 2. Models\n",
        "\n",
        "### Decision Tree"
      ]
    },
    {
      "cell_type": "code",
      "metadata": {
        "id": "uDi3iBwRyG0M",
        "colab_type": "code",
        "colab": {},
        "outputId": "891f7799-4f0f-4165-d18a-994947b2848e"
      },
      "source": [
        "dt = DecisionTreeClassifier()\n",
        "dt.fit(x_train, y_train)\n",
        "\n",
        "q = []\n",
        "\n",
        "dt1 = dt.score(x_test, y_test)\n",
        "dt2 = dt.score(x_train, y_train)\n",
        "\n",
        "print(round(dt1, 4), round(dt2, 4))"
      ],
      "execution_count": 0,
      "outputs": [
        {
          "output_type": "stream",
          "text": [
            "0.84 1.0\n"
          ],
          "name": "stdout"
        }
      ]
    },
    {
      "cell_type": "markdown",
      "metadata": {
        "id": "UeV6gI06yG0V",
        "colab_type": "text"
      },
      "source": [
        "### Bagging: Random Forest with 5 Decision Trees"
      ]
    },
    {
      "cell_type": "code",
      "metadata": {
        "id": "hj5gayPyyG0Y",
        "colab_type": "code",
        "colab": {},
        "outputId": "a14ef281-eb80-405d-c6fe-674d2bd17d22"
      },
      "source": [
        "rf = RandomForestClassifier(n_estimators = 5)\n",
        "rf.fit(x_train, y_train)\n",
        "\n",
        "rf1 = rf.score(x_test, y_test)\n",
        "rf2 = rf.score(x_train, y_train)\n",
        "\n",
        "print(round(rf1, 4), round(rf2, 4))"
      ],
      "execution_count": 0,
      "outputs": [
        {
          "output_type": "stream",
          "text": [
            "0.8933 0.9903\n"
          ],
          "name": "stdout"
        }
      ]
    },
    {
      "cell_type": "markdown",
      "metadata": {
        "id": "-r7yGnXKyG0i",
        "colab_type": "text"
      },
      "source": [
        "### Bagging: Random Forest with 10 Decision Trees"
      ]
    },
    {
      "cell_type": "code",
      "metadata": {
        "id": "NvMJrIb0yG0m",
        "colab_type": "code",
        "colab": {},
        "outputId": "b821e679-3ece-4036-d6b9-64239671da76"
      },
      "source": [
        "rf = RandomForestClassifier(n_estimators = 10)\n",
        "rf.fit(x_train, y_train)\n",
        "\n",
        "rf3 = rf.score(x_test, y_test)\n",
        "rf4 = rf.score(x_train, y_train)\n",
        "\n",
        "print(round(rf3, 4), round(rf4, 4))"
      ],
      "execution_count": 0,
      "outputs": [
        {
          "output_type": "stream",
          "text": [
            "0.9289 1.0\n"
          ],
          "name": "stdout"
        }
      ]
    },
    {
      "cell_type": "markdown",
      "metadata": {
        "id": "4M3VHNrGyG0s",
        "colab_type": "text"
      },
      "source": [
        "### Bagging: Other classifers"
      ]
    },
    {
      "cell_type": "code",
      "metadata": {
        "id": "1QJkx9TOyG0u",
        "colab_type": "code",
        "colab": {},
        "outputId": "712adf9a-2fa1-46d2-f1e2-b3eebc4254bc"
      },
      "source": [
        "bg = BaggingClassifier(DecisionTreeClassifier(), \n",
        "                      max_samples = 0.5, # max % of original dataset that can be passed into a particular classifier (e.g. DT)\n",
        "                       n_estimators = 20, # how many DTs in bagging\n",
        "                       max_features = 1.0) # max split on '1' feature at each node. Ensure to put in 1.0\n",
        "bg.fit(x_train, y_train)\n",
        "\n",
        "bg1 = bg.score(x_test, y_test)\n",
        "bg2 = bg.score(x_train, y_train)\n",
        "\n",
        "print(round(bg1, 4), round(bg2, 4))"
      ],
      "execution_count": 0,
      "outputs": [
        {
          "output_type": "stream",
          "text": [
            "0.9356 0.9918\n"
          ],
          "name": "stdout"
        }
      ]
    },
    {
      "cell_type": "markdown",
      "metadata": {
        "id": "q08EvH5byG0z",
        "colab_type": "text"
      },
      "source": [
        "# 3. Visualization"
      ]
    },
    {
      "cell_type": "code",
      "metadata": {
        "id": "Hf9GSZMJyG00",
        "colab_type": "code",
        "colab": {},
        "outputId": "2ffb1244-5b97-4ad0-8f75-5547996444a6"
      },
      "source": [
        "# initialise data of lists. \n",
        "data = {'Training Accuracy':[dt2, rf2, rf4, bg2], 'Testing Accuracy':[dt1, rf1, rf3, bg1]} \n",
        "  \n",
        "# Creates pandas DataFrame. \n",
        "df = pd.DataFrame(data, index =['Decision Tree', 'Random Forest (5)', 'Random Forest (10)', 'DT Classifier (20)']) \n",
        "  \n",
        "# print the data \n",
        "df"
      ],
      "execution_count": 0,
      "outputs": [
        {
          "output_type": "execute_result",
          "data": {
            "text/html": [
              "<div>\n",
              "<style scoped>\n",
              "    .dataframe tbody tr th:only-of-type {\n",
              "        vertical-align: middle;\n",
              "    }\n",
              "\n",
              "    .dataframe tbody tr th {\n",
              "        vertical-align: top;\n",
              "    }\n",
              "\n",
              "    .dataframe thead th {\n",
              "        text-align: right;\n",
              "    }\n",
              "</style>\n",
              "<table border=\"1\" class=\"dataframe\">\n",
              "  <thead>\n",
              "    <tr style=\"text-align: right;\">\n",
              "      <th></th>\n",
              "      <th>Training Accuracy</th>\n",
              "      <th>Testing Accuracy</th>\n",
              "    </tr>\n",
              "  </thead>\n",
              "  <tbody>\n",
              "    <tr>\n",
              "      <td>Decision Tree</td>\n",
              "      <td>1.000000</td>\n",
              "      <td>0.840000</td>\n",
              "    </tr>\n",
              "    <tr>\n",
              "      <td>Random Forest (5)</td>\n",
              "      <td>0.990349</td>\n",
              "      <td>0.893333</td>\n",
              "    </tr>\n",
              "    <tr>\n",
              "      <td>Random Forest (10)</td>\n",
              "      <td>1.000000</td>\n",
              "      <td>0.928889</td>\n",
              "    </tr>\n",
              "    <tr>\n",
              "      <td>DT Classifier (20)</td>\n",
              "      <td>0.991834</td>\n",
              "      <td>0.935556</td>\n",
              "    </tr>\n",
              "  </tbody>\n",
              "</table>\n",
              "</div>"
            ],
            "text/plain": [
              "                    Training Accuracy  Testing Accuracy\n",
              "Decision Tree                1.000000          0.840000\n",
              "Random Forest (5)            0.990349          0.893333\n",
              "Random Forest (10)           1.000000          0.928889\n",
              "DT Classifier (20)           0.991834          0.935556"
            ]
          },
          "metadata": {
            "tags": []
          },
          "execution_count": 77
        }
      ]
    },
    {
      "cell_type": "code",
      "metadata": {
        "id": "yaN5Dn7wyG06",
        "colab_type": "code",
        "colab": {},
        "outputId": "aea91f9b-290e-4ee2-d1e8-dbf0003049ce"
      },
      "source": [
        "# Plot\n",
        "df.plot(figsize=(10,10), kind = \"bar\", legend = True, colormap = 'Set2')\n",
        "plt.xticks(fontsize = 15)\n",
        "plt.yticks(fontsize = 15)\n",
        "plt.ylabel(\"Accuracy\", fontsize = 15)\n",
        "plt.legend(fontsize = 15, loc='lower right')\n",
        "\n",
        "plt.savefig(\"CE_ML_Project_16_02.jpeg\")\n",
        "plt.show()"
      ],
      "execution_count": 0,
      "outputs": [
        {
          "output_type": "display_data",
          "data": {
            "image/png": "[encoded data removed]",
            "text/plain": [
              "<Figure size 720x720 with 1 Axes>"
            ]
          },
          "metadata": {
            "tags": [],
            "needs_background": "light"
          }
        }
      ]
    },
    {
      "cell_type": "code",
      "metadata": {
        "id": "R5hMKp_ayG0_",
        "colab_type": "code",
        "colab": {}
      },
      "source": [
        ""
      ],
      "execution_count": 0,
      "outputs": []
    }
  ]
}