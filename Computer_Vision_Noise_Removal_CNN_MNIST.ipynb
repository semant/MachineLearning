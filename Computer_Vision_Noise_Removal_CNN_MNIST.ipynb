{
  "nbformat": 4,
  "nbformat_minor": 0,
  "metadata": {
    "kernelspec": {
      "name": "python3",
      "display_name": "Python 3"
    },
    "language_info": {
      "codemirror_mode": {
        "name": "ipython",
        "version": 3
      },
      "file_extension": ".py",
      "mimetype": "text/x-python",
      "name": "python",
      "nbconvert_exporter": "python",
      "pygments_lexer": "ipython3",
      "version": "3.7.4"
    },
    "colab": {
      "name": "CE_ML_Project_05_CNN-MNIST.ipynb",
      "provenance": [],
      "collapsed_sections": [],
      "include_colab_link": true
    },
    "accelerator": "GPU"
  },
  "cells": [
    {
      "cell_type": "markdown",
      "metadata": {
        "id": "view-in-github",
        "colab_type": "text"
      },
      "source": [
        "<a href=\"https://colab.research.google.com/github/semant/MachineLearning/blob/master/Computer_Vision_Noise_Removal_CNN_MNIST.ipynb\" target=\"_parent\"><img src=\"https://colab.research.google.com/assets/colab-badge.svg\" alt=\"Open In Colab\"/></a>"
      ]
    },
    {
      "cell_type": "markdown",
      "metadata": {
        "id": "iRcuTYzIiiE2",
        "colab_type": "text"
      },
      "source": [
        "# Convolutional Neural Network (CNN)\n",
        "### Computer Vision: Noise Removal \n",
        "### Keras Dataset: MNist\n",
        "\n",
        "### Summary\n",
        "In this project, a Convolutional Neural Network was created to remove noise from hand written digits. Use of a sequential model would have resulted in accuracies being highly dependent on model architecture as there is loss of spatial information when flattening the input layers. Use of a CNN ensures model stability and a steady decrease in loss. Execution of 100 epochs using a batch size of 128 on Google Colaboratory was completed in approximately 3 seconds per epoch and the elbow around 15 epochs.\n",
        "\n",
        "+ Training error decreased from 17.86% to 9.42%\n",
        "+ Test error decreased from 12.91% to 9.37%"
      ]
    },
    {
      "cell_type": "code",
      "metadata": {
        "id": "t4QawZOtiiE5",
        "colab_type": "code",
        "colab": {
          "base_uri": "https://localhost:8080/",
          "height": 80
        },
        "outputId": "76c08801-66d5-4a15-cb80-af451305a940"
      },
      "source": [
        "from keras.datasets import mnist\n",
        "import numpy as np\n",
        "import matplotlib.pyplot as plt\n",
        "%matplotlib inline\n",
        "\n",
        "from keras.models import Model\n",
        "from keras.layers import Input, Conv2D, MaxPool2D, UpSampling2D"
      ],
      "execution_count": 1,
      "outputs": [
        {
          "output_type": "stream",
          "text": [
            "Using TensorFlow backend.\n"
          ],
          "name": "stderr"
        },
        {
          "output_type": "display_data",
          "data": {
            "text/html": [
              "<p style=\"color: red;\">\n",
              "The default version of TensorFlow in Colab will soon switch to TensorFlow 2.x.<br>\n",
              "We recommend you <a href=\"https://www.tensorflow.org/guide/migrate\" target=\"_blank\">upgrade</a> now \n",
              "or ensure your notebook will continue to use TensorFlow 1.x via the <code>%tensorflow_version 1.x</code> magic:\n",
              "<a href=\"https://colab.research.google.com/notebooks/tensorflow_version.ipynb\" target=\"_blank\">more info</a>.</p>\n"
            ],
            "text/plain": [
              "<IPython.core.display.HTML object>"
            ]
          },
          "metadata": {
            "tags": []
          }
        }
      ]
    },
    {
      "cell_type": "code",
      "metadata": {
        "id": "9TJALWlgiiFB",
        "colab_type": "code",
        "colab": {
          "base_uri": "https://localhost:8080/",
          "height": 68
        },
        "outputId": "0165a897-646b-4a4a-9d74-e5a9250a5c7e"
      },
      "source": [
        "(x_train, _), (x_test, _) = mnist.load_data()\n",
        "\n",
        "print(x_train.shape, x_test.shape)"
      ],
      "execution_count": 2,
      "outputs": [
        {
          "output_type": "stream",
          "text": [
            "Downloading data from https://s3.amazonaws.com/img-datasets/mnist.npz\n",
            "11493376/11490434 [==============================] - 1s 0us/step\n",
            "(60000, 28, 28) (10000, 28, 28)\n"
          ],
          "name": "stdout"
        }
      ]
    },
    {
      "cell_type": "markdown",
      "metadata": {
        "id": "eUDBe7oriiFI",
        "colab_type": "text"
      },
      "source": [
        "### Data Normalization"
      ]
    },
    {
      "cell_type": "code",
      "metadata": {
        "id": "6LfMZLjtiiFK",
        "colab_type": "code",
        "colab": {
          "base_uri": "https://localhost:8080/",
          "height": 85
        },
        "outputId": "352442ef-5aee-48bf-9eea-f173dd241c09"
      },
      "source": [
        "# Denormalized\n",
        "print(x_train.min(), x_train.max())\n",
        "print(x_test.min(), x_test.max())\n",
        "\n",
        "# Normalized\n",
        "X_train = x_train.astype('float32')/255\n",
        "X_test  = x_test.astype('float32')/255\n",
        "print(X_train.min(), X_train.max())\n",
        "print(X_test.min(), X_test.max())"
      ],
      "execution_count": 3,
      "outputs": [
        {
          "output_type": "stream",
          "text": [
            "0 255\n",
            "0 255\n",
            "0.0 1.0\n",
            "0.0 1.0\n"
          ],
          "name": "stdout"
        }
      ]
    },
    {
      "cell_type": "markdown",
      "metadata": {
        "id": "WHvwjNPWiiFP",
        "colab_type": "text"
      },
      "source": [
        "### Adding Channels"
      ]
    },
    {
      "cell_type": "code",
      "metadata": {
        "id": "Ib2WFrJJiiFQ",
        "colab_type": "code",
        "colab": {
          "base_uri": "https://localhost:8080/",
          "height": 34
        },
        "outputId": "aa606e01-729d-490d-8cc1-e7606e1ae6b2"
      },
      "source": [
        "X_train = X_train.reshape(-1, 28, 28, 1)\n",
        "X_test  = X_test.reshape(-1, 28, 28, 1)\n",
        "print(X_train.shape, X_test.shape)"
      ],
      "execution_count": 4,
      "outputs": [
        {
          "output_type": "stream",
          "text": [
            "(60000, 28, 28, 1) (10000, 28, 28, 1)\n"
          ],
          "name": "stdout"
        }
      ]
    },
    {
      "cell_type": "markdown",
      "metadata": {
        "id": "Ro-mBO9jiiFV",
        "colab_type": "text"
      },
      "source": [
        "### Creating Noisy Images"
      ]
    },
    {
      "cell_type": "code",
      "metadata": {
        "id": "PA2JJNqDiiFY",
        "colab_type": "code",
        "colab": {
          "base_uri": "https://localhost:8080/",
          "height": 51
        },
        "outputId": "a2940e66-a52f-42f8-ec1e-e12c0538959b"
      },
      "source": [
        "noise_factor = 0.5\n",
        "X_train_noisy = X_train + noise_factor * np.random.normal(0.0, 1.0, X_train.shape)\n",
        "X_test_noisy  = X_test  + noise_factor * np.random.normal(0.0, 1.0, X_test.shape) \n",
        "\n",
        "print(X_train_noisy.min(), X_train_noisy.max())\n",
        "print(X_test_noisy.min(), X_test_noisy.max())"
      ],
      "execution_count": 5,
      "outputs": [
        {
          "output_type": "stream",
          "text": [
            "-2.8333777051542275 3.5211106650147794\n",
            "-2.540173638993445 3.4285028317009125\n"
          ],
          "name": "stdout"
        }
      ]
    },
    {
      "cell_type": "markdown",
      "metadata": {
        "id": "bGCptL_8iiFe",
        "colab_type": "text"
      },
      "source": [
        "### Clipping"
      ]
    },
    {
      "cell_type": "code",
      "metadata": {
        "id": "P0K9hmMXiiFg",
        "colab_type": "code",
        "colab": {
          "base_uri": "https://localhost:8080/",
          "height": 51
        },
        "outputId": "087e0530-2368-49a5-d7cc-fff9f514288d"
      },
      "source": [
        "X_train_noisy = np.clip(X_train_noisy, 0., 1.)\n",
        "X_test_noisy = np.clip(X_test_noisy, 0., 1.) \n",
        "\n",
        "\n",
        "print(X_train_noisy.min(), X_train_noisy.max())\n",
        "print(X_test_noisy.min(), X_test_noisy.max())"
      ],
      "execution_count": 6,
      "outputs": [
        {
          "output_type": "stream",
          "text": [
            "0.0 1.0\n",
            "0.0 1.0\n"
          ],
          "name": "stdout"
        }
      ]
    },
    {
      "cell_type": "markdown",
      "metadata": {
        "id": "eiz2dZ6biiFk",
        "colab_type": "text"
      },
      "source": [
        "### Sampling noisy images"
      ]
    },
    {
      "cell_type": "code",
      "metadata": {
        "id": "bJnMCr5OiiFm",
        "colab_type": "code",
        "colab": {
          "base_uri": "https://localhost:8080/",
          "height": 145
        },
        "outputId": "d66607c6-93bf-429f-f7d5-c2c4f218099a"
      },
      "source": [
        "n = 10\n",
        "plt.figure(figsize = (20, 2))\n",
        "for i in range(1, n+1):\n",
        "    sp = plt.subplot(1, n, i)\n",
        "    plt.imshow(X_test_noisy[i-1].reshape(28, 28))\n",
        "    plt.gray()\n",
        "plt.show()"
      ],
      "execution_count": 7,
      "outputs": [
        {
          "output_type": "display_data",
          "data": {
            "image/png": "[encoded data removed]",
            "text/plain": [
              "<Figure size 1440x144 with 10 Axes>"
            ]
          },
          "metadata": {
            "tags": []
          }
        }
      ]
    },
    {
      "cell_type": "markdown",
      "metadata": {
        "id": "BIeY4AaGiiFq",
        "colab_type": "text"
      },
      "source": [
        "### Encoder"
      ]
    },
    {
      "cell_type": "code",
      "metadata": {
        "id": "S9yJ3HCRiiFr",
        "colab_type": "code",
        "colab": {
          "base_uri": "https://localhost:8080/",
          "height": 173
        },
        "outputId": "d663e550-9615-4086-f556-179c01a4afb2"
      },
      "source": [
        "input_img = Input(shape = (28, 28, 1))\n",
        "\n",
        "x = Conv2D(32, (3,3), activation = \"relu\", padding = \"same\")(input_img)\n",
        "x = MaxPool2D((2, 2))(x)\n",
        "x = Conv2D(32, (3,3), activation = 'relu', padding = 'same')(x)\n",
        "\n",
        "encoded = MaxPool2D((2,2))(x)"
      ],
      "execution_count": 8,
      "outputs": [
        {
          "output_type": "stream",
          "text": [
            "WARNING:tensorflow:From /usr/local/lib/python3.6/dist-packages/keras/backend/tensorflow_backend.py:66: The name tf.get_default_graph is deprecated. Please use tf.compat.v1.get_default_graph instead.\n",
            "\n",
            "WARNING:tensorflow:From /usr/local/lib/python3.6/dist-packages/keras/backend/tensorflow_backend.py:541: The name tf.placeholder is deprecated. Please use tf.compat.v1.placeholder instead.\n",
            "\n",
            "WARNING:tensorflow:From /usr/local/lib/python3.6/dist-packages/keras/backend/tensorflow_backend.py:4432: The name tf.random_uniform is deprecated. Please use tf.random.uniform instead.\n",
            "\n",
            "WARNING:tensorflow:From /usr/local/lib/python3.6/dist-packages/keras/backend/tensorflow_backend.py:4267: The name tf.nn.max_pool is deprecated. Please use tf.nn.max_pool2d instead.\n",
            "\n"
          ],
          "name": "stdout"
        }
      ]
    },
    {
      "cell_type": "markdown",
      "metadata": {
        "id": "Yq4oLA5FiiFv",
        "colab_type": "text"
      },
      "source": [
        "### Decoder"
      ]
    },
    {
      "cell_type": "code",
      "metadata": {
        "id": "w0bJBcFziiFw",
        "colab_type": "code",
        "colab": {
          "base_uri": "https://localhost:8080/",
          "height": 71
        },
        "outputId": "a4a797bd-b86c-4b03-ba50-a7be3db852cb"
      },
      "source": [
        "x = Conv2D(32, (3,3), activation = \"relu\", padding = \"same\")(encoded)\n",
        "x = UpSampling2D((2,2))(x)\n",
        "x = Conv2D(32, (3,3), activation = \"relu\", padding = \"same\")(x)\n",
        "x = UpSampling2D((2,2))(x)\n",
        "\n",
        "decoded = Conv2D(1, (3,3), activation = \"sigmoid\", padding = \"same\")(x)"
      ],
      "execution_count": 9,
      "outputs": [
        {
          "output_type": "stream",
          "text": [
            "WARNING:tensorflow:From /usr/local/lib/python3.6/dist-packages/keras/backend/tensorflow_backend.py:2239: The name tf.image.resize_nearest_neighbor is deprecated. Please use tf.compat.v1.image.resize_nearest_neighbor instead.\n",
            "\n"
          ],
          "name": "stdout"
        }
      ]
    },
    {
      "cell_type": "markdown",
      "metadata": {
        "id": "mUXmBjT2iiF4",
        "colab_type": "text"
      },
      "source": [
        "### Compilation"
      ]
    },
    {
      "cell_type": "code",
      "metadata": {
        "id": "3IVQLu6LiiF5",
        "colab_type": "code",
        "colab": {
          "base_uri": "https://localhost:8080/",
          "height": 156
        },
        "outputId": "a5ffc268-65fb-408d-cd15-77d540877d37"
      },
      "source": [
        "autoencoder = Model(input_img, decoded)\n",
        "autoencoder.compile(optimizer = 'adadelta',\n",
        "                   loss = 'binary_crossentropy')"
      ],
      "execution_count": 10,
      "outputs": [
        {
          "output_type": "stream",
          "text": [
            "WARNING:tensorflow:From /usr/local/lib/python3.6/dist-packages/keras/optimizers.py:793: The name tf.train.Optimizer is deprecated. Please use tf.compat.v1.train.Optimizer instead.\n",
            "\n",
            "WARNING:tensorflow:From /usr/local/lib/python3.6/dist-packages/keras/backend/tensorflow_backend.py:3657: The name tf.log is deprecated. Please use tf.math.log instead.\n",
            "\n",
            "WARNING:tensorflow:From /usr/local/lib/python3.6/dist-packages/tensorflow_core/python/ops/nn_impl.py:183: where (from tensorflow.python.ops.array_ops) is deprecated and will be removed in a future version.\n",
            "Instructions for updating:\n",
            "Use tf.where in 2.0, which has the same broadcast rule as np.where\n"
          ],
          "name": "stdout"
        }
      ]
    },
    {
      "cell_type": "markdown",
      "metadata": {
        "id": "liVdUvTPiiF8",
        "colab_type": "text"
      },
      "source": [
        "### Execution: Google CoLaboratory"
      ]
    },
    {
      "cell_type": "code",
      "metadata": {
        "id": "-O1IFGtEiiF9",
        "colab_type": "code",
        "colab": {
          "base_uri": "https://localhost:8080/",
          "height": 1000
        },
        "outputId": "eaedeb14-26e5-4249-b3b7-e6e5eb7fe037"
      },
      "source": [
        "history = autoencoder.fit(X_train_noisy, X_train, \n",
        "                          verbose = 1, \n",
        "                          validation_data = (X_test_noisy, X_test), \n",
        "                          epochs=100, \n",
        "                          batch_size = 128, \n",
        "                          shuffle = True) "
      ],
      "execution_count": 11,
      "outputs": [
        {
          "output_type": "stream",
          "text": [
            "WARNING:tensorflow:From /usr/local/lib/python3.6/dist-packages/keras/backend/tensorflow_backend.py:1033: The name tf.assign_add is deprecated. Please use tf.compat.v1.assign_add instead.\n",
            "\n",
            "WARNING:tensorflow:From /usr/local/lib/python3.6/dist-packages/keras/backend/tensorflow_backend.py:1020: The name tf.assign is deprecated. Please use tf.compat.v1.assign instead.\n",
            "\n",
            "WARNING:tensorflow:From /usr/local/lib/python3.6/dist-packages/keras/backend/tensorflow_backend.py:3005: The name tf.Session is deprecated. Please use tf.compat.v1.Session instead.\n",
            "\n",
            "Train on 60000 samples, validate on 10000 samples\n",
            "Epoch 1/100\n",
            "WARNING:tensorflow:From /usr/local/lib/python3.6/dist-packages/keras/backend/tensorflow_backend.py:190: The name tf.get_default_session is deprecated. Please use tf.compat.v1.get_default_session instead.\n",
            "\n",
            "WARNING:tensorflow:From /usr/local/lib/python3.6/dist-packages/keras/backend/tensorflow_backend.py:197: The name tf.ConfigProto is deprecated. Please use tf.compat.v1.ConfigProto instead.\n",
            "\n",
            "WARNING:tensorflow:From /usr/local/lib/python3.6/dist-packages/keras/backend/tensorflow_backend.py:207: The name tf.global_variables is deprecated. Please use tf.compat.v1.global_variables instead.\n",
            "\n",
            "WARNING:tensorflow:From /usr/local/lib/python3.6/dist-packages/keras/backend/tensorflow_backend.py:216: The name tf.is_variable_initialized is deprecated. Please use tf.compat.v1.is_variable_initialized instead.\n",
            "\n",
            "WARNING:tensorflow:From /usr/local/lib/python3.6/dist-packages/keras/backend/tensorflow_backend.py:223: The name tf.variables_initializer is deprecated. Please use tf.compat.v1.variables_initializer instead.\n",
            "\n",
            "60000/60000 [==============================] - 17s 287us/step - loss: 0.1786 - val_loss: 0.1291\n",
            "Epoch 2/100\n",
            "60000/60000 [==============================] - 3s 52us/step - loss: 0.1188 - val_loss: 0.1136\n",
            "Epoch 3/100\n",
            "60000/60000 [==============================] - 3s 52us/step - loss: 0.1118 - val_loss: 0.1072\n",
            "Epoch 4/100\n",
            "60000/60000 [==============================] - 3s 54us/step - loss: 0.1079 - val_loss: 0.1039\n",
            "Epoch 5/100\n",
            "60000/60000 [==============================] - 3s 54us/step - loss: 0.1058 - val_loss: 0.1035\n",
            "Epoch 6/100\n",
            "60000/60000 [==============================] - 3s 52us/step - loss: 0.1044 - val_loss: 0.1025\n",
            "Epoch 7/100\n",
            "60000/60000 [==============================] - 3s 52us/step - loss: 0.1032 - val_loss: 0.1005\n",
            "Epoch 8/100\n",
            "60000/60000 [==============================] - 3s 52us/step - loss: 0.1024 - val_loss: 0.1008\n",
            "Epoch 9/100\n",
            "60000/60000 [==============================] - 3s 52us/step - loss: 0.1018 - val_loss: 0.1012\n",
            "Epoch 10/100\n",
            "60000/60000 [==============================] - 3s 52us/step - loss: 0.1011 - val_loss: 0.1006\n",
            "Epoch 11/100\n",
            "60000/60000 [==============================] - 3s 53us/step - loss: 0.1007 - val_loss: 0.0988\n",
            "Epoch 12/100\n",
            "60000/60000 [==============================] - 3s 52us/step - loss: 0.1003 - val_loss: 0.0988\n",
            "Epoch 13/100\n",
            "60000/60000 [==============================] - 3s 52us/step - loss: 0.0999 - val_loss: 0.0982\n",
            "Epoch 14/100\n",
            "60000/60000 [==============================] - 3s 52us/step - loss: 0.0997 - val_loss: 0.0987\n",
            "Epoch 15/100\n",
            "60000/60000 [==============================] - 3s 52us/step - loss: 0.0994 - val_loss: 0.0980\n",
            "Epoch 16/100\n",
            "60000/60000 [==============================] - 3s 52us/step - loss: 0.0990 - val_loss: 0.0985\n",
            "Epoch 17/100\n",
            "60000/60000 [==============================] - 3s 52us/step - loss: 0.0988 - val_loss: 0.0982\n",
            "Epoch 18/100\n",
            "60000/60000 [==============================] - 3s 52us/step - loss: 0.0986 - val_loss: 0.0971\n",
            "Epoch 19/100\n",
            "60000/60000 [==============================] - 3s 52us/step - loss: 0.0983 - val_loss: 0.0979\n",
            "Epoch 20/100\n",
            "60000/60000 [==============================] - 3s 53us/step - loss: 0.0982 - val_loss: 0.0967\n",
            "Epoch 21/100\n",
            "60000/60000 [==============================] - 3s 52us/step - loss: 0.0981 - val_loss: 0.0975\n",
            "Epoch 22/100\n",
            "60000/60000 [==============================] - 3s 52us/step - loss: 0.0980 - val_loss: 0.0968\n",
            "Epoch 23/100\n",
            "60000/60000 [==============================] - 3s 52us/step - loss: 0.0977 - val_loss: 0.0963\n",
            "Epoch 24/100\n",
            "60000/60000 [==============================] - 3s 52us/step - loss: 0.0975 - val_loss: 0.0987\n",
            "Epoch 25/100\n",
            "60000/60000 [==============================] - 3s 52us/step - loss: 0.0974 - val_loss: 0.0968\n",
            "Epoch 26/100\n",
            "60000/60000 [==============================] - 3s 54us/step - loss: 0.0973 - val_loss: 0.0960\n",
            "Epoch 27/100\n",
            "60000/60000 [==============================] - 3s 54us/step - loss: 0.0972 - val_loss: 0.0964\n",
            "Epoch 28/100\n",
            "60000/60000 [==============================] - 3s 55us/step - loss: 0.0972 - val_loss: 0.0971\n",
            "Epoch 29/100\n",
            "60000/60000 [==============================] - 3s 53us/step - loss: 0.0970 - val_loss: 0.0968\n",
            "Epoch 30/100\n",
            "60000/60000 [==============================] - 3s 53us/step - loss: 0.0968 - val_loss: 0.0964\n",
            "Epoch 31/100\n",
            "60000/60000 [==============================] - 3s 52us/step - loss: 0.0968 - val_loss: 0.0963\n",
            "Epoch 32/100\n",
            "60000/60000 [==============================] - 3s 52us/step - loss: 0.0966 - val_loss: 0.0966\n",
            "Epoch 33/100\n",
            "60000/60000 [==============================] - 3s 52us/step - loss: 0.0967 - val_loss: 0.0962\n",
            "Epoch 34/100\n",
            "60000/60000 [==============================] - 3s 52us/step - loss: 0.0965 - val_loss: 0.0957\n",
            "Epoch 35/100\n",
            "60000/60000 [==============================] - 3s 51us/step - loss: 0.0964 - val_loss: 0.0959\n",
            "Epoch 36/100\n",
            "60000/60000 [==============================] - 3s 52us/step - loss: 0.0964 - val_loss: 0.0964\n",
            "Epoch 37/100\n",
            "60000/60000 [==============================] - 3s 52us/step - loss: 0.0963 - val_loss: 0.0958\n",
            "Epoch 38/100\n",
            "60000/60000 [==============================] - 3s 52us/step - loss: 0.0962 - val_loss: 0.0959\n",
            "Epoch 39/100\n",
            "60000/60000 [==============================] - 3s 51us/step - loss: 0.0962 - val_loss: 0.0957\n",
            "Epoch 40/100\n",
            "60000/60000 [==============================] - 3s 52us/step - loss: 0.0962 - val_loss: 0.0965\n",
            "Epoch 41/100\n",
            "60000/60000 [==============================] - 3s 52us/step - loss: 0.0961 - val_loss: 0.0955\n",
            "Epoch 42/100\n",
            "60000/60000 [==============================] - 3s 52us/step - loss: 0.0960 - val_loss: 0.0951\n",
            "Epoch 43/100\n",
            "60000/60000 [==============================] - 3s 51us/step - loss: 0.0959 - val_loss: 0.0956\n",
            "Epoch 44/100\n",
            "60000/60000 [==============================] - 3s 51us/step - loss: 0.0958 - val_loss: 0.0951\n",
            "Epoch 45/100\n",
            "60000/60000 [==============================] - 3s 52us/step - loss: 0.0958 - val_loss: 0.0959\n",
            "Epoch 46/100\n",
            "60000/60000 [==============================] - 3s 51us/step - loss: 0.0957 - val_loss: 0.0952\n",
            "Epoch 47/100\n",
            "60000/60000 [==============================] - 3s 52us/step - loss: 0.0957 - val_loss: 0.0948\n",
            "Epoch 48/100\n",
            "60000/60000 [==============================] - 3s 52us/step - loss: 0.0957 - val_loss: 0.0950\n",
            "Epoch 49/100\n",
            "60000/60000 [==============================] - 3s 52us/step - loss: 0.0956 - val_loss: 0.0954\n",
            "Epoch 50/100\n",
            "60000/60000 [==============================] - 3s 52us/step - loss: 0.0955 - val_loss: 0.0948\n",
            "Epoch 51/100\n",
            "60000/60000 [==============================] - 3s 52us/step - loss: 0.0955 - val_loss: 0.0947\n",
            "Epoch 52/100\n",
            "60000/60000 [==============================] - 3s 52us/step - loss: 0.0955 - val_loss: 0.0951\n",
            "Epoch 53/100\n",
            "60000/60000 [==============================] - 3s 52us/step - loss: 0.0955 - val_loss: 0.0948\n",
            "Epoch 54/100\n",
            "60000/60000 [==============================] - 3s 52us/step - loss: 0.0954 - val_loss: 0.0956\n",
            "Epoch 55/100\n",
            "60000/60000 [==============================] - 3s 52us/step - loss: 0.0953 - val_loss: 0.0948\n",
            "Epoch 56/100\n",
            "60000/60000 [==============================] - 3s 52us/step - loss: 0.0953 - val_loss: 0.0946\n",
            "Epoch 57/100\n",
            "60000/60000 [==============================] - 3s 52us/step - loss: 0.0953 - val_loss: 0.0946\n",
            "Epoch 58/100\n",
            "60000/60000 [==============================] - 3s 51us/step - loss: 0.0952 - val_loss: 0.0945\n",
            "Epoch 59/100\n",
            "60000/60000 [==============================] - 3s 52us/step - loss: 0.0952 - val_loss: 0.0947\n",
            "Epoch 60/100\n",
            "60000/60000 [==============================] - 3s 51us/step - loss: 0.0952 - val_loss: 0.0949\n",
            "Epoch 61/100\n",
            "60000/60000 [==============================] - 3s 51us/step - loss: 0.0952 - val_loss: 0.0955\n",
            "Epoch 62/100\n",
            "60000/60000 [==============================] - 3s 51us/step - loss: 0.0951 - val_loss: 0.0957\n",
            "Epoch 63/100\n",
            "60000/60000 [==============================] - 3s 53us/step - loss: 0.0950 - val_loss: 0.0945\n",
            "Epoch 64/100\n",
            "60000/60000 [==============================] - 3s 51us/step - loss: 0.0950 - val_loss: 0.0946\n",
            "Epoch 65/100\n",
            "60000/60000 [==============================] - 3s 51us/step - loss: 0.0950 - val_loss: 0.0951\n",
            "Epoch 66/100\n",
            "60000/60000 [==============================] - 3s 51us/step - loss: 0.0949 - val_loss: 0.0954\n",
            "Epoch 67/100\n",
            "60000/60000 [==============================] - 3s 52us/step - loss: 0.0950 - val_loss: 0.0949\n",
            "Epoch 68/100\n",
            "60000/60000 [==============================] - 3s 53us/step - loss: 0.0949 - val_loss: 0.0943\n",
            "Epoch 69/100\n",
            "60000/60000 [==============================] - 3s 52us/step - loss: 0.0949 - val_loss: 0.0944\n",
            "Epoch 70/100\n",
            "60000/60000 [==============================] - 3s 52us/step - loss: 0.0948 - val_loss: 0.0945\n",
            "Epoch 71/100\n",
            "60000/60000 [==============================] - 3s 52us/step - loss: 0.0947 - val_loss: 0.0951\n",
            "Epoch 72/100\n",
            "60000/60000 [==============================] - 3s 52us/step - loss: 0.0948 - val_loss: 0.0947\n",
            "Epoch 73/100\n",
            "60000/60000 [==============================] - 3s 52us/step - loss: 0.0948 - val_loss: 0.0940\n",
            "Epoch 74/100\n",
            "60000/60000 [==============================] - 3s 51us/step - loss: 0.0948 - val_loss: 0.0944\n",
            "Epoch 75/100\n",
            "60000/60000 [==============================] - 3s 51us/step - loss: 0.0947 - val_loss: 0.0944\n",
            "Epoch 76/100\n",
            "60000/60000 [==============================] - 3s 51us/step - loss: 0.0947 - val_loss: 0.0945\n",
            "Epoch 77/100\n",
            "60000/60000 [==============================] - 3s 51us/step - loss: 0.0946 - val_loss: 0.0943\n",
            "Epoch 78/100\n",
            "60000/60000 [==============================] - 3s 51us/step - loss: 0.0947 - val_loss: 0.0946\n",
            "Epoch 79/100\n",
            "60000/60000 [==============================] - 3s 52us/step - loss: 0.0946 - val_loss: 0.0940\n",
            "Epoch 80/100\n",
            "60000/60000 [==============================] - 3s 51us/step - loss: 0.0946 - val_loss: 0.0946\n",
            "Epoch 81/100\n",
            "60000/60000 [==============================] - 3s 51us/step - loss: 0.0946 - val_loss: 0.0940\n",
            "Epoch 82/100\n",
            "60000/60000 [==============================] - 3s 52us/step - loss: 0.0946 - val_loss: 0.0940\n",
            "Epoch 83/100\n",
            "60000/60000 [==============================] - 3s 51us/step - loss: 0.0946 - val_loss: 0.0939\n",
            "Epoch 84/100\n",
            "60000/60000 [==============================] - 3s 51us/step - loss: 0.0944 - val_loss: 0.0948\n",
            "Epoch 85/100\n",
            "60000/60000 [==============================] - 3s 52us/step - loss: 0.0945 - val_loss: 0.0938\n",
            "Epoch 86/100\n",
            "60000/60000 [==============================] - 3s 51us/step - loss: 0.0945 - val_loss: 0.0938\n",
            "Epoch 87/100\n",
            "60000/60000 [==============================] - 3s 51us/step - loss: 0.0944 - val_loss: 0.0938\n",
            "Epoch 88/100\n",
            "60000/60000 [==============================] - 3s 51us/step - loss: 0.0944 - val_loss: 0.0937\n",
            "Epoch 89/100\n",
            "60000/60000 [==============================] - 3s 52us/step - loss: 0.0944 - val_loss: 0.0937\n",
            "Epoch 90/100\n",
            "60000/60000 [==============================] - 3s 52us/step - loss: 0.0944 - val_loss: 0.0940\n",
            "Epoch 91/100\n",
            "60000/60000 [==============================] - 3s 50us/step - loss: 0.0944 - val_loss: 0.0939\n",
            "Epoch 92/100\n",
            "60000/60000 [==============================] - 3s 51us/step - loss: 0.0943 - val_loss: 0.0947\n",
            "Epoch 93/100\n",
            "60000/60000 [==============================] - 3s 50us/step - loss: 0.0944 - val_loss: 0.0938\n",
            "Epoch 94/100\n",
            "60000/60000 [==============================] - 3s 51us/step - loss: 0.0943 - val_loss: 0.0943\n",
            "Epoch 95/100\n",
            "60000/60000 [==============================] - 3s 51us/step - loss: 0.0943 - val_loss: 0.0947\n",
            "Epoch 96/100\n",
            "60000/60000 [==============================] - 3s 52us/step - loss: 0.0943 - val_loss: 0.0942\n",
            "Epoch 97/100\n",
            "60000/60000 [==============================] - 3s 51us/step - loss: 0.0943 - val_loss: 0.0946\n",
            "Epoch 98/100\n",
            "60000/60000 [==============================] - 3s 51us/step - loss: 0.0942 - val_loss: 0.0945\n",
            "Epoch 99/100\n",
            "60000/60000 [==============================] - 3s 51us/step - loss: 0.0942 - val_loss: 0.0941\n",
            "Epoch 100/100\n",
            "60000/60000 [==============================] - 3s 52us/step - loss: 0.0942 - val_loss: 0.0937\n"
          ],
          "name": "stdout"
        }
      ]
    },
    {
      "cell_type": "markdown",
      "metadata": {
        "id": "G9Wl-D3hiiF-",
        "colab_type": "text"
      },
      "source": [
        "### Comparative plots"
      ]
    },
    {
      "cell_type": "code",
      "metadata": {
        "id": "0H2SNvtziiF_",
        "colab_type": "code",
        "colab": {
          "base_uri": "https://localhost:8080/",
          "height": 268
        },
        "outputId": "127551e9-8ed7-4e9a-9be7-45acd546d6b9"
      },
      "source": [
        "de_noised_images = autoencoder.predict(X_test_noisy[:10])\n",
        "n = 9\n",
        "plt.figure(figsize = (20,4))\n",
        "for i in range(1, n+1):\n",
        "    plt.subplot(2, n, i)\n",
        "    plt.imshow(X_test_noisy[i].reshape(28, 28))\n",
        "    plt.gray()\n",
        "    \n",
        "    plt.subplot(2, n, n+i) # Move to the next row \n",
        "    plt.imshow(de_noised_images[i].reshape(28, 28))\n",
        "    plt.gray()\n",
        "plt.show()"
      ],
      "execution_count": 12,
      "outputs": [
        {
          "output_type": "display_data",
          "data": {
            "image/png": "[encoded data removed]",
            "text/plain": [
              "<Figure size 1440x288 with 18 Axes>"
            ]
          },
          "metadata": {
            "tags": []
          }
        }
      ]
    },
    {
      "cell_type": "markdown",
      "metadata": {
        "id": "ORU2GotHiiGB",
        "colab_type": "text"
      },
      "source": [
        "### Error plots"
      ]
    },
    {
      "cell_type": "code",
      "metadata": {
        "id": "WQnqzZ-KiiGC",
        "colab_type": "code",
        "colab": {
          "base_uri": "https://localhost:8080/",
          "height": 380
        },
        "outputId": "9ed0565e-b8b8-433b-b469-737a62cae5ac"
      },
      "source": [
        "# # Plot training & validation accuracy values\n",
        "# history.history.keys()\n",
        "\n",
        "v1 = round(history.history['loss'][0], 4)\n",
        "v2 = round(history.history['loss'][-1], 4)\n",
        "v3 = round(history.history['val_loss'][0], 4)\n",
        "v4 = round(history.history['val_loss'][-1], 4)\n",
        "print(\"Train - Error in prediction went down from {} to {}\".format(v1, v2))\n",
        "print(\"Test  - Error in prediction went down from {} to {}\".format(v3, v4), \"\\n\")\n",
        "\n",
        "\n",
        "# Plot training & validation loss values\n",
        "plt.plot(history.history['loss'], 'k-')\n",
        "plt.plot(history.history['val_loss'], 'b.')\n",
        "plt.title('Model loss')\n",
        "plt.ylabel('Loss')\n",
        "plt.xlabel('Epoch')\n",
        "plt.legend(['Train', 'Test'])#, loc='upper left')\n",
        "plt.show()\n",
        "\n",
        "# Model evaluation\n",
        "autoencoder.evaluate(X_test_noisy, X_test)"
      ],
      "execution_count": 19,
      "outputs": [
        {
          "output_type": "stream",
          "text": [
            "Train - Error in prediction went down from 0.1786 to 0.0942\n",
            "Test  - Error in prediction went down from 0.1291 to 0.0937 \n",
            "\n"
          ],
          "name": "stdout"
        },
        {
          "output_type": "display_data",
          "data": {
            "image/png": "[encoded data removed]",
            "text/plain": [
              "<Figure size 432x288 with 1 Axes>"
            ]
          },
          "metadata": {
            "tags": []
          }
        },
        {
          "output_type": "stream",
          "text": [
            "10000/10000 [==============================] - 0s 49us/step\n"
          ],
          "name": "stdout"
        },
        {
          "output_type": "execute_result",
          "data": {
            "text/plain": [
              "0.09365697883367538"
            ]
          },
          "metadata": {
            "tags": []
          },
          "execution_count": 19
        }
      ]
    },
    {
      "cell_type": "code",
      "metadata": {
        "id": "flc_yMi6ky40",
        "colab_type": "code",
        "colab": {}
      },
      "source": [
        ""
      ],
      "execution_count": 0,
      "outputs": []
    }
  ]
}