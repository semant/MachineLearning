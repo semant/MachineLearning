{
  "nbformat": 4,
  "nbformat_minor": 0,
  "metadata": {
    "kernelspec": {
      "name": "python3",
      "display_name": "Python 3"
    },
    "language_info": {
      "codemirror_mode": {
        "name": "ipython",
        "version": 3
      },
      "file_extension": ".py",
      "mimetype": "text/x-python",
      "name": "python",
      "nbconvert_exporter": "python",
      "pygments_lexer": "ipython3",
      "version": "3.7.4"
    },
    "colab": {
      "name": "CE_ML_Project_06_CNN-CFAR10c.ipynb",
      "provenance": [],
      "collapsed_sections": [],
      "include_colab_link": true
    },
    "accelerator": "GPU"
  },
  "cells": [
    {
      "cell_type": "markdown",
      "metadata": {
        "id": "view-in-github",
        "colab_type": "text"
      },
      "source": [
        "<a href=\"https://colab.research.google.com/github/semant/MachineLearning/blob/master/Computer_Vision_MultiClass_Classification_CNN_CFAR10.ipynb\" target=\"_parent\"><img src=\"https://colab.research.google.com/assets/colab-badge.svg\" alt=\"Open In Colab\"/></a>"
      ]
    },
    {
      "cell_type": "markdown",
      "metadata": {
        "id": "ozeR19uTTups",
        "colab_type": "text"
      },
      "source": [
        "# Computer Vision: Multi-class Classification\n",
        "### Building a Convolutional Neural Network from scratch\n",
        "### Keras: CIFAR10\n",
        "\n",
        "\n",
        "### Introduction\n",
        "CIFAR10 is a dataset of 32x32 color images, labeled over 10 categories which have been split into 50,000 training and 10,000 test images. In this project, a Convultion Neural Network was built from scratch.\n",
        "\n",
        "### Optimizations\n",
        "\n",
        "| Model | Optimizer | Layers | Layer 1 | Layer 2 | Layer 3 | Layer 4 | Layer 5 | Layer 6 | Layer 7 | Layer 8 | Layer 9 | Layer 10 | Layer 11 | Layer 12 | Layer 13 | Layer 14 | Layer 15 | Layer 16 | Error: Train | Error: Test | Change | Improvement | \n",
        "| --- | --- | --- | --- | --- | --- | --- | --- | --- | --- | --- | --- | --- | --- | --- | --- | --- | --- | --- | --- | --- | --- | --- |\n",
        "| 1 | AdaDelta | 16 | C2 32 | DO 0.2 | C2 32 | MP | C2 64 | DO 0.2 | C2 64 | MP | C2 128 | DO 0.2 | C2 128 | MP | F | DO 0.2 | D 1024 | DO 0.2 | 0.8435 | 0.7785 | Base | - | \n",
        "| 2 | SGD | 16 | C2 32 | DO 0.2 | C2 32 | MP | C2 64 | DO 0.2 | C2 64 | MP | C2 128 | DO 0.2 | C2 128 | MP | F | DO 0.2 | D 1024 | DO 0.2 | 0.7279 | 0.6958 | Optimizer | No | \n",
        "| 3 | RMSProp | 16 | C2 32 | DO 0.2 | C2 32 | MP | C2 64 | DO 0.2 | C2 64 | MP | C2 128 | DO 0.2 | C2 128 | MP | F | DO 0.2 | D 1024 | DO 0.2 | 0.1000 | 0.1000 | Optimizer | No |\n",
        "| 4 | Adam | 16 | C2 32 | DO 0.2 | C2 32 | MP | C2 64 | DO 0.2 | C2 64 | MP | C2 128 | DO 0.2 | C2 128 | MP | F | DO 0.2 | D 1024 | DO 0.2 | 0.8466 | 0.7745 | Optimizer | Yes |\n",
        "\n",
        "where:\n",
        "- C2: Convolution 2D layer (3 x 3)\n",
        "- D: Dense layer\n",
        "- DO: Dropout layer\n",
        "- F: Flatten layer\n",
        "- MP: MaxPool layer\n",
        "\n",
        "\n",
        "### Summary\n",
        "\n",
        "A Convolution Neural Network architecture was created consisting of 16 layers with 32, 64, and 128 convolutional layers, 20% drop out layers, and one dense layer. Of the different optimizers evaluated, Adam gave the best result with training and testing accuracies of 84.7% and 77.5% respectively.\n"
      ]
    },
    {
      "cell_type": "code",
      "metadata": {
        "id": "X6g_zd7F2BMV",
        "colab_type": "code",
        "colab": {}
      },
      "source": [
        "import keras"
      ],
      "execution_count": 0,
      "outputs": []
    },
    {
      "cell_type": "code",
      "metadata": {
        "id": "KhaJQSYgTupw",
        "colab_type": "code",
        "colab": {}
      },
      "source": [
        "import numpy as np\n",
        "import matplotlib.pyplot as plt\n",
        "%matplotlib inline\n",
        "\n",
        "\n",
        "from keras.models import Model, Sequential\n",
        "from keras.layers import Input, Conv2D, MaxPool2D, UpSampling2D, Dropout, Flatten, Dense\n",
        "from keras.utils import np_utils\n",
        "from keras.optimizers import SGD, Adam, rmsprop\n",
        "from keras.constraints import MaxNorm"
      ],
      "execution_count": 0,
      "outputs": []
    },
    {
      "cell_type": "markdown",
      "metadata": {
        "id": "jXvmuSbTTup7",
        "colab_type": "text"
      },
      "source": [
        "### Importing datta"
      ]
    },
    {
      "cell_type": "code",
      "metadata": {
        "id": "eeEdY3XZTup9",
        "colab_type": "code",
        "outputId": "3743f7a4-12af-43ae-edc1-487115da0e56",
        "colab": {
          "base_uri": "https://localhost:8080/",
          "height": 68
        }
      },
      "source": [
        "from keras.datasets import cifar10\n",
        "\n",
        "(x_train, y_train), (x_test, y_test) = cifar10.load_data()\n",
        "\n",
        "print(x_train.shape, y_train.shape)\n",
        "print(x_test.shape,  y_test.shape)\n",
        "print(x_train.shape[0:], x_train.shape[1:])"
      ],
      "execution_count": 26,
      "outputs": [
        {
          "output_type": "stream",
          "text": [
            "(50000, 32, 32, 3) (50000, 1)\n",
            "(10000, 32, 32, 3) (10000, 1)\n",
            "(50000, 32, 32, 3) (32, 32, 3)\n"
          ],
          "name": "stdout"
        }
      ]
    },
    {
      "cell_type": "markdown",
      "metadata": {
        "id": "58WQGYJFTuqI",
        "colab_type": "text"
      },
      "source": [
        "### Reshaping\n",
        "\n",
        "As the training and test data have 0, 1, ... 9 as the unique output values, they were converted into 10 classes for training and testing purposes."
      ]
    },
    {
      "cell_type": "code",
      "metadata": {
        "id": "NyMSXIV923rY",
        "colab_type": "code",
        "colab": {
          "base_uri": "https://localhost:8080/",
          "height": 34
        },
        "outputId": "7e9a27c0-df5a-4663-b059-c46abb38484b"
      },
      "source": [
        "print(np.unique(y_train), np.unique(y_test))"
      ],
      "execution_count": 19,
      "outputs": [
        {
          "output_type": "stream",
          "text": [
            "[0 1 2 3 4 5 6 7 8 9] [0 1 2 3 4 5 6 7 8 9]\n"
          ],
          "name": "stdout"
        }
      ]
    },
    {
      "cell_type": "code",
      "metadata": {
        "id": "Fr781MhYTuqJ",
        "colab_type": "code",
        "outputId": "39e13ceb-d9c9-473a-c2ec-d4f95dab595a",
        "colab": {
          "base_uri": "https://localhost:8080/",
          "height": 34
        }
      },
      "source": [
        "num_classes = 10\n",
        "Y_train = np_utils.to_categorical(y_train, num_classes)\n",
        "Y_test = np_utils.to_categorical(y_test, num_classes)\n",
        "print(\"Reshaped Y:\" , Y_train.shape, Y_test.shape)"
      ],
      "execution_count": 20,
      "outputs": [
        {
          "output_type": "stream",
          "text": [
            "Reshaped Y: (50000, 10) (10000, 10)\n"
          ],
          "name": "stdout"
        }
      ]
    },
    {
      "cell_type": "markdown",
      "metadata": {
        "id": "vs7nK5-STuqP",
        "colab_type": "text"
      },
      "source": [
        "### Normalization\n",
        "\n",
        "To speed up model parameter training, the input data needs to be normalized."
      ]
    },
    {
      "cell_type": "code",
      "metadata": {
        "id": "ilSWTErzTuqR",
        "colab_type": "code",
        "outputId": "a09b0942-0550-406a-ba6e-7928542eeac2",
        "colab": {
          "base_uri": "https://localhost:8080/",
          "height": 51
        }
      },
      "source": [
        "print(\"Pre: \", x_train.min(), x_train.max())\n",
        "\n",
        "X_train = x_train.astype('float32')\n",
        "X_test  = x_test.astype('float32')\n",
        "X_train /= 255\n",
        "X_test  /= 255\n",
        "\n",
        "print(\"Post: \", X_train.min(), X_train.max())"
      ],
      "execution_count": 21,
      "outputs": [
        {
          "output_type": "stream",
          "text": [
            "Pre:  0 255\n",
            "Post:  0.0 1.0\n"
          ],
          "name": "stdout"
        }
      ]
    },
    {
      "cell_type": "markdown",
      "metadata": {
        "id": "lQvq-yIEeQRe",
        "colab_type": "text"
      },
      "source": [
        "### Global Parameters"
      ]
    },
    {
      "cell_type": "code",
      "metadata": {
        "id": "IeB3_1LYeTEO",
        "colab_type": "code",
        "colab": {}
      },
      "source": [
        "Num_Epochs = 50\n",
        "Batch_Size = 32\n",
        "Learning_Rate = 0.001"
      ],
      "execution_count": 0,
      "outputs": []
    },
    {
      "cell_type": "markdown",
      "metadata": {
        "id": "jpHwqPCeTuqV",
        "colab_type": "text"
      },
      "source": [
        "### Handling Overfitting\n",
        "\n",
        "As CNN have a large number of parameters, overfitting is a serious possibility. To mitigate this scenario, several steps are taken:\n",
        "+ Dropout: By randomly dropping a fraction of the weights, the parameters are trained quickly.\n",
        "+ Kernel constraint: In conjunction with dropout, this constraint ensures that the weights are at or below a certain limit.\n",
        "\n",
        "\n",
        "## Model 1\n",
        "### Architecture: 16 layers\n",
        "### Optimizer: Adadelta"
      ]
    },
    {
      "cell_type": "code",
      "metadata": {
        "id": "3-lnPqwzTuqV",
        "colab_type": "code",
        "colab": {}
      },
      "source": [
        "model = Sequential()\n",
        "\n",
        "model.add(Conv2D(32, (3,3), padding = \"same\", activation = \"relu\", input_shape = X_train.shape[1:]))\n",
        "model.add(Dropout(0.2))\n",
        "model.add(Conv2D(32, (3,3), padding = \"same\", activation = \"relu\"))\n",
        "model.add(MaxPool2D(pool_size = (2,2)))\n",
        "\n",
        "model.add(Conv2D(64, (3,3), padding = \"same\", activation = \"relu\"))\n",
        "model.add(Dropout(0.2))\n",
        "model.add(Conv2D(64, (3,3), padding = \"same\", activation = \"relu\"))\n",
        "model.add(MaxPool2D(pool_size = (2,2)))\n",
        "\n",
        "model.add(Conv2D(128, (3,3), padding = \"same\", activation = \"relu\"))\n",
        "model.add(Dropout(0.2))\n",
        "model.add(Conv2D(128, (3,3), padding = \"same\", activation = \"relu\"))\n",
        "model.add(MaxPool2D(pool_size = (2,2)))\n",
        "\n",
        "model.add(Flatten())\n",
        "model.add(Dropout(0.2))\n",
        "model.add(Dense(1024, activation = \"relu\", kernel_constraint = MaxNorm(3)))\n",
        "model.add(Dropout(0.2))\n",
        "\n",
        "model.add(Dense(num_classes, activation = 'softmax'))"
      ],
      "execution_count": 0,
      "outputs": []
    },
    {
      "cell_type": "markdown",
      "metadata": {
        "id": "3UOEQxKyTuqX",
        "colab_type": "text"
      },
      "source": [
        "##### Model 1: Compilation"
      ]
    },
    {
      "cell_type": "code",
      "metadata": {
        "id": "lHEIuwkWTuqY",
        "colab_type": "code",
        "outputId": "8b89cb7b-19f9-4275-d2d1-83aee7641d64",
        "colab": {
          "base_uri": "https://localhost:8080/",
          "height": 105
        }
      },
      "source": [
        "model.compile(optimizer = 'adadelta',\n",
        "                   loss = 'categorical_crossentropy',\n",
        "                metrics = ['accuracy'])"
      ],
      "execution_count": 0,
      "outputs": [
        {
          "output_type": "stream",
          "text": [
            "WARNING:tensorflow:From /usr/local/lib/python3.6/dist-packages/keras/optimizers.py:793: The name tf.train.Optimizer is deprecated. Please use tf.compat.v1.train.Optimizer instead.\n",
            "\n",
            "WARNING:tensorflow:From /usr/local/lib/python3.6/dist-packages/keras/backend/tensorflow_backend.py:3576: The name tf.log is deprecated. Please use tf.math.log instead.\n",
            "\n"
          ],
          "name": "stdout"
        }
      ]
    },
    {
      "cell_type": "markdown",
      "metadata": {
        "id": "Z-tC38ju0Abp",
        "colab_type": "text"
      },
      "source": [
        "##### Model 1: Execution"
      ]
    },
    {
      "cell_type": "code",
      "metadata": {
        "id": "hV9-8h2OTuqa",
        "colab_type": "code",
        "outputId": "09ad7163-32c2-4822-8fd5-c82ab75e3b7f",
        "colab": {
          "base_uri": "https://localhost:8080/",
          "height": 1000
        }
      },
      "source": [
        "cnn = model.fit(X_train, Y_train, \n",
        "                batch_size = Batch_Size, \n",
        "                epochs = Num_Epochs,\n",
        "                validation_data = (X_test, Y_test),\n",
        "                shuffle = True)"
      ],
      "execution_count": 0,
      "outputs": [
        {
          "output_type": "stream",
          "text": [
            "WARNING:tensorflow:From /usr/local/lib/python3.6/dist-packages/tensorflow_core/python/ops/math_grad.py:1424: where (from tensorflow.python.ops.array_ops) is deprecated and will be removed in a future version.\n",
            "Instructions for updating:\n",
            "Use tf.where in 2.0, which has the same broadcast rule as np.where\n",
            "WARNING:tensorflow:From /usr/local/lib/python3.6/dist-packages/keras/backend/tensorflow_backend.py:1033: The name tf.assign_add is deprecated. Please use tf.compat.v1.assign_add instead.\n",
            "\n",
            "WARNING:tensorflow:From /usr/local/lib/python3.6/dist-packages/keras/backend/tensorflow_backend.py:1020: The name tf.assign is deprecated. Please use tf.compat.v1.assign instead.\n",
            "\n",
            "WARNING:tensorflow:From /usr/local/lib/python3.6/dist-packages/keras/backend/tensorflow_backend.py:3005: The name tf.Session is deprecated. Please use tf.compat.v1.Session instead.\n",
            "\n",
            "Train on 50000 samples, validate on 10000 samples\n",
            "Epoch 1/50\n",
            "WARNING:tensorflow:From /usr/local/lib/python3.6/dist-packages/keras/backend/tensorflow_backend.py:190: The name tf.get_default_session is deprecated. Please use tf.compat.v1.get_default_session instead.\n",
            "\n",
            "WARNING:tensorflow:From /usr/local/lib/python3.6/dist-packages/keras/backend/tensorflow_backend.py:197: The name tf.ConfigProto is deprecated. Please use tf.compat.v1.ConfigProto instead.\n",
            "\n",
            "WARNING:tensorflow:From /usr/local/lib/python3.6/dist-packages/keras/backend/tensorflow_backend.py:207: The name tf.global_variables is deprecated. Please use tf.compat.v1.global_variables instead.\n",
            "\n",
            "WARNING:tensorflow:From /usr/local/lib/python3.6/dist-packages/keras/backend/tensorflow_backend.py:216: The name tf.is_variable_initialized is deprecated. Please use tf.compat.v1.is_variable_initialized instead.\n",
            "\n",
            "WARNING:tensorflow:From /usr/local/lib/python3.6/dist-packages/keras/backend/tensorflow_backend.py:223: The name tf.variables_initializer is deprecated. Please use tf.compat.v1.variables_initializer instead.\n",
            "\n",
            "50000/50000 [==============================] - 37s 733us/step - loss: 1.6731 - acc: 0.3868 - val_loss: 1.3387 - val_acc: 0.5228\n",
            "Epoch 2/50\n",
            "50000/50000 [==============================] - 22s 443us/step - loss: 1.1536 - acc: 0.5889 - val_loss: 1.0788 - val_acc: 0.6193\n",
            "Epoch 3/50\n",
            "50000/50000 [==============================] - 22s 445us/step - loss: 0.9226 - acc: 0.6762 - val_loss: 1.0167 - val_acc: 0.6462\n",
            "Epoch 4/50\n",
            "50000/50000 [==============================] - 22s 445us/step - loss: 0.7937 - acc: 0.7242 - val_loss: 0.8066 - val_acc: 0.7231\n",
            "Epoch 5/50\n",
            "50000/50000 [==============================] - 22s 437us/step - loss: 0.7082 - acc: 0.7534 - val_loss: 0.7045 - val_acc: 0.7538\n",
            "Epoch 6/50\n",
            "50000/50000 [==============================] - 22s 436us/step - loss: 0.6516 - acc: 0.7744 - val_loss: 0.6876 - val_acc: 0.7622\n",
            "Epoch 7/50\n",
            "50000/50000 [==============================] - 22s 436us/step - loss: 0.5991 - acc: 0.7933 - val_loss: 0.7593 - val_acc: 0.7447\n",
            "Epoch 8/50\n",
            "50000/50000 [==============================] - 22s 438us/step - loss: 0.5699 - acc: 0.8034 - val_loss: 0.7801 - val_acc: 0.7534\n",
            "Epoch 9/50\n",
            "50000/50000 [==============================] - 22s 433us/step - loss: 0.5360 - acc: 0.8154 - val_loss: 0.6739 - val_acc: 0.7821\n",
            "Epoch 10/50\n",
            "50000/50000 [==============================] - 22s 433us/step - loss: 0.5175 - acc: 0.8229 - val_loss: 0.7154 - val_acc: 0.7617\n",
            "Epoch 11/50\n",
            "50000/50000 [==============================] - 22s 438us/step - loss: 0.5064 - acc: 0.8304 - val_loss: 0.6547 - val_acc: 0.7766\n",
            "Epoch 12/50\n",
            "50000/50000 [==============================] - 22s 439us/step - loss: 0.4938 - acc: 0.8359 - val_loss: 0.6798 - val_acc: 0.7788\n",
            "Epoch 13/50\n",
            "50000/50000 [==============================] - 22s 436us/step - loss: 0.4861 - acc: 0.8380 - val_loss: 0.6438 - val_acc: 0.7915\n",
            "Epoch 14/50\n",
            "50000/50000 [==============================] - 22s 437us/step - loss: 0.4742 - acc: 0.8438 - val_loss: 0.6969 - val_acc: 0.7706\n",
            "Epoch 15/50\n",
            "50000/50000 [==============================] - 22s 436us/step - loss: 0.4749 - acc: 0.8437 - val_loss: 0.6754 - val_acc: 0.7823\n",
            "Epoch 16/50\n",
            "50000/50000 [==============================] - 22s 435us/step - loss: 0.4789 - acc: 0.8440 - val_loss: 0.7822 - val_acc: 0.7336\n",
            "Epoch 17/50\n",
            "50000/50000 [==============================] - 22s 435us/step - loss: 0.4683 - acc: 0.8481 - val_loss: 0.6603 - val_acc: 0.7807\n",
            "Epoch 18/50\n",
            "50000/50000 [==============================] - 22s 440us/step - loss: 0.4627 - acc: 0.8487 - val_loss: 0.6634 - val_acc: 0.7873\n",
            "Epoch 19/50\n",
            "50000/50000 [==============================] - 22s 434us/step - loss: 0.4635 - acc: 0.8506 - val_loss: 0.6890 - val_acc: 0.7787\n",
            "Epoch 20/50\n",
            "50000/50000 [==============================] - 22s 434us/step - loss: 0.4593 - acc: 0.8513 - val_loss: 0.7170 - val_acc: 0.7727\n",
            "Epoch 21/50\n",
            "50000/50000 [==============================] - 22s 433us/step - loss: 0.4626 - acc: 0.8529 - val_loss: 0.6909 - val_acc: 0.7788\n",
            "Epoch 22/50\n",
            "50000/50000 [==============================] - 22s 435us/step - loss: 0.4644 - acc: 0.8529 - val_loss: 0.7074 - val_acc: 0.7846\n",
            "Epoch 23/50\n",
            "50000/50000 [==============================] - 22s 435us/step - loss: 0.4682 - acc: 0.8522 - val_loss: 0.6978 - val_acc: 0.7785\n",
            "Epoch 24/50\n",
            "50000/50000 [==============================] - 22s 434us/step - loss: 0.4705 - acc: 0.8495 - val_loss: 0.7202 - val_acc: 0.7738\n",
            "Epoch 25/50\n",
            "50000/50000 [==============================] - 22s 436us/step - loss: 0.4538 - acc: 0.8556 - val_loss: 0.6544 - val_acc: 0.7974\n",
            "Epoch 26/50\n",
            "50000/50000 [==============================] - 22s 433us/step - loss: 0.4588 - acc: 0.8540 - val_loss: 0.6826 - val_acc: 0.7827\n",
            "Epoch 27/50\n",
            "50000/50000 [==============================] - 22s 436us/step - loss: 0.4532 - acc: 0.8563 - val_loss: 0.7361 - val_acc: 0.7717\n",
            "Epoch 28/50\n",
            "50000/50000 [==============================] - 22s 435us/step - loss: 0.4610 - acc: 0.8559 - val_loss: 0.7025 - val_acc: 0.7731\n",
            "Epoch 29/50\n",
            "50000/50000 [==============================] - 22s 436us/step - loss: 0.4654 - acc: 0.8562 - val_loss: 0.7218 - val_acc: 0.7833\n",
            "Epoch 30/50\n",
            "50000/50000 [==============================] - 22s 434us/step - loss: 0.4684 - acc: 0.8540 - val_loss: 0.7967 - val_acc: 0.7726\n",
            "Epoch 31/50\n",
            "50000/50000 [==============================] - 22s 436us/step - loss: 0.4715 - acc: 0.8542 - val_loss: 0.7669 - val_acc: 0.7466\n",
            "Epoch 32/50\n",
            "50000/50000 [==============================] - 22s 435us/step - loss: 0.4761 - acc: 0.8540 - val_loss: 0.6965 - val_acc: 0.7809\n",
            "Epoch 33/50\n",
            "50000/50000 [==============================] - 22s 437us/step - loss: 0.4674 - acc: 0.8567 - val_loss: 0.7255 - val_acc: 0.7804\n",
            "Epoch 34/50\n",
            "50000/50000 [==============================] - 22s 435us/step - loss: 0.4650 - acc: 0.8570 - val_loss: 0.9623 - val_acc: 0.7095\n",
            "Epoch 35/50\n",
            "50000/50000 [==============================] - 22s 434us/step - loss: 0.4767 - acc: 0.8544 - val_loss: 0.6911 - val_acc: 0.7893\n",
            "Epoch 36/50\n",
            "50000/50000 [==============================] - 22s 433us/step - loss: 0.4761 - acc: 0.8517 - val_loss: 0.7369 - val_acc: 0.7585\n",
            "Epoch 37/50\n",
            "50000/50000 [==============================] - 22s 433us/step - loss: 0.4756 - acc: 0.8505 - val_loss: 0.6834 - val_acc: 0.7810\n",
            "Epoch 38/50\n",
            "50000/50000 [==============================] - 22s 431us/step - loss: 0.4754 - acc: 0.8530 - val_loss: 0.6537 - val_acc: 0.8017\n",
            "Epoch 39/50\n",
            "50000/50000 [==============================] - 22s 434us/step - loss: 0.4784 - acc: 0.8529 - val_loss: 0.6627 - val_acc: 0.7917\n",
            "Epoch 40/50\n",
            "50000/50000 [==============================] - 22s 434us/step - loss: 0.4779 - acc: 0.8534 - val_loss: 0.6883 - val_acc: 0.7861\n",
            "Epoch 41/50\n",
            "50000/50000 [==============================] - 22s 435us/step - loss: 0.4764 - acc: 0.8551 - val_loss: 0.6534 - val_acc: 0.8016\n",
            "Epoch 42/50\n",
            "50000/50000 [==============================] - 22s 433us/step - loss: 0.4921 - acc: 0.8495 - val_loss: 0.7221 - val_acc: 0.7787\n",
            "Epoch 43/50\n",
            "50000/50000 [==============================] - 22s 434us/step - loss: 0.4938 - acc: 0.8505 - val_loss: 0.7145 - val_acc: 0.7737\n",
            "Epoch 44/50\n",
            "50000/50000 [==============================] - 22s 437us/step - loss: 0.4881 - acc: 0.8512 - val_loss: 0.8134 - val_acc: 0.7494\n",
            "Epoch 45/50\n",
            "50000/50000 [==============================] - 22s 434us/step - loss: 0.4828 - acc: 0.8523 - val_loss: 0.6821 - val_acc: 0.7811\n",
            "Epoch 46/50\n",
            "50000/50000 [==============================] - 22s 434us/step - loss: 0.4966 - acc: 0.8497 - val_loss: 0.7536 - val_acc: 0.7661\n",
            "Epoch 47/50\n",
            "50000/50000 [==============================] - 22s 438us/step - loss: 0.4959 - acc: 0.8504 - val_loss: 0.6864 - val_acc: 0.7853\n",
            "Epoch 48/50\n",
            "50000/50000 [==============================] - 22s 437us/step - loss: 0.4925 - acc: 0.8515 - val_loss: 0.6503 - val_acc: 0.7913\n",
            "Epoch 49/50\n",
            "50000/50000 [==============================] - 22s 432us/step - loss: 0.4992 - acc: 0.8489 - val_loss: 0.7143 - val_acc: 0.7742\n",
            "Epoch 50/50\n",
            "50000/50000 [==============================] - 22s 434us/step - loss: 0.5176 - acc: 0.8435 - val_loss: 0.6918 - val_acc: 0.7785\n"
          ],
          "name": "stdout"
        }
      ]
    },
    {
      "cell_type": "markdown",
      "metadata": {
        "id": "tsKlwQgHbRxT",
        "colab_type": "text"
      },
      "source": [
        "##### Model 1: Results"
      ]
    },
    {
      "cell_type": "code",
      "metadata": {
        "id": "c7urnzx0UH1W",
        "colab_type": "code",
        "outputId": "1fddd737-fc72-4235-d853-9514be18ccdc",
        "colab": {
          "base_uri": "https://localhost:8080/",
          "height": 545
        }
      },
      "source": [
        "plt.title('Model: Cross Entropy Loss') \n",
        "plt.plot(cnn.history['loss'], color='blue', label='train')\n",
        "plt.plot(cnn.history['val_loss'], color='orange', label='test')\n",
        "plt.show()\n",
        "\n",
        "# plot accuracy\n",
        "plt.title('Model: Classification Accuracy')\n",
        "plt.plot(cnn.history['acc'], color='blue', label='train')\n",
        "plt.plot(cnn.history['val_acc'], color='orange', label='test')\n",
        "plt.show()"
      ],
      "execution_count": 0,
      "outputs": [
        {
          "output_type": "display_data",
          "data": {
            "image/png": "[encoded data removed]",
            "text/plain": [
              "<Figure size 432x288 with 1 Axes>"
            ]
          },
          "metadata": {
            "tags": []
          }
        },
        {
          "output_type": "display_data",
          "data": {
            "image/png": "[encoded data removed]",
            "text/plain": [
              "<Figure size 432x288 with 1 Axes>"
            ]
          },
          "metadata": {
            "tags": []
          }
        }
      ]
    },
    {
      "cell_type": "markdown",
      "metadata": {
        "id": "FVGLQHV2ayv-",
        "colab_type": "text"
      },
      "source": [
        "## Model 2\n",
        "### Architecture: 16 layers\n",
        "### Optimizer: SGD"
      ]
    },
    {
      "cell_type": "code",
      "metadata": {
        "id": "g5-axELkalzA",
        "colab_type": "code",
        "colab": {}
      },
      "source": [
        "model = Sequential()\n",
        "\n",
        "model.add(Conv2D(32, (3,3), padding = \"same\", activation = \"relu\", input_shape = X_train.shape[1:]))\n",
        "model.add(Dropout(0.2))\n",
        "model.add(Conv2D(32, (3,3), padding = \"same\", activation = \"relu\"))\n",
        "model.add(MaxPool2D(pool_size = (2,2)))\n",
        "\n",
        "model.add(Conv2D(64, (3,3), padding = \"same\", activation = \"relu\"))\n",
        "model.add(Dropout(0.2))\n",
        "model.add(Conv2D(64, (3,3), padding = \"same\", activation = \"relu\"))\n",
        "model.add(MaxPool2D(pool_size = (2,2)))\n",
        "\n",
        "model.add(Conv2D(128, (3,3), padding = \"same\", activation = \"relu\"))\n",
        "model.add(Dropout(0.2))\n",
        "model.add(Conv2D(128, (3,3), padding = \"same\", activation = \"relu\"))\n",
        "model.add(MaxPool2D(pool_size = (2,2)))\n",
        "\n",
        "model.add(Flatten())\n",
        "model.add(Dropout(0.2))\n",
        "model.add(Dense(1024, activation = \"relu\", kernel_constraint = MaxNorm(3)))\n",
        "model.add(Dropout(0.2))\n",
        "\n",
        "model.add(Dense(num_classes, activation = 'softmax'))"
      ],
      "execution_count": 0,
      "outputs": []
    },
    {
      "cell_type": "code",
      "metadata": {
        "id": "kXoIxF6MbXrj",
        "colab_type": "code",
        "colab": {}
      },
      "source": [
        "epochs = 100\n",
        "lrate = 0.01 \n",
        "decay = lrate/epochs \n",
        "sgd = SGD(lr = Learning_Rate, momentum = 0.9, decay = decay, nesterov = False) \n",
        "model.compile(loss = 'categorical_crossentropy', \n",
        "              optimizer = sgd, \n",
        "              metrics=['accuracy'])"
      ],
      "execution_count": 0,
      "outputs": []
    },
    {
      "cell_type": "code",
      "metadata": {
        "id": "Eo_krO5pduel",
        "colab_type": "code",
        "outputId": "05a31d47-c41d-403d-fef7-83be89627d4a",
        "colab": {
          "base_uri": "https://localhost:8080/",
          "height": 1000
        }
      },
      "source": [
        "cnn = model.fit(X_train, Y_train, \n",
        "                batch_size = Batch_Size, \n",
        "                epochs = Num_Epochs,\n",
        "                validation_data = (X_test, Y_test),\n",
        "                shuffle = True)"
      ],
      "execution_count": 0,
      "outputs": [
        {
          "output_type": "stream",
          "text": [
            "Train on 50000 samples, validate on 10000 samples\n",
            "Epoch 1/50\n",
            "50000/50000 [==============================] - 18s 355us/step - loss: 2.1163 - acc: 0.2127 - val_loss: 1.9366 - val_acc: 0.3113\n",
            "Epoch 2/50\n",
            "50000/50000 [==============================] - 17s 341us/step - loss: 1.8237 - acc: 0.3340 - val_loss: 1.7670 - val_acc: 0.3640\n",
            "Epoch 3/50\n",
            "50000/50000 [==============================] - 17s 340us/step - loss: 1.6560 - acc: 0.3993 - val_loss: 1.6326 - val_acc: 0.4204\n",
            "Epoch 4/50\n",
            "50000/50000 [==============================] - 17s 344us/step - loss: 1.5507 - acc: 0.4367 - val_loss: 1.5991 - val_acc: 0.4375\n",
            "Epoch 5/50\n",
            "50000/50000 [==============================] - 17s 343us/step - loss: 1.4711 - acc: 0.4695 - val_loss: 1.4116 - val_acc: 0.4984\n",
            "Epoch 6/50\n",
            "50000/50000 [==============================] - 17s 338us/step - loss: 1.4088 - acc: 0.4911 - val_loss: 1.4095 - val_acc: 0.5002\n",
            "Epoch 7/50\n",
            "50000/50000 [==============================] - 17s 341us/step - loss: 1.3613 - acc: 0.5100 - val_loss: 1.3403 - val_acc: 0.5206\n",
            "Epoch 8/50\n",
            "50000/50000 [==============================] - 17s 343us/step - loss: 1.3150 - acc: 0.5276 - val_loss: 1.2712 - val_acc: 0.5491\n",
            "Epoch 9/50\n",
            "50000/50000 [==============================] - 17s 340us/step - loss: 1.2782 - acc: 0.5420 - val_loss: 1.2352 - val_acc: 0.5659\n",
            "Epoch 10/50\n",
            "50000/50000 [==============================] - 17s 339us/step - loss: 1.2441 - acc: 0.5554 - val_loss: 1.1997 - val_acc: 0.5689\n",
            "Epoch 11/50\n",
            "50000/50000 [==============================] - 17s 341us/step - loss: 1.2137 - acc: 0.5668 - val_loss: 1.1663 - val_acc: 0.5856\n",
            "Epoch 12/50\n",
            "50000/50000 [==============================] - 17s 341us/step - loss: 1.1869 - acc: 0.5746 - val_loss: 1.1727 - val_acc: 0.5848\n",
            "Epoch 13/50\n",
            "50000/50000 [==============================] - 17s 339us/step - loss: 1.1605 - acc: 0.5871 - val_loss: 1.1897 - val_acc: 0.5780\n",
            "Epoch 14/50\n",
            "50000/50000 [==============================] - 17s 341us/step - loss: 1.1379 - acc: 0.5952 - val_loss: 1.1157 - val_acc: 0.6034\n",
            "Epoch 15/50\n",
            "50000/50000 [==============================] - 17s 342us/step - loss: 1.1156 - acc: 0.6023 - val_loss: 1.1080 - val_acc: 0.6077\n",
            "Epoch 16/50\n",
            "50000/50000 [==============================] - 17s 344us/step - loss: 1.0969 - acc: 0.6089 - val_loss: 1.0824 - val_acc: 0.6155\n",
            "Epoch 17/50\n",
            "50000/50000 [==============================] - 17s 340us/step - loss: 1.0781 - acc: 0.6177 - val_loss: 1.0820 - val_acc: 0.6163\n",
            "Epoch 18/50\n",
            "50000/50000 [==============================] - 17s 341us/step - loss: 1.0652 - acc: 0.6205 - val_loss: 1.0620 - val_acc: 0.6231\n",
            "Epoch 19/50\n",
            "50000/50000 [==============================] - 17s 339us/step - loss: 1.0475 - acc: 0.6274 - val_loss: 1.0480 - val_acc: 0.6318\n",
            "Epoch 20/50\n",
            "50000/50000 [==============================] - 17s 338us/step - loss: 1.0311 - acc: 0.6324 - val_loss: 1.0301 - val_acc: 0.6333\n",
            "Epoch 21/50\n",
            "50000/50000 [==============================] - 17s 339us/step - loss: 1.0165 - acc: 0.6387 - val_loss: 1.0261 - val_acc: 0.6385\n",
            "Epoch 22/50\n",
            "50000/50000 [==============================] - 17s 340us/step - loss: 1.0056 - acc: 0.6435 - val_loss: 1.0145 - val_acc: 0.6423\n",
            "Epoch 23/50\n",
            "50000/50000 [==============================] - 17s 344us/step - loss: 0.9945 - acc: 0.6472 - val_loss: 1.0074 - val_acc: 0.6447\n",
            "Epoch 24/50\n",
            "50000/50000 [==============================] - 17s 338us/step - loss: 0.9804 - acc: 0.6513 - val_loss: 0.9979 - val_acc: 0.6445\n",
            "Epoch 25/50\n",
            "50000/50000 [==============================] - 17s 337us/step - loss: 0.9687 - acc: 0.6581 - val_loss: 0.9802 - val_acc: 0.6526\n",
            "Epoch 26/50\n",
            "50000/50000 [==============================] - 17s 340us/step - loss: 0.9605 - acc: 0.6598 - val_loss: 0.9801 - val_acc: 0.6528\n",
            "Epoch 27/50\n",
            "50000/50000 [==============================] - 17s 339us/step - loss: 0.9474 - acc: 0.6638 - val_loss: 0.9740 - val_acc: 0.6502\n",
            "Epoch 28/50\n",
            "50000/50000 [==============================] - 17s 341us/step - loss: 0.9367 - acc: 0.6687 - val_loss: 0.9622 - val_acc: 0.6592\n",
            "Epoch 29/50\n",
            "50000/50000 [==============================] - 17s 337us/step - loss: 0.9288 - acc: 0.6720 - val_loss: 0.9681 - val_acc: 0.6563\n",
            "Epoch 30/50\n",
            "50000/50000 [==============================] - 17s 340us/step - loss: 0.9203 - acc: 0.6761 - val_loss: 0.9454 - val_acc: 0.6635\n",
            "Epoch 31/50\n",
            "50000/50000 [==============================] - 17s 339us/step - loss: 0.9087 - acc: 0.6792 - val_loss: 0.9511 - val_acc: 0.6613\n",
            "Epoch 32/50\n",
            "50000/50000 [==============================] - 17s 340us/step - loss: 0.9019 - acc: 0.6802 - val_loss: 0.9305 - val_acc: 0.6684\n",
            "Epoch 33/50\n",
            "50000/50000 [==============================] - 17s 343us/step - loss: 0.8947 - acc: 0.6857 - val_loss: 0.9301 - val_acc: 0.6718\n",
            "Epoch 34/50\n",
            "50000/50000 [==============================] - 17s 350us/step - loss: 0.8836 - acc: 0.6886 - val_loss: 0.9194 - val_acc: 0.6740\n",
            "Epoch 35/50\n",
            "50000/50000 [==============================] - 17s 344us/step - loss: 0.8765 - acc: 0.6889 - val_loss: 0.9255 - val_acc: 0.6722\n",
            "Epoch 36/50\n",
            "50000/50000 [==============================] - 17s 339us/step - loss: 0.8667 - acc: 0.6928 - val_loss: 0.9207 - val_acc: 0.6734\n",
            "Epoch 37/50\n",
            "50000/50000 [==============================] - 17s 344us/step - loss: 0.8623 - acc: 0.6936 - val_loss: 0.8978 - val_acc: 0.6840\n",
            "Epoch 38/50\n",
            "50000/50000 [==============================] - 17s 340us/step - loss: 0.8515 - acc: 0.6992 - val_loss: 0.8983 - val_acc: 0.6811\n",
            "Epoch 39/50\n",
            "50000/50000 [==============================] - 17s 341us/step - loss: 0.8472 - acc: 0.7008 - val_loss: 0.8943 - val_acc: 0.6808\n",
            "Epoch 40/50\n",
            "50000/50000 [==============================] - 17s 341us/step - loss: 0.8394 - acc: 0.7041 - val_loss: 0.9048 - val_acc: 0.6774\n",
            "Epoch 41/50\n",
            "50000/50000 [==============================] - 17s 341us/step - loss: 0.8303 - acc: 0.7061 - val_loss: 0.8983 - val_acc: 0.6820\n",
            "Epoch 42/50\n",
            "50000/50000 [==============================] - 17s 343us/step - loss: 0.8231 - acc: 0.7097 - val_loss: 0.8918 - val_acc: 0.6843\n",
            "Epoch 43/50\n",
            "50000/50000 [==============================] - 17s 340us/step - loss: 0.8215 - acc: 0.7105 - val_loss: 0.8841 - val_acc: 0.6868\n",
            "Epoch 44/50\n",
            "50000/50000 [==============================] - 17s 342us/step - loss: 0.8123 - acc: 0.7130 - val_loss: 0.8767 - val_acc: 0.6904\n",
            "Epoch 45/50\n",
            "50000/50000 [==============================] - 17s 340us/step - loss: 0.8025 - acc: 0.7167 - val_loss: 0.8789 - val_acc: 0.6887\n",
            "Epoch 46/50\n",
            "50000/50000 [==============================] - 17s 339us/step - loss: 0.7977 - acc: 0.7191 - val_loss: 0.8753 - val_acc: 0.6889\n",
            "Epoch 47/50\n",
            "50000/50000 [==============================] - 17s 341us/step - loss: 0.7871 - acc: 0.7229 - val_loss: 0.8892 - val_acc: 0.6841\n",
            "Epoch 48/50\n",
            "50000/50000 [==============================] - 17s 342us/step - loss: 0.7832 - acc: 0.7246 - val_loss: 0.8612 - val_acc: 0.6941\n",
            "Epoch 49/50\n",
            "50000/50000 [==============================] - 17s 341us/step - loss: 0.7829 - acc: 0.7230 - val_loss: 0.8576 - val_acc: 0.6990\n",
            "Epoch 50/50\n",
            "50000/50000 [==============================] - 17s 340us/step - loss: 0.7728 - acc: 0.7279 - val_loss: 0.8554 - val_acc: 0.6958\n"
          ],
          "name": "stdout"
        }
      ]
    },
    {
      "cell_type": "markdown",
      "metadata": {
        "id": "ZCEqMBW3109y",
        "colab_type": "text"
      },
      "source": [
        "#### Model 2: Visualization"
      ]
    },
    {
      "cell_type": "code",
      "metadata": {
        "id": "iEunqiiX1zcz",
        "colab_type": "code",
        "outputId": "2c227428-55a6-4d90-f40c-e6bd886265db",
        "colab": {
          "base_uri": "https://localhost:8080/",
          "height": 545
        }
      },
      "source": [
        "plt.title('Model: Cross Entropy Loss')\n",
        "plt.plot(cnn.history['loss'], color='blue', label='train')\n",
        "plt.plot(cnn.history['val_loss'], color='orange', label='test')\n",
        "plt.show()\n",
        "\n",
        "# plot accuracy\n",
        "plt.title('Model: Classification Accuracy')\n",
        "plt.plot(cnn.history['acc'], color='blue', label='train')\n",
        "plt.plot(cnn.history['val_acc'], color='orange', label='test')\n",
        "plt.show()"
      ],
      "execution_count": 0,
      "outputs": [
        {
          "output_type": "display_data",
          "data": {
            "image/png": "[encoded data removed]",
            "text/plain": [
              "<Figure size 432x288 with 1 Axes>"
            ]
          },
          "metadata": {
            "tags": []
          }
        },
        {
          "output_type": "display_data",
          "data": {
            "image/png": "[encoded data removed]",
            "text/plain": [
              "<Figure size 432x288 with 1 Axes>"
            ]
          },
          "metadata": {
            "tags": []
          }
        }
      ]
    },
    {
      "cell_type": "markdown",
      "metadata": {
        "id": "gWbcbgrUirTI",
        "colab_type": "text"
      },
      "source": [
        "## Model 3\n",
        "#### Architecture: 16 layers\n",
        "#### Optimizer: RMSprop"
      ]
    },
    {
      "cell_type": "code",
      "metadata": {
        "id": "1cG-Ih8Qd-xb",
        "colab_type": "code",
        "colab": {}
      },
      "source": [
        "model = Sequential()\n",
        "\n",
        "model.add(Conv2D(32, (3,3), padding = \"same\", activation = \"relu\", input_shape = X_train.shape[1:]))\n",
        "model.add(Dropout(0.2))\n",
        "model.add(Conv2D(32, (3,3), padding = \"same\", activation = \"relu\"))\n",
        "model.add(MaxPool2D(pool_size = (2,2)))\n",
        "\n",
        "model.add(Conv2D(64, (3,3), padding = \"same\", activation = \"relu\"))\n",
        "model.add(Dropout(0.2))\n",
        "model.add(Conv2D(64, (3,3), padding = \"same\", activation = \"relu\"))\n",
        "model.add(MaxPool2D(pool_size = (2,2)))\n",
        "\n",
        "model.add(Conv2D(128, (3,3), padding = \"same\", activation = \"relu\"))\n",
        "model.add(Dropout(0.2))\n",
        "model.add(Conv2D(128, (3,3), padding = \"same\", activation = \"relu\"))\n",
        "model.add(MaxPool2D(pool_size = (2,2)))\n",
        "\n",
        "model.add(Flatten())\n",
        "model.add(Dropout(0.2))\n",
        "model.add(Dense(1024, activation = \"relu\", kernel_constraint = MaxNorm(3)))\n",
        "\n",
        "model.add(Dropout(0.2))\n",
        "model.add(Dense(num_classes, activation = 'softmax'))"
      ],
      "execution_count": 0,
      "outputs": []
    },
    {
      "cell_type": "code",
      "metadata": {
        "id": "U0Un1rYmivgw",
        "colab_type": "code",
        "colab": {}
      },
      "source": [
        "epochs = 100\n",
        "lrate = 0.01 \n",
        "decay = lrate/epochs \n",
        "opt_rms = rmsprop(lr = Learning_Rate,\n",
        "                  decay = 1e-6)\n",
        "model.compile(loss = 'categorical_crossentropy', \n",
        "              optimizer = opt_rms,\n",
        "              metrics = ['accuracy'])"
      ],
      "execution_count": 0,
      "outputs": []
    },
    {
      "cell_type": "code",
      "metadata": {
        "id": "cDCiFxxEiwJ-",
        "colab_type": "code",
        "outputId": "61003e8c-474e-4aa8-93bf-f621f92ed06d",
        "colab": {
          "base_uri": "https://localhost:8080/",
          "height": 1000
        }
      },
      "source": [
        "cnn = model.fit(X_train, Y_train, \n",
        "                batch_size = Batch_Size, \n",
        "                epochs = Num_Epochs,\n",
        "                validation_data = (X_test, Y_test),\n",
        "                shuffle = True)"
      ],
      "execution_count": 0,
      "outputs": [
        {
          "output_type": "stream",
          "text": [
            "Train on 50000 samples, validate on 10000 samples\n",
            "Epoch 1/50\n",
            "50000/50000 [==============================] - 20s 403us/step - loss: 1.6217 - acc: 0.4157 - val_loss: 1.3821 - val_acc: 0.5115\n",
            "Epoch 2/50\n",
            "50000/50000 [==============================] - 19s 387us/step - loss: 1.1907 - acc: 0.5783 - val_loss: 1.2941 - val_acc: 0.5533\n",
            "Epoch 3/50\n",
            "50000/50000 [==============================] - 19s 387us/step - loss: 1.0499 - acc: 0.6367 - val_loss: 1.0015 - val_acc: 0.6551\n",
            "Epoch 4/50\n",
            "50000/50000 [==============================] - 20s 390us/step - loss: 1.0008 - acc: 0.6594 - val_loss: 1.1160 - val_acc: 0.6416\n",
            "Epoch 5/50\n",
            "50000/50000 [==============================] - 19s 385us/step - loss: 0.9810 - acc: 0.6705 - val_loss: 0.9783 - val_acc: 0.6739\n",
            "Epoch 6/50\n",
            "50000/50000 [==============================] - 19s 387us/step - loss: 0.9776 - acc: 0.6717 - val_loss: 0.9855 - val_acc: 0.6721\n",
            "Epoch 7/50\n",
            "50000/50000 [==============================] - 19s 385us/step - loss: 0.9937 - acc: 0.6691 - val_loss: 1.0152 - val_acc: 0.6676\n",
            "Epoch 8/50\n",
            "50000/50000 [==============================] - 19s 389us/step - loss: 1.0079 - acc: 0.6651 - val_loss: 0.9806 - val_acc: 0.6692\n",
            "Epoch 9/50\n",
            "50000/50000 [==============================] - 20s 390us/step - loss: 1.0344 - acc: 0.6581 - val_loss: 0.8985 - val_acc: 0.7001\n",
            "Epoch 10/50\n",
            "50000/50000 [==============================] - 19s 384us/step - loss: 1.0575 - acc: 0.6496 - val_loss: 0.9251 - val_acc: 0.6965\n",
            "Epoch 11/50\n",
            "50000/50000 [==============================] - 19s 383us/step - loss: 1.0698 - acc: 0.6474 - val_loss: 1.5387 - val_acc: 0.4613\n",
            "Epoch 12/50\n",
            "50000/50000 [==============================] - 19s 385us/step - loss: 1.1108 - acc: 0.6335 - val_loss: 1.0523 - val_acc: 0.6445\n",
            "Epoch 13/50\n",
            "50000/50000 [==============================] - 19s 388us/step - loss: 1.1226 - acc: 0.6316 - val_loss: 0.9906 - val_acc: 0.6690\n",
            "Epoch 14/50\n",
            "50000/50000 [==============================] - 19s 383us/step - loss: 1.1595 - acc: 0.6197 - val_loss: 1.1550 - val_acc: 0.5985\n",
            "Epoch 15/50\n",
            "50000/50000 [==============================] - 19s 388us/step - loss: 1.1911 - acc: 0.6121 - val_loss: 1.2094 - val_acc: 0.5927\n",
            "Epoch 16/50\n",
            "50000/50000 [==============================] - 19s 389us/step - loss: 1.2394 - acc: 0.5984 - val_loss: 1.1356 - val_acc: 0.6198\n",
            "Epoch 17/50\n",
            "50000/50000 [==============================] - 20s 392us/step - loss: 1.2857 - acc: 0.5819 - val_loss: 1.0671 - val_acc: 0.6485\n",
            "Epoch 18/50\n",
            "50000/50000 [==============================] - 19s 390us/step - loss: 1.3184 - acc: 0.5726 - val_loss: 1.3033 - val_acc: 0.5634\n",
            "Epoch 19/50\n",
            "50000/50000 [==============================] - 19s 390us/step - loss: 1.3330 - acc: 0.5708 - val_loss: 1.3036 - val_acc: 0.5880\n",
            "Epoch 20/50\n",
            "50000/50000 [==============================] - 19s 388us/step - loss: 1.3625 - acc: 0.5605 - val_loss: 1.1072 - val_acc: 0.6389\n",
            "Epoch 21/50\n",
            "50000/50000 [==============================] - 20s 393us/step - loss: 1.4030 - acc: 0.5463 - val_loss: 1.0496 - val_acc: 0.6404\n",
            "Epoch 22/50\n",
            "50000/50000 [==============================] - 20s 392us/step - loss: 1.4385 - acc: 0.5318 - val_loss: 1.3094 - val_acc: 0.5733\n",
            "Epoch 23/50\n",
            "50000/50000 [==============================] - 19s 388us/step - loss: 1.4796 - acc: 0.5163 - val_loss: 1.4347 - val_acc: 0.4953\n",
            "Epoch 24/50\n",
            "50000/50000 [==============================] - 19s 390us/step - loss: 1.5071 - acc: 0.5085 - val_loss: 1.4297 - val_acc: 0.5081\n",
            "Epoch 25/50\n",
            "50000/50000 [==============================] - 20s 394us/step - loss: 1.6744 - acc: 0.5013 - val_loss: 1.4313 - val_acc: 0.5078\n",
            "Epoch 26/50\n",
            "50000/50000 [==============================] - 20s 393us/step - loss: 1.5869 - acc: 0.4871 - val_loss: 1.6185 - val_acc: 0.4161\n",
            "Epoch 27/50\n",
            "50000/50000 [==============================] - 20s 390us/step - loss: 1.6266 - acc: 0.4697 - val_loss: 1.5700 - val_acc: 0.4482\n",
            "Epoch 28/50\n",
            "50000/50000 [==============================] - 20s 391us/step - loss: 1.6517 - acc: 0.4587 - val_loss: 1.3118 - val_acc: 0.5284\n",
            "Epoch 29/50\n",
            "50000/50000 [==============================] - 19s 389us/step - loss: 1.7366 - acc: 0.4362 - val_loss: 1.6312 - val_acc: 0.4029\n",
            "Epoch 30/50\n",
            "50000/50000 [==============================] - 19s 387us/step - loss: 11.7989 - acc: 0.1648 - val_loss: 1.5299 - val_acc: 0.5365\n",
            "Epoch 31/50\n",
            "50000/50000 [==============================] - 19s 386us/step - loss: 1.8280 - acc: 0.3961 - val_loss: 1.5674 - val_acc: 0.4298\n",
            "Epoch 32/50\n",
            "50000/50000 [==============================] - 19s 388us/step - loss: 1.9550 - acc: 0.3854 - val_loss: 2.1937 - val_acc: 0.2705\n",
            "Epoch 33/50\n",
            "50000/50000 [==============================] - 19s 388us/step - loss: 1.9027 - acc: 0.3618 - val_loss: 1.6164 - val_acc: 0.3983\n",
            "Epoch 34/50\n",
            "50000/50000 [==============================] - 19s 387us/step - loss: 2.0140 - acc: 0.3130 - val_loss: 1.7648 - val_acc: 0.3095\n",
            "Epoch 35/50\n",
            "50000/50000 [==============================] - 19s 387us/step - loss: 2.0361 - acc: 0.2932 - val_loss: 1.7939 - val_acc: 0.3356\n",
            "Epoch 36/50\n",
            "50000/50000 [==============================] - 19s 387us/step - loss: 2.0971 - acc: 0.2611 - val_loss: 1.7498 - val_acc: 0.2866\n",
            "Epoch 37/50\n",
            "50000/50000 [==============================] - 19s 384us/step - loss: 2.0854 - acc: 0.2536 - val_loss: 1.9349 - val_acc: 0.2341\n",
            "Epoch 38/50\n",
            "50000/50000 [==============================] - 19s 385us/step - loss: 2.0611 - acc: 0.2561 - val_loss: 1.7705 - val_acc: 0.2812\n",
            "Epoch 39/50\n",
            "50000/50000 [==============================] - 19s 385us/step - loss: 2.0749 - acc: 0.2343 - val_loss: 1.8463 - val_acc: 0.2659\n",
            "Epoch 40/50\n",
            "50000/50000 [==============================] - 19s 386us/step - loss: 2.1353 - acc: 0.2088 - val_loss: 2.1824 - val_acc: 0.1732\n",
            "Epoch 41/50\n",
            "50000/50000 [==============================] - 19s 387us/step - loss: 2.1812 - acc: 0.2000 - val_loss: 2.0711 - val_acc: 0.1715\n",
            "Epoch 42/50\n",
            "50000/50000 [==============================] - 19s 388us/step - loss: 2.1413 - acc: 0.1943 - val_loss: 1.9649 - val_acc: 0.2257\n",
            "Epoch 43/50\n",
            "50000/50000 [==============================] - 19s 385us/step - loss: 2.2009 - acc: 0.1996 - val_loss: 1.9889 - val_acc: 0.2549\n",
            "Epoch 44/50\n",
            "50000/50000 [==============================] - 19s 386us/step - loss: 2.2083 - acc: 0.1974 - val_loss: 2.1615 - val_acc: 0.1394\n",
            "Epoch 45/50\n",
            "50000/50000 [==============================] - 19s 385us/step - loss: 2.2157 - acc: 0.1957 - val_loss: 2.0829 - val_acc: 0.1963\n",
            "Epoch 46/50\n",
            "50000/50000 [==============================] - 19s 387us/step - loss: 2.1845 - acc: 0.1983 - val_loss: 2.0562 - val_acc: 0.1308\n",
            "Epoch 47/50\n",
            "50000/50000 [==============================] - 19s 384us/step - loss: 2.1393 - acc: 0.1896 - val_loss: 2.1030 - val_acc: 0.1577\n",
            "Epoch 48/50\n",
            "50000/50000 [==============================] - 19s 387us/step - loss: 2.1587 - acc: 0.1926 - val_loss: 2.1076 - val_acc: 0.1680\n",
            "Epoch 49/50\n",
            "50000/50000 [==============================] - 19s 389us/step - loss: 3.9462 - acc: 0.1763 - val_loss: 14.4928 - val_acc: 0.1008\n",
            "Epoch 50/50\n",
            "50000/50000 [==============================] - 19s 385us/step - loss: 14.5060 - acc: 0.1000 - val_loss: 14.5063 - val_acc: 0.1000\n"
          ],
          "name": "stdout"
        }
      ]
    },
    {
      "cell_type": "markdown",
      "metadata": {
        "id": "LRHjHcQN8WA7",
        "colab_type": "text"
      },
      "source": [
        "#### Visualization"
      ]
    },
    {
      "cell_type": "code",
      "metadata": {
        "id": "dD-h9mzV8YUc",
        "colab_type": "code",
        "outputId": "ccdc6755-04bc-472e-ef8e-9ced322070e5",
        "colab": {
          "base_uri": "https://localhost:8080/",
          "height": 545
        }
      },
      "source": [
        "plt.title('Model: Cross Entropy Loss')\n",
        "plt.plot(cnn.history['loss'], color='blue', label='train')\n",
        "plt.plot(cnn.history['val_loss'], color='orange', label='test')\n",
        "plt.show()\n",
        "\n",
        "# plot accuracy\n",
        "plt.title('Model: Classification Accuracy')\n",
        "plt.plot(cnn.history['acc'], color='blue', label='train')\n",
        "plt.plot(cnn.history['val_acc'], color='orange', label='test')\n",
        "plt.show()"
      ],
      "execution_count": 0,
      "outputs": [
        {
          "output_type": "display_data",
          "data": {
            "image/png": "[encoded data removed]",
            "text/plain": [
              "<Figure size 432x288 with 1 Axes>"
            ]
          },
          "metadata": {
            "tags": []
          }
        },
        {
          "output_type": "display_data",
          "data": {
            "image/png": "[encoded data removed]",
            "text/plain": [
              "<Figure size 432x288 with 1 Axes>"
            ]
          },
          "metadata": {
            "tags": []
          }
        }
      ]
    },
    {
      "cell_type": "markdown",
      "metadata": {
        "id": "llIEVp1C_7Tf",
        "colab_type": "text"
      },
      "source": [
        "## Model 4\n",
        "### Architecture: 16 layers\n",
        "### Optimizer: Adam"
      ]
    },
    {
      "cell_type": "code",
      "metadata": {
        "id": "PXqWiSpb8ZAw",
        "colab_type": "code",
        "outputId": "0e2983a2-6b07-4d64-a96b-147c10a7a9a7",
        "colab": {
          "base_uri": "https://localhost:8080/",
          "height": 1000
        }
      },
      "source": [
        "# ARCHITECTURE\n",
        "model = Sequential()\n",
        "\n",
        "model.add(Conv2D(32, (3,3), padding = \"same\", activation = \"relu\", input_shape = X_train.shape[1:]))\n",
        "model.add(Dropout(0.2))\n",
        "model.add(Conv2D(32, (3,3), padding = \"same\", activation = \"relu\"))\n",
        "model.add(MaxPool2D(pool_size = (2,2)))\n",
        "\n",
        "model.add(Conv2D(64, (3,3), padding = \"same\", activation = \"relu\"))\n",
        "model.add(Dropout(0.2))\n",
        "model.add(Conv2D(64, (3,3), padding = \"same\", activation = \"relu\"))\n",
        "model.add(MaxPool2D(pool_size = (2,2)))\n",
        "\n",
        "model.add(Conv2D(128, (3,3), padding = \"same\", activation = \"relu\"))\n",
        "model.add(Dropout(0.2))\n",
        "model.add(Conv2D(128, (3,3), padding = \"same\", activation = \"relu\"))\n",
        "model.add(MaxPool2D(pool_size = (2,2)))\n",
        "\n",
        "model.add(Flatten())\n",
        "model.add(Dropout(0.2))\n",
        "model.add(Dense(1024, activation = \"relu\", kernel_constraint = MaxNorm(3)))\n",
        "\n",
        "model.add(Dropout(0.2))\n",
        "model.add(Dense(num_classes, activation = 'softmax'))\n",
        "\n",
        "# MODEL FIT AND EXECUTION\n",
        "adam = Adam(lr = Learning_Rate)\n",
        "model.compile(loss = 'categorical_crossentropy', \n",
        "              optimizer = adam,\n",
        "              metrics = ['accuracy'])\n",
        "\n",
        "cnn = model.fit(X_train, Y_train, \n",
        "                batch_size = Batch_Size, \n",
        "                epochs = Num_Epochs,\n",
        "                validation_data = (X_test, Y_test),\n",
        "                shuffle = True)"
      ],
      "execution_count": 0,
      "outputs": [
        {
          "output_type": "stream",
          "text": [
            "Train on 50000 samples, validate on 10000 samples\n",
            "Epoch 1/50\n",
            "50000/50000 [==============================] - 21s 428us/step - loss: 1.6591 - acc: 0.3789 - val_loss: 1.3312 - val_acc: 0.5073\n",
            "Epoch 2/50\n",
            "50000/50000 [==============================] - 21s 411us/step - loss: 1.2164 - acc: 0.5617 - val_loss: 1.1016 - val_acc: 0.6072\n",
            "Epoch 3/50\n",
            "50000/50000 [==============================] - 21s 415us/step - loss: 1.0302 - acc: 0.6336 - val_loss: 0.9435 - val_acc: 0.6682\n",
            "Epoch 4/50\n",
            "50000/50000 [==============================] - 21s 411us/step - loss: 0.9058 - acc: 0.6797 - val_loss: 0.8665 - val_acc: 0.7006\n",
            "Epoch 5/50\n",
            "50000/50000 [==============================] - 21s 410us/step - loss: 0.8209 - acc: 0.7104 - val_loss: 0.8075 - val_acc: 0.7139\n",
            "Epoch 6/50\n",
            "50000/50000 [==============================] - 21s 412us/step - loss: 0.7613 - acc: 0.7309 - val_loss: 0.7648 - val_acc: 0.7320\n",
            "Epoch 7/50\n",
            "50000/50000 [==============================] - 20s 409us/step - loss: 0.7177 - acc: 0.7504 - val_loss: 0.8225 - val_acc: 0.7212\n",
            "Epoch 8/50\n",
            "50000/50000 [==============================] - 21s 411us/step - loss: 0.6846 - acc: 0.7600 - val_loss: 0.7369 - val_acc: 0.7491\n",
            "Epoch 9/50\n",
            "50000/50000 [==============================] - 20s 410us/step - loss: 0.6515 - acc: 0.7714 - val_loss: 0.7161 - val_acc: 0.7551\n",
            "Epoch 10/50\n",
            "50000/50000 [==============================] - 20s 408us/step - loss: 0.6266 - acc: 0.7805 - val_loss: 0.6898 - val_acc: 0.7671\n",
            "Epoch 11/50\n",
            "50000/50000 [==============================] - 21s 413us/step - loss: 0.6033 - acc: 0.7866 - val_loss: 0.7005 - val_acc: 0.7632\n",
            "Epoch 12/50\n",
            "50000/50000 [==============================] - 20s 410us/step - loss: 0.5896 - acc: 0.7934 - val_loss: 0.6862 - val_acc: 0.7675\n",
            "Epoch 13/50\n",
            "50000/50000 [==============================] - 20s 408us/step - loss: 0.5698 - acc: 0.8005 - val_loss: 0.6764 - val_acc: 0.7786\n",
            "Epoch 14/50\n",
            "50000/50000 [==============================] - 21s 420us/step - loss: 0.5602 - acc: 0.8034 - val_loss: 0.6927 - val_acc: 0.7684\n",
            "Epoch 15/50\n",
            "50000/50000 [==============================] - 21s 412us/step - loss: 0.5474 - acc: 0.8089 - val_loss: 0.6883 - val_acc: 0.7718\n",
            "Epoch 16/50\n",
            "50000/50000 [==============================] - 21s 411us/step - loss: 0.5374 - acc: 0.8124 - val_loss: 0.6990 - val_acc: 0.7675\n",
            "Epoch 17/50\n",
            "50000/50000 [==============================] - 20s 409us/step - loss: 0.5253 - acc: 0.8174 - val_loss: 0.6590 - val_acc: 0.7818\n",
            "Epoch 18/50\n",
            "50000/50000 [==============================] - 21s 413us/step - loss: 0.5211 - acc: 0.8165 - val_loss: 0.6816 - val_acc: 0.7741\n",
            "Epoch 19/50\n",
            "50000/50000 [==============================] - 20s 409us/step - loss: 0.5079 - acc: 0.8214 - val_loss: 0.6819 - val_acc: 0.7766\n",
            "Epoch 20/50\n",
            "50000/50000 [==============================] - 21s 410us/step - loss: 0.5016 - acc: 0.8261 - val_loss: 0.7057 - val_acc: 0.7657\n",
            "Epoch 21/50\n",
            "50000/50000 [==============================] - 21s 412us/step - loss: 0.5042 - acc: 0.8239 - val_loss: 0.6763 - val_acc: 0.7772\n",
            "Epoch 22/50\n",
            "50000/50000 [==============================] - 20s 409us/step - loss: 0.4982 - acc: 0.8262 - val_loss: 0.6782 - val_acc: 0.7725\n",
            "Epoch 23/50\n",
            "50000/50000 [==============================] - 20s 409us/step - loss: 0.4955 - acc: 0.8280 - val_loss: 0.6628 - val_acc: 0.7803\n",
            "Epoch 24/50\n",
            "50000/50000 [==============================] - 21s 412us/step - loss: 0.4887 - acc: 0.8307 - val_loss: 0.6850 - val_acc: 0.7807\n",
            "Epoch 25/50\n",
            "50000/50000 [==============================] - 20s 409us/step - loss: 0.4890 - acc: 0.8301 - val_loss: 0.6843 - val_acc: 0.7767\n",
            "Epoch 26/50\n",
            "50000/50000 [==============================] - 20s 409us/step - loss: 0.4908 - acc: 0.8305 - val_loss: 0.6665 - val_acc: 0.7804\n",
            "Epoch 27/50\n",
            "50000/50000 [==============================] - 21s 410us/step - loss: 0.4743 - acc: 0.8368 - val_loss: 0.6505 - val_acc: 0.7892\n",
            "Epoch 28/50\n",
            "50000/50000 [==============================] - 20s 408us/step - loss: 0.4770 - acc: 0.8352 - val_loss: 0.7021 - val_acc: 0.7741\n",
            "Epoch 29/50\n",
            "50000/50000 [==============================] - 21s 419us/step - loss: 0.4748 - acc: 0.8353 - val_loss: 0.6781 - val_acc: 0.7831\n",
            "Epoch 30/50\n",
            "50000/50000 [==============================] - 20s 409us/step - loss: 0.4662 - acc: 0.8382 - val_loss: 0.6999 - val_acc: 0.7782\n",
            "Epoch 31/50\n",
            "50000/50000 [==============================] - 20s 409us/step - loss: 0.4666 - acc: 0.8378 - val_loss: 0.6798 - val_acc: 0.7791\n",
            "Epoch 32/50\n",
            "50000/50000 [==============================] - 20s 409us/step - loss: 0.4736 - acc: 0.8375 - val_loss: 0.6943 - val_acc: 0.7753\n",
            "Epoch 33/50\n",
            "50000/50000 [==============================] - 21s 412us/step - loss: 0.4668 - acc: 0.8395 - val_loss: 0.6646 - val_acc: 0.7850\n",
            "Epoch 34/50\n",
            "50000/50000 [==============================] - 21s 413us/step - loss: 0.4599 - acc: 0.8424 - val_loss: 0.6405 - val_acc: 0.7956\n",
            "Epoch 35/50\n",
            "50000/50000 [==============================] - 20s 410us/step - loss: 0.4568 - acc: 0.8430 - val_loss: 0.6620 - val_acc: 0.7900\n",
            "Epoch 36/50\n",
            "50000/50000 [==============================] - 21s 412us/step - loss: 0.4600 - acc: 0.8424 - val_loss: 0.7075 - val_acc: 0.7658\n",
            "Epoch 37/50\n",
            "50000/50000 [==============================] - 21s 412us/step - loss: 0.4550 - acc: 0.8426 - val_loss: 0.6572 - val_acc: 0.7862\n",
            "Epoch 38/50\n",
            "50000/50000 [==============================] - 21s 413us/step - loss: 0.4535 - acc: 0.8430 - val_loss: 0.6820 - val_acc: 0.7809\n",
            "Epoch 39/50\n",
            "50000/50000 [==============================] - 20s 410us/step - loss: 0.4486 - acc: 0.8439 - val_loss: 0.6557 - val_acc: 0.7908\n",
            "Epoch 40/50\n",
            "50000/50000 [==============================] - 21s 411us/step - loss: 0.4577 - acc: 0.8428 - val_loss: 0.6681 - val_acc: 0.7833\n",
            "Epoch 41/50\n",
            "50000/50000 [==============================] - 20s 409us/step - loss: 0.4476 - acc: 0.8470 - val_loss: 0.6599 - val_acc: 0.7917\n",
            "Epoch 42/50\n",
            "50000/50000 [==============================] - 20s 407us/step - loss: 0.4491 - acc: 0.8462 - val_loss: 0.6590 - val_acc: 0.7967\n",
            "Epoch 43/50\n",
            "50000/50000 [==============================] - 21s 413us/step - loss: 0.4422 - acc: 0.8492 - val_loss: 0.6679 - val_acc: 0.7882\n",
            "Epoch 44/50\n",
            "50000/50000 [==============================] - 21s 422us/step - loss: 0.4394 - acc: 0.8477 - val_loss: 0.6413 - val_acc: 0.7986\n",
            "Epoch 45/50\n",
            "50000/50000 [==============================] - 21s 412us/step - loss: 0.4469 - acc: 0.8453 - val_loss: 0.6871 - val_acc: 0.7853\n",
            "Epoch 46/50\n",
            "50000/50000 [==============================] - 21s 411us/step - loss: 0.4434 - acc: 0.8477 - val_loss: 0.6911 - val_acc: 0.7829\n",
            "Epoch 47/50\n",
            "50000/50000 [==============================] - 21s 415us/step - loss: 0.4500 - acc: 0.8449 - val_loss: 0.6813 - val_acc: 0.7846\n",
            "Epoch 48/50\n",
            "50000/50000 [==============================] - 21s 411us/step - loss: 0.4465 - acc: 0.8468 - val_loss: 0.6494 - val_acc: 0.7940\n",
            "Epoch 49/50\n",
            "50000/50000 [==============================] - 21s 414us/step - loss: 0.4368 - acc: 0.8492 - val_loss: 0.6549 - val_acc: 0.7940\n",
            "Epoch 50/50\n",
            "50000/50000 [==============================] - 21s 415us/step - loss: 0.4455 - acc: 0.8466 - val_loss: 0.7057 - val_acc: 0.7745\n"
          ],
          "name": "stdout"
        }
      ]
    },
    {
      "cell_type": "code",
      "metadata": {
        "id": "NIQxCUNcBpbX",
        "colab_type": "code",
        "outputId": "b46f0d3c-22c4-4777-e5b4-51d1ac2c1ef1",
        "colab": {
          "base_uri": "https://localhost:8080/",
          "height": 545
        }
      },
      "source": [
        "plt.title('Model: Cross Entropy Loss') \n",
        "plt.plot(cnn.history['loss'], color='blue', label='train')\n",
        "plt.plot(cnn.history['val_loss'], color='orange', label='test')\n",
        "plt.show()\n",
        "\n",
        "# plot accuracy\n",
        "plt.title('Model: Classification Accuracy')\n",
        "plt.plot(cnn.history['acc'], color='blue', label='train')\n",
        "plt.plot(cnn.history['val_acc'], color='orange', label='test')\n",
        "plt.show()"
      ],
      "execution_count": 0,
      "outputs": [
        {
          "output_type": "display_data",
          "data": {
            "image/png": "[encoded data removed]",
            "text/plain": [
              "<Figure size 432x288 with 1 Axes>"
            ]
          },
          "metadata": {
            "tags": []
          }
        },
        {
          "output_type": "display_data",
          "data": {
            "image/png": "[encoded data removed]",
            "text/plain": [
              "<Figure size 432x288 with 1 Axes>"
            ]
          },
          "metadata": {
            "tags": []
          }
        }
      ]
    }
  ]
}