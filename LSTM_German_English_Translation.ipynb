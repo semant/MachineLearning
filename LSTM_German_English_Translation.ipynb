{
  "nbformat": 4,
  "nbformat_minor": 0,
  "metadata": {
    "colab": {
      "name": "CE_ML_Project_12_04_b_Translation.ipynb",
      "provenance": [],
      "collapsed_sections": [],
      "authorship_tag": "ABX9TyM569Xhvse3giUhwJOfZjKS",
      "include_colab_link": true
    },
    "kernelspec": {
      "name": "python3",
      "display_name": "Python 3"
    },
    "accelerator": "GPU"
  },
  "cells": [
    {
      "cell_type": "markdown",
      "metadata": {
        "id": "view-in-github",
        "colab_type": "text"
      },
      "source": [
        "<a href=\"https://colab.research.google.com/github/semant/MachineLearning/blob/master/LSTM_German_English_Translation.ipynb\" target=\"_parent\"><img src=\"https://colab.research.google.com/assets/colab-badge.svg\" alt=\"Open In Colab\"/></a>"
      ]
    },
    {
      "cell_type": "markdown",
      "metadata": {
        "id": "Rex2kOFLCD4g",
        "colab_type": "text"
      },
      "source": [
        "# German-English Language Translation using LSTM\n",
        "\n",
        "> Semant Jain, PhD semant@gmail.com\n",
        "\n",
        "### Executive Summary\n",
        "> **Introduction**\n",
        "\n",
        "> Another application of long short-term memory (LSTM) neural networks is in language translation. However, compared to sentiment analysis, this is a much more challenging problem as the same word can have multiple contextual meanings. Regardless, in this project, a two layer LSTM model with 20% dropout was constructed which was trained on 100,000 German/English translations -- constraints within the computational limits -- of Google colaboratry GPU. This training was completed within 20-30 minutes and the recreated sentences were largely able to capture the essential meaning of the original sentences.\n",
        "\n",
        "> **Architecture**\n",
        "> + Encoder layer had 512 embedding vector and 2 LSTM layers with 20% dropout\n",
        "> + Decoder layer had 2 LSTM layers with 20% dropout\n",
        "\n",
        "> **Computational Constraints**\n",
        "> + As this LSTM model was being trained on Google Colab GPU, the training had to be limited to under 30 minutes. Thereafter, execution was observed to time out.\n",
        "> + While the total German/English translation library has 204,574 entries, using more than 100,000 entries caused RAM limits to be exceeded.\n",
        "> + After 30 epochs, the training error was still decreasing but the validation error stopped decreasing.\n",
        "\n",
        "> **Conclusions** \n",
        ">  Despite the computational constraints, after training for 20 minutes, the LSTM model was able to exactly recreate or capture the essential meaning for most of the original sentence in its recreation. With greater computational resources, the following improvements could be tested:\n",
        "+ For training purposes, greater sentence and dictionary length\n",
        "+ More LSTM layers, higher dropout rates, addition of attention models, and greater training time\n",
        "\n",
        "\n",
        "### Contents\n",
        "+ Setting up\n",
        "  + Importing libraries\n",
        "  + Importing data\n",
        "  + Preprocessing\n",
        "  + Setting maximum translation length\n",
        "+ Model\n",
        "  + Architecture\n",
        "  + Optimizer\n",
        "  + Execution\n",
        "+ Results\n",
        "  + Reverse dictionary\n",
        "  + Recreated results\n",
        "\n",
        "\n",
        "### Libraries\n",
        "+ Keras\n",
        "+ Matplotlib\n",
        "+ Numpy\n",
        "+ Pandas\n",
        "+ Sklearn\n",
        "+ String\n",
        "\n",
        "\n"
      ]
    },
    {
      "cell_type": "markdown",
      "metadata": {
        "id": "9WU3q2ZGpwPf",
        "colab_type": "text"
      },
      "source": [
        "# 1. Setting up\n",
        "\n",
        "### Importing libraries"
      ]
    },
    {
      "cell_type": "code",
      "metadata": {
        "id": "MuMlQUxqB44v",
        "colab_type": "code",
        "colab": {
          "base_uri": "https://localhost:8080/",
          "height": 80
        },
        "outputId": "c654cb46-eaf0-444b-cdc1-ea43c09d9e58"
      },
      "source": [
        "import matplotlib.pyplot as plt\n",
        "% matplotlib inline\n",
        "import numpy as np\n",
        "import pandas as pd\n",
        "import string\n",
        "\n",
        "from keras import optimizers\n",
        "from keras.callbacks import ModelCheckpoint\n",
        "from keras.layers import Dense, LSTM, Embedding, RepeatVector\n",
        "from keras.models import load_model, Sequential\n",
        "from keras.preprocessing.text import Tokenizer\n",
        "from keras.preprocessing.sequence import pad_sequences\n",
        "\n",
        "from sklearn.model_selection import train_test_split"
      ],
      "execution_count": 1,
      "outputs": [
        {
          "output_type": "stream",
          "text": [
            "Using TensorFlow backend.\n"
          ],
          "name": "stderr"
        },
        {
          "output_type": "display_data",
          "data": {
            "text/html": [
              "<p style=\"color: red;\">\n",
              "The default version of TensorFlow in Colab will soon switch to TensorFlow 2.x.<br>\n",
              "We recommend you <a href=\"https://www.tensorflow.org/guide/migrate\" target=\"_blank\">upgrade</a> now \n",
              "or ensure your notebook will continue to use TensorFlow 1.x via the <code>%tensorflow_version 1.x</code> magic:\n",
              "<a href=\"https://colab.research.google.com/notebooks/tensorflow_version.ipynb\" target=\"_blank\">more info</a>.</p>\n"
            ],
            "text/plain": [
              "<IPython.core.display.HTML object>"
            ]
          },
          "metadata": {
            "tags": []
          }
        }
      ]
    },
    {
      "cell_type": "markdown",
      "metadata": {
        "id": "SFNADoDEp1MP",
        "colab_type": "text"
      },
      "source": [
        "### Importing data"
      ]
    },
    {
      "cell_type": "code",
      "metadata": {
        "id": "M5mMKdN2J6f5",
        "colab_type": "code",
        "outputId": "a20084d7-52b2-4ab6-d5a7-b27bcea91394",
        "colab": {
          "base_uri": "https://localhost:8080/",
          "height": 204
        }
      },
      "source": [
        "!wget http://www.manythings.org/anki/deu-eng.zip"
      ],
      "execution_count": 2,
      "outputs": [
        {
          "output_type": "stream",
          "text": [
            "--2020-01-24 04:10:42--  http://www.manythings.org/anki/deu-eng.zip\n",
            "Resolving www.manythings.org (www.manythings.org)... 104.24.109.196, 104.24.108.196, 2606:4700:3033::6818:6dc4, ...\n",
            "Connecting to www.manythings.org (www.manythings.org)|104.24.109.196|:80... connected.\n",
            "HTTP request sent, awaiting response... 200 OK\n",
            "Length: 7747747 (7.4M) [application/zip]\n",
            "Saving to: ‘deu-eng.zip’\n",
            "\n",
            "\rdeu-eng.zip           0%[                    ]       0  --.-KB/s               \rdeu-eng.zip           9%[>                   ] 707.26K  3.45MB/s               \rdeu-eng.zip          94%[=================>  ]   7.00M  17.5MB/s               \rdeu-eng.zip         100%[===================>]   7.39M  18.0MB/s    in 0.4s    \n",
            "\n",
            "2020-01-24 04:10:43 (18.0 MB/s) - ‘deu-eng.zip’ saved [7747747/7747747]\n",
            "\n"
          ],
          "name": "stdout"
        }
      ]
    },
    {
      "cell_type": "code",
      "metadata": {
        "id": "Hj9BFH4BJ-M_",
        "colab_type": "code",
        "outputId": "850dc92e-b8ae-4d0f-a7cb-6ec41dd4863d",
        "colab": {
          "base_uri": "https://localhost:8080/",
          "height": 68
        }
      },
      "source": [
        "!unzip deu-eng.zip"
      ],
      "execution_count": 3,
      "outputs": [
        {
          "output_type": "stream",
          "text": [
            "Archive:  deu-eng.zip\n",
            "  inflating: deu.txt                 \n",
            "  inflating: _about.txt              \n"
          ],
          "name": "stdout"
        }
      ]
    },
    {
      "cell_type": "markdown",
      "metadata": {
        "id": "is-9TsTsLPCS",
        "colab_type": "text"
      },
      "source": [
        "#### Helper functions"
      ]
    },
    {
      "cell_type": "code",
      "metadata": {
        "id": "hJIBtmloKGLm",
        "colab_type": "code",
        "outputId": "e20da855-2204-4f21-db27-c5cc63b902df",
        "colab": {
          "base_uri": "https://localhost:8080/",
          "height": 51
        }
      },
      "source": [
        "def read_text(filename):\n",
        "  file = open(filename, mode = 'rt', encoding = 'utf-8') \n",
        "  text = file.read()\n",
        "  file.close()\n",
        "  return text\n",
        "\n",
        "def to_lines(text):\n",
        "  pairs = text.strip().split('\\n')\n",
        "  # Split each line\n",
        "  sents = [p.split('\\t') for p in pairs] \n",
        "  return sents \n",
        "\n",
        "data = read_text(\"deu.txt\")\n",
        "deu_eng = to_lines(data) \n",
        "deu_eng = np.array(deu_eng)\n",
        "\n",
        "print(deu_eng[0])\n",
        "\n",
        "def encode_sequences(tokenizer, length, lines):\n",
        "  # Convert each word in sentences to tokens (list of numbers)\n",
        "  seq = tokenizer.texts_to_sequences(lines) \n",
        "  seq = pad_sequences(seq, maxlen = length, padding = 'post')\n",
        "  return seq"
      ],
      "execution_count": 4,
      "outputs": [
        {
          "output_type": "stream",
          "text": [
            "['Hi.' 'Hallo!'\n",
            " 'CC-BY 2.0 (France) Attribution: tatoeba.org #538123 (CM) & #380701 (cburgmer)']\n"
          ],
          "name": "stdout"
        }
      ]
    },
    {
      "cell_type": "markdown",
      "metadata": {
        "id": "h6TT4uCbVG5x",
        "colab_type": "text"
      },
      "source": [
        "\n",
        "\n",
        "```\n",
        "# This is formatted as code\n",
        "```\n",
        "\n",
        "### Limiting dictionary length\n",
        "+ Complete: 204,574\n",
        "+ Limit:    100,000"
      ]
    },
    {
      "cell_type": "code",
      "metadata": {
        "id": "FWK2j1V4MYYu",
        "colab_type": "code",
        "outputId": "1d4f3211-8413-41ae-bf26-edd6dbc9519b",
        "colab": {
          "base_uri": "https://localhost:8080/",
          "height": 51
        }
      },
      "source": [
        "print(len(deu_eng))\n",
        "\n",
        "deu_eng = deu_eng[:100000, :] #50,000\n",
        "print(len(deu_eng))"
      ],
      "execution_count": 5,
      "outputs": [
        {
          "output_type": "stream",
          "text": [
            "204574\n",
            "100000\n"
          ],
          "name": "stdout"
        }
      ]
    },
    {
      "cell_type": "code",
      "metadata": {
        "id": "SXX7ILhKM2mq",
        "colab_type": "code",
        "outputId": "4cba1006-bdd0-4ffb-eab3-43c2428273a0",
        "colab": {
          "base_uri": "https://localhost:8080/",
          "height": 289
        }
      },
      "source": [
        "deu_eng "
      ],
      "execution_count": 6,
      "outputs": [
        {
          "output_type": "execute_result",
          "data": {
            "text/plain": [
              "array([['Hi.', 'Hallo!',\n",
              "        'CC-BY 2.0 (France) Attribution: tatoeba.org #538123 (CM) & #380701 (cburgmer)'],\n",
              "       ['Hi.', 'Grüß Gott!',\n",
              "        'CC-BY 2.0 (France) Attribution: tatoeba.org #538123 (CM) & #659813 (Esperantostern)'],\n",
              "       ['Run!', 'Lauf!',\n",
              "        'CC-BY 2.0 (France) Attribution: tatoeba.org #906328 (papabear) & #941078 (Fingerhut)'],\n",
              "       ...,\n",
              "       ['What line of work are you in?', 'Was machen Sie beruflich?',\n",
              "        'CC-BY 2.0 (France) Attribution: tatoeba.org #54432 (CK) & #3190973 (Pfirsichbaeumchen)'],\n",
              "       ['What other choice did I have?',\n",
              "        'Was hätte ich anderes tun können?',\n",
              "        'CC-BY 2.0 (France) Attribution: tatoeba.org #2439797 (Hybrid) & #2439807 (Pfirsichbaeumchen)'],\n",
              "       ['What other options do I have?',\n",
              "        'Was für andere Optionen habe ich?',\n",
              "        'CC-BY 2.0 (France) Attribution: tatoeba.org #1449 (Zifre) & #251 (MUIRIEL)']],\n",
              "      dtype='<U537')"
            ]
          },
          "metadata": {
            "tags": []
          },
          "execution_count": 6
        }
      ]
    },
    {
      "cell_type": "markdown",
      "metadata": {
        "id": "cD6J5-WRVWFf",
        "colab_type": "text"
      },
      "source": [
        "### Pre-processing\n",
        "+ Remove caps\n",
        "+ Remove punctuation"
      ]
    },
    {
      "cell_type": "code",
      "metadata": {
        "id": "jpoNrabSNSfS",
        "colab_type": "code",
        "colab": {}
      },
      "source": [
        "deu_eng[:, 0] = [s.translate (str.maketrans(\"\", \"\", string.punctuation)) for s in deu_eng[:, 0]]\n",
        "deu_eng[:, 1] = [s.translate (str.maketrans(\"\", \"\", string.punctuation)) for s in deu_eng[:, 1]]\n"
      ],
      "execution_count": 0,
      "outputs": []
    },
    {
      "cell_type": "markdown",
      "metadata": {
        "id": "BSiV2Cv5nN7z",
        "colab_type": "text"
      },
      "source": [
        "### Splitting German and English translations"
      ]
    },
    {
      "cell_type": "code",
      "metadata": {
        "id": "BGBN4G-2PD2Y",
        "colab_type": "code",
        "outputId": "36576c6d-a2e0-476e-dbd8-108bfa6aac88",
        "colab": {
          "base_uri": "https://localhost:8080/",
          "height": 170
        }
      },
      "source": [
        "deu_eng[:, :2]"
      ],
      "execution_count": 8,
      "outputs": [
        {
          "output_type": "execute_result",
          "data": {
            "text/plain": [
              "array([['Hi', 'Hallo'],\n",
              "       ['Hi', 'Grüß Gott'],\n",
              "       ['Run', 'Lauf'],\n",
              "       ...,\n",
              "       ['What line of work are you in', 'Was machen Sie beruflich'],\n",
              "       ['What other choice did I have',\n",
              "        'Was hätte ich anderes tun können'],\n",
              "       ['What other options do I have',\n",
              "        'Was für andere Optionen habe ich']], dtype='<U537')"
            ]
          },
          "metadata": {
            "tags": []
          },
          "execution_count": 8
        }
      ]
    },
    {
      "cell_type": "code",
      "metadata": {
        "id": "7Vx8bMxYPK2J",
        "colab_type": "code",
        "outputId": "1676cc43-1710-48ed-efed-087e6d9b9528",
        "colab": {
          "base_uri": "https://localhost:8080/",
          "height": 170
        }
      },
      "source": [
        "for i in range(len(deu_eng)):\n",
        "  deu_eng[i,0] = deu_eng[i,0].lower()\n",
        "  deu_eng[i,1] = deu_eng[i,1].lower()\n",
        "\n",
        "deu_eng[:, :2]"
      ],
      "execution_count": 9,
      "outputs": [
        {
          "output_type": "execute_result",
          "data": {
            "text/plain": [
              "array([['hi', 'hallo'],\n",
              "       ['hi', 'grüß gott'],\n",
              "       ['run', 'lauf'],\n",
              "       ...,\n",
              "       ['what line of work are you in', 'was machen sie beruflich'],\n",
              "       ['what other choice did i have',\n",
              "        'was hätte ich anderes tun können'],\n",
              "       ['what other options do i have',\n",
              "        'was für andere optionen habe ich']], dtype='<U537')"
            ]
          },
          "metadata": {
            "tags": []
          },
          "execution_count": 9
        }
      ]
    },
    {
      "cell_type": "markdown",
      "metadata": {
        "id": "F8I0EQ6UnnAm",
        "colab_type": "text"
      },
      "source": [
        "### Setting maximum length of the translations"
      ]
    },
    {
      "cell_type": "markdown",
      "metadata": {
        "id": "0AtFExgZnzNs",
        "colab_type": "text"
      },
      "source": [
        "**Current maximum length**"
      ]
    },
    {
      "cell_type": "code",
      "metadata": {
        "id": "KFyYcBqtQn90",
        "colab_type": "code",
        "colab": {
          "base_uri": "https://localhost:8080/",
          "height": 281
        },
        "outputId": "903a7b50-e2ee-42d4-c077-1962fc0ca3ac"
      },
      "source": [
        "eng_len = [len(s.split()) for s in deu_eng[:, 0]]\n",
        "deu_len = [len(s.split()) for s in deu_eng[:, 1]]\n",
        "lengths_df = pd.DataFrame({'eng': eng_len, 'deu':deu_len})\n",
        "lengths_df.hist(bins = 30)\n",
        "plt.show()"
      ],
      "execution_count": 10,
      "outputs": [
        {
          "output_type": "display_data",
          "data": {
            "image/png": "[encoded data removed]",
            "text/plain": [
              "<Figure size 432x288 with 2 Axes>"
            ]
          },
          "metadata": {
            "tags": []
          }
        }
      ]
    },
    {
      "cell_type": "code",
      "metadata": {
        "id": "x5YFmA7CRZSa",
        "colab_type": "code",
        "outputId": "6b43a7b4-3dcc-4250-dbe0-f41a600a62b9",
        "colab": {
          "base_uri": "https://localhost:8080/",
          "height": 51
        }
      },
      "source": [
        "# Maximum lengths - limited by first 50,000 cases\n",
        "print(max(eng_len))\n",
        "print(max(deu_len))"
      ],
      "execution_count": 11,
      "outputs": [
        {
          "output_type": "stream",
          "text": [
            "9\n",
            "18\n"
          ],
          "name": "stdout"
        }
      ]
    },
    {
      "cell_type": "code",
      "metadata": {
        "id": "EaABYgbqR5HF",
        "colab_type": "code",
        "colab": {}
      },
      "source": [
        "#lengths_df.max(axis=0)"
      ],
      "execution_count": 0,
      "outputs": []
    },
    {
      "cell_type": "markdown",
      "metadata": {
        "id": "ruzQGTxZq5aT",
        "colab_type": "text"
      },
      "source": [
        "**Setting Maximum Length**"
      ]
    },
    {
      "cell_type": "code",
      "metadata": {
        "id": "TxIKlj6eZBOr",
        "colab_type": "code",
        "outputId": "42505699-cbc4-4a44-a886-3a962149914c",
        "colab": {
          "base_uri": "https://localhost:8080/",
          "height": 34
        }
      },
      "source": [
        "eng_max_length = min(10, max(eng_len)) # 8\n",
        "deu_max_length = min(10, max(deu_len)) # 8\n",
        "\n",
        "print(eng_max_length, deu_max_length)"
      ],
      "execution_count": 13,
      "outputs": [
        {
          "output_type": "stream",
          "text": [
            "9 10\n"
          ],
          "name": "stdout"
        }
      ]
    },
    {
      "cell_type": "markdown",
      "metadata": {
        "id": "SWzRh_gISoxD",
        "colab_type": "text"
      },
      "source": [
        "### Tokenizer"
      ]
    },
    {
      "cell_type": "code",
      "metadata": {
        "id": "tw8pnYq5Str_",
        "colab_type": "code",
        "outputId": "a7649a17-6892-48b2-a462-8d995b312af7",
        "colab": {
          "base_uri": "https://localhost:8080/",
          "height": 34
        }
      },
      "source": [
        "eng_tokenizer = Tokenizer()\n",
        "eng_tokenizer.fit_on_texts(deu_eng[:,0])\n",
        "\n",
        "eng_vocab_size = len(eng_tokenizer.word_index) + 1 # len is the total number of tokens. So, add 1 to account for padding (token 0)\n",
        "print(eng_vocab_size) # 6344 + 1 for extra token"
      ],
      "execution_count": 14,
      "outputs": [
        {
          "output_type": "stream",
          "text": [
            "9468\n"
          ],
          "name": "stdout"
        }
      ]
    },
    {
      "cell_type": "code",
      "metadata": {
        "id": "iaY1gdX3X0MO",
        "colab_type": "code",
        "colab": {}
      },
      "source": [
        "# eng_tokenizer.word_index"
      ],
      "execution_count": 0,
      "outputs": []
    },
    {
      "cell_type": "code",
      "metadata": {
        "id": "wGGT4dCcX_oE",
        "colab_type": "code",
        "outputId": "5cf37839-a66d-4d01-bcfb-86bd4ef91daf",
        "colab": {
          "base_uri": "https://localhost:8080/",
          "height": 34
        }
      },
      "source": [
        "deu_tokenizer = Tokenizer()\n",
        "deu_tokenizer.fit_on_texts(deu_eng[:,1]) \n",
        "deu_vocab_size = len(deu_tokenizer.word_index) + 1 \n",
        "print(deu_vocab_size) "
      ],
      "execution_count": 16,
      "outputs": [
        {
          "output_type": "stream",
          "text": [
            "17192\n"
          ],
          "name": "stdout"
        }
      ]
    },
    {
      "cell_type": "markdown",
      "metadata": {
        "id": "5ruGZK18bMc7",
        "colab_type": "text"
      },
      "source": [
        "### Train Test split"
      ]
    },
    {
      "cell_type": "code",
      "metadata": {
        "id": "1MtZFjrEbFdt",
        "colab_type": "code",
        "colab": {
          "base_uri": "https://localhost:8080/",
          "height": 51
        },
        "outputId": "b70b0db1-eec6-4303-b47a-47c07a6da1e1"
      },
      "source": [
        "train, test = train_test_split(deu_eng, test_size = 0.2, random_state = 12) \n",
        "\n",
        "trainX = encode_sequences(deu_tokenizer, deu_max_length, train[:, 1])\n",
        "trainY = encode_sequences(eng_tokenizer, eng_max_length, train[:, 0])\n",
        "\n",
        "print(trainX.shape, trainY.shape)\n",
        "print(trainX[0], trainY[0])"
      ],
      "execution_count": 17,
      "outputs": [
        {
          "output_type": "stream",
          "text": [
            "(80000, 10) (80000, 9)\n",
            "[ 1 80  8  0  0  0  0  0  0  0] [ 2 30  8  0  0  0  0  0  0]\n"
          ],
          "name": "stdout"
        }
      ]
    },
    {
      "cell_type": "markdown",
      "metadata": {
        "id": "rDKkBO4dclfu",
        "colab_type": "text"
      },
      "source": [
        "### Testing data"
      ]
    },
    {
      "cell_type": "code",
      "metadata": {
        "id": "S7I8HwTmchVT",
        "colab_type": "code",
        "outputId": "ae97397f-98b6-4913-944b-5ecafb32a84b",
        "colab": {
          "base_uri": "https://localhost:8080/",
          "height": 34
        }
      },
      "source": [
        "testX = encode_sequences(deu_tokenizer, deu_max_length, test[:,1]) \n",
        "testY = encode_sequences(eng_tokenizer, eng_max_length, test[:,0]) \n",
        "\n",
        "print(testX.shape, testY.shape)"
      ],
      "execution_count": 18,
      "outputs": [
        {
          "output_type": "stream",
          "text": [
            "(20000, 10) (20000, 9)\n"
          ],
          "name": "stdout"
        }
      ]
    },
    {
      "cell_type": "markdown",
      "metadata": {
        "id": "POE4-3VmsPhE",
        "colab_type": "text"
      },
      "source": [
        "\n",
        "# 2. Model\n",
        "\n",
        "### Architecture\n",
        "\n"
      ]
    },
    {
      "cell_type": "code",
      "metadata": {
        "id": "1ZhBui6peuUH",
        "colab_type": "code",
        "outputId": "65ba9633-d76c-4763-d349-1c20de39dd03",
        "colab": {
          "base_uri": "https://localhost:8080/",
          "height": 649
        }
      },
      "source": [
        "# Hyperparameter\n",
        "Dropout = 0.2\n",
        "\n",
        "\n",
        "# ENCODING\n",
        "model = Sequential()\n",
        "model.add(Embedding(deu_vocab_size,\n",
        "                    512,  \n",
        "                    input_length = deu_max_length, \n",
        "                    mask_zero = True)) \n",
        "model.add(LSTM(512, return_sequences=True, dropout = Dropout)) \n",
        "model.add(LSTM(512, dropout = Dropout))\n",
        "\n",
        "\n",
        "# DECODING - TEACHER FORCING\n",
        "model.add(RepeatVector(eng_max_length)) \n",
        "\n",
        "model.add(LSTM(512, return_sequences = True, dropout = Dropout))\n",
        "model.add(LSTM(512, return_sequences = True, dropout = Dropout))\n",
        "model.add(Dense(eng_vocab_size, activation = \"softmax\"))\n",
        "model.summary() "
      ],
      "execution_count": 19,
      "outputs": [
        {
          "output_type": "stream",
          "text": [
            "WARNING:tensorflow:From /usr/local/lib/python3.6/dist-packages/keras/backend/tensorflow_backend.py:66: The name tf.get_default_graph is deprecated. Please use tf.compat.v1.get_default_graph instead.\n",
            "\n",
            "WARNING:tensorflow:From /usr/local/lib/python3.6/dist-packages/keras/backend/tensorflow_backend.py:541: The name tf.placeholder is deprecated. Please use tf.compat.v1.placeholder instead.\n",
            "\n",
            "WARNING:tensorflow:From /usr/local/lib/python3.6/dist-packages/keras/backend/tensorflow_backend.py:4432: The name tf.random_uniform is deprecated. Please use tf.random.uniform instead.\n",
            "\n",
            "WARNING:tensorflow:From /usr/local/lib/python3.6/dist-packages/keras/backend/tensorflow_backend.py:148: The name tf.placeholder_with_default is deprecated. Please use tf.compat.v1.placeholder_with_default instead.\n",
            "\n",
            "WARNING:tensorflow:From /usr/local/lib/python3.6/dist-packages/keras/backend/tensorflow_backend.py:3733: calling dropout (from tensorflow.python.ops.nn_ops) with keep_prob is deprecated and will be removed in a future version.\n",
            "Instructions for updating:\n",
            "Please use `rate` instead of `keep_prob`. Rate should be set to `rate = 1 - keep_prob`.\n",
            "WARNING:tensorflow:From /usr/local/lib/python3.6/dist-packages/keras/backend/tensorflow_backend.py:3239: where (from tensorflow.python.ops.array_ops) is deprecated and will be removed in a future version.\n",
            "Instructions for updating:\n",
            "Use tf.where in 2.0, which has the same broadcast rule as np.where\n",
            "Model: \"sequential_1\"\n",
            "_________________________________________________________________\n",
            "Layer (type)                 Output Shape              Param #   \n",
            "=================================================================\n",
            "embedding_1 (Embedding)      (None, 10, 512)           8802304   \n",
            "_________________________________________________________________\n",
            "lstm_1 (LSTM)                (None, 10, 512)           2099200   \n",
            "_________________________________________________________________\n",
            "lstm_2 (LSTM)                (None, 512)               2099200   \n",
            "_________________________________________________________________\n",
            "repeat_vector_1 (RepeatVecto (None, 9, 512)            0         \n",
            "_________________________________________________________________\n",
            "lstm_3 (LSTM)                (None, 9, 512)            2099200   \n",
            "_________________________________________________________________\n",
            "lstm_4 (LSTM)                (None, 9, 512)            2099200   \n",
            "_________________________________________________________________\n",
            "dense_1 (Dense)              (None, 9, 9468)           4857084   \n",
            "=================================================================\n",
            "Total params: 22,056,188\n",
            "Trainable params: 22,056,188\n",
            "Non-trainable params: 0\n",
            "_________________________________________________________________\n"
          ],
          "name": "stdout"
        }
      ]
    },
    {
      "cell_type": "markdown",
      "metadata": {
        "id": "pcAUInsTi4bR",
        "colab_type": "text"
      },
      "source": [
        "### Optimizer"
      ]
    },
    {
      "cell_type": "code",
      "metadata": {
        "id": "OWv5CNRciw1n",
        "colab_type": "code",
        "colab": {
          "base_uri": "https://localhost:8080/",
          "height": 105
        },
        "outputId": "4718c63f-eba8-4a9c-bc2f-f1ee697b49d9"
      },
      "source": [
        "rms = optimizers.RMSprop(lr = 0.001)\n",
        "model.compile(optimizer = rms, loss = 'sparse_categorical_crossentropy')"
      ],
      "execution_count": 20,
      "outputs": [
        {
          "output_type": "stream",
          "text": [
            "WARNING:tensorflow:From /usr/local/lib/python3.6/dist-packages/keras/optimizers.py:793: The name tf.train.Optimizer is deprecated. Please use tf.compat.v1.train.Optimizer instead.\n",
            "\n",
            "WARNING:tensorflow:From /usr/local/lib/python3.6/dist-packages/keras/backend/tensorflow_backend.py:3622: The name tf.log is deprecated. Please use tf.math.log instead.\n",
            "\n"
          ],
          "name": "stdout"
        }
      ]
    },
    {
      "cell_type": "markdown",
      "metadata": {
        "id": "06BI7z_IjfTX",
        "colab_type": "text"
      },
      "source": [
        "### Add Checkpoints"
      ]
    },
    {
      "cell_type": "code",
      "metadata": {
        "id": "04mRpw3xjcXN",
        "colab_type": "code",
        "colab": {}
      },
      "source": [
        "filename = \"model.h1.2020_01_23\" \n",
        "checkpoint = ModelCheckpoint(filename,\n",
        "                             monitor = \"val_loss\",\n",
        "                             mode = \"min\",\n",
        "                             save_best_only = True,\n",
        "                             verbose = 1)"
      ],
      "execution_count": 0,
      "outputs": []
    },
    {
      "cell_type": "markdown",
      "metadata": {
        "id": "qANP_qDdsfKh",
        "colab_type": "text"
      },
      "source": [
        "### Execution"
      ]
    },
    {
      "cell_type": "code",
      "metadata": {
        "id": "cFfY4ZiAkkCI",
        "colab_type": "code",
        "outputId": "f197750b-ad3a-42e7-c1ed-e5a0f52ec8d9",
        "colab": {
          "base_uri": "https://localhost:8080/",
          "height": 1000
        }
      },
      "source": [
        "history = model.fit(trainX, trainY.reshape(trainY.shape[0], trainY.shape[1], 1),\n",
        "                    epochs = 30,\n",
        "                    batch_size = 512, \n",
        "                    validation_split = 0.2, \n",
        "                    callbacks = [checkpoint])"
      ],
      "execution_count": 22,
      "outputs": [
        {
          "output_type": "stream",
          "text": [
            "WARNING:tensorflow:From /usr/local/lib/python3.6/dist-packages/keras/backend/tensorflow_backend.py:1033: The name tf.assign_add is deprecated. Please use tf.compat.v1.assign_add instead.\n",
            "\n",
            "WARNING:tensorflow:From /usr/local/lib/python3.6/dist-packages/keras/backend/tensorflow_backend.py:1020: The name tf.assign is deprecated. Please use tf.compat.v1.assign instead.\n",
            "\n",
            "WARNING:tensorflow:From /usr/local/lib/python3.6/dist-packages/keras/backend/tensorflow_backend.py:3005: The name tf.Session is deprecated. Please use tf.compat.v1.Session instead.\n",
            "\n",
            "Train on 64000 samples, validate on 16000 samples\n",
            "Epoch 1/30\n",
            "WARNING:tensorflow:From /usr/local/lib/python3.6/dist-packages/keras/backend/tensorflow_backend.py:190: The name tf.get_default_session is deprecated. Please use tf.compat.v1.get_default_session instead.\n",
            "\n",
            "WARNING:tensorflow:From /usr/local/lib/python3.6/dist-packages/keras/backend/tensorflow_backend.py:197: The name tf.ConfigProto is deprecated. Please use tf.compat.v1.ConfigProto instead.\n",
            "\n",
            "WARNING:tensorflow:From /usr/local/lib/python3.6/dist-packages/keras/backend/tensorflow_backend.py:207: The name tf.global_variables is deprecated. Please use tf.compat.v1.global_variables instead.\n",
            "\n",
            "WARNING:tensorflow:From /usr/local/lib/python3.6/dist-packages/keras/backend/tensorflow_backend.py:216: The name tf.is_variable_initialized is deprecated. Please use tf.compat.v1.is_variable_initialized instead.\n",
            "\n",
            "WARNING:tensorflow:From /usr/local/lib/python3.6/dist-packages/keras/backend/tensorflow_backend.py:223: The name tf.variables_initializer is deprecated. Please use tf.compat.v1.variables_initializer instead.\n",
            "\n",
            "64000/64000 [==============================] - 44s 693us/step - loss: 3.4708 - val_loss: 3.0811\n",
            "\n",
            "Epoch 00001: val_loss improved from inf to 3.08109, saving model to model.h1.2020_01_23\n",
            "Epoch 2/30\n",
            "64000/64000 [==============================] - 31s 487us/step - loss: 3.0192 - val_loss: 2.8971\n",
            "\n",
            "Epoch 00002: val_loss improved from 3.08109 to 2.89706, saving model to model.h1.2020_01_23\n",
            "Epoch 3/30\n",
            "64000/64000 [==============================] - 32s 494us/step - loss: 2.8185 - val_loss: 2.7572\n",
            "\n",
            "Epoch 00003: val_loss improved from 2.89706 to 2.75717, saving model to model.h1.2020_01_23\n",
            "Epoch 4/30\n",
            "64000/64000 [==============================] - 32s 493us/step - loss: 2.6559 - val_loss: 2.6132\n",
            "\n",
            "Epoch 00004: val_loss improved from 2.75717 to 2.61317, saving model to model.h1.2020_01_23\n",
            "Epoch 5/30\n",
            "64000/64000 [==============================] - 31s 489us/step - loss: 2.5400 - val_loss: 2.5557\n",
            "\n",
            "Epoch 00005: val_loss improved from 2.61317 to 2.55571, saving model to model.h1.2020_01_23\n",
            "Epoch 6/30\n",
            "64000/64000 [==============================] - 31s 486us/step - loss: 2.4176 - val_loss: 2.4203\n",
            "\n",
            "Epoch 00006: val_loss improved from 2.55571 to 2.42026, saving model to model.h1.2020_01_23\n",
            "Epoch 7/30\n",
            "64000/64000 [==============================] - 31s 482us/step - loss: 2.2936 - val_loss: 2.3224\n",
            "\n",
            "Epoch 00007: val_loss improved from 2.42026 to 2.32242, saving model to model.h1.2020_01_23\n",
            "Epoch 8/30\n",
            "64000/64000 [==============================] - 32s 493us/step - loss: 2.1814 - val_loss: 2.2172\n",
            "\n",
            "Epoch 00008: val_loss improved from 2.32242 to 2.21723, saving model to model.h1.2020_01_23\n",
            "Epoch 9/30\n",
            "64000/64000 [==============================] - 32s 492us/step - loss: 2.0783 - val_loss: 2.1423\n",
            "\n",
            "Epoch 00009: val_loss improved from 2.21723 to 2.14228, saving model to model.h1.2020_01_23\n",
            "Epoch 10/30\n",
            "64000/64000 [==============================] - 31s 489us/step - loss: 1.9820 - val_loss: 2.0862\n",
            "\n",
            "Epoch 00010: val_loss improved from 2.14228 to 2.08618, saving model to model.h1.2020_01_23\n",
            "Epoch 11/30\n",
            "64000/64000 [==============================] - 32s 495us/step - loss: 1.8924 - val_loss: 2.0071\n",
            "\n",
            "Epoch 00011: val_loss improved from 2.08618 to 2.00712, saving model to model.h1.2020_01_23\n",
            "Epoch 12/30\n",
            "64000/64000 [==============================] - 32s 497us/step - loss: 1.8056 - val_loss: 1.9378\n",
            "\n",
            "Epoch 00012: val_loss improved from 2.00712 to 1.93784, saving model to model.h1.2020_01_23\n",
            "Epoch 13/30\n",
            "64000/64000 [==============================] - 32s 496us/step - loss: 1.7234 - val_loss: 1.8922\n",
            "\n",
            "Epoch 00013: val_loss improved from 1.93784 to 1.89218, saving model to model.h1.2020_01_23\n",
            "Epoch 14/30\n",
            "64000/64000 [==============================] - 32s 501us/step - loss: 1.6477 - val_loss: 1.8355\n",
            "\n",
            "Epoch 00014: val_loss improved from 1.89218 to 1.83553, saving model to model.h1.2020_01_23\n",
            "Epoch 15/30\n",
            "64000/64000 [==============================] - 32s 495us/step - loss: 1.5739 - val_loss: 1.7855\n",
            "\n",
            "Epoch 00015: val_loss improved from 1.83553 to 1.78551, saving model to model.h1.2020_01_23\n",
            "Epoch 16/30\n",
            "64000/64000 [==============================] - 32s 495us/step - loss: 1.5054 - val_loss: 1.7563\n",
            "\n",
            "Epoch 00016: val_loss improved from 1.78551 to 1.75627, saving model to model.h1.2020_01_23\n",
            "Epoch 17/30\n",
            "64000/64000 [==============================] - 31s 492us/step - loss: 1.4417 - val_loss: 1.7154\n",
            "\n",
            "Epoch 00017: val_loss improved from 1.75627 to 1.71538, saving model to model.h1.2020_01_23\n",
            "Epoch 18/30\n",
            "64000/64000 [==============================] - 32s 494us/step - loss: 1.3790 - val_loss: 1.6809\n",
            "\n",
            "Epoch 00018: val_loss improved from 1.71538 to 1.68093, saving model to model.h1.2020_01_23\n",
            "Epoch 19/30\n",
            "64000/64000 [==============================] - 32s 496us/step - loss: 1.3212 - val_loss: 1.6462\n",
            "\n",
            "Epoch 00019: val_loss improved from 1.68093 to 1.64618, saving model to model.h1.2020_01_23\n",
            "Epoch 20/30\n",
            "64000/64000 [==============================] - 32s 496us/step - loss: 1.2643 - val_loss: 1.6209\n",
            "\n",
            "Epoch 00020: val_loss improved from 1.64618 to 1.62090, saving model to model.h1.2020_01_23\n",
            "Epoch 21/30\n",
            "64000/64000 [==============================] - 31s 492us/step - loss: 1.2127 - val_loss: 1.5986\n",
            "\n",
            "Epoch 00021: val_loss improved from 1.62090 to 1.59864, saving model to model.h1.2020_01_23\n",
            "Epoch 22/30\n",
            "64000/64000 [==============================] - 31s 489us/step - loss: 1.1614 - val_loss: 1.5820\n",
            "\n",
            "Epoch 00022: val_loss improved from 1.59864 to 1.58196, saving model to model.h1.2020_01_23\n",
            "Epoch 23/30\n",
            "64000/64000 [==============================] - 31s 490us/step - loss: 1.1125 - val_loss: 1.5596\n",
            "\n",
            "Epoch 00023: val_loss improved from 1.58196 to 1.55961, saving model to model.h1.2020_01_23\n",
            "Epoch 24/30\n",
            "64000/64000 [==============================] - 32s 496us/step - loss: 1.0705 - val_loss: 1.5475\n",
            "\n",
            "Epoch 00024: val_loss improved from 1.55961 to 1.54749, saving model to model.h1.2020_01_23\n",
            "Epoch 25/30\n",
            "64000/64000 [==============================] - 32s 495us/step - loss: 1.0261 - val_loss: 1.5202\n",
            "\n",
            "Epoch 00025: val_loss improved from 1.54749 to 1.52018, saving model to model.h1.2020_01_23\n",
            "Epoch 26/30\n",
            "64000/64000 [==============================] - 32s 498us/step - loss: 0.9834 - val_loss: 1.5360\n",
            "\n",
            "Epoch 00026: val_loss did not improve from 1.52018\n",
            "Epoch 27/30\n",
            "64000/64000 [==============================] - 32s 498us/step - loss: 0.9435 - val_loss: 1.5057\n",
            "\n",
            "Epoch 00027: val_loss improved from 1.52018 to 1.50573, saving model to model.h1.2020_01_23\n",
            "Epoch 28/30\n",
            "64000/64000 [==============================] - 32s 494us/step - loss: 0.9068 - val_loss: 1.4895\n",
            "\n",
            "Epoch 00028: val_loss improved from 1.50573 to 1.48947, saving model to model.h1.2020_01_23\n",
            "Epoch 29/30\n",
            "64000/64000 [==============================] - 32s 498us/step - loss: 0.8717 - val_loss: 1.4823\n",
            "\n",
            "Epoch 00029: val_loss improved from 1.48947 to 1.48227, saving model to model.h1.2020_01_23\n",
            "Epoch 30/30\n",
            "64000/64000 [==============================] - 32s 496us/step - loss: 0.8381 - val_loss: 1.4830\n",
            "\n",
            "Epoch 00030: val_loss did not improve from 1.48227\n"
          ],
          "name": "stdout"
        }
      ]
    },
    {
      "cell_type": "code",
      "metadata": {
        "id": "MaJZF8cBk9wi",
        "colab_type": "code",
        "outputId": "ed8c1f3e-39b6-4376-b40d-6c0a1d40bd6a",
        "colab": {
          "base_uri": "https://localhost:8080/",
          "height": 616
        }
      },
      "source": [
        "plt.figure (figsize = (10,10))\n",
        "plt.xticks(fontsize = 15)\n",
        "plt.yticks(fontsize = 15)\n",
        "plt.xlabel(\"Epochs\", fontsize = 15)\n",
        "plt.ylabel(\"Loss\", fontsize = 15)\n",
        "plt.plot(history.history['loss'])\n",
        "plt.plot(history.history['val_loss'])\n",
        "plt.legend(['Training', 'Validation'], fontsize = 15)\n",
        "plt.savefig('CE_ML_Project_12_01_Loss.jpeg')\n",
        "plt.show()"
      ],
      "execution_count": 36,
      "outputs": [
        {
          "output_type": "display_data",
          "data": {
            "image/png": "[encoded data removed]",
            "text/plain": [
              "<Figure size 720x720 with 1 Axes>"
            ]
          },
          "metadata": {
            "tags": []
          }
        }
      ]
    },
    {
      "cell_type": "code",
      "metadata": {
        "id": "4JLRWtrZmlxR",
        "colab_type": "code",
        "outputId": "29205a8c-94dd-4435-fbca-d98e459728a7",
        "colab": {
          "base_uri": "https://localhost:8080/",
          "height": 34
        }
      },
      "source": [
        "print(testX.shape)"
      ],
      "execution_count": 24,
      "outputs": [
        {
          "output_type": "stream",
          "text": [
            "(20000, 10)\n"
          ],
          "name": "stdout"
        }
      ]
    },
    {
      "cell_type": "code",
      "metadata": {
        "id": "LSYI_szYmHXS",
        "colab_type": "code",
        "colab": {}
      },
      "source": [
        "model = load_model(filename) \n",
        "preds = model.predict_classes(testX)"
      ],
      "execution_count": 0,
      "outputs": []
    },
    {
      "cell_type": "markdown",
      "metadata": {
        "id": "e5YLpsMlocn_",
        "colab_type": "text"
      },
      "source": [
        "# 3. Results\n",
        "### Creating a Reverse Dictionary\n",
        "+ Current dictionary has word as key and number as token\n",
        "+ Need token -> word"
      ]
    },
    {
      "cell_type": "code",
      "metadata": {
        "id": "1MqvcPVynuAZ",
        "colab_type": "code",
        "colab": {}
      },
      "source": [
        "eng_dict = { t:w for w,t in eng_tokenizer.word_index.items() }"
      ],
      "execution_count": 0,
      "outputs": []
    },
    {
      "cell_type": "code",
      "metadata": {
        "id": "a2hM6UoHp2GV",
        "colab_type": "code",
        "colab": {}
      },
      "source": [
        "eng_preds = []\n",
        "for p in preds:\n",
        "  sent = [] # Sentences\n",
        "  for t in p:\n",
        "    w = eng_dict.get(t) if t > 0 else \"\" \n",
        "    sent.append(w)\n",
        "  eng_preds.append(' '.join(sent)) "
      ],
      "execution_count": 0,
      "outputs": []
    },
    {
      "cell_type": "markdown",
      "metadata": {
        "id": "kLa2nzRdqdA1",
        "colab_type": "text"
      },
      "source": [
        "### Compare predicted v. test english sentences\n",
        "\n",
        "**Top 15 translations**"
      ]
    },
    {
      "cell_type": "code",
      "metadata": {
        "id": "dhBvB0Maq5Zr",
        "colab_type": "code",
        "outputId": "5d3bc200-90f9-493c-8f13-637f78bd33e0",
        "colab": {
          "base_uri": "https://localhost:8080/",
          "height": 514
        }
      },
      "source": [
        "pred_df = pd.DataFrame({'actual':test[:, 0], 'predicted': eng_preds})\n",
        "pred_df.head(15)"
      ],
      "execution_count": 28,
      "outputs": [
        {
          "output_type": "execute_result",
          "data": {
            "text/html": [
              "<div>\n",
              "<style scoped>\n",
              "    .dataframe tbody tr th:only-of-type {\n",
              "        vertical-align: middle;\n",
              "    }\n",
              "\n",
              "    .dataframe tbody tr th {\n",
              "        vertical-align: top;\n",
              "    }\n",
              "\n",
              "    .dataframe thead th {\n",
              "        text-align: right;\n",
              "    }\n",
              "</style>\n",
              "<table border=\"1\" class=\"dataframe\">\n",
              "  <thead>\n",
              "    <tr style=\"text-align: right;\">\n",
              "      <th></th>\n",
              "      <th>actual</th>\n",
              "      <th>predicted</th>\n",
              "    </tr>\n",
              "  </thead>\n",
              "  <tbody>\n",
              "    <tr>\n",
              "      <th>0</th>\n",
              "      <td>when are you busy</td>\n",
              "      <td>when are you busy</td>\n",
              "    </tr>\n",
              "    <tr>\n",
              "      <th>1</th>\n",
              "      <td>she wore a long loose coat</td>\n",
              "      <td>she was a long blue blue</td>\n",
              "    </tr>\n",
              "    <tr>\n",
              "      <th>2</th>\n",
              "      <td>i have nothing to write</td>\n",
              "      <td>i have nothing to to talk</td>\n",
              "    </tr>\n",
              "    <tr>\n",
              "      <th>3</th>\n",
              "      <td>i borrow money</td>\n",
              "      <td>i going for money</td>\n",
              "    </tr>\n",
              "    <tr>\n",
              "      <th>4</th>\n",
              "      <td>tom wrung the chickens neck</td>\n",
              "      <td>tom put the fire on</td>\n",
              "    </tr>\n",
              "    <tr>\n",
              "      <th>5</th>\n",
              "      <td>he gave me a ride home</td>\n",
              "      <td>he gave me home</td>\n",
              "    </tr>\n",
              "    <tr>\n",
              "      <th>6</th>\n",
              "      <td>i swim regularly</td>\n",
              "      <td>i am my eggs</td>\n",
              "    </tr>\n",
              "    <tr>\n",
              "      <th>7</th>\n",
              "      <td>can i tell you something</td>\n",
              "      <td>can i tell you something</td>\n",
              "    </tr>\n",
              "    <tr>\n",
              "      <th>8</th>\n",
              "      <td>i go to school with him</td>\n",
              "      <td>i go to school school</td>\n",
              "    </tr>\n",
              "    <tr>\n",
              "      <th>9</th>\n",
              "      <td>take my car</td>\n",
              "      <td>take my car</td>\n",
              "    </tr>\n",
              "    <tr>\n",
              "      <th>10</th>\n",
              "      <td>you are a bad person</td>\n",
              "      <td>youre a bad person person</td>\n",
              "    </tr>\n",
              "    <tr>\n",
              "      <th>11</th>\n",
              "      <td>where is your patriotism</td>\n",
              "      <td>wheres your your</td>\n",
              "    </tr>\n",
              "    <tr>\n",
              "      <th>12</th>\n",
              "      <td>he was dead wrong</td>\n",
              "      <td>he was pretty at</td>\n",
              "    </tr>\n",
              "    <tr>\n",
              "      <th>13</th>\n",
              "      <td>tom wasnt greedy</td>\n",
              "      <td>tom wasnt poor</td>\n",
              "    </tr>\n",
              "    <tr>\n",
              "      <th>14</th>\n",
              "      <td>did tom tell you that</td>\n",
              "      <td>did tom tell you to</td>\n",
              "    </tr>\n",
              "  </tbody>\n",
              "</table>\n",
              "</div>"
            ],
            "text/plain": [
              "                         actual                      predicted\n",
              "0             when are you busy         when are you busy     \n",
              "1    she wore a long loose coat    she was a long blue blue   \n",
              "2       i have nothing to write   i have nothing to to talk   \n",
              "3                i borrow money         i going for money     \n",
              "4   tom wrung the chickens neck        tom put the fire on    \n",
              "5        he gave me a ride home           he gave me home     \n",
              "6              i swim regularly              i am my eggs     \n",
              "7      can i tell you something   can i tell you something    \n",
              "8       i go to school with him      i go to school school    \n",
              "9                   take my car              take my car      \n",
              "10         you are a bad person  youre a bad person person    \n",
              "11     where is your patriotism         wheres your your      \n",
              "12            he was dead wrong          he was pretty at     \n",
              "13             tom wasnt greedy           tom wasnt poor      \n",
              "14        did tom tell you that        did tom tell you to    "
            ]
          },
          "metadata": {
            "tags": []
          },
          "execution_count": 28
        }
      ]
    },
    {
      "cell_type": "markdown",
      "metadata": {
        "id": "YL-eiYopu_Ln",
        "colab_type": "text"
      },
      "source": [
        "**Bottom 15 translations**"
      ]
    },
    {
      "cell_type": "code",
      "metadata": {
        "id": "AL56oi9JrqPV",
        "colab_type": "code",
        "outputId": "86c8382d-2489-43ad-a301-f0dc9e10b6d2",
        "colab": {
          "base_uri": "https://localhost:8080/",
          "height": 514
        }
      },
      "source": [
        "pred_df.tail(15)"
      ],
      "execution_count": 29,
      "outputs": [
        {
          "output_type": "execute_result",
          "data": {
            "text/html": [
              "<div>\n",
              "<style scoped>\n",
              "    .dataframe tbody tr th:only-of-type {\n",
              "        vertical-align: middle;\n",
              "    }\n",
              "\n",
              "    .dataframe tbody tr th {\n",
              "        vertical-align: top;\n",
              "    }\n",
              "\n",
              "    .dataframe thead th {\n",
              "        text-align: right;\n",
              "    }\n",
              "</style>\n",
              "<table border=\"1\" class=\"dataframe\">\n",
              "  <thead>\n",
              "    <tr style=\"text-align: right;\">\n",
              "      <th></th>\n",
              "      <th>actual</th>\n",
              "      <th>predicted</th>\n",
              "    </tr>\n",
              "  </thead>\n",
              "  <tbody>\n",
              "    <tr>\n",
              "      <th>19985</th>\n",
              "      <td>maybe tom doesnt like me</td>\n",
              "      <td>maybe tom didnt believe tom</td>\n",
              "    </tr>\n",
              "    <tr>\n",
              "      <th>19986</th>\n",
              "      <td>how often do you read books</td>\n",
              "      <td>how often do you books books</td>\n",
              "    </tr>\n",
              "    <tr>\n",
              "      <th>19987</th>\n",
              "      <td>are all of these books yours</td>\n",
              "      <td>are those these books books</td>\n",
              "    </tr>\n",
              "    <tr>\n",
              "      <th>19988</th>\n",
              "      <td>what is your name sir</td>\n",
              "      <td>how your your son is</td>\n",
              "    </tr>\n",
              "    <tr>\n",
              "      <th>19989</th>\n",
              "      <td>tom says hell give it a try</td>\n",
              "      <td>tom says hell try it</td>\n",
              "    </tr>\n",
              "    <tr>\n",
              "      <th>19990</th>\n",
              "      <td>hes writing a long letter</td>\n",
              "      <td>he is a a of of</td>\n",
              "    </tr>\n",
              "    <tr>\n",
              "      <th>19991</th>\n",
              "      <td>the snow lasted four days</td>\n",
              "      <td>it rained three days days days</td>\n",
              "    </tr>\n",
              "    <tr>\n",
              "      <th>19992</th>\n",
              "      <td>he is very mean to me</td>\n",
              "      <td>he is very to to me</td>\n",
              "    </tr>\n",
              "    <tr>\n",
              "      <th>19993</th>\n",
              "      <td>tom is a fast talker</td>\n",
              "      <td>tom speaks fast</td>\n",
              "    </tr>\n",
              "    <tr>\n",
              "      <th>19994</th>\n",
              "      <td>i ran for my life</td>\n",
              "      <td>i ran to my my</td>\n",
              "    </tr>\n",
              "    <tr>\n",
              "      <th>19995</th>\n",
              "      <td>i just want to be left alone</td>\n",
              "      <td>i just want to be near</td>\n",
              "    </tr>\n",
              "    <tr>\n",
              "      <th>19996</th>\n",
              "      <td>he found my bike</td>\n",
              "      <td>he found my bicycle</td>\n",
              "    </tr>\n",
              "    <tr>\n",
              "      <th>19997</th>\n",
              "      <td>youre overreacting</td>\n",
              "      <td>they voted</td>\n",
              "    </tr>\n",
              "    <tr>\n",
              "      <th>19998</th>\n",
              "      <td>i thought that he was honest</td>\n",
              "      <td>i thought that was here</td>\n",
              "    </tr>\n",
              "    <tr>\n",
              "      <th>19999</th>\n",
              "      <td>tom was ashamed</td>\n",
              "      <td>tom felt concerned</td>\n",
              "    </tr>\n",
              "  </tbody>\n",
              "</table>\n",
              "</div>"
            ],
            "text/plain": [
              "                             actual                          predicted\n",
              "19985      maybe tom doesnt like me    maybe tom didnt believe tom    \n",
              "19986   how often do you read books    how often do you books books   \n",
              "19987  are all of these books yours    are those these books books    \n",
              "19988         what is your name sir           how your your son is    \n",
              "19989   tom says hell give it a try           tom says hell try it    \n",
              "19990     hes writing a long letter                 he is a a of of   \n",
              "19991     the snow lasted four days  it rained three days days days   \n",
              "19992         he is very mean to me             he is very to to me   \n",
              "19993          tom is a fast talker              tom speaks fast      \n",
              "19994             i ran for my life                 i ran to my my    \n",
              "19995  i just want to be left alone          i just want to be near   \n",
              "19996              he found my bike           he found my bicycle     \n",
              "19997            youre overreacting                  they voted       \n",
              "19998  i thought that he was honest        i thought that was here    \n",
              "19999               tom was ashamed           tom felt concerned      "
            ]
          },
          "metadata": {
            "tags": []
          },
          "execution_count": 29
        }
      ]
    },
    {
      "cell_type": "markdown",
      "metadata": {
        "id": "Ltr5ewmkvBj1",
        "colab_type": "text"
      },
      "source": [
        "**Random 15 translations**"
      ]
    },
    {
      "cell_type": "code",
      "metadata": {
        "id": "OP9eM46wsJ_j",
        "colab_type": "code",
        "outputId": "6a1bf20f-5868-4414-fd68-caa59d5b2c7c",
        "colab": {
          "base_uri": "https://localhost:8080/",
          "height": 514
        }
      },
      "source": [
        "pred_df.sample(15)"
      ],
      "execution_count": 30,
      "outputs": [
        {
          "output_type": "execute_result",
          "data": {
            "text/html": [
              "<div>\n",
              "<style scoped>\n",
              "    .dataframe tbody tr th:only-of-type {\n",
              "        vertical-align: middle;\n",
              "    }\n",
              "\n",
              "    .dataframe tbody tr th {\n",
              "        vertical-align: top;\n",
              "    }\n",
              "\n",
              "    .dataframe thead th {\n",
              "        text-align: right;\n",
              "    }\n",
              "</style>\n",
              "<table border=\"1\" class=\"dataframe\">\n",
              "  <thead>\n",
              "    <tr style=\"text-align: right;\">\n",
              "      <th></th>\n",
              "      <th>actual</th>\n",
              "      <th>predicted</th>\n",
              "    </tr>\n",
              "  </thead>\n",
              "  <tbody>\n",
              "    <tr>\n",
              "      <th>12330</th>\n",
              "      <td>i dont know that guys name</td>\n",
              "      <td>i dont know his name name</td>\n",
              "    </tr>\n",
              "    <tr>\n",
              "      <th>6996</th>\n",
              "      <td>are you free now</td>\n",
              "      <td>are you come time</td>\n",
              "    </tr>\n",
              "    <tr>\n",
              "      <th>8968</th>\n",
              "      <td>tom comes from a small town</td>\n",
              "      <td>tom is in a small town</td>\n",
              "    </tr>\n",
              "    <tr>\n",
              "      <th>3151</th>\n",
              "      <td>she trusted you</td>\n",
              "      <td>they trusted you</td>\n",
              "    </tr>\n",
              "    <tr>\n",
              "      <th>4880</th>\n",
              "      <td>i dont like it at all</td>\n",
              "      <td>i dont like it it all</td>\n",
              "    </tr>\n",
              "    <tr>\n",
              "      <th>456</th>\n",
              "      <td>who allowed that</td>\n",
              "      <td>who wrote this</td>\n",
              "    </tr>\n",
              "    <tr>\n",
              "      <th>15331</th>\n",
              "      <td>i want to stay longer</td>\n",
              "      <td>i want to eat abroad</td>\n",
              "    </tr>\n",
              "    <tr>\n",
              "      <th>2683</th>\n",
              "      <td>my job is teaching english</td>\n",
              "      <td>i used as as a</td>\n",
              "    </tr>\n",
              "    <tr>\n",
              "      <th>1964</th>\n",
              "      <td>id be happy to go with you</td>\n",
              "      <td>id be happy to talk you you</td>\n",
              "    </tr>\n",
              "    <tr>\n",
              "      <th>10838</th>\n",
              "      <td>i envy her</td>\n",
              "      <td>i envy you</td>\n",
              "    </tr>\n",
              "    <tr>\n",
              "      <th>3516</th>\n",
              "      <td>theres a table</td>\n",
              "      <td>theres a a</td>\n",
              "    </tr>\n",
              "    <tr>\n",
              "      <th>4337</th>\n",
              "      <td>this bicycle is toms</td>\n",
              "      <td>this bicycle belongs to</td>\n",
              "    </tr>\n",
              "    <tr>\n",
              "      <th>9887</th>\n",
              "      <td>he likes sleeping</td>\n",
              "      <td>she likes to to out</td>\n",
              "    </tr>\n",
              "    <tr>\n",
              "      <th>14810</th>\n",
              "      <td>tom shouldve arrived by now</td>\n",
              "      <td>tom should should be</td>\n",
              "    </tr>\n",
              "    <tr>\n",
              "      <th>5309</th>\n",
              "      <td>are you drinking green tea</td>\n",
              "      <td>do you drink tea tea</td>\n",
              "    </tr>\n",
              "  </tbody>\n",
              "</table>\n",
              "</div>"
            ],
            "text/plain": [
              "                            actual                      predicted\n",
              "12330   i dont know that guys name   i dont know his name name   \n",
              "6996              are you free now         are you come time     \n",
              "8968   tom comes from a small town      tom is in a small town   \n",
              "3151               she trusted you         they trusted you      \n",
              "4880         i dont like it at all       i dont like it it all   \n",
              "456               who allowed that           who wrote this      \n",
              "15331        i want to stay longer       i want to eat abroad    \n",
              "2683    my job is teaching english             i used as as a    \n",
              "1964    id be happy to go with you  id be happy to talk you you  \n",
              "10838                   i envy her               i envy you      \n",
              "3516                theres a table               theres a a      \n",
              "4337          this bicycle is toms   this bicycle belongs to     \n",
              "9887             he likes sleeping        she likes to to out    \n",
              "14810  tom shouldve arrived by now      tom should should be     \n",
              "5309    are you drinking green tea       do you drink tea tea    "
            ]
          },
          "metadata": {
            "tags": []
          },
          "execution_count": 30
        }
      ]
    },
    {
      "cell_type": "code",
      "metadata": {
        "id": "KM3ZXqi5uSn3",
        "colab_type": "code",
        "colab": {}
      },
      "source": [
        ""
      ],
      "execution_count": 0,
      "outputs": []
    }
  ]
}