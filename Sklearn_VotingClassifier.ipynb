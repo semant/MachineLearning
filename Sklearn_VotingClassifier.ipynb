{
  "nbformat": 4,
  "nbformat_minor": 0,
  "metadata": {
    "kernelspec": {
      "display_name": "Python 3",
      "language": "python",
      "name": "python3"
    },
    "language_info": {
      "codemirror_mode": {
        "name": "ipython",
        "version": 3
      },
      "file_extension": ".py",
      "mimetype": "text/x-python",
      "name": "python",
      "nbconvert_exporter": "python",
      "pygments_lexer": "ipython3",
      "version": "3.7.4"
    },
    "colab": {
      "name": "CE_ML_Project_18_Ensemble.ipynb",
      "provenance": [],
      "include_colab_link": true
    }
  },
  "cells": [
    {
      "cell_type": "markdown",
      "metadata": {
        "id": "view-in-github",
        "colab_type": "text"
      },
      "source": [
        "<a href=\"https://colab.research.google.com/github/semant/MachineLearning/blob/master/Sklearn_VotingClassifier.ipynb\" target=\"_parent\"><img src=\"https://colab.research.google.com/assets/colab-badge.svg\" alt=\"Open In Colab\"/></a>"
      ]
    },
    {
      "cell_type": "markdown",
      "metadata": {
        "id": "0YUJ7SNWbKj6",
        "colab_type": "text"
      },
      "source": [
        "# Ensemble Voting through Logistic Regression, Support Vector Machine, and Decision Tree Classifier to Optimize Clustering\n",
        "\n",
        "\n",
        "> Semant Jain, PhD semant@gmail.com\n",
        "\n",
        "\n",
        "### Background\n",
        "\n",
        "> Ensemble learning uses multiple machine learning models to try to make better predictions on a dataset. An ensemble model works by training different models on a dataset and having each model make predictions individually. The predictions of these models are then combined in the ensemble model to make a final prediction\n",
        "\n",
        "> **Logistic Regression** is a statisical model that determines the probability of a certain class or event existing in binary terms. This could be interpreted as pass/fail, present/absent, alive/dead, healthy/sick, cat/dog etc. Each object being detected would be assigned a probability between 0 and 1 and their sum adds to 1.\n",
        "\n",
        "> **Support Vector Machine**, an algorithm widely used for classification objectives, finds a decision boundary (hyperplane) that maximizes the distance between the data points of both classes. The dimension of a hyperplane depends on the number of features. The dimension of the hyperplane depends upon the number of features, e.g., for a two dimensional input, the hyperplane is just a line. For a three dimensional input, the hyperplane is a plane.\n",
        "\n",
        "> **Decision Tree Classifier**, a predictive model, is used in machine learning, statistics, and data mininig which starts with observations about an item to conclusions about the item's target value. When used as a classification tree, the target variable takes a discrete set of values. As a regression tree, the target variable takes continuous values.\n",
        "\n",
        "\n",
        "### Summary\n",
        "> This project demonstrates how an ensemble model combines the votes of constituent models. The constituent models were logistic regression, support vector machines (SVM), and a Decision Tree classifier (DT). Training and testing was done on a toy dataset - Mnist - from the Sklearn library. The following results were observed about the constituent models:\n",
        "+ Training accuracy ranged from 99.5% to 100.0%\n",
        "+ Testing accuracy ranged from 85.3% to 98.6%\n",
        "\n",
        "> When combined into an ensemble, the \n",
        "+ Training accuracy was 100.0%\n",
        "+ Testing accuracy was 97.7%\n",
        "\n",
        "> If larger datasets were used, the advantages of ensemble voting would be seen in even greater relief."
      ]
    },
    {
      "cell_type": "markdown",
      "metadata": {
        "id": "ZBDNoJbFbKkB",
        "colab_type": "text"
      },
      "source": [
        "# 1. Setting Up\n",
        "### Importing libraries"
      ]
    },
    {
      "cell_type": "code",
      "metadata": {
        "id": "ZKMAnkjQbKkG",
        "colab_type": "code",
        "colab": {}
      },
      "source": [
        "import matplotlib.pyplot as plt\n",
        "%matplotlib inline\n",
        "import numpy as np\n",
        "import pandas as pd\n",
        "\n",
        "from sklearn.datasets import load_digits\n",
        "from sklearn.ensemble import VotingClassifier\n",
        "from sklearn.linear_model import LogisticRegression\n",
        "from sklearn.model_selection import train_test_split\n",
        "from sklearn.naive_bayes import GaussianNB\n",
        "from sklearn.svm import SVC \n",
        "from sklearn.tree import DecisionTreeClassifier"
      ],
      "execution_count": 0,
      "outputs": []
    },
    {
      "cell_type": "markdown",
      "metadata": {
        "id": "sdsA-eM3bKkQ",
        "colab_type": "text"
      },
      "source": [
        "### Importing data"
      ]
    },
    {
      "cell_type": "code",
      "metadata": {
        "id": "Wc-gPkiObKkS",
        "colab_type": "code",
        "colab": {},
        "outputId": "f61385bd-6811-4d7a-8082-3a84877be13d"
      },
      "source": [
        "mnist = load_digits()\n",
        "mnist.keys()"
      ],
      "execution_count": 0,
      "outputs": [
        {
          "output_type": "execute_result",
          "data": {
            "text/plain": [
              "dict_keys(['data', 'target', 'target_names', 'images', 'DESCR'])"
            ]
          },
          "metadata": {
            "tags": []
          },
          "execution_count": 30
        }
      ]
    },
    {
      "cell_type": "code",
      "metadata": {
        "id": "pq6eELQSbKkc",
        "colab_type": "code",
        "colab": {},
        "outputId": "db066b8e-780c-4a7e-83f9-c59ff86705fa"
      },
      "source": [
        "x_train, x_test, y_train, y_test = train_test_split(mnist.data, mnist.target)\n",
        "\n",
        "print(x_train.shape, y_train.shape)\n",
        "print(x_test.shape , y_test.shape)"
      ],
      "execution_count": 0,
      "outputs": [
        {
          "output_type": "stream",
          "text": [
            "(1347, 64) (1347,)\n",
            "(450, 64) (450,)\n"
          ],
          "name": "stdout"
        }
      ]
    },
    {
      "cell_type": "code",
      "metadata": {
        "id": "gSPkJF9sbKkm",
        "colab_type": "code",
        "colab": {}
      },
      "source": [
        ""
      ],
      "execution_count": 0,
      "outputs": []
    },
    {
      "cell_type": "markdown",
      "metadata": {
        "id": "keWBa6UAbKku",
        "colab_type": "text"
      },
      "source": [
        "# 2. Model"
      ]
    },
    {
      "cell_type": "code",
      "metadata": {
        "id": "9fs5vLbcbKkx",
        "colab_type": "code",
        "colab": {}
      },
      "source": [
        "lr = LogisticRegression(solver = 'liblinear', multi_class = 'auto', max_iter = 1000)\n",
        "svm = SVC(kernel = 'poly', degree = 2, gamma = 'auto')\n",
        "dt = DecisionTreeClassifier()\n",
        "\n",
        "vc = VotingClassifier(estimators = [('lr', lr), ('svm', svm), ('dt', dt)], voting = 'hard') \n",
        "\n",
        "q = []"
      ],
      "execution_count": 0,
      "outputs": []
    },
    {
      "cell_type": "markdown",
      "metadata": {
        "id": "Z61isfzQbKk8",
        "colab_type": "text"
      },
      "source": [
        "### Logistic Regression"
      ]
    },
    {
      "cell_type": "code",
      "metadata": {
        "id": "h54N_9G9bKk_",
        "colab_type": "code",
        "colab": {}
      },
      "source": [
        "lr.fit(x_train, y_train)\n",
        "q.append(lr.score(x_train, y_train))\n",
        "q.append(lr.score(x_test, y_test))"
      ],
      "execution_count": 0,
      "outputs": []
    },
    {
      "cell_type": "markdown",
      "metadata": {
        "id": "6umfuXyrbKlK",
        "colab_type": "text"
      },
      "source": [
        "### Support Vector Machine"
      ]
    },
    {
      "cell_type": "code",
      "metadata": {
        "id": "o-8VoKKzbKlL",
        "colab_type": "code",
        "colab": {}
      },
      "source": [
        "svm.fit(x_train, y_train)\n",
        "q.append(svm.score(x_train, y_train))\n",
        "q.append(svm.score(x_test, y_test))"
      ],
      "execution_count": 0,
      "outputs": []
    },
    {
      "cell_type": "markdown",
      "metadata": {
        "id": "gGbLzKGbbKlS",
        "colab_type": "text"
      },
      "source": [
        "### Decision Tree Classifier"
      ]
    },
    {
      "cell_type": "code",
      "metadata": {
        "id": "sf5RI_pKbKlT",
        "colab_type": "code",
        "colab": {}
      },
      "source": [
        "dt.fit(x_train, y_train)\n",
        "q.append(dt.score(x_train, y_train))\n",
        "q.append(dt.score(x_test, y_test))"
      ],
      "execution_count": 0,
      "outputs": []
    },
    {
      "cell_type": "markdown",
      "metadata": {
        "id": "HGRLmpKdbKlZ",
        "colab_type": "text"
      },
      "source": [
        "### Ensemble Voting Classifier"
      ]
    },
    {
      "cell_type": "code",
      "metadata": {
        "id": "rYrqDwktbKlc",
        "colab_type": "code",
        "colab": {}
      },
      "source": [
        "vc.fit(x_train, y_train)\n",
        "q.append(vc.score(x_train, y_train))\n",
        "q.append(vc.score(x_test, y_test))"
      ],
      "execution_count": 0,
      "outputs": []
    },
    {
      "cell_type": "markdown",
      "metadata": {
        "id": "v0Q5oqNJbKli",
        "colab_type": "text"
      },
      "source": [
        "# 3. Visualization\n",
        "\n",
        "### Tabular"
      ]
    },
    {
      "cell_type": "code",
      "metadata": {
        "id": "niEWeuZbbKlk",
        "colab_type": "code",
        "colab": {},
        "outputId": "21ce2f56-757d-4ecd-e546-c38c0bf3b9f6"
      },
      "source": [
        "data = {'Training Accuracy':[q[0], q[2], q[4], q[6]], 'Testing Accuracy':[q[1], q[3], q[5], q[7]]} \n",
        "  \n",
        "df = pd.DataFrame(data, index =['Logistic Regression', 'Support Vector Machine', 'Decision Tree', 'Voting Classifier']) \n",
        "  \n",
        "df"
      ],
      "execution_count": 0,
      "outputs": [
        {
          "output_type": "execute_result",
          "data": {
            "text/html": [
              "<div>\n",
              "<style scoped>\n",
              "    .dataframe tbody tr th:only-of-type {\n",
              "        vertical-align: middle;\n",
              "    }\n",
              "\n",
              "    .dataframe tbody tr th {\n",
              "        vertical-align: top;\n",
              "    }\n",
              "\n",
              "    .dataframe thead th {\n",
              "        text-align: right;\n",
              "    }\n",
              "</style>\n",
              "<table border=\"1\" class=\"dataframe\">\n",
              "  <thead>\n",
              "    <tr style=\"text-align: right;\">\n",
              "      <th></th>\n",
              "      <th>Training Accuracy</th>\n",
              "      <th>Testing Accuracy</th>\n",
              "    </tr>\n",
              "  </thead>\n",
              "  <tbody>\n",
              "    <tr>\n",
              "      <td>Logistic Regression</td>\n",
              "      <td>0.994803</td>\n",
              "      <td>0.962222</td>\n",
              "    </tr>\n",
              "    <tr>\n",
              "      <td>Support Vector Machine</td>\n",
              "      <td>1.000000</td>\n",
              "      <td>0.982222</td>\n",
              "    </tr>\n",
              "    <tr>\n",
              "      <td>Decision Tree</td>\n",
              "      <td>1.000000</td>\n",
              "      <td>0.860000</td>\n",
              "    </tr>\n",
              "    <tr>\n",
              "      <td>Voting Classifier</td>\n",
              "      <td>1.000000</td>\n",
              "      <td>0.968889</td>\n",
              "    </tr>\n",
              "  </tbody>\n",
              "</table>\n",
              "</div>"
            ],
            "text/plain": [
              "                        Training Accuracy  Testing Accuracy\n",
              "Logistic Regression              0.994803          0.962222\n",
              "Support Vector Machine           1.000000          0.982222\n",
              "Decision Tree                    1.000000          0.860000\n",
              "Voting Classifier                1.000000          0.968889"
            ]
          },
          "metadata": {
            "tags": []
          },
          "execution_count": 41
        }
      ]
    },
    {
      "cell_type": "markdown",
      "metadata": {
        "id": "S-tDSE6GbKlo",
        "colab_type": "text"
      },
      "source": [
        "### Plot"
      ]
    },
    {
      "cell_type": "code",
      "metadata": {
        "id": "Fww3uIMJbKlr",
        "colab_type": "code",
        "colab": {},
        "outputId": "217b1eb4-01a8-4ffd-966d-f45e004c1b99"
      },
      "source": [
        "df.plot(figsize=(10,10), kind = \"bar\", legend = True, colormap = 'cividis')\n",
        "plt.xticks(fontsize = 15, rotation = 90)\n",
        "plt.yticks(fontsize = 15)\n",
        "plt.ylim(0.8, 1.0)\n",
        "plt.ylabel(\"Accuracy\", fontsize = 15)\n",
        "plt.legend(fontsize = 15, loc='lower right')\n",
        "\n",
        "plt.savefig(\"CE_ML_Project_18_04_Results.jpeg\")\n",
        "plt.show()"
      ],
      "execution_count": 0,
      "outputs": [
        {
          "output_type": "display_data",
          "data": {
            "image/png": "[encoded data removed]",
            "text/plain": [
              "<Figure size 720x720 with 1 Axes>"
            ]
          },
          "metadata": {
            "tags": [],
            "needs_background": "light"
          }
        }
      ]
    },
    {
      "cell_type": "code",
      "metadata": {
        "id": "NL0H9su3bKlv",
        "colab_type": "code",
        "colab": {}
      },
      "source": [
        ""
      ],
      "execution_count": 0,
      "outputs": []
    }
  ]
}